{
 "cells": [
  {
   "cell_type": "code",
   "execution_count": 26,
   "metadata": {},
   "outputs": [],
   "source": [
    "import geopandas as gpd\n",
    "import pandas as pd\n",
    "from shapely.geometry import Point"
   ]
  },
  {
   "cell_type": "code",
   "execution_count": 27,
   "metadata": {
    "colab": {
     "base_uri": "https://localhost:8080/"
    },
    "id": "WgDeFSpOmIGY",
    "outputId": "111f3c17-e063-466f-bc38-68580dd87f14"
   },
   "outputs": [
    {
     "name": "stderr",
     "output_type": "stream",
     "text": [
      "C:\\Users\\Usuario\\AppData\\Local\\Temp\\ipykernel_8744\\897059343.py:7: DeprecationWarning: The 'unary_union' attribute is deprecated, use the 'union_all()' method instead.\n",
      "  poligono_unico = poligono.unary_union\n"
     ]
    }
   ],
   "source": [
    "#Leer el archivo KMZ\n",
    "kmz_path = \"./poligono_cuencas.kmz\"\n",
    "poligono = gpd.read_file(f\"/vsizip/{kmz_path}\")\n",
    "\n",
    "# Asegurarse de que está en WGS84\n",
    "poligono = poligono.to_crs(\"EPSG:4326\")\n",
    "poligono_unico = poligono.unary_union\n",
    "\n",
    "# Leer el archivo CSV y convertirlo en un GeoDataFrame\n",
    "csv_path = \"./estaciones_encontradas_rectangulo.csv\"\n",
    "df = pd.read_csv(csv_path,header=None,names=['id','lat','lon'])\n",
    "\n",
    "# Crear una columna de geometría a partir de latitud y longitud\n",
    "gdf = gpd.GeoDataFrame(df, geometry=[Point(xy) for xy in zip(df['lon'], df['lat'])], crs=\"EPSG:4326\")"
   ]
  },
  {
   "cell_type": "code",
   "execution_count": null,
   "metadata": {
    "colab": {
     "base_uri": "https://localhost:8080/"
    },
    "id": "iemgRwdvmkF3",
    "outputId": "7eb4a6e8-c25b-4e89-c243-e8a4ba29c5f0"
   },
   "outputs": [],
   "source": [
    "# Filtrar los puntos dentro del polígono\n",
    "puntos_dentro = gdf[gdf.geometry.within(poligono_unico)]\n",
    "#print (puntos_dentro)\n",
    "# Guardar el resultado en un nuevo CSV\n",
    "puntos_dentro.drop(columns=\"geometry\").to_csv(\"./estaciones_encontradas_poligono_irregular.csv\", index=False)"
   ]
  }
 ],
 "metadata": {
  "colab": {
   "provenance": []
  },
  "kernelspec": {
   "display_name": "Python 3",
   "name": "python3"
  },
  "language_info": {
   "codemirror_mode": {
    "name": "ipython",
    "version": 3
   },
   "file_extension": ".py",
   "mimetype": "text/x-python",
   "name": "python",
   "nbconvert_exporter": "python",
   "pygments_lexer": "ipython3",
   "version": "3.11.9"
  }
 },
 "nbformat": 4,
 "nbformat_minor": 0
}
