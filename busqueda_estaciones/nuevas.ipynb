{
 "cells": [
  {
   "cell_type": "code",
   "execution_count": 1,
   "metadata": {},
   "outputs": [],
   "source": [
    "import pandas as pd # type: ignore"
   ]
  },
  {
   "cell_type": "markdown",
   "metadata": {},
   "source": [
    "Viejas"
   ]
  },
  {
   "cell_type": "code",
   "execution_count": 2,
   "metadata": {},
   "outputs": [],
   "source": [
    "estaciones_viejas_ruta = '../info_wunder.xlsx'\n",
    "estaciones_viejas = pd.read_excel(estaciones_viejas_ruta,sheet_name='estaciones')"
   ]
  },
  {
   "cell_type": "code",
   "execution_count": 3,
   "metadata": {},
   "outputs": [
    {
     "data": {
      "text/plain": [
       "0       ICASER42\n",
       "1        IJUNDD2\n",
       "2      IROSAR110\n",
       "3       IROSAR98\n",
       "4        ISANNI7\n",
       "         ...    \n",
       "138     IDEPAR62\n",
       "139      IJUNND3\n",
       "140      IJUNND5\n",
       "141     ISANJA13\n",
       "142    ISANJAVI8\n",
       "Name: stationID, Length: 143, dtype: object"
      ]
     },
     "execution_count": 3,
     "metadata": {},
     "output_type": "execute_result"
    }
   ],
   "source": [
    "estaciones_viejas_id = estaciones_viejas['stationID']\n",
    "estaciones_viejas_id"
   ]
  },
  {
   "cell_type": "markdown",
   "metadata": {},
   "source": [
    "Nuevas"
   ]
  },
  {
   "cell_type": "code",
   "execution_count": 4,
   "metadata": {},
   "outputs": [],
   "source": [
    "estaciones_encontradas_ruta = './estaciones_encontradas_poligono_irregular.csv'\n",
    "estaciones_encontradas = pd.read_csv(estaciones_encontradas_ruta)"
   ]
  },
  {
   "cell_type": "code",
   "execution_count": 5,
   "metadata": {},
   "outputs": [
    {
     "data": {
      "text/html": [
       "<div>\n",
       "<style scoped>\n",
       "    .dataframe tbody tr th:only-of-type {\n",
       "        vertical-align: middle;\n",
       "    }\n",
       "\n",
       "    .dataframe tbody tr th {\n",
       "        vertical-align: top;\n",
       "    }\n",
       "\n",
       "    .dataframe thead th {\n",
       "        text-align: right;\n",
       "    }\n",
       "</style>\n",
       "<table border=\"1\" class=\"dataframe\">\n",
       "  <thead>\n",
       "    <tr style=\"text-align: right;\">\n",
       "      <th></th>\n",
       "      <th>stationID</th>\n",
       "      <th>lat</th>\n",
       "      <th>lon</th>\n",
       "      <th>esNueva</th>\n",
       "    </tr>\n",
       "  </thead>\n",
       "  <tbody>\n",
       "    <tr>\n",
       "      <th>0</th>\n",
       "      <td>ICRDOBAM4</td>\n",
       "      <td>-31.73040</td>\n",
       "      <td>-65.01430</td>\n",
       "      <td>False</td>\n",
       "    </tr>\n",
       "    <tr>\n",
       "      <th>1</th>\n",
       "      <td>IDEPAR59</td>\n",
       "      <td>-31.82436</td>\n",
       "      <td>-64.97172</td>\n",
       "      <td>False</td>\n",
       "    </tr>\n",
       "    <tr>\n",
       "      <th>2</th>\n",
       "      <td>IDEPAR58</td>\n",
       "      <td>-31.82434</td>\n",
       "      <td>-64.97166</td>\n",
       "      <td>False</td>\n",
       "    </tr>\n",
       "    <tr>\n",
       "      <th>3</th>\n",
       "      <td>IDEPAR62</td>\n",
       "      <td>-31.82446</td>\n",
       "      <td>-64.97164</td>\n",
       "      <td>False</td>\n",
       "    </tr>\n",
       "    <tr>\n",
       "      <th>4</th>\n",
       "      <td>IDEPAR60</td>\n",
       "      <td>-31.82498</td>\n",
       "      <td>-64.97146</td>\n",
       "      <td>False</td>\n",
       "    </tr>\n",
       "    <tr>\n",
       "      <th>...</th>\n",
       "      <td>...</td>\n",
       "      <td>...</td>\n",
       "      <td>...</td>\n",
       "      <td>...</td>\n",
       "    </tr>\n",
       "    <tr>\n",
       "      <th>509</th>\n",
       "      <td>ISANNI7</td>\n",
       "      <td>-33.33976</td>\n",
       "      <td>-60.21611</td>\n",
       "      <td>False</td>\n",
       "    </tr>\n",
       "    <tr>\n",
       "      <th>510</th>\n",
       "      <td>ISANNI45</td>\n",
       "      <td>-33.33968</td>\n",
       "      <td>-60.21601</td>\n",
       "      <td>False</td>\n",
       "    </tr>\n",
       "    <tr>\n",
       "      <th>511</th>\n",
       "      <td>ISANNI2</td>\n",
       "      <td>-33.33860</td>\n",
       "      <td>-60.21414</td>\n",
       "      <td>False</td>\n",
       "    </tr>\n",
       "    <tr>\n",
       "      <th>512</th>\n",
       "      <td>ISANNI51</td>\n",
       "      <td>-33.33651</td>\n",
       "      <td>-60.21306</td>\n",
       "      <td>False</td>\n",
       "    </tr>\n",
       "    <tr>\n",
       "      <th>513</th>\n",
       "      <td>ISANNI27</td>\n",
       "      <td>-33.33618</td>\n",
       "      <td>-60.20759</td>\n",
       "      <td>False</td>\n",
       "    </tr>\n",
       "  </tbody>\n",
       "</table>\n",
       "<p>514 rows × 4 columns</p>\n",
       "</div>"
      ],
      "text/plain": [
       "     stationID       lat       lon  esNueva\n",
       "0    ICRDOBAM4 -31.73040 -65.01430    False\n",
       "1     IDEPAR59 -31.82436 -64.97172    False\n",
       "2     IDEPAR58 -31.82434 -64.97166    False\n",
       "3     IDEPAR62 -31.82446 -64.97164    False\n",
       "4     IDEPAR60 -31.82498 -64.97146    False\n",
       "..         ...       ...       ...      ...\n",
       "509    ISANNI7 -33.33976 -60.21611    False\n",
       "510   ISANNI45 -33.33968 -60.21601    False\n",
       "511    ISANNI2 -33.33860 -60.21414    False\n",
       "512   ISANNI51 -33.33651 -60.21306    False\n",
       "513   ISANNI27 -33.33618 -60.20759    False\n",
       "\n",
       "[514 rows x 4 columns]"
      ]
     },
     "execution_count": 5,
     "metadata": {},
     "output_type": "execute_result"
    }
   ],
   "source": [
    "estaciones_encontradas['esNueva'] = False\n",
    "estaciones_encontradas"
   ]
  },
  {
   "cell_type": "code",
   "execution_count": 6,
   "metadata": {},
   "outputs": [],
   "source": [
    "for idx,estacion in estaciones_encontradas.iterrows():\n",
    "    id_encontrada = estacion.loc['stationID']\n",
    "    if id_encontrada not in estaciones_viejas['stationID'].values:\n",
    "        estaciones_encontradas.loc[idx,'esNueva'] = True"
   ]
  },
  {
   "cell_type": "code",
   "execution_count": 7,
   "metadata": {},
   "outputs": [],
   "source": [
    "estaciones_encontradas_nuevas = estaciones_encontradas[estaciones_encontradas['esNueva']]\n",
    "estaciones_encontradas_nuevas.drop('esNueva',axis=1).to_csv('./nuevas_estaciones.csv',index=False)"
   ]
  }
 ],
 "metadata": {
  "kernelspec": {
   "display_name": "Python 3",
   "language": "python",
   "name": "python3"
  },
  "language_info": {
   "codemirror_mode": {
    "name": "ipython",
    "version": 3
   },
   "file_extension": ".py",
   "mimetype": "text/x-python",
   "name": "python",
   "nbconvert_exporter": "python",
   "pygments_lexer": "ipython3",
   "version": "3.11.9"
  }
 },
 "nbformat": 4,
 "nbformat_minor": 2
}
