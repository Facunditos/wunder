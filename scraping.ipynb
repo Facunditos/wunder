{
 "cells": [
  {
   "cell_type": "markdown",
   "metadata": {
    "id": "C51oHN3dknr6"
   },
   "source": [
    "# Librerías"
   ]
  },
  {
   "cell_type": "code",
   "execution_count": 1,
   "metadata": {
    "id": "boAsIx8yknsa"
   },
   "outputs": [],
   "source": [
    "from bs4 import BeautifulSoup # type: ignore\n",
    "import requests # type: ignore\n",
    "import pandas as pd # type: ignore\n",
    "from datetime import date,timedelta,datetime\n",
    "import time\n",
    "import seaborn as sns # type: ignore\n",
    "import matplotlib.pyplot as plt # type: ignore\n",
    "import csv\n",
    "import re\n",
    "import sqlalchemy # type: ignore\n",
    "import sqlalchemy # type: ignore\n",
    "import pyodbc # type: ignore\n",
    "from sqlalchemy.engine import * # type: ignore\n",
    "from sqlalchemy.orm import * # type: ignore\n",
    "from sqlalchemy import * # type: ignore\n",
    "from sqlalchemy import update # type: ignore\n",
    "from typing import List\n",
    "from typing import Optional\n",
    "from typing import Any, TYPE_CHECKING\n",
    "\n",
    "import os\n",
    "import numpy as np # type: ignore\n",
    "import warnings\n",
    "warnings.filterwarnings('ignore')\n"
   ]
  },
  {
   "cell_type": "markdown",
   "metadata": {
    "id": "8rcG90xTknsr"
   },
   "source": [
    "# Desarrollo"
   ]
  },
  {
   "cell_type": "markdown",
   "metadata": {},
   "source": [
    "## Funciones comunes"
   ]
  },
  {
   "cell_type": "code",
   "execution_count": 2,
   "metadata": {},
   "outputs": [],
   "source": [
    "estaciones_elegidas = pd.read_excel('./info_wunder.xlsx','estaciones')"
   ]
  },
  {
   "cell_type": "code",
   "execution_count": 3,
   "metadata": {},
   "outputs": [
    {
     "data": {
      "text/plain": [
       "['66d6d2df24cb428a96d2df24cbc28ad4',\n",
       " '2efc62145baa4503bc62145baac50320',\n",
       " '17ae9bc6979c4f94ae9bc6979c2f94be',\n",
       " '3061cd3105fb4d04a1cd3105fb3d04f5',\n",
       " 'e973d41675604a8fb3d41675603a8ff9',\n",
       " '8bc93c50250c46aa893c50250c96aadf',\n",
       " 'd067936f17814b7ca7936f1781cb7c1b',\n",
       " '08f138f5654748c5b138f5654758c5a4',\n",
       " '8c92a311e735492392a311e735d9237a',\n",
       " 'dde8c7d371bc419aa8c7d371bc519afc',\n",
       " '6d59e6d09ba3475e99e6d09ba3b75e6e',\n",
       " '138d67d38eb74ca48d67d38eb75ca4ab',\n",
       " 'c188728eab2a419b88728eab2aa19b25',\n",
       " '9303edaba7304a9583edaba7300a957d',\n",
       " '0f0e22e43a7a43e88e22e43a7a83e8da',\n",
       " '243492574df94a8cb492574df9ea8c05',\n",
       " 'e63848374c6d4d40b848374c6dad4079',\n",
       " '0c14813f1b8b407694813f1b8bb076e2',\n",
       " '54b23a5618e44f6eb23a5618e41f6e9c',\n",
       " '4dbccecd242a4f3cbccecd242a2f3cb5',\n",
       " 'e1038f8b4ca14ca4838f8b4ca1aca47a',\n",
       " 'fc16f61266a149a596f61266a179a57d',\n",
       " 'dfc0485c358144c880485c3581e4c847',\n",
       " '55e505190b3d4cb8a505190b3d0cb8a1',\n",
       " 'fbe797d9a97b4dd8a797d9a97b0dd8c2',\n",
       " '9224a923c2304f37a4a923c2300f37f1',\n",
       " 'afd41505a3b74a9b941505a3b7aa9bd9',\n",
       " '7d604673531d44d7a04673531d74d7fa',\n",
       " '0c27731125054b16a773112505bb1673',\n",
       " '577cefbef73d40b9bcefbef73dd0b922']"
      ]
     },
     "execution_count": 3,
     "metadata": {},
     "output_type": "execute_result"
    }
   ],
   "source": [
    "df_cuentas_wunder=pd.read_excel('./info_wunder.xlsx','apiKeys',skiprows=2)\n",
    "api_keys=df_cuentas_wunder['apiKey']\n",
    "api_keys=list(api_keys)\n",
    "api_keys\n"
   ]
  },
  {
   "cell_type": "code",
   "execution_count": 4,
   "metadata": {},
   "outputs": [],
   "source": [
    "def extraer_campos_utiles(observaciones:list,dia:date,stationId:str=None)->list:\n",
    "    \"\"\"retorna un mensaje en torno a las observaciones agregadas\n",
    "    y la fecha de la última observacoin agregada\"\"\"\n",
    "    observaciones_filtrada=[]\n",
    "    # Reportes completos\n",
    "    if (len(observaciones)==288):\n",
    "        # dia_con_obs=1 | dia_completo=1\n",
    "        for observacion in observaciones:\n",
    "            observacion_filtrada = [observacion['stationID'],observacion['lat'],observacion['lon'],observacion['obsTimeLocal'],observacion['winddirAvg'],observacion['metric']['windspeedAvg'],observacion['metric']['windgustAvg'],observacion['metric']['precipRate'],observacion['metric']['precipTotal'],1,1]\n",
    "            observaciones_filtrada.append(observacion_filtrada)    \n",
    "    # Reportes Incompletos\n",
    "    elif ((len(observaciones)>0)):\n",
    "        # dia_con_obs=1 | dia_completo=0\n",
    "        for observacion in observaciones:\n",
    "            observacion_filtrada = [observacion['stationID'],observacion['lat'],observacion['lon'],observacion['obsTimeLocal'],observacion['winddirAvg'],observacion['metric']['windspeedAvg'],observacion['metric']['windgustAvg'],observacion['metric']['precipRate'],observacion['metric']['precipTotal'],1,0]\n",
    "            observaciones_filtrada.append(observacion_filtrada)    \n",
    "    #No hubo reportes\n",
    "    else:\n",
    "        observacion_filtrada = [stationId,None,None,dia,None,None,None,None,None,0,0]\n",
    "        observaciones_filtrada.append(observacion_filtrada)    \n",
    "    return observaciones_filtrada     \n"
   ]
  },
  {
   "cell_type": "code",
   "execution_count": 5,
   "metadata": {},
   "outputs": [],
   "source": [
    "def construirObservacion(obs:dict,campos:tuple)->list:\n",
    "    \"\"\" Recibe una observación en formato diccionario y los campos de interés como tupla. \n",
    "    Devuelve una lista con los valores de los campos de interés \"\"\"\n",
    "    var_sin_unidad=[\"stationID\",\"tz\",\"obsTimeUtc\",\"obsTimeLocal\",\"epoch\",\"lat\",\"lon\",\"solarRadiationHigh\",\"uvHigh\",\"winddirAvg\",\"humidityHigh\",\"humidityLow\",\"humidityAvg\",\"qcStatus\"]\n",
    "    observacion=[]\n",
    "    for campo in campos:\n",
    "        if campo in var_sin_unidad:\n",
    "            observacion.append(obs[campo])\n",
    "        else:\n",
    "            observacion.append(obs['metric'][campo])    \n",
    "    return observacion        "
   ]
  },
  {
   "cell_type": "code",
   "execution_count": 6,
   "metadata": {},
   "outputs": [
    {
     "data": {
      "text/plain": [
       "' construirObservacion({\\'tz\\':\\'Darío\\',\\'metric\\':{\"tempHigh\":\\'Facundo\\'}},(\\'tz\\',\\'tempHigh\\')) '"
      ]
     },
     "execution_count": 6,
     "metadata": {},
     "output_type": "execute_result"
    }
   ],
   "source": [
    "\"\"\" construirObservacion({'tz':'Darío','metric':{\"tempHigh\":'Facundo'}},('tz','tempHigh')) \"\"\""
   ]
  },
  {
   "cell_type": "code",
   "execution_count": 7,
   "metadata": {},
   "outputs": [],
   "source": [
    "def extraer_campos(observaciones:list,dia:date,stationId:str,variables:tuple)->list:\n",
    "    \"\"\"retorna un mensaje en torno a las observaciones agregadas\n",
    "    y la fecha de la última observacoin agregada\"\"\"\n",
    "    obs=[]\n",
    "    #No hubo reportes\n",
    "    if (len(observaciones)==0):\n",
    "        observacion = [stationId,None,None,dia,None,None,None,None,None,None,None,None,None,None,None,None,None,None,None,None,None,None,None,None,None,None,None,None,None,None,None,None,None,None,None,None,None,0,0]\n",
    "        obs.append(observacion)    \n",
    "    else:\n",
    "        # Reportes completos\n",
    "        if (len(observaciones)==288):\n",
    "            # dia_con_obs=1 | dia_completo=1\n",
    "            for observacion in observaciones:\n",
    "                observacion = construirObservacion(observacion,variables)\n",
    "                observacion+=[1,1]\n",
    "                obs.append(observacion)    \n",
    "        # Reportes Incompletos\n",
    "        else:\n",
    "            # dia_con_obs=1 | dia_completo=0\n",
    "            for observacion in observaciones:\n",
    "                observacion = construirObservacion(observacion,variables)\n",
    "                observacion+=[1,0]\n",
    "                obs.append(observacion)  \n",
    "    return obs "
   ]
  },
  {
   "cell_type": "code",
   "execution_count": 8,
   "metadata": {},
   "outputs": [],
   "source": [
    "def cambiar_api_key(conjunto_api_key:list[str],api_key_actual:str)->str:\n",
    "    indice_api_key_actual=conjunto_api_key.index(api_key_actual)\n",
    "    if indice_api_key_actual==len(conjunto_api_key)-1:\n",
    "        return ''\n",
    "    else:\n",
    "        siguiente_api_key=conjunto_api_key[indice_api_key_actual+1]\n",
    "        return siguiente_api_key\n"
   ]
  },
  {
   "cell_type": "code",
   "execution_count": 9,
   "metadata": {},
   "outputs": [],
   "source": [
    "#cambiar_api_key(api_keys,'0f80b73561fe451b80b73561fe651b08')"
   ]
  },
  {
   "cell_type": "code",
   "execution_count": 10,
   "metadata": {},
   "outputs": [],
   "source": [
    "def imprimir_mensaje(situacion:str,vieja_api_key:str=None,url:str=None,llamadas_totales:int=None,\n",
    "    identificador_estacion:str=None,dia:date=None,status_code:int=None,n_error_con:int=None,problema=None)->None:\n",
    "    #Se agotó el cupo de llamadas por api key\n",
    "    if (situacion=='llamada 1400'):\n",
    "        print(f'cambio de api key por llamada 1400. Vieja api key\\n{vieja_api_key}')\n",
    "    #La api key no tiene autorización\n",
    "    elif (situacion=='api key desautorizada'):\n",
    "        print(f'cambio de api key por problmeas de autorización.\\nRespuesta:{status_code}.\\nVieja api key\\n{vieja_api_key}')\n",
    "    #El servidor no responde\n",
    "    elif (situacion=='el servidor no contesta'):\n",
    "        print(f'Problemas con el servidor web.\\nRespuesta:{status_code}.\\nSe pausa durante una hora la ejecución.\\nHora de pausa:{datetime.now()}')\n",
    "    elif (situacion=='respesta del servidor desconocida'):\n",
    "        print(f'Se obtuvo una respuesta desconocida.\\nRespuesta:{status_code}.\\nLlamado:{url}')\n",
    "    elif (situacion=='error de conexión'):\n",
    "        print(f'Hubo un problema con la conexión al servidor.\\nError número:{n_error_con}.\\nError:{problema}\\nSe aguarda 1 minuto')  \n",
    "    #Se agotaron todas las api keys\n",
    "    elif(situacion=='sin api keys'):\n",
    "        print(f'se consumieron todas las api keys disponibles.\\nÚltimo llamado:{url}.')\n",
    "    #La estación registró 30 días consecutivos sin reportes\n",
    "    elif(situacion=='cambio estacion'):\n",
    "        print(f'se cargaron todas las observacines de {identificador_estacion}')\n",
    "    elif(situacion=='fin ejecución'):\n",
    "        print(f'Finalizó la ejecucución del programa.\\nTotal de llamadas:{llamadas_totales}')\n"
   ]
  },
  {
   "cell_type": "code",
   "execution_count": 11,
   "metadata": {},
   "outputs": [
    {
     "data": {
      "text/plain": [
       "\" imprimir_mensaje(situacion='llamada 1400',vieja_api_key='ad2')\\nimprimir_mensaje(situacion='cambio de estacion',identificador_estacion='ros')\\nimprimir_mensaje(situacion='api key desautorizada',status_code=401,vieja_api_key='as')\\nimprimir_mensaje(situacion='sin api keys',url='https',llamadas_totales=102)\\nimprimir_mensaje(situacion='el servidor no contesta',status_code=500)\\nimprimir_mensaje(situacion='respesta del servidor desconocida',status_code=403,url='https')   \\nimprimir_mensaje(situacion='error de conexión',n_error_con=3,problema='error SSL')    \\nimprimir_mensaje(situacion='ejecucion exitosa',llamadas_totales=689)     \""
      ]
     },
     "execution_count": 11,
     "metadata": {},
     "output_type": "execute_result"
    }
   ],
   "source": [
    "\"\"\" imprimir_mensaje(situacion='llamada 1400',vieja_api_key='ad2')\n",
    "imprimir_mensaje(situacion='cambio de estacion',identificador_estacion='ros')\n",
    "imprimir_mensaje(situacion='api key desautorizada',status_code=401,vieja_api_key='as')\n",
    "imprimir_mensaje(situacion='sin api keys',url='https',llamadas_totales=102)\n",
    "imprimir_mensaje(situacion='el servidor no contesta',status_code=500)\n",
    "imprimir_mensaje(situacion='respesta del servidor desconocida',status_code=403,url='https')   \n",
    "imprimir_mensaje(situacion='error de conexión',n_error_con=3,problema='error SSL')    \n",
    "imprimir_mensaje(situacion='ejecucion exitosa',llamadas_totales=689)     \"\"\""
   ]
  },
  {
   "cell_type": "code",
   "execution_count": 12,
   "metadata": {},
   "outputs": [],
   "source": [
    "def escribirCSV(ruta:str,datos:list,campos_encabezado:tuple)->None:\n",
    "    #Se elige el modo escritura(w) por lo que se sobreescribe el archivo\n",
    "    with open(ruta,'w',newline='') as csv_file:\n",
    "            writer = csv.writer(csv_file)\n",
    "            header = [campo for campo in campos_encabezado]\n",
    "            writer.writerow(header) \n",
    "            writer.writerows(datos)"
   ]
  },
  {
   "cell_type": "code",
   "execution_count": 13,
   "metadata": {},
   "outputs": [],
   "source": [
    "#escribirCSV(ruta='ejemplo.csv',datos=[['facundo','2024/9/7'],['mariana','2023/9/7']],campos_encabezado=('nombre','fecha'))"
   ]
  },
  {
   "cell_type": "markdown",
   "metadata": {
    "id": "GBjPBEohknxD"
   },
   "source": [
    "## Inicio observaciones"
   ]
  },
  {
   "cell_type": "code",
   "execution_count": 2,
   "metadata": {
    "id": "hEzW3k90knxJ",
    "outputId": "c4420b1a-4321-43fa-ce79-f12b09503ee7"
   },
   "outputs": [],
   "source": [
    "def buscar_primer_registro(id_estacion:str,año:int,mes:int,hasta_año:int,hasta_mes:int)->str:\n",
    "    \"\"\"retorna un dato que puede ser la fecha del primer registro o un mensaje \n",
    "    en caso que no se haya encontrado el primer registros\"\"\"\n",
    "    n_quebro=1\n",
    "    numero_llamada=1\n",
    "    while True:\n",
    "        URL = f\"https://www.wunderground.com/dashboard/pws/{id_estacion}/table/{año}-{mes}-1/{año}-{mes}-1/monthly\"\n",
    "        r = requests.get(URL)\n",
    "        soup = BeautifulSoup(r.text,'lxml')\n",
    "        titulo=soup.find('h1').text\n",
    "        # Error 404 puede obedecer a que la estación no exista\n",
    "        if titulo=='Error 404: Page Not Found':\n",
    "            t_cuerpo=None\n",
    "            break\n",
    "        tabla = soup.find('table',{'class':'history-table desktop-table'})\n",
    "        try:\n",
    "            t_cuerpo=tabla.find('tbody')\n",
    "            numero_llamada+=1\n",
    "        # La plataforma a veces no devuelve el recurso solicitado. Se probó la sentencia continue para repetir, pero reitera el error       \n",
    "        except AttributeError:\n",
    "            t_cuerpo=None\n",
    "            #continue\n",
    "            break\n",
    "        # Si el cuerpo de la tabla no es un string vacío significa que SÍ hay registros para la fecha consultada\n",
    "        if (t_cuerpo.text!=''):\n",
    "            break\n",
    "        # Si se llegó a la fecha límite significa que la estación nunca tuvo registros\n",
    "        elif(año==hasta_año and mes==hasta_mes):\n",
    "            break\n",
    "        # Se consulta si subo registros el mes siguiente\n",
    "        else:\n",
    "            mes+=1\n",
    "            if mes==13:\n",
    "                año+=1\n",
    "                mes=1       \n",
    "    if (t_cuerpo is None):\n",
    "        mensaje=f\"problema con solicitud {URL}\"   \n",
    "    elif (t_cuerpo.text==''):\n",
    "        mensaje='no se encontraron observaciones'\n",
    "    else:\n",
    "        fecha=t_cuerpo.find('td').text\n",
    "        mes,dia,año=fecha.split('/')\n",
    "        fecha=f\"{año}/{mes}/{dia}\"\n",
    "        mensaje=fecha\n",
    "    return mensaje "
   ]
  },
  {
   "cell_type": "code",
   "execution_count": 20,
   "metadata": {},
   "outputs": [],
   "source": [
    "def reescribir_inicio_estaciones(estaciones_id:pd.DataFrame)->None:\n",
    "    inicio_reportes=[]\n",
    "    for r in estaciones_id.iterrows(): \n",
    "        i,s=r\n",
    "        estacion=s.loc['estaciones_id']\n",
    "        dato=s.loc['fecha_inicio']\n",
    "        hubo_problema=True if dato.find('p')!=-1 else False\n",
    "        if (hubo_problema):\n",
    "            fecha=re.search(r\"\\d{4}-\\d\",dato)\n",
    "            año,mes=fecha.group().split(\"-\")\n",
    "            print(\"año\",año)\n",
    "            print('mes',mes)\n",
    "            dato=buscar_primer_registro(estacion,int(año),int(mes),2024,9)\n",
    "        print(f\"{estacion},{dato}\")\n",
    "        inicio_reportes.append([estacion,dato]) \n",
    "    escribirCSV(ruta='inicio_observaciones.csv',datos=inicio_reportes,campos_encabezado=('estaciones_id','fecha_inicio'))  "
   ]
  },
  {
   "cell_type": "code",
   "execution_count": 47,
   "metadata": {},
   "outputs": [],
   "source": [
    "def escribir_inicio_estaciones(estaciones_id:list)->None:\n",
    "    inicio_reportes=[]\n",
    "    for estacion in estaciones_id: \n",
    "        dato=buscar_primer_registro(estacion,2010,1,2024,9)\n",
    "        print(f\"{estacion},{dato}\")\n",
    "        inicio_reportes.append([estacion,dato]) \n",
    "    escribirCSV(ruta='inicio_observaciones.csv',datos=inicio_reportes,campos_encabezado=('estaciones_id','fecha_inicio'))       "
   ]
  },
  {
   "cell_type": "code",
   "execution_count": 22,
   "metadata": {},
   "outputs": [
    {
     "name": "stdout",
     "output_type": "stream",
     "text": [
      "IADELI1,9/11/2022\n",
      "IAMENB2,1/3/2023\n",
      "IARIAS1,21/5/2023\n",
      "IARMST25,24/4/2023\n",
      "IBELGR31,7/12/2020\n",
      "IBIGAN11,17/1/2023\n",
      "IBUSTI3,17/7/2023\n",
      "ICAADA2,27/6/2023\n",
      "ICAADA3,29/7/2023\n",
      "ICALAM23,2/10/2020\n",
      "ICALAM32,22/9/2021\n",
      "ICASER12,28/12/2019\n",
      "ICASER21,28/7/2020\n",
      "ICASER25,29/12/2020\n",
      "ICASER34,4/12/2021\n",
      "ICASER40,26/6/2022\n",
      "ICASER42,sin observaciones\n",
      "ICASIL2,28/12/2022\n",
      "ICOLN10,1/1/2017\n",
      "ICONST54,29/4/2022\n",
      "ICONSTIT2,1/4/2017\n",
      "ICONSTIT3,8/4/2027\n",
      "ICONSTIT4,4/3/2018\n",
      "ICORDOBA23,17/3/2013\n",
      "ICRDOBAV12,23/7/2015\n",
      "IDEPAR62,27/3/2021\n",
      "IDEPAR77,10/8/2021\n",
      "IDESPE1,1/11/2022\n",
      "IDESPE2,30/1/2023\n",
      "IDIEGO12,9/11/2022\n",
      "IFUNES8,23/12/2022\n",
      "IGENER96,6/7/2020\n",
      "IGENER106,17/8/2020\n",
      "IGENER124,13/10/2020\n",
      "IGENER126,24/10/2020\n",
      "IGENER147,25/2/2021\n",
      "IGENER149,27/2/2021\n",
      "IGENER180,5/7/2021\n",
      "IGENER186,29/7/2021\n",
      "IGENER189,29/7/2021\n",
      "IGENER220,25/11/2021\n",
      "IGENER235,10/2/2022\n",
      "IGENER245,7/6/2022\n",
      "IGENER296,10/7/2022\n",
      "IGENER305,5/8/2022\n",
      "IGENER348,23/6/2023\n",
      "IGENER364,1/10/2023\n",
      "IINRIV1,11/7/2023\n",
      "IIRION3,31/5/2020\n",
      "IIRION6,24/2/2021\n",
      "IIRIONDO2,1/1/2017\n",
      "IISLAV1,15/12/2022\n",
      "IJOVIT1,25/12/2022\n",
      "IJUNDD2,sin observaciones\n",
      "IJUNND3,1/10/2020\n",
      "IJUNND5,9/3/2022\n",
      "IJUREZ12,30/11/2019\n",
      "IJUREZ15,22/10/2020\n",
      "IJUREZ17,19/12/2020\n",
      "IJUREZ19,14/1/2021\n",
      "ILACHI9,20/12/2022\n",
      "ILASPA72,13/2/2023\n",
      "ILASPA81,10/10/2023\n",
      "ILEAND6,23/2/2021\n",
      "ILEAND17,18/9/2021\n",
      "ILEAND30,21/12/2022\n",
      "ILOSMO6,29/6/2023\n",
      "IMARCO41,16/7/2022\n",
      "IMARCO44,12/9/2022\n",
      "IMARCO49,12/10/2022\n",
      "IMARCOSJ3,11/3/2019\n",
      "IMELIN1,27/6/2023\n",
      "IONCAT1,31/3/2023\n",
      "IPERGA4,28/9/2019\n",
      "IPERGA17,22/6/2022\n",
      "IPERGA20,22/3/2023\n",
      "IPERGA21,30/4/2023\n",
      "IPERGA22,14/5/2023\n",
      "IPERGAMI6,6/9/2018\n",
      "IPRESI18,28/6/2021\n",
      "IROCUA44,22/6/2021\n",
      "IROCUA46,29/7/2021\n",
      "IROCUA49,24/8/2021\n",
      "IROCUA51,21/9/2021\n",
      "IROCUART12,14/9/2018\n",
      "IRODEL10,15/6/2023\n",
      "IROSAR100,24/9/2022\n",
      "IROSAR101,10/10/2022\n",
      "IROSAR103,21/12/2022\n",
      "IROSAR106,19/3/2023\n",
      "IROSAR107,22/3/2023\n",
      "IROSAR110,sin observaciones\n",
      "IROSAR5,12/4/2019\n",
      "IROSAR14,4/7/2019\n",
      "IROSAR18,21/9/2019\n",
      "IROSAR30,25/2/2020\n",
      "IROSAR38,17/6/2020\n",
      "IROSAR56,8/9/2020\n",
      "IROSAR60,25/10/2020\n",
      "IROSAR62,21/11/2020\n",
      "IROSAR68,20/3/2021\n",
      "IROSAR70,25/5/2021\n",
      "IROSAR84,6/2/2022\n",
      "IROSAR86,28/2/2022\n",
      "IROSAR89,29/4/2022\n",
      "IROSAR97,25/8/2022\n",
      "IROSAR98,sin observaciones\n",
      "IROSARIO11,24/7/2017\n",
      "IROSARIO39,15/11/2018\n",
      "IROSEG9,8/8/2020\n",
      "IROSEG16,20/8/2021\n",
      "IROSEG26,21/10/2022\n",
      "IROSEG28,6/1/2023\n",
      "ISANFO4,15/8/2023\n",
      "ISANJA13,11/9/2021\n",
      "ISANJAVI8,22/1/2019\n",
      "ISANJO74,6/6/2023\n",
      "ISANJU117,24/10/2021\n",
      "ISANLO49,6/8/2021\n",
      "ISANLO71,10/8/2022\n",
      "ISANLORE33,2018/5/25\n",
      "ISANLORE34,2018/8/17\n",
      "año 2018\n",
      "mes 1\n",
      "ISANNI7,2020/7/4\n",
      "ISANNI16,30/3/2021\n",
      "ISANNI35,23/6/2022\n",
      "ISANNICO24,2017/5/11\n",
      "ISANTA43,2019/6/5\n",
      "ISANTA203,2020/2/3\n",
      "ISANTA538,2021/5/20\n",
      "ISANTA1211,17/4/2023\n",
      "ISANTAFE23,28/5/2012\n",
      "ISANTAFE60,2014/2/4\n",
      "ISANTAFE105,2016/2/3\n",
      "ISARGE5,2022/10/25\n",
      "ITORTU3,24/2/2023\n",
      "IUNIND8,27/4/2021\n",
      "IUNINDEP8,29/11/2018\n",
      "IVENAD3,17/4/2019\n",
      "IVILLA133,27/5/2019\n",
      "IVILLA1083,17/5/2023\n",
      "IPREZ1,2024/1/15\n",
      "ICASER41,15/9/2022\n",
      "ICASER32,11/6/2021\n"
     ]
    }
   ],
   "source": [
    "df_estaciones=pd.read_csv(\"inicio_observaciones.csv\")\n",
    "reescribir_inicio_estaciones(df_estaciones)"
   ]
  },
  {
   "cell_type": "code",
   "execution_count": 33,
   "metadata": {},
   "outputs": [],
   "source": [
    "df_estaciones=pd.read_csv(\"inicio_observaciones.csv\")\n",
    "inicio_reportes=[]\n",
    "for r in df_estaciones.iterrows(): \n",
    "    i,s=r\n",
    "    estacion=s.loc['estaciones_id']\n",
    "    dato=s.loc['fecha_inicio']\n",
    "    if (dato!='sin observaciones'):\n",
    "        f_l=dato.split(\"/\")\n",
    "        primer_termino=f_l[0]\n",
    "        if (len(primer_termino)!=4):\n",
    "            dia=primer_termino\n",
    "            mes=f_l[1]\n",
    "            año=f_l[2]\n",
    "            dato=f\"{año}/{mes}/{dia}\"\n",
    "    inicio_reportes.append([estacion,dato]) \n",
    "escribirCSV(ruta='inicio_observaciones.csv',datos=inicio_reportes,campos_encabezado=('estaciones_id','fecha_inicio'))  "
   ]
  },
  {
   "cell_type": "markdown",
   "metadata": {},
   "source": [
    "## Carga observaciones"
   ]
  },
  {
   "cell_type": "code",
   "execution_count": null,
   "metadata": {},
   "outputs": [],
   "source": [
    "def datos_estaciones(estaciones:pd.DataFrame,var_w,claves_api:list[str])->None:\n",
    "    numero_llamada_global=0\n",
    "    numero_llamada_api_key=0\n",
    "    #Seteo de variables\n",
    "    api_key=claves_api[0]\n",
    "    numero_error_conexion=0\n",
    "    recurso=''\n",
    "    for i,estacion in estaciones.iterrows():\n",
    "        if estacion['buscar_obs'] == 1:\n",
    "            estacion_id=estacion['id']\n",
    "            fecha = estacion['inicio']\n",
    "            año = fecha.year\n",
    "            mes = fecha.month\n",
    "            dia = fecha.day\n",
    "            total_observaciones=[]  \n",
    "            fecha=date(año,mes,dia)\n",
    "            fecha_limite = date(2024,9,11)\n",
    "            while fecha<=fecha_limite:\n",
    "                if (numero_llamada_api_key==1400):\n",
    "                        imprimir_mensaje(situacion='llamada 1400',vieja_api_key=api_key)\n",
    "                        api_key=cambiar_api_key(conjunto_api_key=api_keys,api_key_actual=api_key)\n",
    "                        #Si se agotaron las api keys se rompe el bucle white\n",
    "                        if (api_key==''):\n",
    "                            break  \n",
    "                        numero_llamada_api_key=0\n",
    "                fecha_str = \"{:04d}\".format(fecha.year) + \"{:02d}\".format(fecha.month) + \"{:02d}\".format(fecha.day)\n",
    "                recurso=f'https://api.weather.com/v2/pws/history/all?stationId={estacion_id}&format=json&units=m&apiKey={api_key}&numericPrecision=decimal&date={fecha_str}'\n",
    "                try:\n",
    "                    # Mandatoriamente se debe indicar un tiempo límite de espera para evitar que la llamada quede inconclusa por falta de respuesta de la API\n",
    "                    respuesta = requests.get(recurso,timeout=60)\n",
    "                    codigo_respusta=respuesta.status_code\n",
    "                    numero_llamada_api_key+=1\n",
    "                    numero_llamada_global+=1\n",
    "                    # Status Code 200: OK. The request has succeeded.\n",
    "                    # Status Code 204: No Data Found for specific query. The 204 status code will have an empty response body.\n",
    "                    if (codigo_respusta==200 or codigo_respusta==204):\n",
    "                        observaciones_un_dia = respuesta.json()['observations'] if codigo_respusta==200 else [] \n",
    "                        total_observaciones+=extraer_campos(observaciones_un_dia,fecha,estacion_id)\n",
    "                        fecha+= timedelta(days=1)\n",
    "                    elif (codigo_respusta==401):\n",
    "                        # Status Code 401: Unauthorized. The request requires authentication.\n",
    "                        imprimir_mensaje(situacion='api key desautorizada',status_code=codigo_respusta,vieja_api_key=api_key)\n",
    "                        api_key=cambiar_api_key(conjunto_api_key=api_keys,api_key_actual=api_key)\n",
    "                        #Si se agotaron las api keys se rompe el bucle white\n",
    "                        if (api_key==''):\n",
    "                            break  \n",
    "                        numero_llamada_api_key=0      \n",
    "                    elif (codigo_respusta==500):\n",
    "                        imprimir_mensaje(situacion='el servidor no contesta',status_code=codigo_respusta)\n",
    "                        una_hora=60*60\n",
    "                        #Se pausa la ejecución para aguardar que normalicen el funcionamiento del servidor \n",
    "                        time.sleep(una_hora)\n",
    "                    else:\n",
    "                        imprimir_mensaje(situacion='respesta del servidor desconocida',status_code=codigo_respusta,url=recurso)    \n",
    "                except requests.exceptions.RequestException as error:\n",
    "                    numero_error_conexion+=1\n",
    "                    imprimir_mensaje(situacion='error de conexión',n_error_con=numero_error_conexion,problema=error) \n",
    "                    un_minuto=60\n",
    "                    #Se pausa la ejecución para aguardar que normalicen el funcionamiento del servidor \n",
    "                    time.sleep(un_minuto)   \n",
    "            #Escribe todas las observaciones recolectadas de la estación antes de saltar a la siguiente\n",
    "            ubicacion=f'C:/Users/Usuario/Documents/observaciones/completas/observaciones_completas_{estacion_id}.csv'\n",
    "            var_con=[\"dia_con_obs\",\"dia_completo\"]\n",
    "            var_todas=tuple(var_w+var_con)\n",
    "            imprimir_mensaje(situacion='cambio estacion',identificador_estacion=estacion_id)\n",
    "            escribirCSV(ruta=ubicacion,datos=total_observaciones,campos_encabezado=var_todas)\n",
    "\n",
    "        #Sale del while y corroborra que se pueda pasar a la siguiente estación \n",
    "        if (api_key==''):    \n",
    "            imprimir_mensaje(situacion='sin api keys',url=recurso)\n",
    "            break\n",
    "            \n",
    "\n",
    "    imprimir_mensaje(situacion='fin ejecución',llamadas_totales=numero_llamada_global)  "
   ]
  },
  {
   "cell_type": "code",
   "execution_count": 122,
   "metadata": {},
   "outputs": [],
   "source": [
    "var_sin_unidad=['stationID',\"tz\",\"obsTimeUtc\",\"obsTimeLocal\",\"epoch\",\"lat\",\"lon\",\"solarRadiationHigh\",\"uvHigh\",\"winddirAvg\",\"humidityHigh\",\"humidityLow\",\"humidityAvg\",\"qcStatus\"]\n",
    "var_con_unidad=[\"tempHigh\",\"tempLow\",\"tempAvg\",\"windspeedHigh\",\"windspeedLow\",\"windspeedAvg\",\"windgustHigh\",\"windgustLow\",\"windgustAvg\",\"dewptHigh\",\"dewptLow\",\"dewptAvg\",\"windchillHigh\",\"windchillLow\",\"windchillAvg\",\"heatindexHigh\",\"heatindexLow\",\"heatindexAvg\",\"pressureMax\",\"pressureMin\",\"pressureTrend\",\"precipRate\",\"precipTotal\"]\n",
    "var_wunder=var_sin_unidad+var_con_unidad\n",
    "#datos_estaciones(estaciones=estaciones_elegidas,var_w=var_wunder,claves_api=api_keys)"
   ]
  },
  {
   "cell_type": "markdown",
   "metadata": {},
   "source": [
    "## Cantidad de días sin reporte actualmente"
   ]
  },
  {
   "cell_type": "code",
   "execution_count": 76,
   "metadata": {},
   "outputs": [],
   "source": [
    "def fecha_ultimo_reporte(obs_estacion:pd.DataFrame)->int:\n",
    "    '''Recibe las observaciones de una estación y devuelve\n",
    "    la fecha del último reporte'''\n",
    "    # Inicio en la última pos (último día)\n",
    "    pos = len(obs_estacion)-1 \n",
    "    contador = 0\n",
    "    dia_obs = obs_estacion.loc[pos,'dia_con_obs']\n",
    "    while not dia_obs:\n",
    "        contador+=1\n",
    "        pos-=1\n",
    "        dia_obs = obs_estacion.loc[pos,'dia_con_obs']\n",
    "    fecha_ult_repor = obs_estacion.loc[pos,'obsTimeLocal']\n",
    "    return fecha_ult_repor\n"
   ]
  },
  {
   "cell_type": "code",
   "execution_count": 81,
   "metadata": {},
   "outputs": [],
   "source": [
    "def diasSinObservaciones(estaciones:pd.DataFrame)->list[str,int]:\n",
    "    '''Recibe un df con los id de las estaciones y devuelve una lista\n",
    "    con información sobre las respectivas fechas de los últimos reportes emitidos'''\n",
    "    data=[]\n",
    "    for i,estacion in estaciones.iterrows():\n",
    "        estacion_id = estacion['id']\n",
    "        df_estacion = pd.read_csv(f'C:/Users/Usuario/Documents/observaciones/completas/observaciones_completas_{estacion_id}.csv')\n",
    "        if len(df_estacion)!=0:\n",
    "            ult_pos = len(df_estacion)-1 \n",
    "            dia_obs = df_estacion.loc[ult_pos,'dia_con_obs']\n",
    "            # Como  se llegó hasta el 11-09-24 puede haber varias filas únicamente con la fecha usándose un cero para indicar que no hay observaciones\n",
    "            if not dia_obs:\n",
    "                f_ult_repor = fecha_ultimo_reporte(df_estacion) \n",
    "            else:\n",
    "                # Se setea esta fecha porque es la que se eligió para \n",
    "                # ir a buscar las observaciones de cada estación\n",
    "                f_ult_repor = date(2024,9,11)\n",
    "\n",
    "        else:\n",
    "            f_ult_repor='sin observaciones'\n",
    "        data.append([estacion_id,f_ult_repor])        \n",
    "    return data   "
   ]
  },
  {
   "cell_type": "code",
   "execution_count": 79,
   "metadata": {},
   "outputs": [
    {
     "name": "stderr",
     "output_type": "stream",
     "text": [
      "C:\\Users\\Usuario\\AppData\\Local\\Temp\\ipykernel_6480\\2156695996.py:7: DtypeWarning: Columns (1,2) have mixed types. Specify dtype option on import or set low_memory=False.\n",
      "  df_estacion = pd.read_csv(f'C:/Users/Usuario/Documents/observaciones/completas/observaciones_completas_{estacion_id}.csv')\n"
     ]
    }
   ],
   "source": [
    "info = diasSinObservaciones(estaciones_elegidas)\n",
    "header = ('estaciones_id','fecha_ultimo_reporte')\n",
    "escribirCSV(ruta='./fecha_ultimo_reporte.csv',datos=info,campos_encabezado=header)"
   ]
  },
  {
   "cell_type": "code",
   "execution_count": 22,
   "metadata": {},
   "outputs": [
    {
     "data": {
      "text/plain": [
       "143"
      ]
     },
     "execution_count": 22,
     "metadata": {},
     "output_type": "execute_result"
    }
   ],
   "source": [
    "len(estaciones_elegidas)"
   ]
  },
  {
   "cell_type": "code",
   "execution_count": 31,
   "metadata": {},
   "outputs": [
    {
     "data": {
      "text/html": [
       "<div>\n",
       "<style scoped>\n",
       "    .dataframe tbody tr th:only-of-type {\n",
       "        vertical-align: middle;\n",
       "    }\n",
       "\n",
       "    .dataframe tbody tr th {\n",
       "        vertical-align: top;\n",
       "    }\n",
       "\n",
       "    .dataframe thead th {\n",
       "        text-align: right;\n",
       "    }\n",
       "</style>\n",
       "<table border=\"1\" class=\"dataframe\">\n",
       "  <thead>\n",
       "    <tr style=\"text-align: right;\">\n",
       "      <th></th>\n",
       "      <th>índice</th>\n",
       "      <th>id</th>\n",
       "      <th>inicio</th>\n",
       "      <th>buscar_obs</th>\n",
       "    </tr>\n",
       "  </thead>\n",
       "  <tbody>\n",
       "    <tr>\n",
       "      <th>0</th>\n",
       "      <td>1</td>\n",
       "      <td>IADELI1</td>\n",
       "      <td>2022-11-09 00:00:00</td>\n",
       "      <td>0</td>\n",
       "    </tr>\n",
       "    <tr>\n",
       "      <th>1</th>\n",
       "      <td>2</td>\n",
       "      <td>IAMENB2</td>\n",
       "      <td>2023-03-01 00:00:00</td>\n",
       "      <td>0</td>\n",
       "    </tr>\n",
       "    <tr>\n",
       "      <th>2</th>\n",
       "      <td>3</td>\n",
       "      <td>IARIAS1</td>\n",
       "      <td>2023-05-21 00:00:00</td>\n",
       "      <td>0</td>\n",
       "    </tr>\n",
       "    <tr>\n",
       "      <th>3</th>\n",
       "      <td>4</td>\n",
       "      <td>IARMST25</td>\n",
       "      <td>2023-04-24 00:00:00</td>\n",
       "      <td>0</td>\n",
       "    </tr>\n",
       "    <tr>\n",
       "      <th>4</th>\n",
       "      <td>5</td>\n",
       "      <td>IBELGR31</td>\n",
       "      <td>2020-12-07 00:00:00</td>\n",
       "      <td>0</td>\n",
       "    </tr>\n",
       "    <tr>\n",
       "      <th>...</th>\n",
       "      <td>...</td>\n",
       "      <td>...</td>\n",
       "      <td>...</td>\n",
       "      <td>...</td>\n",
       "    </tr>\n",
       "    <tr>\n",
       "      <th>138</th>\n",
       "      <td>139</td>\n",
       "      <td>IVILLA133</td>\n",
       "      <td>2019-05-27 00:00:00</td>\n",
       "      <td>0</td>\n",
       "    </tr>\n",
       "    <tr>\n",
       "      <th>139</th>\n",
       "      <td>140</td>\n",
       "      <td>IVILLA1083</td>\n",
       "      <td>2023-05-17 00:00:00</td>\n",
       "      <td>0</td>\n",
       "    </tr>\n",
       "    <tr>\n",
       "      <th>140</th>\n",
       "      <td>141</td>\n",
       "      <td>IPREZ1</td>\n",
       "      <td>2024-01-15 00:00:00</td>\n",
       "      <td>0</td>\n",
       "    </tr>\n",
       "    <tr>\n",
       "      <th>141</th>\n",
       "      <td>142</td>\n",
       "      <td>ICASER41</td>\n",
       "      <td>2022-09-15 00:00:00</td>\n",
       "      <td>0</td>\n",
       "    </tr>\n",
       "    <tr>\n",
       "      <th>142</th>\n",
       "      <td>143</td>\n",
       "      <td>ICASER32</td>\n",
       "      <td>2021-06-11 00:00:00</td>\n",
       "      <td>0</td>\n",
       "    </tr>\n",
       "  </tbody>\n",
       "</table>\n",
       "<p>143 rows × 4 columns</p>\n",
       "</div>"
      ],
      "text/plain": [
       "     índice          id               inicio  buscar_obs\n",
       "0         1     IADELI1  2022-11-09 00:00:00           0\n",
       "1         2     IAMENB2  2023-03-01 00:00:00           0\n",
       "2         3     IARIAS1  2023-05-21 00:00:00           0\n",
       "3         4    IARMST25  2023-04-24 00:00:00           0\n",
       "4         5    IBELGR31  2020-12-07 00:00:00           0\n",
       "..      ...         ...                  ...         ...\n",
       "138     139   IVILLA133  2019-05-27 00:00:00           0\n",
       "139     140  IVILLA1083  2023-05-17 00:00:00           0\n",
       "140     141      IPREZ1  2024-01-15 00:00:00           0\n",
       "141     142    ICASER41  2022-09-15 00:00:00           0\n",
       "142     143    ICASER32  2021-06-11 00:00:00           0\n",
       "\n",
       "[143 rows x 4 columns]"
      ]
     },
     "execution_count": 31,
     "metadata": {},
     "output_type": "execute_result"
    }
   ],
   "source": [
    "estaciones_elegidas"
   ]
  },
  {
   "cell_type": "markdown",
   "metadata": {},
   "source": [
    "## Análisis Exploratorio de Datos"
   ]
  },
  {
   "cell_type": "code",
   "execution_count": 8,
   "metadata": {},
   "outputs": [],
   "source": [
    "def lluviaAcumuladaDiaria(estacionId:str,año:int,mes:int,dia:int)->None:    \n",
    "    df_estacion = pd.read_csv(f'C:/Users/Usuario/Documents/observaciones/todas/observaciones_todas_{estacionId}.csv')\n",
    "    df_estacion['obsTimeLocal'] = pd.to_datetime(df_estacion['obsTimeLocal'],format='mixed')\n",
    "    df_dia_buscado = df_estacion[(df_estacion['obsTimeLocal'].dt.year==año)&(df_estacion['obsTimeLocal'].dt.month==mes)&(df_estacion['obsTimeLocal'].dt.day==dia)].reset_index()\n",
    "    precipitaciones = df_dia_buscado['precipTotal_mm']\n",
    "    ultima_precipitacion = float(precipitaciones.loc[len(precipitaciones)-1])\n",
    "    return f'En la fecha {año}-{mes}-{dia} la estación {estacionId} registró una precipitación acumulada de {ultima_precipitacion} mm'\n",
    "    "
   ]
  },
  {
   "cell_type": "code",
   "execution_count": 11,
   "metadata": {},
   "outputs": [
    {
     "data": {
      "text/plain": [
       "'En la fecha 2024-6-22 la estación iadeli1 registró una precipitación acumulada de 2.31 mm'"
      ]
     },
     "execution_count": 11,
     "metadata": {},
     "output_type": "execute_result"
    }
   ],
   "source": [
    "lluviaAcumuladaDiaria('iadeli1',2024,6,22)"
   ]
  },
  {
   "cell_type": "code",
   "execution_count": 39,
   "metadata": {},
   "outputs": [],
   "source": [
    "def contarTotalObservaciones(estaciones:pd.DataFrame)->int:\n",
    "    \"Itera sobre cada csv y devuelve la cantidad total de observaciones\"\n",
    "    total_obs=0\n",
    "    for i,estacion in estaciones.iterrows():\n",
    "        if estacion['inicio']!='sin observaciones':\n",
    "            estacion_id = estacion['id']\n",
    "            df_estacion = pd.read_csv(f'C:/Users/Usuario/Documents/observaciones/completas/observaciones_completas_{estacion_id}.csv')\n",
    "            total_obs += len(df_estacion)\n",
    "    return total_obs        "
   ]
  },
  {
   "cell_type": "code",
   "execution_count": 40,
   "metadata": {},
   "outputs": [
    {
     "name": "stderr",
     "output_type": "stream",
     "text": [
      "C:\\Users\\Usuario\\AppData\\Local\\Temp\\ipykernel_23176\\1396731794.py:7: DtypeWarning: Columns (1,2) have mixed types. Specify dtype option on import or set low_memory=False.\n",
      "  df_estacion = pd.read_csv(f'C:/Users/Usuario/Documents/observaciones/completas/observaciones_completas_{estacion_id}.csv')\n"
     ]
    },
    {
     "data": {
      "text/plain": [
       "'39,934,903'"
      ]
     },
     "execution_count": 40,
     "metadata": {},
     "output_type": "execute_result"
    }
   ],
   "source": [
    "obs_totales = contarTotalObservaciones(estaciones_elegidas)\n",
    "'{:,}'.format(obs_totales)"
   ]
  },
  {
   "cell_type": "code",
   "execution_count": 9,
   "metadata": {},
   "outputs": [],
   "source": [
    "def cargar_estacion_df(estacion:str)->pd.DataFrame:\n",
    "    \"\"\"recibe el id de la estación de interés y devuelve como dataframe las observaciones de la estación\"\"\"\n",
    "    df_estacion = pd.read_csv(f'C:/Users/Usuario/Documents/observaciones/completas/observaciones_completas_{estacion}.csv')\n",
    "    df_estacion['obsTimeLocal']=pd.to_datetime(df_estacion['obsTimeLocal'],format='mixed')\n",
    "    return df_estacion"
   ]
  },
  {
   "cell_type": "code",
   "execution_count": 10,
   "metadata": {},
   "outputs": [
    {
     "name": "stdout",
     "output_type": "stream",
     "text": [
      "<class 'pandas.core.frame.DataFrame'>\n",
      "RangeIndex: 105893 entries, 0 to 105892\n",
      "Data columns (total 39 columns):\n",
      " #   Column              Non-Null Count   Dtype         \n",
      "---  ------              --------------   -----         \n",
      " 0   stationID           105893 non-null  object        \n",
      " 1   tz                  105851 non-null  object        \n",
      " 2   obsTimeUtc          105851 non-null  object        \n",
      " 3   obsTimeLocal        105893 non-null  datetime64[ns]\n",
      " 4   epoch               105851 non-null  float64       \n",
      " 5   lat                 105851 non-null  float64       \n",
      " 6   lon                 105851 non-null  float64       \n",
      " 7   solarRadiationHigh  0 non-null       float64       \n",
      " 8   uvHigh              0 non-null       float64       \n",
      " 9   winddirAvg          105851 non-null  float64       \n",
      " 10  humidityHigh        105851 non-null  float64       \n",
      " 11  humidityLow         105851 non-null  float64       \n",
      " 12  humidityAvg         105851 non-null  float64       \n",
      " 13  qcStatus            105851 non-null  float64       \n",
      " 14  tempHigh            105851 non-null  float64       \n",
      " 15  tempLow             105851 non-null  float64       \n",
      " 16  tempAvg             105851 non-null  float64       \n",
      " 17  windspeedHigh       105851 non-null  float64       \n",
      " 18  windspeedLow        105851 non-null  float64       \n",
      " 19  windspeedAvg        105851 non-null  float64       \n",
      " 20  windgustHigh        105851 non-null  float64       \n",
      " 21  windgustLow         105851 non-null  float64       \n",
      " 22  windgustAvg         105851 non-null  float64       \n",
      " 23  dewptHigh           105851 non-null  float64       \n",
      " 24  dewptLow            105851 non-null  float64       \n",
      " 25  dewptAvg            105851 non-null  float64       \n",
      " 26  windchillHigh       105851 non-null  float64       \n",
      " 27  windchillLow        105851 non-null  float64       \n",
      " 28  windchillAvg        105851 non-null  float64       \n",
      " 29  heatindexHigh       105851 non-null  float64       \n",
      " 30  heatindexLow        105851 non-null  float64       \n",
      " 31  heatindexAvg        105851 non-null  float64       \n",
      " 32  pressureMax         105851 non-null  float64       \n",
      " 33  pressureMin         105851 non-null  float64       \n",
      " 34  pressureTrend       105847 non-null  float64       \n",
      " 35  precipRate          105851 non-null  float64       \n",
      " 36  precipTotal         105851 non-null  float64       \n",
      " 37  dia_con_obs         105893 non-null  int64         \n",
      " 38  dia_completo        105893 non-null  int64         \n",
      "dtypes: datetime64[ns](1), float64(33), int64(2), object(3)\n",
      "memory usage: 31.5+ MB\n"
     ]
    }
   ],
   "source": [
    "df_estacion = cargar_estacion_df('IGENER348')\n",
    "df_estacion.info()"
   ]
  },
  {
   "cell_type": "code",
   "execution_count": 22,
   "metadata": {},
   "outputs": [
    {
     "data": {
      "text/plain": [
       "stationID                             IGENER348\n",
       "tz                    America/Argentina/Cordoba\n",
       "obsTimeUtc                 2024-09-10T02:59:59Z\n",
       "obsTimeLocal                2024-09-09 23:59:59\n",
       "epoch                              1725937199.0\n",
       "lat                                  -32.855007\n",
       "lon                                  -61.940359\n",
       "solarRadiationHigh                          NaN\n",
       "uvHigh                                      NaN\n",
       "winddirAvg                                 86.0\n",
       "humidityHigh                               99.0\n",
       "humidityLow                                99.0\n",
       "humidityAvg                                99.0\n",
       "qcStatus                                   -1.0\n",
       "tempHigh                                   12.4\n",
       "tempLow                                    12.4\n",
       "tempAvg                                    12.4\n",
       "windspeedHigh                               6.4\n",
       "windspeedLow                                3.2\n",
       "windspeedAvg                                4.5\n",
       "windgustHigh                                9.7\n",
       "windgustLow                                 9.7\n",
       "windgustAvg                                 9.7\n",
       "dewptHigh                                  11.1\n",
       "dewptLow                                   11.1\n",
       "dewptAvg                                   11.1\n",
       "windchillHigh                              12.4\n",
       "windchillLow                               12.4\n",
       "windchillAvg                               12.4\n",
       "heatindexHigh                              12.4\n",
       "heatindexLow                               12.4\n",
       "heatindexAvg                               12.4\n",
       "pressureMax                             1006.77\n",
       "pressureMin                             1006.77\n",
       "pressureTrend                               0.0\n",
       "precipRate                                  0.0\n",
       "precipTotal                                 0.0\n",
       "dia_con_obs                                   1\n",
       "dia_completo                                  0\n",
       "Name: 105719, dtype: object"
      ]
     },
     "execution_count": 22,
     "metadata": {},
     "output_type": "execute_result"
    }
   ],
   "source": [
    "df_estacion.loc[len(df_estacion)-174]"
   ]
  },
  {
   "cell_type": "code",
   "execution_count": 11,
   "metadata": {},
   "outputs": [
    {
     "data": {
      "text/html": [
       "<div>\n",
       "<style scoped>\n",
       "    .dataframe tbody tr th:only-of-type {\n",
       "        vertical-align: middle;\n",
       "    }\n",
       "\n",
       "    .dataframe tbody tr th {\n",
       "        vertical-align: top;\n",
       "    }\n",
       "\n",
       "    .dataframe thead th {\n",
       "        text-align: right;\n",
       "    }\n",
       "</style>\n",
       "<table border=\"1\" class=\"dataframe\">\n",
       "  <thead>\n",
       "    <tr style=\"text-align: right;\">\n",
       "      <th></th>\n",
       "      <th>stationID</th>\n",
       "      <th>tz</th>\n",
       "      <th>obsTimeUtc</th>\n",
       "      <th>obsTimeLocal</th>\n",
       "      <th>epoch</th>\n",
       "      <th>lat</th>\n",
       "      <th>lon</th>\n",
       "      <th>solarRadiationHigh</th>\n",
       "      <th>uvHigh</th>\n",
       "      <th>winddirAvg</th>\n",
       "      <th>...</th>\n",
       "      <th>heatindexHigh</th>\n",
       "      <th>heatindexLow</th>\n",
       "      <th>heatindexAvg</th>\n",
       "      <th>pressureMax</th>\n",
       "      <th>pressureMin</th>\n",
       "      <th>pressureTrend</th>\n",
       "      <th>precipRate</th>\n",
       "      <th>precipTotal</th>\n",
       "      <th>dia_con_obs</th>\n",
       "      <th>dia_completo</th>\n",
       "    </tr>\n",
       "  </thead>\n",
       "  <tbody>\n",
       "    <tr>\n",
       "      <th>105888</th>\n",
       "      <td>IGENER348</td>\n",
       "      <td>America/Argentina/Cordoba</td>\n",
       "      <td>2024-09-10T17:04:58Z</td>\n",
       "      <td>2024-09-10 14:04:58</td>\n",
       "      <td>1.725988e+09</td>\n",
       "      <td>-32.855007</td>\n",
       "      <td>-61.940359</td>\n",
       "      <td>NaN</td>\n",
       "      <td>NaN</td>\n",
       "      <td>68.0</td>\n",
       "      <td>...</td>\n",
       "      <td>25.3</td>\n",
       "      <td>24.7</td>\n",
       "      <td>25.0</td>\n",
       "      <td>1000.68</td>\n",
       "      <td>1000.34</td>\n",
       "      <td>-4.09</td>\n",
       "      <td>0.0</td>\n",
       "      <td>0.0</td>\n",
       "      <td>1</td>\n",
       "      <td>0</td>\n",
       "    </tr>\n",
       "    <tr>\n",
       "      <th>105889</th>\n",
       "      <td>IGENER348</td>\n",
       "      <td>America/Argentina/Cordoba</td>\n",
       "      <td>2024-09-10T17:09:24Z</td>\n",
       "      <td>2024-09-10 14:09:24</td>\n",
       "      <td>1.725988e+09</td>\n",
       "      <td>-32.855007</td>\n",
       "      <td>-61.940359</td>\n",
       "      <td>NaN</td>\n",
       "      <td>NaN</td>\n",
       "      <td>87.0</td>\n",
       "      <td>...</td>\n",
       "      <td>24.8</td>\n",
       "      <td>24.4</td>\n",
       "      <td>24.7</td>\n",
       "      <td>1000.34</td>\n",
       "      <td>1000.34</td>\n",
       "      <td>0.00</td>\n",
       "      <td>0.0</td>\n",
       "      <td>0.0</td>\n",
       "      <td>1</td>\n",
       "      <td>0</td>\n",
       "    </tr>\n",
       "    <tr>\n",
       "      <th>105890</th>\n",
       "      <td>IGENER348</td>\n",
       "      <td>America/Argentina/Cordoba</td>\n",
       "      <td>2024-09-10T17:14:41Z</td>\n",
       "      <td>2024-09-10 14:14:41</td>\n",
       "      <td>1.725988e+09</td>\n",
       "      <td>-32.855007</td>\n",
       "      <td>-61.940359</td>\n",
       "      <td>NaN</td>\n",
       "      <td>NaN</td>\n",
       "      <td>38.0</td>\n",
       "      <td>...</td>\n",
       "      <td>24.3</td>\n",
       "      <td>24.1</td>\n",
       "      <td>24.2</td>\n",
       "      <td>1000.34</td>\n",
       "      <td>1000.34</td>\n",
       "      <td>0.00</td>\n",
       "      <td>0.0</td>\n",
       "      <td>0.0</td>\n",
       "      <td>1</td>\n",
       "      <td>0</td>\n",
       "    </tr>\n",
       "    <tr>\n",
       "      <th>105891</th>\n",
       "      <td>IGENER348</td>\n",
       "      <td>America/Argentina/Cordoba</td>\n",
       "      <td>2024-09-10T17:17:28Z</td>\n",
       "      <td>2024-09-10 14:17:28</td>\n",
       "      <td>1.725989e+09</td>\n",
       "      <td>-32.855007</td>\n",
       "      <td>-61.940359</td>\n",
       "      <td>NaN</td>\n",
       "      <td>NaN</td>\n",
       "      <td>73.0</td>\n",
       "      <td>...</td>\n",
       "      <td>24.5</td>\n",
       "      <td>24.4</td>\n",
       "      <td>24.4</td>\n",
       "      <td>1000.00</td>\n",
       "      <td>1000.00</td>\n",
       "      <td>0.00</td>\n",
       "      <td>0.0</td>\n",
       "      <td>0.0</td>\n",
       "      <td>1</td>\n",
       "      <td>0</td>\n",
       "    </tr>\n",
       "    <tr>\n",
       "      <th>105892</th>\n",
       "      <td>IGENER348</td>\n",
       "      <td>NaN</td>\n",
       "      <td>NaN</td>\n",
       "      <td>2024-09-11 00:00:00</td>\n",
       "      <td>NaN</td>\n",
       "      <td>NaN</td>\n",
       "      <td>NaN</td>\n",
       "      <td>NaN</td>\n",
       "      <td>NaN</td>\n",
       "      <td>NaN</td>\n",
       "      <td>...</td>\n",
       "      <td>NaN</td>\n",
       "      <td>NaN</td>\n",
       "      <td>NaN</td>\n",
       "      <td>NaN</td>\n",
       "      <td>NaN</td>\n",
       "      <td>NaN</td>\n",
       "      <td>NaN</td>\n",
       "      <td>NaN</td>\n",
       "      <td>0</td>\n",
       "      <td>0</td>\n",
       "    </tr>\n",
       "  </tbody>\n",
       "</table>\n",
       "<p>5 rows × 39 columns</p>\n",
       "</div>"
      ],
      "text/plain": [
       "        stationID                         tz            obsTimeUtc  \\\n",
       "105888  IGENER348  America/Argentina/Cordoba  2024-09-10T17:04:58Z   \n",
       "105889  IGENER348  America/Argentina/Cordoba  2024-09-10T17:09:24Z   \n",
       "105890  IGENER348  America/Argentina/Cordoba  2024-09-10T17:14:41Z   \n",
       "105891  IGENER348  America/Argentina/Cordoba  2024-09-10T17:17:28Z   \n",
       "105892  IGENER348                        NaN                   NaN   \n",
       "\n",
       "              obsTimeLocal         epoch        lat        lon  \\\n",
       "105888 2024-09-10 14:04:58  1.725988e+09 -32.855007 -61.940359   \n",
       "105889 2024-09-10 14:09:24  1.725988e+09 -32.855007 -61.940359   \n",
       "105890 2024-09-10 14:14:41  1.725988e+09 -32.855007 -61.940359   \n",
       "105891 2024-09-10 14:17:28  1.725989e+09 -32.855007 -61.940359   \n",
       "105892 2024-09-11 00:00:00           NaN        NaN        NaN   \n",
       "\n",
       "        solarRadiationHigh  uvHigh  winddirAvg  ...  heatindexHigh  \\\n",
       "105888                 NaN     NaN        68.0  ...           25.3   \n",
       "105889                 NaN     NaN        87.0  ...           24.8   \n",
       "105890                 NaN     NaN        38.0  ...           24.3   \n",
       "105891                 NaN     NaN        73.0  ...           24.5   \n",
       "105892                 NaN     NaN         NaN  ...            NaN   \n",
       "\n",
       "        heatindexLow  heatindexAvg  pressureMax  pressureMin  pressureTrend  \\\n",
       "105888          24.7          25.0      1000.68      1000.34          -4.09   \n",
       "105889          24.4          24.7      1000.34      1000.34           0.00   \n",
       "105890          24.1          24.2      1000.34      1000.34           0.00   \n",
       "105891          24.4          24.4      1000.00      1000.00           0.00   \n",
       "105892           NaN           NaN          NaN          NaN            NaN   \n",
       "\n",
       "        precipRate  precipTotal  dia_con_obs  dia_completo  \n",
       "105888         0.0          0.0            1             0  \n",
       "105889         0.0          0.0            1             0  \n",
       "105890         0.0          0.0            1             0  \n",
       "105891         0.0          0.0            1             0  \n",
       "105892         NaN          NaN            0             0  \n",
       "\n",
       "[5 rows x 39 columns]"
      ]
     },
     "execution_count": 11,
     "metadata": {},
     "output_type": "execute_result"
    }
   ],
   "source": [
    "df_estacion.tail()"
   ]
  },
  {
   "cell_type": "code",
   "execution_count": 8,
   "metadata": {},
   "outputs": [
    {
     "data": {
      "text/plain": [
       "Index(['stationID', 'tz', 'obsTimeUtc', 'obsTimeLocal', 'epoch', 'lat', 'lon',\n",
       "       'solarRadiationHigh', 'uvHigh', 'winddirAvg', 'humidityHigh',\n",
       "       'humidityLow', 'humidityAvg', 'qcStatus', 'tempHigh', 'tempLow',\n",
       "       'tempAvg', 'windspeedHigh', 'windspeedLow', 'windspeedAvg',\n",
       "       'windgustHigh', 'windgustLow', 'windgustAvg', 'dewptHigh', 'dewptLow',\n",
       "       'dewptAvg', 'windchillHigh', 'windchillLow', 'windchillAvg',\n",
       "       'heatindexHigh', 'heatindexLow', 'heatindexAvg', 'pressureMax',\n",
       "       'pressureMin', 'pressureTrend', 'precipRate', 'precipTotal',\n",
       "       'dia_con_obs', 'dia_completo'],\n",
       "      dtype='object')"
      ]
     },
     "execution_count": 8,
     "metadata": {},
     "output_type": "execute_result"
    }
   ],
   "source": [
    "df_estacion.columns"
   ]
  },
  {
   "cell_type": "code",
   "execution_count": 12,
   "metadata": {},
   "outputs": [
    {
     "data": {
      "text/plain": [
       "stationID                   0\n",
       "tz                        159\n",
       "obsTimeUtc                159\n",
       "obsTimeLocal                0\n",
       "epoch                     159\n",
       "lat                       159\n",
       "lon                       159\n",
       "solarRadiationHigh    1047768\n",
       "uvHigh                1047768\n",
       "winddirAvg                978\n",
       "humidityHigh              239\n",
       "humidityLow               239\n",
       "humidityAvg               239\n",
       "qcStatus                  159\n",
       "tempHigh                  509\n",
       "tempLow                   509\n",
       "tempAvg                   509\n",
       "windspeedHigh             614\n",
       "windspeedLow              614\n",
       "windspeedAvg              614\n",
       "windgustHigh              470\n",
       "windgustLow               470\n",
       "windgustAvg               470\n",
       "dewptHigh                 487\n",
       "dewptLow                  487\n",
       "dewptAvg                  487\n",
       "windchillHigh          533524\n",
       "windchillLow           533524\n",
       "windchillAvg           533524\n",
       "heatindexHigh          533419\n",
       "heatindexLow           533419\n",
       "heatindexAvg           533419\n",
       "pressureMax               405\n",
       "pressureMin               405\n",
       "pressureTrend          549033\n",
       "precipRate               2089\n",
       "precipTotal              9378\n",
       "dia_con_obs                 0\n",
       "dia_completo                0\n",
       "dtype: int64"
      ]
     },
     "execution_count": 12,
     "metadata": {},
     "output_type": "execute_result"
    }
   ],
   "source": [
    "df_estacion.isna().sum()"
   ]
  },
  {
   "cell_type": "code",
   "execution_count": 14,
   "metadata": {},
   "outputs": [
    {
     "data": {
      "text/plain": [
       "index                                    118374\n",
       "stationID                               IADELI1\n",
       "tz                    America/Argentina/Cordoba\n",
       "obsTimeUtc                 2024-01-10T03:04:58Z\n",
       "obsTimeLocal                2024-01-10 00:04:58\n",
       "epoch                              1704855898.0\n",
       "lat                                  -33.635801\n",
       "lon                                  -64.021607\n",
       "solarRadiationHigh                          0.0\n",
       "uvHigh                                      0.0\n",
       "winddirAvg                                 38.0\n",
       "humidityHigh                               82.0\n",
       "humidityLow                                81.0\n",
       "humidityAvg                                81.4\n",
       "qcStatus                                   -1.0\n",
       "tempHigh                                   21.8\n",
       "tempLow                                    21.7\n",
       "tempAvg                                    21.7\n",
       "windspeedHigh                               2.9\n",
       "windspeedLow                                0.0\n",
       "windspeedAvg                                1.3\n",
       "windgustHigh                                3.6\n",
       "windgustLow                                 1.8\n",
       "windgustAvg                                 2.2\n",
       "dewptHigh                                  18.5\n",
       "dewptLow                                   18.3\n",
       "dewptAvg                                   18.4\n",
       "windchillHigh                              21.8\n",
       "windchillLow                               21.7\n",
       "windchillAvg                               21.7\n",
       "heatindexHigh                              22.1\n",
       "heatindexLow                               22.1\n",
       "heatindexAvg                               22.1\n",
       "pressureMax                               980.7\n",
       "pressureMin                              980.49\n",
       "pressureTrend                             -1.29\n",
       "precipRate                                  0.0\n",
       "precipTotal                                 0.0\n",
       "dia_con_obs                                   1\n",
       "dia_completo                                  1\n",
       "Name: 0, dtype: object"
      ]
     },
     "execution_count": 14,
     "metadata": {},
     "output_type": "execute_result"
    }
   ],
   "source": [
    "df_estacion[(df_estacion['obsTimeLocal'].dt.year==2024)&(df_estacion['obsTimeLocal'].dt.month==1)&(df_estacion['obsTimeLocal'].dt.day==10)].reset_index().loc[0]"
   ]
  },
  {
   "cell_type": "code",
   "execution_count": 171,
   "metadata": {},
   "outputs": [
    {
     "name": "stderr",
     "output_type": "stream",
     "text": [
      "C:\\Users\\Usuario\\AppData\\Local\\Temp\\ipykernel_11568\\893176246.py:4: UserWarning: set_ticklabels() should only be used with a fixed number of ticks, i.e. after set_ticks() or using a FixedLocator.\n",
      "  plt.gca().set_xticklabels([año for año in range(2012,2025)])\n"
     ]
    },
    {
     "data": {
      "image/png": "[encoded data removed]",
      "text/plain": [
       "<Figure size 1200x600 with 1 Axes>"
      ]
     },
     "metadata": {},
     "output_type": "display_data"
    }
   ],
   "source": [
    "plt.figure(figsize=(12,6))\n",
    "plt.title('Cantidad de estaciones incorporadas por año')\n",
    "ax = sns.countplot(estaciones_elegidas,x=estaciones_elegidas['inicio'].dt.year)\n",
    "plt.gca().set_xticklabels([año for año in range(2012,2025)])\n",
    "plt.ylabel('cantidad de estaciones')\n",
    "plt.xlabel('año')\n",
    "plt.show()"
   ]
  },
  {
   "cell_type": "code",
   "execution_count": 168,
   "metadata": {},
   "outputs": [],
   "source": [
    "plazo_dias = 365\n",
    "dias_obs = estaciones_elegidas['dias_obs'] \n",
    "dias_obs_max = int(dias_obs.max())\n",
    "lim_sup = ((dias_obs_max//plazo_dias)+1)*365+1\n",
    "rangos_validos = [f\"<{i+1}\" for i,rango in enumerate(estaciones_elegidas['antiguedad_años'].unique())]\n",
    "rangos_validos.pop(-1)\n",
    "estaciones_elegidas['antiguedad_años'] = pd.cut(dias_obs,bins=range(0,lim_sup,plazo_dias),labels=rangos_validos)"
   ]
  },
  {
   "cell_type": "code",
   "execution_count": 169,
   "metadata": {},
   "outputs": [
    {
     "data": {
      "image/png": "[encoded data removed]",
      "text/plain": [
       "<Figure size 1200x600 with 1 Axes>"
      ]
     },
     "metadata": {},
     "output_type": "display_data"
    }
   ],
   "source": [
    "plt.figure(figsize=(12,6))\n",
    "plt.title('Cantidad de estaciones incorporadas por año')\n",
    "ax = sns.countplot(estaciones_elegidas,x='antiguedad_años')\n",
    "plt.ylabel('cantidad de estaciones')\n",
    "plt.xlabel('año')\n",
    "plt.show()"
   ]
  },
  {
   "cell_type": "markdown",
   "metadata": {},
   "source": [
    "### Análisis de rangos por columna"
   ]
  },
  {
   "cell_type": "code",
   "execution_count": 162,
   "metadata": {},
   "outputs": [
    {
     "data": {
      "text/html": [
       "<div>\n",
       "<style scoped>\n",
       "    .dataframe tbody tr th:only-of-type {\n",
       "        vertical-align: middle;\n",
       "    }\n",
       "\n",
       "    .dataframe tbody tr th {\n",
       "        vertical-align: top;\n",
       "    }\n",
       "\n",
       "    .dataframe thead th {\n",
       "        text-align: right;\n",
       "    }\n",
       "</style>\n",
       "<table border=\"1\" class=\"dataframe\">\n",
       "  <thead>\n",
       "    <tr style=\"text-align: right;\">\n",
       "      <th></th>\n",
       "      <th>humidityLow</th>\n",
       "      <th>humidityAvg</th>\n",
       "      <th>humidityHigh</th>\n",
       "    </tr>\n",
       "  </thead>\n",
       "  <tbody>\n",
       "    <tr>\n",
       "      <th>0</th>\n",
       "      <td>93.0</td>\n",
       "      <td>93.0</td>\n",
       "      <td>93.0</td>\n",
       "    </tr>\n",
       "    <tr>\n",
       "      <th>1</th>\n",
       "      <td>93.0</td>\n",
       "      <td>93.0</td>\n",
       "      <td>93.0</td>\n",
       "    </tr>\n",
       "    <tr>\n",
       "      <th>2</th>\n",
       "      <td>93.0</td>\n",
       "      <td>93.0</td>\n",
       "      <td>93.0</td>\n",
       "    </tr>\n",
       "    <tr>\n",
       "      <th>3</th>\n",
       "      <td>93.0</td>\n",
       "      <td>93.0</td>\n",
       "      <td>93.0</td>\n",
       "    </tr>\n",
       "    <tr>\n",
       "      <th>4</th>\n",
       "      <td>93.0</td>\n",
       "      <td>93.0</td>\n",
       "      <td>93.0</td>\n",
       "    </tr>\n",
       "    <tr>\n",
       "      <th>...</th>\n",
       "      <td>...</td>\n",
       "      <td>...</td>\n",
       "      <td>...</td>\n",
       "    </tr>\n",
       "    <tr>\n",
       "      <th>1113334</th>\n",
       "      <td>86.0</td>\n",
       "      <td>86.0</td>\n",
       "      <td>86.0</td>\n",
       "    </tr>\n",
       "    <tr>\n",
       "      <th>1113335</th>\n",
       "      <td>86.0</td>\n",
       "      <td>86.0</td>\n",
       "      <td>86.0</td>\n",
       "    </tr>\n",
       "    <tr>\n",
       "      <th>1113336</th>\n",
       "      <td>87.0</td>\n",
       "      <td>87.0</td>\n",
       "      <td>87.0</td>\n",
       "    </tr>\n",
       "    <tr>\n",
       "      <th>1113337</th>\n",
       "      <td>88.0</td>\n",
       "      <td>88.0</td>\n",
       "      <td>88.0</td>\n",
       "    </tr>\n",
       "    <tr>\n",
       "      <th>1113338</th>\n",
       "      <td>87.0</td>\n",
       "      <td>87.0</td>\n",
       "      <td>87.0</td>\n",
       "    </tr>\n",
       "  </tbody>\n",
       "</table>\n",
       "<p>1113339 rows × 3 columns</p>\n",
       "</div>"
      ],
      "text/plain": [
       "         humidityLow  humidityAvg  humidityHigh\n",
       "0               93.0         93.0          93.0\n",
       "1               93.0         93.0          93.0\n",
       "2               93.0         93.0          93.0\n",
       "3               93.0         93.0          93.0\n",
       "4               93.0         93.0          93.0\n",
       "...              ...          ...           ...\n",
       "1113334         86.0         86.0          86.0\n",
       "1113335         86.0         86.0          86.0\n",
       "1113336         87.0         87.0          87.0\n",
       "1113337         88.0         88.0          88.0\n",
       "1113338         87.0         87.0          87.0\n",
       "\n",
       "[1113339 rows x 3 columns]"
      ]
     },
     "execution_count": 162,
     "metadata": {},
     "output_type": "execute_result"
    }
   ],
   "source": [
    "df_estacion[['humidityLow','humidityAvg','humidityHigh']]"
   ]
  },
  {
   "cell_type": "code",
   "execution_count": 167,
   "metadata": {},
   "outputs": [
    {
     "data": {
      "text/html": [
       "<div>\n",
       "<style scoped>\n",
       "    .dataframe tbody tr th:only-of-type {\n",
       "        vertical-align: middle;\n",
       "    }\n",
       "\n",
       "    .dataframe tbody tr th {\n",
       "        vertical-align: top;\n",
       "    }\n",
       "\n",
       "    .dataframe thead th {\n",
       "        text-align: right;\n",
       "    }\n",
       "</style>\n",
       "<table border=\"1\" class=\"dataframe\">\n",
       "  <thead>\n",
       "    <tr style=\"text-align: right;\">\n",
       "      <th></th>\n",
       "      <th>dewptLow</th>\n",
       "      <th>dewptAvg</th>\n",
       "      <th>dewptHigh</th>\n",
       "    </tr>\n",
       "  </thead>\n",
       "  <tbody>\n",
       "    <tr>\n",
       "      <th>0</th>\n",
       "      <td>9.8</td>\n",
       "      <td>9.8</td>\n",
       "      <td>9.8</td>\n",
       "    </tr>\n",
       "    <tr>\n",
       "      <th>1</th>\n",
       "      <td>9.8</td>\n",
       "      <td>9.8</td>\n",
       "      <td>9.8</td>\n",
       "    </tr>\n",
       "    <tr>\n",
       "      <th>2</th>\n",
       "      <td>9.8</td>\n",
       "      <td>9.8</td>\n",
       "      <td>9.8</td>\n",
       "    </tr>\n",
       "    <tr>\n",
       "      <th>3</th>\n",
       "      <td>9.7</td>\n",
       "      <td>9.7</td>\n",
       "      <td>9.7</td>\n",
       "    </tr>\n",
       "    <tr>\n",
       "      <th>4</th>\n",
       "      <td>9.6</td>\n",
       "      <td>9.6</td>\n",
       "      <td>9.6</td>\n",
       "    </tr>\n",
       "    <tr>\n",
       "      <th>...</th>\n",
       "      <td>...</td>\n",
       "      <td>...</td>\n",
       "      <td>...</td>\n",
       "    </tr>\n",
       "    <tr>\n",
       "      <th>1113334</th>\n",
       "      <td>6.1</td>\n",
       "      <td>6.1</td>\n",
       "      <td>6.1</td>\n",
       "    </tr>\n",
       "    <tr>\n",
       "      <th>1113335</th>\n",
       "      <td>5.9</td>\n",
       "      <td>5.9</td>\n",
       "      <td>5.9</td>\n",
       "    </tr>\n",
       "    <tr>\n",
       "      <th>1113336</th>\n",
       "      <td>6.0</td>\n",
       "      <td>6.0</td>\n",
       "      <td>6.0</td>\n",
       "    </tr>\n",
       "    <tr>\n",
       "      <th>1113337</th>\n",
       "      <td>6.0</td>\n",
       "      <td>6.0</td>\n",
       "      <td>6.0</td>\n",
       "    </tr>\n",
       "    <tr>\n",
       "      <th>1113338</th>\n",
       "      <td>6.2</td>\n",
       "      <td>6.2</td>\n",
       "      <td>6.2</td>\n",
       "    </tr>\n",
       "  </tbody>\n",
       "</table>\n",
       "<p>1113339 rows × 3 columns</p>\n",
       "</div>"
      ],
      "text/plain": [
       "         dewptLow  dewptAvg  dewptHigh\n",
       "0             9.8       9.8        9.8\n",
       "1             9.8       9.8        9.8\n",
       "2             9.8       9.8        9.8\n",
       "3             9.7       9.7        9.7\n",
       "4             9.6       9.6        9.6\n",
       "...           ...       ...        ...\n",
       "1113334       6.1       6.1        6.1\n",
       "1113335       5.9       5.9        5.9\n",
       "1113336       6.0       6.0        6.0\n",
       "1113337       6.0       6.0        6.0\n",
       "1113338       6.2       6.2        6.2\n",
       "\n",
       "[1113339 rows x 3 columns]"
      ]
     },
     "execution_count": 167,
     "metadata": {},
     "output_type": "execute_result"
    }
   ],
   "source": [
    "df_estacion[['dewptLow','dewptAvg','dewptHigh']]"
   ]
  },
  {
   "cell_type": "code",
   "execution_count": 172,
   "metadata": {},
   "outputs": [
    {
     "data": {
      "text/html": [
       "<div>\n",
       "<style scoped>\n",
       "    .dataframe tbody tr th:only-of-type {\n",
       "        vertical-align: middle;\n",
       "    }\n",
       "\n",
       "    .dataframe tbody tr th {\n",
       "        vertical-align: top;\n",
       "    }\n",
       "\n",
       "    .dataframe thead th {\n",
       "        text-align: right;\n",
       "    }\n",
       "</style>\n",
       "<table border=\"1\" class=\"dataframe\">\n",
       "  <thead>\n",
       "    <tr style=\"text-align: right;\">\n",
       "      <th></th>\n",
       "      <th>heatindexLow</th>\n",
       "      <th>heatindexAvg</th>\n",
       "      <th>heatindexHigh</th>\n",
       "    </tr>\n",
       "  </thead>\n",
       "  <tbody>\n",
       "    <tr>\n",
       "      <th>0</th>\n",
       "      <td>NaN</td>\n",
       "      <td>NaN</td>\n",
       "      <td>NaN</td>\n",
       "    </tr>\n",
       "    <tr>\n",
       "      <th>1</th>\n",
       "      <td>NaN</td>\n",
       "      <td>NaN</td>\n",
       "      <td>NaN</td>\n",
       "    </tr>\n",
       "    <tr>\n",
       "      <th>2</th>\n",
       "      <td>NaN</td>\n",
       "      <td>NaN</td>\n",
       "      <td>NaN</td>\n",
       "    </tr>\n",
       "    <tr>\n",
       "      <th>3</th>\n",
       "      <td>NaN</td>\n",
       "      <td>NaN</td>\n",
       "      <td>NaN</td>\n",
       "    </tr>\n",
       "    <tr>\n",
       "      <th>4</th>\n",
       "      <td>NaN</td>\n",
       "      <td>NaN</td>\n",
       "      <td>NaN</td>\n",
       "    </tr>\n",
       "    <tr>\n",
       "      <th>...</th>\n",
       "      <td>...</td>\n",
       "      <td>...</td>\n",
       "      <td>...</td>\n",
       "    </tr>\n",
       "    <tr>\n",
       "      <th>1113334</th>\n",
       "      <td>8.3</td>\n",
       "      <td>8.3</td>\n",
       "      <td>8.3</td>\n",
       "    </tr>\n",
       "    <tr>\n",
       "      <th>1113335</th>\n",
       "      <td>8.1</td>\n",
       "      <td>8.1</td>\n",
       "      <td>8.1</td>\n",
       "    </tr>\n",
       "    <tr>\n",
       "      <th>1113336</th>\n",
       "      <td>8.0</td>\n",
       "      <td>8.0</td>\n",
       "      <td>8.0</td>\n",
       "    </tr>\n",
       "    <tr>\n",
       "      <th>1113337</th>\n",
       "      <td>7.9</td>\n",
       "      <td>7.9</td>\n",
       "      <td>7.9</td>\n",
       "    </tr>\n",
       "    <tr>\n",
       "      <th>1113338</th>\n",
       "      <td>8.2</td>\n",
       "      <td>8.2</td>\n",
       "      <td>8.2</td>\n",
       "    </tr>\n",
       "  </tbody>\n",
       "</table>\n",
       "<p>1113339 rows × 3 columns</p>\n",
       "</div>"
      ],
      "text/plain": [
       "         heatindexLow  heatindexAvg  heatindexHigh\n",
       "0                 NaN           NaN            NaN\n",
       "1                 NaN           NaN            NaN\n",
       "2                 NaN           NaN            NaN\n",
       "3                 NaN           NaN            NaN\n",
       "4                 NaN           NaN            NaN\n",
       "...               ...           ...            ...\n",
       "1113334           8.3           8.3            8.3\n",
       "1113335           8.1           8.1            8.1\n",
       "1113336           8.0           8.0            8.0\n",
       "1113337           7.9           7.9            7.9\n",
       "1113338           8.2           8.2            8.2\n",
       "\n",
       "[1113339 rows x 3 columns]"
      ]
     },
     "execution_count": 172,
     "metadata": {},
     "output_type": "execute_result"
    }
   ],
   "source": [
    "df_estacion[['heatindexLow','heatindexAvg','heatindexHigh']]"
   ]
  },
  {
   "cell_type": "code",
   "execution_count": 10,
   "metadata": {},
   "outputs": [
    {
     "data": {
      "text/html": [
       "<div>\n",
       "<style scoped>\n",
       "    .dataframe tbody tr th:only-of-type {\n",
       "        vertical-align: middle;\n",
       "    }\n",
       "\n",
       "    .dataframe tbody tr th {\n",
       "        vertical-align: top;\n",
       "    }\n",
       "\n",
       "    .dataframe thead th {\n",
       "        text-align: right;\n",
       "    }\n",
       "</style>\n",
       "<table border=\"1\" class=\"dataframe\">\n",
       "  <thead>\n",
       "    <tr style=\"text-align: right;\">\n",
       "      <th></th>\n",
       "      <th>pressureMin</th>\n",
       "      <th>pressureTrend</th>\n",
       "      <th>pressureMax</th>\n",
       "    </tr>\n",
       "  </thead>\n",
       "  <tbody>\n",
       "    <tr>\n",
       "      <th>0</th>\n",
       "      <td>1013.21</td>\n",
       "      <td>0.0</td>\n",
       "      <td>1013.21</td>\n",
       "    </tr>\n",
       "    <tr>\n",
       "      <th>1</th>\n",
       "      <td>1013.21</td>\n",
       "      <td>0.0</td>\n",
       "      <td>1013.21</td>\n",
       "    </tr>\n",
       "    <tr>\n",
       "      <th>2</th>\n",
       "      <td>1013.21</td>\n",
       "      <td>0.0</td>\n",
       "      <td>1013.21</td>\n",
       "    </tr>\n",
       "    <tr>\n",
       "      <th>3</th>\n",
       "      <td>1013.21</td>\n",
       "      <td>0.0</td>\n",
       "      <td>1013.21</td>\n",
       "    </tr>\n",
       "    <tr>\n",
       "      <th>4</th>\n",
       "      <td>1013.55</td>\n",
       "      <td>0.0</td>\n",
       "      <td>1013.55</td>\n",
       "    </tr>\n",
       "    <tr>\n",
       "      <th>...</th>\n",
       "      <td>...</td>\n",
       "      <td>...</td>\n",
       "      <td>...</td>\n",
       "    </tr>\n",
       "    <tr>\n",
       "      <th>1113334</th>\n",
       "      <td>1026.75</td>\n",
       "      <td>NaN</td>\n",
       "      <td>1026.75</td>\n",
       "    </tr>\n",
       "    <tr>\n",
       "      <th>1113335</th>\n",
       "      <td>1026.41</td>\n",
       "      <td>NaN</td>\n",
       "      <td>1026.41</td>\n",
       "    </tr>\n",
       "    <tr>\n",
       "      <th>1113336</th>\n",
       "      <td>1026.41</td>\n",
       "      <td>NaN</td>\n",
       "      <td>1026.41</td>\n",
       "    </tr>\n",
       "    <tr>\n",
       "      <th>1113337</th>\n",
       "      <td>1026.41</td>\n",
       "      <td>NaN</td>\n",
       "      <td>1026.41</td>\n",
       "    </tr>\n",
       "    <tr>\n",
       "      <th>1113338</th>\n",
       "      <td>1026.41</td>\n",
       "      <td>NaN</td>\n",
       "      <td>1026.41</td>\n",
       "    </tr>\n",
       "  </tbody>\n",
       "</table>\n",
       "<p>1113339 rows × 3 columns</p>\n",
       "</div>"
      ],
      "text/plain": [
       "         pressureMin  pressureTrend  pressureMax\n",
       "0            1013.21            0.0      1013.21\n",
       "1            1013.21            0.0      1013.21\n",
       "2            1013.21            0.0      1013.21\n",
       "3            1013.21            0.0      1013.21\n",
       "4            1013.55            0.0      1013.55\n",
       "...              ...            ...          ...\n",
       "1113334      1026.75            NaN      1026.75\n",
       "1113335      1026.41            NaN      1026.41\n",
       "1113336      1026.41            NaN      1026.41\n",
       "1113337      1026.41            NaN      1026.41\n",
       "1113338      1026.41            NaN      1026.41\n",
       "\n",
       "[1113339 rows x 3 columns]"
      ]
     },
     "execution_count": 10,
     "metadata": {},
     "output_type": "execute_result"
    }
   ],
   "source": [
    "df_estacion[['pressureMin','pressureTrend','pressureMax']]"
   ]
  },
  {
   "cell_type": "code",
   "execution_count": 15,
   "metadata": {},
   "outputs": [],
   "source": [
    "def min_max(df,variable):\n",
    "    min=df[variable].min()\n",
    "    max=df[variable].max()\n",
    "    return min,max"
   ]
  },
  {
   "cell_type": "code",
   "execution_count": 141,
   "metadata": {},
   "outputs": [
    {
     "name": "stdout",
     "output_type": "stream",
     "text": [
      "epoch 1530414293.0 1564109756000.0\n"
     ]
    }
   ],
   "source": [
    "variable='epoch'\n",
    "min,max=min_max(df_estacion,'epoch')\n",
    "print(variable,min,max)"
   ]
  },
  {
   "cell_type": "code",
   "execution_count": 144,
   "metadata": {},
   "outputs": [
    {
     "name": "stdout",
     "output_type": "stream",
     "text": [
      "solarRadiationHigh 0.0 2206.0\n"
     ]
    },
    {
     "data": {
      "text/plain": [
       "array([  73.,   22., 1983.,  558.,  632.,  706.,  742.,  779.,  780.,\n",
       "        743.,  705.,  411.,  155.,  192.,  412.,  668.,  888.,  777.,\n",
       "        484.,  374.,  154.,  118.,   81.,   82.,   45.,   46.,  119.,\n",
       "          9.,   10.,  266.,  522.,  778.,  521.,  301.,  228.,  229.,\n",
       "        486., 1071., 1181.,  447.,  227.,  376.,  741.,  594.,    8.,\n",
       "        191.,  448.,   80.,  117.,  153.,  190.,  373.,  446.,  556.,\n",
       "        263.,  226.,  336.,  300.,  264.,  302.,  338.,  339.,  265.,\n",
       "        375.,  704.,  667.,  156.,   83.,  449.,  485.,  193.,  669.,\n",
       "        961., 1145., 1108.,  595.,   84.,  157.,  340.,  450.,  559.,\n",
       "        120.,  303., 2130., 1876.,   44.,  740.,  850.,  887.,  922.,\n",
       "        739.,  702.,  665.,  519.,  299.,  337.,  483.,  557.,  593.,\n",
       "        886.,   40.,  114.,  150.,  224.,  260.,  297.,  371.,  407.,\n",
       "        334.,  298.,  261.,  225.,  188.,  115.,   79.,   42.,    7.,\n",
       "        410.,  631.,   43.,    0.,  230.,  267.,  413.,  520.,  630.,\n",
       "        666.,  703.,  924.,  629.,   47.,   48.,  377.,  596.,  670.,\n",
       "        633.,  487.,  304.,  851.,  409.,  189.,  372.,  445.,  481.,\n",
       "        518.,  591.,  628.,  554.,  335.,  262.,  116.,    6.,  592.,\n",
       "        408.,  152.,  194.,  121.,  231.,  414.,  523.,  560.,  889.,\n",
       "        925.,  962., 1035., 1072.,  998., 1034.,   11.,  852., 1218.,\n",
       "        926., 1109., 1219., 1292., 1365., 1402., 1512., 1327.,  960.,\n",
       "        158.,  268.,  816.,  815.,  814., 1107., 1144., 1180., 1217.,\n",
       "       1253., 1290.,  813.,  849.,  885.,  997., 1070., 1143.,  959.,\n",
       "        812., 1106.,  995., 1069., 1105., 1215., 1032., 1033.,  555.,\n",
       "        482.,  923.,  996., 1216., 1326., 1399., 1363., 1436., 1546.,\n",
       "       1179., 1362., 1509., 1508., 1507., 1324., 1361., 1435., 1325.,\n",
       "       1288., 1252., 1142., 1471., 1289., 1472.,  848., 1068., 1619.,\n",
       "       1582., 1729., 1765., 1656., 1583., 1401., 1254., 1291.,  701.,\n",
       "        811., 1545., 1400.,  549.,   12.,   85.,  341.,  597.,  514.,\n",
       "       1364., 2206., 2133., 2023., 1950., 1913., 1803., 1730., 1693.,\n",
       "        256.])"
      ]
     },
     "execution_count": 144,
     "metadata": {},
     "output_type": "execute_result"
    }
   ],
   "source": [
    "variable='solarRadiationHigh'\n",
    "min,max=min_max(df_estacion,'solarRadiationHigh')\n",
    "print(variable,min,max)\n",
    "df_estacion[variable][~df_estacion[variable].isna()].unique()"
   ]
  },
  {
   "cell_type": "code",
   "execution_count": 145,
   "metadata": {},
   "outputs": [
    {
     "name": "stdout",
     "output_type": "stream",
     "text": [
      "uvHigh 0.0 15.0\n"
     ]
    },
    {
     "data": {
      "text/plain": [
       "array([ 2., 11.,  0.,  1., 15.,  3.])"
      ]
     },
     "execution_count": 145,
     "metadata": {},
     "output_type": "execute_result"
    }
   ],
   "source": [
    "variable='uvHigh'\n",
    "min,max=min_max(df_estacion,variable)\n",
    "print(variable,min,max)\n",
    "df_estacion[variable][~df_estacion[variable].isna()].unique()"
   ]
  },
  {
   "cell_type": "code",
   "execution_count": null,
   "metadata": {},
   "outputs": [],
   "source": [
    "variable='uvHigh'\n",
    "min,max=min_max(df_estacion,variable)\n",
    "print(variable,min,max)\n",
    "df_estacion[variable][~df_estacion[variable].isna()].unique()"
   ]
  },
  {
   "cell_type": "code",
   "execution_count": 146,
   "metadata": {},
   "outputs": [
    {
     "name": "stdout",
     "output_type": "stream",
     "text": [
      "winddirAvg 0.0 359.0\n"
     ]
    },
    {
     "data": {
      "text/plain": [
       "array([  0.,  90., 180.,  45., 158., 338., 315., 135.,  22., 292., 270.,\n",
       "       225., 248., 202., 112., 229., 249., 256., 267., 259., 245., 258.,\n",
       "       232., 236., 227., 240., 291., 260., 247., 251., 272., 285., 296.,\n",
       "       301., 207., 206., 243., 241., 238., 265., 244., 239., 254., 257.,\n",
       "       234., 190., 165., 169., 192., 220., 255., 281.,  14.,   1.,  12.,\n",
       "        10., 113., 203., 293.,  23.,  17.,  33.,  68., 341., 326.,   4.,\n",
       "         6.,   2., 359., 324., 348., 349.,  46.,   7.,  11.,  38.,  30.,\n",
       "        36., 329., 352.,  19., 344., 354.,  27., 353., 347., 340.,  24.,\n",
       "       355.,  26.,  28., 356., 313., 271., 280., 288., 264., 269., 268.,\n",
       "       237., 295., 125.,  87., 214., 118.,  34.,  54., 336., 331.,  20.,\n",
       "       318., 152.,  79., 333., 110.,  75., 167., 343.,  32., 337., 325.,\n",
       "        13.,  71., 201.,  21., 193., 147., 155.,  57., 358., 327.,  29.,\n",
       "       294.,  98., 217., 213., 191., 266., 339.,  67., 274., 111., 101.,\n",
       "       146.,  65.,  35., 143., 124., 116., 303., 199., 157.,  92.,  70.,\n",
       "       215., 328., 350.,  25.,   9.,  60., 109.,  16., 335., 261., 189.,\n",
       "       170., 159., 145., 156., 160., 168., 174., 200., 154., 151., 103.,\n",
       "       120., 107.,  31.,  18.,  64.,  56., 314., 304.,  55., 104.,  69.,\n",
       "       212., 253., 290., 102., 108.,  97., 100., 322., 321., 334., 330.,\n",
       "       235., 300., 216., 173., 148., 144., 204.,  58., 342.,  15., 307.,\n",
       "       153.,  95.,  82.,  72.,  73., 306.,  63., 246., 205., 233., 198.,\n",
       "       320., 299., 250., 302., 122.,  78., 323.,   5.,   8.,  40.,  53.,\n",
       "        39.,  37.,  62.,  52.,  66.,  80., 114., 194., 197., 312., 345.,\n",
       "        86.,  61., 137.,  94., 316., 279., 282.,   3., 211., 276.,  99.,\n",
       "        89.,  41., 105., 357., 287., 351.,  43., 317., 209., 210., 283.,\n",
       "        85., 332., 128., 305., 309., 139., 127., 176., 142., 130., 131.,\n",
       "        96.,  50., 115., 179.,  42., 123., 185., 178., 172., 177., 175.,\n",
       "       171., 161., 163., 164., 162., 166., 187., 188., 186., 195., 183.,\n",
       "       182., 181., 224., 184., 218., 221.,  93.,  76.,  77.,  83.,  81.,\n",
       "        88.,  84.,  74.,  48.,  49., 126., 106., 117.,  59.,  51.,  44.,\n",
       "        47.,  91., 319., 311., 119., 208., 263., 219., 228., 242., 134.,\n",
       "       136., 141., 138., 149., 222., 289., 196., 133., 346., 310., 278.,\n",
       "       286., 308., 298., 297., 140., 150., 132., 275., 223., 230., 226.,\n",
       "       231., 262., 273., 277., 252., 284., 129., 121.])"
      ]
     },
     "execution_count": 146,
     "metadata": {},
     "output_type": "execute_result"
    }
   ],
   "source": [
    "variable='winddirAvg'\n",
    "min,max=min_max(df_estacion,variable)\n",
    "print(variable,min,max)\n",
    "df_estacion[variable][~df_estacion[variable].isna()].unique()"
   ]
  },
  {
   "cell_type": "code",
   "execution_count": 149,
   "metadata": {},
   "outputs": [
    {
     "name": "stdout",
     "output_type": "stream",
     "text": [
      "humidityHigh 0.0 99.0\n"
     ]
    },
    {
     "data": {
      "text/plain": [
       "array([93., 94., 95., 96., 97., 98., 99., 92., 91., 89., 88., 87., 86.,\n",
       "       85., 84., 81., 80., 76., 75., 74., 73., 72., 70., 69., 67., 66.,\n",
       "       63., 62., 61., 60., 58., 57., 56., 55., 54., 53., 52., 50., 51.,\n",
       "       49., 48., 47., 45., 44., 43., 42., 41., 38., 37., 36., 35., 40.,\n",
       "       39., 46., 65., 64., 59., 68., 71., 77., 78., 79., 82., 83., 34.,\n",
       "       33., 32., 31., 90., 30., 29., 28., 27., 26., 25., 24., 23., 22.,\n",
       "       21., 20., 19., 18., 17.,  0., 14.,  1.,  7., 16., 12., 15., 10.,\n",
       "       11., 13.])"
      ]
     },
     "execution_count": 149,
     "metadata": {},
     "output_type": "execute_result"
    }
   ],
   "source": [
    "variable='humidityHigh'\n",
    "min,max=min_max(df_estacion,variable)\n",
    "print(variable,min,max)\n",
    "df_estacion[variable][~df_estacion[variable].isna()].unique()"
   ]
  },
  {
   "cell_type": "code",
   "execution_count": 153,
   "metadata": {},
   "outputs": [
    {
     "name": "stdout",
     "output_type": "stream",
     "text": [
      "qcStatus -1.0 1.0\n"
     ]
    },
    {
     "data": {
      "text/plain": [
       "array([-1.,  1.,  0.])"
      ]
     },
     "execution_count": 153,
     "metadata": {},
     "output_type": "execute_result"
    }
   ],
   "source": [
    "variable='qcStatus'\n",
    "min,max=min_max(df_estacion,variable)\n",
    "print(variable,min,max)\n",
    "df_estacion[variable][~df_estacion[variable].isna()].unique()"
   ]
  },
  {
   "cell_type": "code",
   "execution_count": 156,
   "metadata": {},
   "outputs": [
    {
     "name": "stdout",
     "output_type": "stream",
     "text": [
      "tempAvg -22.4 41.3\n"
     ]
    },
    {
     "data": {
      "text/plain": [
       "array([ 10.9,  10.8,  10.7,  10.4,  10.2,  10.3,  10.5,  10.6,  10.1,\n",
       "        10. ,   9.9,   9.7,   9.5,   9.4,   9.3,   9.2,   9.1,   9. ,\n",
       "         8.9,   8.8,   9.6,   8.7,   8.6,  11.1,  11.3,  11.5,  11.7,\n",
       "        11.8,  12.1,  12.4,  12.7,  13. ,  13.4,  13.8,  14.2,  14.7,\n",
       "        15. ,  15.2,  15.5,  15.7,  16. ,  16.2,  16.7,  16.9,  16.8,\n",
       "        17.3,  17.6,  17.8,  18. ,  18.3,  18.5,  18.6,  18.8,  19. ,\n",
       "        19.1,  19.2,  19.5,  19.6,  19.8,  19.9,  20.1,  20. ,  20.3,\n",
       "        20.4,  20.6,  20.7,  21.1,  21. ,  21.2,  21.4,  21.5,  21.7,\n",
       "        21.8,  21.9,  22. ,  22.3,  22.1,  22.2,  22.5,  22.8,  22.9,\n",
       "        23. ,  22.7,  22.4,  21.6,  21.3,  20.9,  18.9,  18.4,  17.4,\n",
       "        17.1,  16.6,  16.5,  16.4,  16.3,  16.1,  15.9,  15.8,  15.6,\n",
       "        15.4,  14.8,  14.6,  14.5,  14.4,  14.3,  14.1,  14. ,  13.6,\n",
       "        13.5,  13.7,  13.9,  13.3,  13.2,  12.8,  12.9,  13.1,  12.6,\n",
       "        12.3,  12. ,  12.2,  11.9,  11. ,   9.8,  11.6,  12.5,  14.9,\n",
       "        17.5,  19.3,  20.2,  20.5,  19.4,  18.7,  18.2,  18.1,  17. ,\n",
       "        15.3,  11.2,  11.4,   7.5,   7.3,   7.2,   7. ,   6.9,   6.7,\n",
       "         6.8,   6.6,   6.5,   6.3,   6.1,   6.2,   6.4,   8.2,   8.1,\n",
       "         7.8,   7.9,   8. ,   8.3,   8.5,   7.1,   7.6,   7.7,   7.4,\n",
       "         6. ,   5.9,   5.8,   5.6,   5.3,   5.1,   5. ,   4.9,   4.8,\n",
       "         4.7,   4.6,   4.5,   4.4,   4.3,   4.2,   4.1,   4. ,   3.9,\n",
       "         2.5,   2.4,   3.8,   2.6,   2.9,   3.1,   5.2,   8.4,   5.7,\n",
       "         5.4,   3.6,   3.2,   2.8,   3.5,   3.3,   3.4,   3. ,   2.7,\n",
       "         2.3,   2.1,   2.2,   2. ,   1.9,   1.8,   1.7,  17.2,   5.5,\n",
       "         3.7,   1.6,   1.5,   1.4,   1.3,   1. ,   0.9,   0.8,   0.6,\n",
       "         0.3,   0.2,   0.1,   0. ,  -0.1,   0.5,   1.1,   1.2,  -0.2,\n",
       "        -0.3,  -0.4,  -0.5,  -1. ,  -0.8,  -0.6,  -1.4,  -1.6,  -1.2,\n",
       "        -0.9,  -1.8,  -1.9,  -2.1,  -1.3,  -2.3,  -2.4,  -2.2,  -2. ,\n",
       "        -1.7,  -2.5,  -2.6,  -2.7,  -1.5,  -2.8,  -1.1,  -0.7,   0.4,\n",
       "        17.9,  17.7,  15.1,   0.7,  20.8,  19.7,  22.6,  23.3,  23.5,\n",
       "        23.4,  23.2,  23.6,  23.1, -17.8,  23.8,  24. ,  24.2,  24.6,\n",
       "        24.7,  24.4,  24.8,  25.2,  25.3,  25.6,  25.8,  25. ,  25.5,\n",
       "        26.1,  26.4,  25.4,  25.7,  25.9,  26. ,  26.5,  26.7,  26.3,\n",
       "        25.1,  23.9,  23.7,  -2.9,  -3.2,  -3. ,  -3.1,  -3.5,  -3.3,\n",
       "        -3.6,  -3.4,  -3.7,  -3.9,  -4. ,  -4.1,  -3.8,  -4.9,  -6. ,\n",
       "        -6.2,  -5.8,  -5.7,  -4.7,  -4.3,  24.3,  24.5,  24.9,  26.2,\n",
       "        26.6,  26.9,  27. ,  27.1,  27.2,  27.3,  26.8,  24.1,  27.5,\n",
       "        27.7,  27.9,  27.6,  27.8,  28.2,  28.1,  27.4,  28. ,  28.4,\n",
       "        28.7,  28.3,  28.9,  29.3,  29.9,  30.4,  30.6,  30.7,  31. ,\n",
       "        31.2,  30.8,  30.9,  30.5,  30.1,  30.3,  29.8,  29.7,  30. ,\n",
       "        29.5,  29.1,  29. ,  29.2,  28.6,  28.5,  29.6,  28.8,  30.2,\n",
       "        29.4,  31.4,  31.3,  31.9,  32.5,  31.5,  31.1,  31.6,  32. ,\n",
       "        31.7,  31.8,  32.4,  33. ,  32.3,  32.6,  32.9,  33.2,  33.5,\n",
       "        33.7,  33.6,  34. ,  34.5,  34.2,  34.4,  34.3,  34.9,  34.7,\n",
       "        33.8,  33.4,  34.6,  33.1,  32.2,  32.1,  32.7,  32.8,  34.1,\n",
       "        33.3,  33.9,  34.8,  35.6,  36.5,  36.3,  35.2,  35. ,  35.4,\n",
       "        35.1,  35.3,  35.5,  35.8,  35.7,  35.9,  36. ,  36.1,  36.2,\n",
       "        36.4,  36.6,  36.7,  36.9,  36.8,  37. ,  37.1,  37.7,  37.5,\n",
       "        38.3,  39.1,  39.6,  39.3,  39.4,  39.2,  39.8,  37.6,  38.4,\n",
       "        38.8,  38.9,  37.8,  37.3,  37.4,  38.1,  37.9,  38.7,  38.2,\n",
       "        38.6,  37.2,  -4.2,  -4.5,  -5. ,  -4.6,  -4.4,  -5.1,  -5.5,\n",
       "        -5.4,  -5.3,  -5.2,  38. ,  39.7,  40.7,  39.9,  -4.8, -22.4,\n",
       "        39. ,  38.5,  39.5,  -5.9,  40. ,  40.4,  40.2,  40.6,  40.5,\n",
       "        40.1,  41.3,  40.9,  40.8,  41.1,  40.3,  41.2,  -6.3,  -6.6,\n",
       "        -6.8,  -6.5,  -6.1,  -6.4,  -6.9,  -7.1])"
      ]
     },
     "execution_count": 156,
     "metadata": {},
     "output_type": "execute_result"
    }
   ],
   "source": [
    "variable='tempAvg'\n",
    "min,max=min_max(df_estacion,variable)\n",
    "print(variable,min,max)\n",
    "df_estacion[variable][~df_estacion[variable].isna()].unique()"
   ]
  },
  {
   "cell_type": "code",
   "execution_count": 164,
   "metadata": {},
   "outputs": [
    {
     "name": "stdout",
     "output_type": "stream",
     "text": [
      "windspeedHigh 0.0 490.4\n"
     ]
    },
    {
     "data": {
      "text/plain": [
       "array([  1.8,   0. ,   5.6,   3.7,   5. ,   7.4,   9.3,   6.1,  11.1,\n",
       "        13. ,  14.8,  18.5,  16.7,  20.4,  22.2,  25.9,  24.1,  29.6,\n",
       "         9.7,  13.4,  22. ,  27.8,  33.3,  28.2,  25.6,   4.8,  11.3,\n",
       "        12.9,  14.5,   1.6,  16.1,   8. ,   8.7,  12.2,   7.2,  15.8,\n",
       "         3.5,   2.6,   1.1,  18.3,  21.9,  23.3,  24.5,  20.8,  19.5,\n",
       "        26.9,  30.6,  31.5,  25.4,  17.2,  34.3,   3.2,  20.9,  29.5,\n",
       "        28. ,  34.1,  36.7,  33. ,  39.1,  40.2,  41.7,  35.6,  42.8,\n",
       "        37.7,  45.2,  43.8,  48.9,  46.3,  47.8,  52.5,  60. ,  58.6,\n",
       "        62.1,  63.6,  49.9,  51.3,  56. ,  55. ,  57.5,  68.2,  64.7,\n",
       "        66.1,  53.9, 247.8, 111. ,  61. , 140. , 490.4,  46. ,  28.8,\n",
       "        53.6,  19. ,  31.7,  27. ,  33.2,  40.4,  39.3,  37.8,  45.4,\n",
       "        43.9,  46.5,  48. ,  51.5,  57.6,  52.6,  58.7,  50.1,  64.9,\n",
       "        67.3,  60.2,  54.1,  61.2,  74.5,  62.3,  68.4,  66.3,  63.7,\n",
       "        73.4,  69.8,  56.2,  71. ,  76. ,   5.8,  80.6,  85.6, 166.2,\n",
       "       100.4, 296.6,  72.4,  77.1,  78.5,  90.8,  89.3,  82.1,  86.7,\n",
       "        91.7,  84.7,  79.5,  99. ,  95.4,  21.2])"
      ]
     },
     "execution_count": 164,
     "metadata": {},
     "output_type": "execute_result"
    }
   ],
   "source": [
    "variable='windspeedHigh'\n",
    "min,max=min_max(df_estacion,variable)\n",
    "print(variable,min,max)\n",
    "df_estacion[variable][~df_estacion[variable].isna()].unique()"
   ]
  },
  {
   "cell_type": "code",
   "execution_count": 158,
   "metadata": {},
   "outputs": [
    {
     "name": "stdout",
     "output_type": "stream",
     "text": [
      "windgustLow 0.0 501.1\n"
     ]
    },
    {
     "data": {
      "text/plain": [
       "array([  0. ,   1.8,   5.6,   3.7,   5. ,   6.1,   7.4,   9.3,  11.1,\n",
       "        13. ,  14.8,  18.5,  16.7,  20.4,  22.2,  25.9,  24.1,  29.6,\n",
       "         9.7,  13.4,  22. ,  27.8,  33.3,  28.2,  25.6,  12.9,  11.3,\n",
       "         4.8,   8. ,  17.7,  15.8,  12.2,  17.2,  18.3,  19.5,  20.8,\n",
       "         8.7,   7.2,   3.5,   2.6,   1.1,  23.3,  25.4,  34.1,  28. ,\n",
       "        29.5,  31.5,  33. ,  30.6,  24.5,  36.7,  40.2,  41.7,  39.1,\n",
       "        21.9,  35.6,  26.9,  34.3,  20.9,   6.4,   3.2,   1.6,  19.3,\n",
       "        16.1,  14.5,  37.7,  43.8,  45.2,  42.8,  46.3,  47.8,  49.9,\n",
       "        48.9,  52.5,  55. ,  51.3,  56. ,  53.9,  58.6,  66.1,  74.4,\n",
       "        67.1,  57.5,  72.3,  62.1,  60. ,  61. ,  63.6,  64.7,  70.8,\n",
       "        69.7,  68.2,  80.5,  73.2,  79.3,  85.5, 249.6, 111. ,  78.4,\n",
       "        81.9, 142.6,  76.9, 490.4, 131.2, 330.4, 501.1,  28.8, 146.9,\n",
       "        53.6,  91.6, 226.6, 343.1, 311.1,  33.2,  31.7,  27. ,  40.4,\n",
       "        37.8,  39.3,  54.1,  43.9,  45.4,  46.5,  48. ,  52.6,  50.1,\n",
       "        51.5,  57.6,  62.3,  58.7,  56.2,  64.9,  67.3,  61.2,  71. ,\n",
       "        60.2,  66.3,  63.7,  69.8,  74.5,  68.4,  77.1,  72.4,  73.4,\n",
       "        76. ,  34.6,  85.6, 166.2, 159.2,  70.2, 168.8,  71.9,  84.7,\n",
       "        80.6,  92.9,  89.3,  82.1,  86.7,  99. ,  78.5,  83.2,  88.2,\n",
       "        91.7,  90.8,  79.5,  97.8,  94.3,  23. ])"
      ]
     },
     "execution_count": 158,
     "metadata": {},
     "output_type": "execute_result"
    }
   ],
   "source": [
    "variable='windgustLow'\n",
    "min,max=min_max(df_estacion,variable)\n",
    "print(variable,min,max)\n",
    "df_estacion[variable][~df_estacion[variable].isna()].unique()"
   ]
  },
  {
   "cell_type": "code",
   "execution_count": 169,
   "metadata": {},
   "outputs": [
    {
     "name": "stdout",
     "output_type": "stream",
     "text": [
      "dewptHigh -28.0 37.7\n"
     ]
    },
    {
     "data": {
      "text/plain": [
       "array([  9.8,   9.7,   9.6,   9.3,   9.1,   9.4,   9.9,   9.5,   9.2,\n",
       "         8.9,   9. ,   8.8,   8.7,   8.6,   8.4,   8.3,   8.5,  10.2,\n",
       "        10.3,  10.4,  10.7,  10.9,  11.2,  11. ,  11.3,  10.8,  10.6,\n",
       "        11.1,  10.5,   8.1,   7.3,   7.1,   7.2,   6.9,   6.4,   7.4,\n",
       "         6.6,   6.7,   7. ,   7.5,   7.9,   7.6,   8.2,   8. ,   7.8,\n",
       "        10. ,  10.1,   6.8,   6.5,   7.7,   5.8,   5.4,   5.2,   5.9,\n",
       "         6. ,   4.9,   5.3,   5.6,   4.8,   4.3,   4.4,   5.1,   4.6,\n",
       "         3.9,   3.5,   3.6,   3.7,   4. ,   4.1,   4.2,   3.8,   4.7,\n",
       "         4.5,   5. ,   5.7,   3.4,   3.2,   3.3,   3.1,   3. ,   2.7,\n",
       "         2.9,   2.8,   2.6,   1.6,   1.8,   1.9,   2.3,   6.1,   6.2,\n",
       "         6.3,   2.4,   2.2,   2.1,   1.7,   2. ,   1.5,   1.4,   2.5,\n",
       "         1.1,   0.9,   0.7,   0.6,   0.8,   1. ,   0.5,   0.4,   0.3,\n",
       "         1.2,   0.2,   0.1,  -0.3,  -0.6,  -0.7,  -0.8,  -1.1,  -1.2,\n",
       "        -1.3,  -1.4,  -1.6,  -1.9,  -2. ,  -2.1,  -1.8,  -1.7,  -2.4,\n",
       "        -2.5,  -2.2,  -2.6,  -2.9,  -3.4,  -3.3,  -3.6,  -3.7,  -3.8,\n",
       "        -4.4,  -3.2,  -3.5,  -5.2,  -4.8,  -5.3,  -5.9,  -5.6,  -5.4,\n",
       "        -5.7,  -5.8,  -6.3,  -5.1,  -4.9,  -4.7,  -5. ,  -6.2,  -6. ,\n",
       "        -6.6,  -6.7,  -6.4,  -6.1,  -5.5,  -6.9,  -6.8,  -6.5,  -7. ,\n",
       "        -7.1,  -7.2,  -4.3,  -4.6,  -4.1,  -4. ,  -3.9,  -4.2,  -1.5,\n",
       "        -3.1,  -2.8,  -2.7,  -4.5,  -0.4,  -0.9,  -3. ,  -2.3,  -0.5,\n",
       "        -0.2,  -1. ,  -0.1,   0. ,   1.3,  11.4,  11.5,  11.6,  11.7,\n",
       "        11.8,  11.9,  12.1,  12.2,  12.4,  12.3,  12.6,  12.8,  12.7,\n",
       "        12.9,  13. ,  13.1,  13.2,  13.3,  13.5,  13.4,  13.7,  13.8,\n",
       "        13.6,  12.5,  13.9,  14.2,  14.4,  14.7,  14.8,  15.2,  15.6,\n",
       "        15.7,  15.8,  15.9,  16. ,  16.1,  16.4,  16.5,  16.7,  16.8,\n",
       "        17. ,  17.2,  17.4,  17.8,  18.1,  18.2,  18.3,  18.4,  18.7,\n",
       "        18.8,  18.9,  19.1,  19.3,  19.4,  19.6,  19.2,  19.7,  19.8,\n",
       "        19.9,  18.6,  18. ,  17.9,  17.1,  16.9,  16.6,  16.3,  15.4,\n",
       "        15.3,  14.9,  14.6,  14.3,  12. ,   5.5,  14.1,  14.5,  15.1,\n",
       "       -17.8,  16.2,  15.5,  15. ,  14. ,  -7.3,  -7.7,  -7.6,  -8.2,\n",
       "        -7.8,  -7.4,  -7.5,  -8. ,  -7.9,  -8.4,  -8.9,  -8.1,  -8.3,\n",
       "        17.7,  17.6,  17.3,  18.5,  20.1,  20. ,  20.4,  20.2,  20.3,\n",
       "        20.5,  20.6,  20.7,  21.2,  19. ,  17.5,  19.5,  20.8,  20.9,\n",
       "        21.3,  21.1,  21.6,  21.4,  21.5,  21.9,  21.8,  22.4,  22.1,\n",
       "        22. ,  22.3,  22.7,  22.2,  22.5,  22.6,  21.7,  21. ,  23.5,\n",
       "        22.8,  23.2,  22.9,  23.3,  23. ,  23.1,  23.4,  23.7,  23.6,\n",
       "        23.8,  23.9,  24.1,  24. ,  24.6,  24.2,  24.5,  24.8,  24.3,\n",
       "        24.4,  25. ,  24.9,  25.5,  25.1,  25.4,  25.3,  25.2,  25.8,\n",
       "        26.1,  26. ,  25.9,  25.7,  25.6,  24.7,  26.3,  26.8,  26.2,\n",
       "        26.5,  26.6,  26.4,  26.7,  26.9,  37.7,  -8.7,  -8.6,  27.3,\n",
       "        27.5,  27. ,  27.2,  27.4,  27.1,  28.1,  28.2,  27.8,  27.9,\n",
       "        28. ,  27.6,  27.7,  28.3,  28.6,  28.5,  28.4,  28.8,  29.1,\n",
       "       -15.6, -23. , -22.5, -22.8, -19.7, -19.4, -20. , -20.2, -19.2,\n",
       "       -19.8, -14.9, -15.2, -19.5, -19.6, -15.7, -16.3,  -9.5,  -9.1,\n",
       "        -9.2,  -9.3, -28. ,  -8.5,  -8.8,  -9. , -10.3, -10.5, -10.1,\n",
       "       -10.4, -10.8, -12. , -12.1, -11.7, -11.9, -11.5, -11.6, -11.4,\n",
       "       -11.2, -11. , -11.3, -10.6, -12.3, -12.2, -10.7, -11.1, -12.4,\n",
       "       -12.5, -13.6, -14.4, -14.6, -14.1, -13.8, -13.5, -13.4, -13.7,\n",
       "       -14. , -14.2, -14.8, -14.5, -12.9, -12.6, -12.7, -11.8, -12.8,\n",
       "       -13. , -13.1, -10.9,  -9.9,  -9.7, -13.3, -13.9, -14.3, -14.7,\n",
       "       -15.3, -13.2, -10.2, -10. ,  -9.6,  -9.4,  -9.8, -15. , -24.9,\n",
       "       -24.5, -23.5, -23.4])"
      ]
     },
     "execution_count": 169,
     "metadata": {},
     "output_type": "execute_result"
    }
   ],
   "source": [
    "variable='dewptHigh'\n",
    "min,max=min_max(df_estacion,variable)\n",
    "print(variable,min,max)\n",
    "df_estacion[variable][~df_estacion[variable].isna()].unique()"
   ]
  },
  {
   "cell_type": "code",
   "execution_count": 170,
   "metadata": {},
   "outputs": [
    {
     "name": "stdout",
     "output_type": "stream",
     "text": [
      "windchillHigh -31.0 41.3\n"
     ]
    },
    {
     "data": {
      "text/plain": [
       "array([ 26.3,  25.8,  25.5,  25.2,  25.1,  25. ,  24.9,  24.7,  24.6,\n",
       "        24.4,  24.3,  24.1,  23.9,  23.8,  23.5,  23.3,  23.2,  23.1,\n",
       "        22.8,  22.4,  22.3,  22.2,  22.1,  22. ,  21.8,  21.4,  21.3,\n",
       "        20.9,  21.2,  21. ,  21.9,  21.5,  21.7,  21.6,  21.1,  20.3,\n",
       "        19.3,  18.8,  18.9,  18.3,  18.2,  18.1,  17.3,  17.7,  17.6,\n",
       "        17. ,  16.6,  16.5,  16.3,  16.8,  16.4,  16.1,  15.7,  15.9,\n",
       "        15.8,  15.5,  15.6,  15.2,  15.4,  15.3,  15. ,  15.1,  14.8,\n",
       "        14.7,  14.6,  14.4,  14.2,  14.5,  14.1,  14.3,  14. ,  13.9,\n",
       "        13.5,  13.4,  13.3,  13.2,  13.6,  12.8,  12.9,  13.1,  12.7,\n",
       "        12.6,  12.2,  11.9,  12. ,  12.4,  11.5,  11.4,  11.2,  11.1,\n",
       "        11.8,  11.3,  11.7,  10.8,  10.9,  10.7,  10.4,  10.3,  10.2,\n",
       "        10. ,  10.1,   9.9,   9.8,   9.3,   9.4,   9.2,   9.6,   9.5,\n",
       "        10.6,  12.1,  11. ,   9.7,   8.1,   7.1,   4.8,   6.7,   7.8,\n",
       "         7.6,   7.7,   8.6,   8.8,   8.7,   9.1,   9. ,  10.5,   8.9,\n",
       "         8.4,   8.3,   8.5,   8.2,   7.4,   7.2,   6.9,   6.8,   7.3,\n",
       "         7. ,   6.6,   6.4,   6.3,   5.4,   6.2,   5.9,   5.8,   6.5,\n",
       "         6.1,   5.7,   6. ,   5.1,   4.7,   4.2,   4.4,   4.5,   4. ,\n",
       "         4.1,   3.9,   3.8,   3.3,   3.7,   3.1,   2.4,   2.8,   2.9,\n",
       "         2.7,   2.3,   2.2,   1.7,   1.6,   1.3,   0.3,   0.2,  -0.1,\n",
       "         0.4,   0. ,   0.6,  -0.2,  -0.6,  -0.4,   0.1,  -0.3,  -1.1,\n",
       "        -0.9,  -0.8,  -0.7,  -1.2,  -1.4,  -1.3,  -1. ,   0.5,   1.1,\n",
       "         2.1,   3.5,   4.3,   4.9,   5. ,   7.9,  12.3,  11.6,  12.5,\n",
       "        13. ,   8. ,   5.6,   5.3,   5.2,   3.6,   3.4,   0.8,   3.2,\n",
       "         1.8,   1.2,   1. ,   0.9,  -0.5,  -2.6,  -1.9,  -2.1,  -1.7,\n",
       "        -1.8,  -2.3,   1.4,   2.6,   1.5,   1.9,  16.2,   5.5,   7.5,\n",
       "         4.6,  16.7,  14.9,  13.7,  13.8,  20.8,  20.7,  20.6,  20.5,\n",
       "        20.4,  17.2,  17.1,  16.9,   2. ,  16. ,   2.5,  17.5,  17.8,\n",
       "        17.4,   3. ,  18. ,  17.9,  18.4,  18.6,  19. ,  19.4,  25.6,\n",
       "        -3.8,   0.7,  -1.5,  -1.6,  -2.5,  -2. ,  -2.9,  -3.9,  -3.4,\n",
       "        -3.6,  -3.5,  -2.4,  -3. ,  -4.3,  -4.1,  -3.7,  -2.7,  -3.3,\n",
       "        -3.2,  -2.8,  -3.1,  -4.5,  -4.2,  19.6,  19.8,  19.9,  20.1,\n",
       "        20.2,  19.2,  19.7,  19.5,  18.5,  18.7,  20. ,  22.7,  22.6,\n",
       "        22.9,  22.5,  23. ,  -4.9,  -4.7,  -5. ,  -4.6,  -6.7,  -6.5,\n",
       "        -6.2,  -6. ,  -5.9,  -5.8,  -5.6,  -5.4,  -5.2,  -5.3,  -7. ,\n",
       "        -6.8,  -6.9,  -7.2,  -7.9,  -6.1,  -6.3,  -7.4,  -7.1,  -5.5,\n",
       "        -5.1,  -4.4,  -2.2,  -6.4,  -6.6,  -7.7,  -5.7,  -4.8,  23.7,\n",
       "        19.1,  23.6,  23.4,  26. ,  24. ,  -4. ,  24.8,  24.2,  24.5,\n",
       "        25.3,  25.4,  25.9,  26.2,  26.5,  26.4,  26.6,  26.1,  25.7,\n",
       "        26.9,  26.8,  27.1,  27. ,  26.7,  27.5,  27.6,  27.8,  28.1,\n",
       "        28.5,  28.7,  28.8,  28.9,  29.2,  29.3,  29.5,  29.4,  29.1,\n",
       "        29. ,  28.3,  28.4,  28.2,  28. ,  27.9,  27.3,  28.6,  29.7,\n",
       "        30.2,  30.9,  31.6,  31.2,  31.4,  31.3,  31.1,  31.7,  32.1,\n",
       "        31.5,  31.8,  32.6,  32.7,  32.9,  33.4,  33.1,  33.2,  33.8,\n",
       "        34.1,  33.9,  33.6,  33.3,  32.5,  30.4,  30.1,  29.6,  27.4,\n",
       "        27.2,  27.7,  29.8,  30. ,  30.3,  29.9,  30.5,  31. ,  31.9,\n",
       "        32.3,  32. ,  32.2,  33.7,  34.6,  33.5,  34.4,  34.2,  34.5,\n",
       "        34. ,  33. ,  30.7,  30.6,  32.4,  34.3,  34.7,  34.9,  35.1,\n",
       "        35.8,  35.6,  36.2,  37.4,  37. ,  36.8,  37.2,  37.8,  39. ,\n",
       "        37.6,  38.4,  37.7,  38.9,  39.7,  39.6,  39.9,  39.8,  39.4,\n",
       "        39.5,  40.2,  40.1,  39.2,  39.3,  38.7,  38.3,  38.5,  36.9,\n",
       "        36.3,  36.4,  36.1,  35.9,  35.4,  32.8,  34.8,  35.5,  35.7,\n",
       "        36.5,  36.6,  36.7,  35.3,  35.2,  36. ,  30.8,  35. ,  37.5,\n",
       "        37.9,  37.1,  38.1,  38.2,  38. ,  38.8,  38.6,  39.1,  37.3,\n",
       "       -22.4,  -7.6,  -7.8,  -7.5,  -8.1,  -8.2,  -8. ,  -8.4,  -7.3,\n",
       "       -31. ,  -8.9,  -9.1,  -8.6,  -8.8,  40. ,  40.4,  40.6,  40.5,\n",
       "        40.7,  41.3,  40.9,  40.8,  41.1,  40.3,  41.2,  -8.7, -12. ,\n",
       "        -8.3])"
      ]
     },
     "execution_count": 170,
     "metadata": {},
     "output_type": "execute_result"
    }
   ],
   "source": [
    "variable='windchillHigh'\n",
    "min,max=min_max(df_estacion,variable)\n",
    "print(variable,min,max)\n",
    "df_estacion[variable][~df_estacion[variable].isna()].unique()"
   ]
  },
  {
   "cell_type": "code",
   "execution_count": 173,
   "metadata": {},
   "outputs": [
    {
     "name": "stdout",
     "output_type": "stream",
     "text": [
      "heatindexAvg -22.4 91.6\n"
     ]
    },
    {
     "data": {
      "text/plain": [
       "array([ 25.6,  25.5,  25.4,  25.3,  25.2,  25.1,  25. ,  24.9,  24.6,\n",
       "        24.5,  24.4,  23.9,  23.8,  24. ,  24.1,  24.3,  24.8,  24.7,\n",
       "        24.2,  25.8,  26. ,  26.1,  25.7,  26.2,  26.4,  26.6,  26.8,\n",
       "        26.9,  27.1,  27.3,  27.9,  28.1,  28.7,  28.8,  30. ,  30.2,\n",
       "        29.9,  30.4,  30.6,  30.5,  30.7,  31.2,  31.4,  31.6,  31.7,\n",
       "        31.8,  32.1,  32.3,  31.9,  32.7,  32.9,  33. ,  33.2,  33.3,\n",
       "        33.1,  32.8,  32.6,  32.5,  32. ,  32.2,  30.9,  31.1,  31.3,\n",
       "        33.4,  33.5,  33.7,  33.8,  40.2,  42.2,  37.4,  36.2,  35.4,\n",
       "        35.2,  34.9,  34.8,  34.2,  34.1,  30.8,  29.6,  29.3,  28.6,\n",
       "        28.5,  28.2,  27.8,  29.7,  26.7,  27.2,  27.4,  27.5,  26.5,\n",
       "        27.6,  27.7,  28.9,  29. ,  28.4,  29.2,  29.4,  29.8,  33.6,\n",
       "        34. ,  34.3,  34.4,  35.1,  35.5,  35.7,  36. ,  36.4,  36.7,\n",
       "        36.9,  37. ,  37.9,  38.5,  39.2,  39.8,  40. ,  40.1,  40.5,\n",
       "        41. ,  41.6,  42.7,  43.1,  43.3,  42.1,  41.8,  41.4,  42. ,\n",
       "        41.3,  41.9,  44.5,  45.1,  45.2,  44.7,  44.4,  43.7,  43.6,\n",
       "        42.9,  44.1,  46.2,  46.8,  47.5,  48.4,  49.4,  50. ,  48.2,\n",
       "        48. ,  47.9,  48.1,  47.8,  48.3,  49.1,  50.8,  51.6,  50.1,\n",
       "        52.5,  53.6,  54.3,  54.2,  55.3,  54.9,  54.1,  53.9,  55.6,\n",
       "        56.8,  57.1,  57.3,  57.8,  57.2,  57.7,  58.8,  61.3,  62.1,\n",
       "        61.6,  61.5,  63. ,  62.5,  62.4,  61.7,  63.3,  64.6,  65.4,\n",
       "        65.7,  64.4,  61.9,  62.9,  62.7,  63.5,  63.2,  64.1,  63.8,\n",
       "        64.8,  65.9,  66.2,  66.8,  67.3,  59.3,  55.1,  53.8,  53.4,\n",
       "        52.3,  51.8,  50.6,  49.8,  48.7,  48.6,  47.6,  46.9,  46.3,\n",
       "        44.3,  43.2,  40.9,  38.8,  38.2,  35.6,  31. ,  29.5,  26.3,\n",
       "        25.9,  28.3,  36.6,  36.8,  38.4,  39. ,  39.6,  39.4,  38.3,\n",
       "        38. ,  38.7,  40.7,  42.4,  43.4,  45.6,  45.3,  46.4,  49.9,\n",
       "        50.2,  51.9,  52.4,  53.5,  54. ,  54.6,  55.4,  55.9,  56.1,\n",
       "        56.6,  56.7,  56.3,  57.4,  57.5,  57.9,  59.5,  59.9,  60.4,\n",
       "        58.4,  58.9,  60.6,  63.1,  63.7,  60.7,  60. ,  60.8,  60.9,\n",
       "        59.8,  65.8,  66.1,  65.3,  66.6,  67.1,  64.3,  68.4,  66.5,\n",
       "        67. ,  69.4,  70.4,  71.3,  71.2,  72.9,  73.2,  74.3,  73.7,\n",
       "        71.1,  68.6,  71.6,  72.8,  74.1,  76.2,  76.6,  75.4,  73.9,\n",
       "        69.9,  68.8,  72.7,  74.7,  74.4,  73.8,  75.9,  72.6,  73.5,\n",
       "        71.7,  69.6,  63.9,  61.8,  60.5,  59.4,  54.7,  53.2,  53.7,\n",
       "        52.1,  51.3,  50.9,  49.7,  47.3,  46.7,  42.8,  35. ,  34.7,\n",
       "        36.1,  35.8,  31.5,  30.3,  30.1,  35.9,  37.5,  40.3,  40.6,\n",
       "        40.8,  41.5,  44.6,  44.9,  46.1,  47.4,  48.8,  49.6,  50.3,\n",
       "        50.7,  52. ,  60.1,  60.2,  52.6,  52.2,  51.2,  50.4,  49. ,\n",
       "        48.9,  49.5,  51.1,  51.7,  51.4,  49.2,  47. ,  45.9,  45.7,\n",
       "        43.5,  42.3,  40.4,  39.7,  37.3,  37.1,  32.4,  29.1,  28. ,\n",
       "        35.3,  45.4,  46.5,  46.6,  47.1,  47.7,  45.5,  53.1,  51.5,\n",
       "        53. ,  55.5,  52.9,  52.8,  55.7,  56.4,  63.4,  58.7,  61.2,\n",
       "        62.8,  62.3,  60.3,  64.2,  58.2,  39.9,  41.1,  38.9,  37.7,\n",
       "        33.9,  27. ,  23.5,  23.7,  23.4,  22.9,  23.2,  22.6,  23.6,\n",
       "        42.5,  43. ,  41.7,  41.2,  42.6,  39.3,  38.6,  37.8,  36.5,\n",
       "        37.2,  44.2,  44.8,  55.2,  38.1,  37.6,  22.7,  22.4,  22.3,\n",
       "        23.3,  39.1,  44. ,  45. ,  39.5,  43.9,  45.8,  47.2,  43.8,\n",
       "        34.6,  23. ,  36.3,  55.8,  56.2,  53.3,  58.6,  59. ,  59.2,\n",
       "        59.7,  58.1,  59.1,  56.5,  57.6,  61. ,  51. ,  54.5,  57. ,\n",
       "        54.8,  54.4,  52.7,  49.3,  55. ,  56.9,  58.3,  59.6,  62. ,\n",
       "        61.4,  22.1,  12.9,  34.5,  61.1,  63.6,  64.7,  64.9,  66.4,\n",
       "        67.2,  67.5,  67.8,  65.6,  66.3,  66.7,  69.2,  70.2,  69.7,\n",
       "        69.5,  70.8,  76.5,  76.8,  77.6,  77.4,  76. ,  75.2,  74.9,\n",
       "        75.7,  74.6,  74. ,  76.1,  77.8,  79. ,  79.8,  78.6,  82.4,\n",
       "        81.4,  82.6,  83.5,  82.9,  81.2,  78.5,  79.1,  81.1,  80.9,\n",
       "        81.7,  84.3,  79.7,  81.8,  83.6,  83.9,  83. ,  84.6,  85.2,\n",
       "        83.7,  76.4,  75. ,  73.3,  84.1,  83.1,  80.8,  84. ,  84.4,\n",
       "        86.8,  87.6,  85. ,  83.2,  84.8,  85.9,  86.9,  86.6,  83.3,\n",
       "        82.3,  81. ,  78.1,  73.4,  72.3,  69.3,  68.2,  62.6,  62.2,\n",
       "        65.1,  64. ,  46. ,  58. ,  23.1,  22.8,  21.9,  22.2,  22. ,\n",
       "        56. ,  50.5,  68.1,  68. ,  69.1,  67.4,  70.9,  69.8,  66.9,\n",
       "        71.9,  74.2,  75.5,  77.7,  78. ,  77.5,  80. ,  79.5,  86.1,\n",
       "        87.1,  79.6,  76.9,  76.7,  81.3,  85.1,  86.3,  87.4,  84.5,\n",
       "        84.9,  86.7,  86.2,  86.4,  87.7,  83.8,  21.7,  19.6,  18.6,\n",
       "        18.1,  17.8,  17.9,  18.8,  18.9,  19.2,  19.5,  20.6,  21.8,\n",
       "        22.5,  21.6,  21.5,  21.2,  21. ,  21.1,  21.3,  21.4,  20.9,\n",
       "        20.7,  20.8,  20.5,  64.5,  70.5,  70.7,  72. ,  70.3,  71.8,\n",
       "        73. ,  73.1,  75.3,  72.2,  71. ,  72.5,  73.6,  74.8,  70.6,\n",
       "        70. ,  71.4,  72.1,  68.5,  67.9,  67.7,  48.5,  58.5,  66. ,\n",
       "        65. ,  65.5,  68.7,  69. ,  75.6,  72.4,  70.1,  77.3,  76.3,\n",
       "        78.7,  78.4,  77. ,  78.9,  79.9,  80.4,  79.4,  78.8,  78.2,\n",
       "        65.2,  68.9,  80.7,  80.2,  81.6,  82.7,  85.4,  88.2,  89.6,\n",
       "        90.2,  90.9,  91.6,  91.4,  91. ,  90.5,  83.4,  84.7,  85.5,\n",
       "        85.3,  88.8,  88.7,  89.1,  89.4,  90.1,  88.4,  86. ,  80.5,\n",
       "        80.1,  78.3,  77.2,  75.8,  74.5,  67.6,  71.5,  81.5,  68.3,\n",
       "        80.6,  79.3,  75.1,  82.2,  85.8,  85.7,  87.2,  88. ,  89.3,\n",
       "        90. ,  87.8,  89.9,  88.3,  88.1,  77.9,  77.1,  79.2,  20.1,\n",
       "        19.7,  19.8,  20.4,  20.3,  19.9,  19.3,  19.1,  19. ,  20.2,\n",
       "        20. ,  19.4,  18.5,  18.4,  18.3,  18.2,  18. ,  17.7,  17.5,\n",
       "        17.1,  16.9,  17. ,  16.8,  16.7,  16.6,  16.5,  16.4,  16.3,\n",
       "        16.2,  16.1,  15.9,  15.7,  14.8,  14.1,  13.9,  13.7,  13.6,\n",
       "        13.3,  13.4,  13.8,  13.5,  14. ,  14.2,  14.4,  14.7,  14.9,\n",
       "        15.3,  17.3,  17.6,  17.4,  17.2,  16. ,  15.8,  15.5,  18.7,\n",
       "        13.2,  11.9,  12.2,  13. ,  13.1,  15.6,  15.4,  15.1,  14.6,\n",
       "        14.5,  14.3,  12.8,  12.7,  12.6,  12.5,  12.4,  12. ,  11.8,\n",
       "        11.7,  12.1,  15. ,  15.2,   6. ,  12.3,  11.5,  11.4,  11.3,\n",
       "        11.6,  11.2,  11.1,  11. ,  10.9,  10.8,  10.7,  10.6,  10.5,\n",
       "        10.3,  10.2,  10. ,   9.9,  10.4,  10.1,   9.8,   9.7,   9.5,\n",
       "         9.4,   9.2,   9. ,   8.9,   8.8,   8.7,   8.5,   8.4,   8.3,\n",
       "         8.2,   8.6,   9.1,   8.1,   7.9,   7.6,   7.5,   7.4,   7.3,\n",
       "         7.2,   7.1,   7. ,   6.8,   6.7,   6.6,   6.5,   5.1,   9.6,\n",
       "         9.3,   4.7,   8. ,   7.8,   6.9,   6.4,   6.3,   6.1,   5.9,\n",
       "         5.8,   5.7,   5.5,   5.4,   5.3,   5.2,   7.7,   6.2,   5.6,\n",
       "         5. ,   4.8,   4.5,   4.4,   4.1,   4.3,   3.9,   3.8,   3.7,\n",
       "         3.6,   3.5,   3.4, -22.4,   4.2,   4. ,   4.9,   4.6,   3.2,\n",
       "         3.3,   3.1,   2.8,   2.7,   2.5,   2.2,   2.1,   2. ,   1.9,\n",
       "         1.7,   2.6,   2.4,   2.3,   1.8,   1.6,   1.4,   1.1,   0.8,\n",
       "         1.2,   1.5,   1.3,   2.9,   3. ,   0.6,   0.5,   0.7,   0.4,\n",
       "         0.3,   1. ,   0.9,   0.2,   0. ,  -0.3,  -0.4,  -0.2,  -0.6,\n",
       "        -0.8,  -1. ,  -1.1,  -0.9,  -0.5,  -0.1,   0.1,  -0.7,  -1.2,\n",
       "        -1.3,  -1.6,  -1.8,  -1.4,  -1.5,  -1.7,  -1.9,  -2. ,  -2.2,\n",
       "        -2.1,  -2.3,  -2.4,  -2.8,  -3.1,  -3.2,  -2.9,  -2.7,  -3.3,\n",
       "        -3.7,  -3.5,  -3.6,  -3.9,  -3.8,  -4. ,  -4.2,  -3. ,  -4.3,\n",
       "        -4.5,  -4.6,  -4.8,  -4.9,  -4.7,  -4.4,  -4.1,  -2.5,  -2.6,\n",
       "        -3.4,  -5.1,  -5.5,  -5.8,  -5.9,  -5.4,  -5.7,  -5. ,  -5.2,\n",
       "        -6.3,  -6.6,  -6.8,  -6.5,  -5.3,  -6.2,  -6.1,  -6.4,  -6.9,\n",
       "        -7.1,  -6. ])"
      ]
     },
     "execution_count": 173,
     "metadata": {},
     "output_type": "execute_result"
    }
   ],
   "source": [
    "variable='heatindexAvg'\n",
    "min,max=min_max(df_estacion,variable)\n",
    "print(variable,min,max)\n",
    "df_estacion[variable][~df_estacion[variable].isna()].unique()"
   ]
  },
  {
   "cell_type": "code",
   "execution_count": 7,
   "metadata": {},
   "outputs": [
    {
     "name": "stdout",
     "output_type": "stream",
     "text": [
      "pressureMax 852.69 1323.4\n"
     ]
    },
    {
     "data": {
      "text/plain": [
       "array([1013.21, 1013.55, 1012.87, 1012.53, 1012.19, 1011.85, 1011.51,\n",
       "       1011.18, 1010.84, 1010.5 , 1010.16, 1009.82, 1009.48, 1009.14,\n",
       "       1008.81, 1008.47, 1008.13, 1007.79, 1007.45, 1007.11, 1006.77,\n",
       "       1006.43, 1006.1 , 1005.76, 1005.42, 1005.08, 1004.74, 1004.4 ,\n",
       "       1004.06, 1003.73, 1003.39, 1003.05, 1002.71, 1002.37, 1002.03,\n",
       "       1001.69, 1001.36, 1001.02, 1000.68, 1000.34, 1000.  ,  999.66,\n",
       "        999.32,  998.98, 1015.92, 1019.3 ,  995.6 ,  992.21,  998.65,\n",
       "        998.31,  997.97,  997.63,  997.29, 1013.88, 1014.22, 1014.56,\n",
       "       1014.9 , 1015.24, 1015.58, 1016.26, 1016.59, 1016.93, 1017.27,\n",
       "       1017.61, 1017.95, 1018.29, 1018.63, 1018.96, 1019.64, 1019.98,\n",
       "       1020.32, 1020.66, 1021.  , 1021.33, 1021.67, 1022.01, 1022.35,\n",
       "       1022.69, 1023.03, 1023.37, 1023.71, 1024.04, 1024.38, 1024.72,\n",
       "       1025.06, 1025.4 , 1025.74, 1026.08, 1026.41, 1026.75,  996.95,\n",
       "        996.61,  996.28,  995.94,  995.26,  994.92,  994.58,  994.24,\n",
       "        993.91,  993.57,  993.23,  992.89,  992.55, 1027.09, 1027.43,\n",
       "       1027.77, 1028.11, 1028.45, 1028.78, 1029.12, 1029.8 , 1030.14,\n",
       "       1030.48, 1030.82, 1031.16, 1029.46,  981.04,  991.53,  991.2 ,\n",
       "        991.87,  990.52,  990.18,  989.84,  989.16,  990.86,  989.5 ,\n",
       "        988.83,  988.49,  988.15,  987.81,  987.47,  987.13,  986.79,\n",
       "        980.36,  985.44,  985.78,  985.1 ,  984.08,  982.73,  983.07,\n",
       "        983.75,  982.39,  983.41,  984.42,  984.76,  986.12,  986.46,\n",
       "        976.63,  982.05,  981.71,  981.38,  980.7 ,  978.67,  980.02,\n",
       "        975.28,  979.01,  979.68,  979.34,  978.33,  977.99,  977.65,\n",
       "        977.31,  976.97,  976.3 ,  975.96,  975.62,  974.94,  974.6 ,\n",
       "        974.26,  973.93, 1323.4 ,  973.59,  973.25,  972.91,  972.57,\n",
       "        972.23,  971.89,  971.55,  852.69,  916.02,  917.37,  909.25,\n",
       "        912.63, 1031.83, 1031.49, 1032.17, 1032.51, 1032.85, 1033.19,\n",
       "       1033.53, 1033.86, 1034.2 , 1034.54, 1034.88, 1035.22, 1035.56,\n",
       "       1035.9 , 1036.23, 1036.57, 1036.91, 1037.25, 1037.59, 1098.54,\n",
       "       1037.93, 1038.27, 1038.61, 1038.94, 1039.28])"
      ]
     },
     "execution_count": 7,
     "metadata": {},
     "output_type": "execute_result"
    }
   ],
   "source": [
    "variable='pressureMax'\n",
    "min,max=min_max(df_estacion,variable)\n",
    "print(variable,min,max)\n",
    "df_estacion[variable][~df_estacion[variable].isna()].unique()"
   ]
  },
  {
   "cell_type": "code",
   "execution_count": 11,
   "metadata": {},
   "outputs": [
    {
     "name": "stdout",
     "output_type": "stream",
     "text": [
      "pressureTrend -2314.64 21.62\n"
     ]
    },
    {
     "data": {
      "text/plain": [
       "array([ 0.00000e+00, -1.02000e+00, -6.80000e-01, -3.40000e-01,\n",
       "        3.40000e-01,  2.37000e+00,  2.71000e+00,  3.05000e+00,\n",
       "       -3.39000e+00, -3.05000e+00, -2.71000e+00, -2.37000e+00,\n",
       "       -2.03000e+00, -1.69000e+00, -1.35000e+00,  4.40000e+00,\n",
       "        6.80000e-01,  1.02000e+00,  4.12000e+00, -4.32000e+00,\n",
       "        4.32000e+00, -4.82000e+00, -4.12000e+00, -4.34000e+00,\n",
       "       -4.10000e+00, -5.42000e+00,  4.10000e+00,  4.34000e+00,\n",
       "        4.82000e+00, -5.39000e+00,  5.39000e+00, -7.87000e+00,\n",
       "        4.31000e+00, -4.55000e+00,  4.55000e+00,  4.57000e+00,\n",
       "       -4.57000e+00,  5.78000e+00,  8.65000e+00,  5.42000e+00,\n",
       "        5.75000e+00, -4.31000e+00,  7.17000e+00, -4.25000e+00,\n",
       "       -4.80000e+00,  8.24000e+00, -8.24000e+00, -9.60000e+00,\n",
       "       -5.75000e+00, -8.65000e+00,  8.68000e+00,  5.08000e+00,\n",
       "       -6.19000e+00,  7.87000e+00,  1.71700e+01, -5.08000e+00,\n",
       "        6.63000e+00, -6.16000e+00,  4.13000e+00, -4.53000e+00,\n",
       "        6.19000e+00, -5.10000e+00, -5.78000e+00,  4.80000e+00,\n",
       "        6.66000e+00, -6.66000e+00,  2.16200e+01, -3.02600e+01,\n",
       "        1.23600e+01, -1.29700e+01,  1.29700e+01, -8.68000e+00,\n",
       "        1.43400e+01,  5.10000e+00,  6.74000e+00,  4.39000e+00,\n",
       "       -4.19000e+00, -4.39000e+00,  4.19000e+00, -4.37000e+00,\n",
       "        5.04000e+00,  4.20000e+00, -4.20000e+00,  4.37000e+00,\n",
       "        4.22000e+00,  4.16000e+00, -5.62000e+00, -4.40000e+00,\n",
       "       -4.60000e+00,  6.01000e+00,  5.30000e+00,  1.07900e+01,\n",
       "       -4.22000e+00, -4.09000e+00,  1.74200e+01,  6.16000e+00,\n",
       "        7.21000e+00, -1.23600e+01, -1.71700e+01,  9.60000e+00,\n",
       "        1.64700e+01, -2.05900e+01, -9.10000e+00, -8.70800e+01,\n",
       "        9.99000e+00, -4.18000e+00,  1.76700e+01, -4.47000e+00,\n",
       "       -1.07900e+01,  8.41000e+00, -9.24000e+00, -8.96000e+00,\n",
       "        9.31000e+00, -9.52000e+00,  9.24000e+00, -9.31000e+00,\n",
       "       -9.45000e+00,  9.03000e+00,  9.52000e+00,  9.68000e+00,\n",
       "        9.45000e+00, -2.31464e+03])"
      ]
     },
     "execution_count": 11,
     "metadata": {},
     "output_type": "execute_result"
    }
   ],
   "source": [
    "variable='pressureTrend'\n",
    "min,max=min_max(df_estacion,variable)\n",
    "print(variable,min,max)\n",
    "df_estacion[variable][~df_estacion[variable].isna()].unique()"
   ]
  },
  {
   "cell_type": "code",
   "execution_count": 14,
   "metadata": {},
   "outputs": [
    {
     "name": "stdout",
     "output_type": "stream",
     "text": [
      "precipRate 0.0 4915.15\n"
     ]
    },
    {
     "data": {
      "text/plain": [
       "array([0.00000e+00, 5.10000e-01, 2.54000e+00, 2.03000e+00, 2.79000e+00,\n",
       "       1.01600e+01, 2.50000e-01, 1.02000e+00, 1.27000e+00, 1.52000e+00,\n",
       "       1.78000e+00, 2.29000e+00, 3.05000e+00, 3.56000e+00, 4.32000e+00,\n",
       "       4.83000e+00, 5.08000e+00, 5.33000e+00, 3.81000e+00, 6.10000e+00,\n",
       "       6.35000e+00, 3.30000e+00, 4.57000e+00, 5.59000e+00, 7.87000e+00,\n",
       "       8.64000e+00, 2.53975e+03, 7.11000e+00, 8.38000e+00, 8.13000e+00,\n",
       "       9.40000e+00, 6.86000e+00, 7.37000e+00, 8.89000e+00, 6.60000e+00,\n",
       "       1.09200e+01, 1.21900e+01, 1.32100e+01, 1.34600e+01, 1.42200e+01,\n",
       "       1.95600e+01, 2.69200e+01, 3.02300e+01, 3.20000e+01, 1.14300e+01,\n",
       "       1.11800e+01, 1.52400e+01, 1.67600e+01, 9.65000e+00, 1.04100e+01,\n",
       "       1.19400e+01, 1.93000e+01, 2.36200e+01, 2.74300e+01, 2.94600e+01,\n",
       "       2.97200e+01, 9.91000e+00, 1.77800e+01, 1.80300e+01, 1.16800e+01,\n",
       "       1.62600e+01, 1.82900e+01, 1.44800e+01, 1.47300e+01, 1.49900e+01,\n",
       "       2.28600e+01, 2.81900e+01, 3.07300e+01, 3.17500e+01, 3.48000e+01,\n",
       "       3.73400e+01, 3.86100e+01, 3.96200e+01, 3.40400e+01, 3.98800e+01,\n",
       "       4.52100e+01, 4.67400e+01, 4.69900e+01, 4.80100e+01, 4.97800e+01,\n",
       "       2.15900e+01, 2.48900e+01, 2.59100e+01, 2.64200e+01, 2.66700e+01,\n",
       "       4.59990e+02, 1.29500e+01, 1.27000e+01, 2.05700e+01, 2.26100e+01,\n",
       "       2.46400e+01, 1.54900e+01, 2.18400e+01, 3.09900e+01, 3.30200e+01,\n",
       "       3.45400e+01, 2.83460e+02, 1.88000e+01, 1.98100e+01, 2.00700e+01,\n",
       "       2.03200e+01, 2.21000e+01, 3.50500e+01, 3.58100e+01, 3.75900e+01,\n",
       "       1.60000e+01, 1.37200e+01, 2.10800e+01, 2.13400e+01, 2.38800e+01,\n",
       "       1.70200e+01, 3.12400e+01, 3.27700e+01, 3.78500e+01, 2.84500e+01,\n",
       "       4.21600e+01, 4.44500e+01, 4.49600e+01, 1.38278e+03, 2.33700e+01,\n",
       "       2.43800e+01, 4.14000e+01, 1.75300e+01, 1.38532e+03, 2.61600e+01,\n",
       "       2.92100e+01, 3.25100e+01, 3.53100e+01, 3.60700e+01, 1.85400e+01,\n",
       "       4.59700e+01, 1.65100e+01, 2.54000e+01, 2.51500e+01, 1.01549e+03,\n",
       "       3.42900e+01, 4.36900e+01, 5.23200e+01, 5.43600e+01, 5.48600e+01,\n",
       "       5.51200e+01, 1.62050e+02, 3.15000e+01, 3.83500e+01, 3.88600e+01,\n",
       "       4.62300e+01, 5.13100e+01, 5.89300e+01, 6.62900e+01, 7.39100e+01,\n",
       "       8.07700e+01, 8.45800e+01, 8.61100e+01, 6.02000e+01, 6.80700e+01,\n",
       "       7.41700e+01, 7.59500e+01, 7.67100e+01, 7.74700e+01, 7.82300e+01,\n",
       "       3.65800e+01, 1.30300e+02, 2.87000e+01, 2.18950e+02, 2.79400e+01,\n",
       "       5.33400e+01, 6.45200e+01, 7.06100e+01, 7.26400e+01, 7.77200e+01,\n",
       "       3.93700e+01, 5.10500e+01, 5.18200e+01, 4.03900e+01, 5.74000e+01,\n",
       "       6.75600e+01, 8.48400e+01, 3.63200e+01, 4.75000e+01, 3.68300e+01,\n",
       "       4.29300e+01, 1.51511e+03, 1.42621e+03, 2.31100e+01, 4.01300e+01,\n",
       "       4.34300e+01, 7.62000e+00, 1.30560e+02, 2.99700e+01, 9.16900e+01,\n",
       "       9.22000e+01, 3.35300e+01, 9.24310e+02, 1.49610e+02, 4.85100e+01,\n",
       "       2.48670e+02, 2.35200e+02, 2.71800e+01, 1.36804e+03, 3.04800e+01,\n",
       "       4.92800e+01, 5.28300e+01, 3.70800e+01, 2.76900e+01, 3.37800e+01,\n",
       "       4.47000e+01, 4.82600e+01, 4.57200e+01, 4.24200e+01, 1.07163e+03,\n",
       "       1.04699e+03, 1.05740e+03, 7.68350e+02, 4.91515e+03, 2.11201e+03,\n",
       "       7.86890e+02, 1.10846e+03, 1.10922e+03, 1.11023e+03, 1.09830e+03,\n",
       "       6.21540e+02, 6.21790e+02, 6.51260e+02, 1.35380e+02, 1.53920e+02,\n",
       "       3.70590e+02, 3.69060e+02, 1.53670e+02, 4.45338e+03, 4.94790e+02,\n",
       "       3.91410e+02, 4.57710e+02, 4.57450e+02, 4.57200e+02, 4.56950e+02,\n",
       "       4.56690e+02, 2.37338e+03, 1.13259e+03, 6.68000e+01, 4.42000e+01,\n",
       "       2.30380e+02, 6.07100e+01, 1.75510e+02, 1.77290e+02, 2.05490e+02,\n",
       "       1.83390e+02, 1.85670e+02, 2.61290e+03, 1.30658e+03])"
      ]
     },
     "execution_count": 14,
     "metadata": {},
     "output_type": "execute_result"
    }
   ],
   "source": [
    "variable='precipRate'\n",
    "min,max=min_max(df_estacion,variable)\n",
    "print(variable,min,max)\n",
    "df_estacion[variable][~df_estacion[variable].isna()].unique()"
   ]
  },
  {
   "cell_type": "code",
   "execution_count": 16,
   "metadata": {},
   "outputs": [
    {
     "name": "stdout",
     "output_type": "stream",
     "text": [
      "precipTotal 0.0 2539.75\n"
     ]
    },
    {
     "data": {
      "text/plain": [
       "array([0.00000e+00, 5.10000e-01, 2.03000e+00, 2.79000e+00, 1.27000e+00,\n",
       "       1.78000e+00, 2.50000e-01, 1.02000e+00, 1.52000e+00, 2.29000e+00,\n",
       "       3.05000e+00, 3.30000e+00, 3.56000e+00, 4.32000e+00, 4.83000e+00,\n",
       "       5.33000e+00, 6.10000e+00, 6.60000e+00, 6.86000e+00, 7.11000e+00,\n",
       "       8.38000e+00, 9.65000e+00, 9.91000e+00, 1.01600e+01, 1.04100e+01,\n",
       "       1.19400e+01, 1.42200e+01, 1.47300e+01, 1.49900e+01, 1.52400e+01,\n",
       "       1.54900e+01, 1.62600e+01, 1.65100e+01, 1.67600e+01, 1.70200e+01,\n",
       "       1.75300e+01, 1.77800e+01, 1.80300e+01, 1.82900e+01, 1.88000e+01,\n",
       "       1.95600e+01, 1.98100e+01, 2.00700e+01, 2.03200e+01, 2.05700e+01,\n",
       "       2.10800e+01, 2.13400e+01, 2.15900e+01, 2.18400e+01, 2.21000e+01,\n",
       "       2.26100e+01, 2.28600e+01, 3.81000e+00, 5.08000e+00, 6.35000e+00,\n",
       "       7.87000e+00, 9.40000e+00, 1.09200e+01, 1.11800e+01, 1.14300e+01,\n",
       "       1.16800e+01, 1.21900e+01, 1.27000e+01, 1.29500e+01, 1.32100e+01,\n",
       "       1.34600e+01, 1.37200e+01, 1.44800e+01, 1.85400e+01, 1.93000e+01,\n",
       "       2.33700e+01, 2.38800e+01, 2.43800e+01, 2.46400e+01, 2.48900e+01,\n",
       "       2.51500e+01, 2.54000e+01, 4.57000e+00, 5.59000e+00, 7.37000e+00,\n",
       "       8.64000e+00, 8.89000e+00, 2.31100e+01, 2.36200e+01, 2.59100e+01,\n",
       "       2.61600e+01, 2.64200e+01, 2.66700e+01, 2.69200e+01, 2.76900e+01,\n",
       "       2.79400e+01, 2.81900e+01, 2.84500e+01, 2.92100e+01, 2.94600e+01,\n",
       "       2.97200e+01, 3.02300e+01, 3.07300e+01, 3.09900e+01, 3.15000e+01,\n",
       "       3.17500e+01, 3.27700e+01, 3.32700e+01, 3.40400e+01, 3.42900e+01,\n",
       "       3.45400e+01, 3.48000e+01, 3.50500e+01, 3.53100e+01, 3.58100e+01,\n",
       "       3.63200e+01, 3.65800e+01, 3.68300e+01, 3.75900e+01, 3.81000e+01,\n",
       "       3.83500e+01, 3.86100e+01, 3.88600e+01, 3.93700e+01, 3.96200e+01,\n",
       "       3.98800e+01, 4.03900e+01, 4.08900e+01, 4.11500e+01, 4.14000e+01,\n",
       "       4.19100e+01, 4.21600e+01, 4.26700e+01, 4.29300e+01, 4.34300e+01,\n",
       "       4.42000e+01, 4.47000e+01, 4.54700e+01, 4.62300e+01, 4.69900e+01,\n",
       "       4.80100e+01, 4.87700e+01, 5.02900e+01, 5.13100e+01, 5.15600e+01,\n",
       "       5.18200e+01, 5.23200e+01, 5.25800e+01, 5.28300e+01, 2.53975e+03,\n",
       "       8.13000e+00, 1.60000e+01, 3.12400e+01, 3.20000e+01, 3.30200e+01,\n",
       "       3.35300e+01, 3.60700e+01, 3.73400e+01, 3.78500e+01, 4.01300e+01,\n",
       "       4.16600e+01, 2.74300e+01, 2.99700e+01, 3.25100e+01, 4.77500e+01,\n",
       "       5.10500e+01, 5.41000e+01, 5.48600e+01, 5.61300e+01, 5.66400e+01,\n",
       "       5.74000e+01, 5.79100e+01, 5.81700e+01, 5.91800e+01, 5.94400e+01,\n",
       "       2.87000e+01, 4.85100e+01, 4.92800e+01, 4.95300e+01, 4.97800e+01,\n",
       "       5.33400e+01, 5.35900e+01, 5.43600e+01, 5.51200e+01, 5.53700e+01,\n",
       "       5.58800e+01, 5.63900e+01, 5.69000e+01, 5.76600e+01, 5.84200e+01,\n",
       "       5.89300e+01, 5.96900e+01, 5.99400e+01, 6.02000e+01, 6.07100e+01,\n",
       "       6.09600e+01, 6.12100e+01, 6.14700e+01, 6.17200e+01, 6.19800e+01,\n",
       "       6.24800e+01, 6.27400e+01, 6.29900e+01, 6.32500e+01, 6.35000e+01,\n",
       "       6.40100e+01, 6.42600e+01, 6.45200e+01, 4.36900e+01, 5.00400e+01,\n",
       "       4.44500e+01, 4.49600e+01, 6.96000e+01, 7.49300e+01, 7.64500e+01,\n",
       "       7.67100e+01, 7.77200e+01, 7.95000e+01, 4.31800e+01, 4.52100e+01,\n",
       "       4.59700e+01, 4.64800e+01, 4.67400e+01, 4.75000e+01, 4.82600e+01,\n",
       "       5.08000e+01, 4.59990e+02, 5.46100e+01, 6.65500e+01, 6.83300e+01,\n",
       "       7.16300e+01, 8.00100e+01, 8.15300e+01, 8.33100e+01, 8.56000e+01,\n",
       "       8.68700e+01, 8.83900e+01, 8.99200e+01, 9.11900e+01, 9.29600e+01,\n",
       "       9.42300e+01, 9.50000e+01, 9.62700e+01, 9.75400e+01, 9.90600e+01,\n",
       "       1.01090e+02, 1.02870e+02, 1.04390e+02, 1.06680e+02, 1.08200e+02,\n",
       "       1.09470e+02, 1.10740e+02, 1.11510e+02, 1.12520e+02, 1.13540e+02,\n",
       "       1.14050e+02, 1.14810e+02, 1.15570e+02, 1.15820e+02, 1.16080e+02,\n",
       "       1.16330e+02, 1.16590e+02, 1.17090e+02, 1.17350e+02, 1.17600e+02,\n",
       "       1.17860e+02, 1.18110e+02, 1.18360e+02, 6.47700e+01, 6.50200e+01,\n",
       "       6.55300e+01, 6.57900e+01, 6.60400e+01, 6.68000e+01, 6.73100e+01,\n",
       "       6.75600e+01, 6.78200e+01, 6.80700e+01, 6.85800e+01, 6.90900e+01,\n",
       "       6.93400e+01, 6.98500e+01, 7.01000e+01, 7.06100e+01, 7.08700e+01,\n",
       "       7.11200e+01, 7.13700e+01, 7.23900e+01, 7.29000e+01, 7.31500e+01,\n",
       "       7.34100e+01, 7.39100e+01, 7.41700e+01, 5.30900e+01, 6.62900e+01,\n",
       "       7.21400e+01, 7.26400e+01, 7.44200e+01, 7.46800e+01, 7.51800e+01,\n",
       "       7.56900e+01, 7.59500e+01, 7.62000e+01, 7.72200e+01, 7.74700e+01,\n",
       "       7.79800e+01, 7.82300e+01, 7.84900e+01, 7.97600e+01, 8.02600e+01,\n",
       "       8.07700e+01, 8.12800e+01, 8.17900e+01, 8.23000e+01, 8.28000e+01,\n",
       "       8.38200e+01, 8.40700e+01, 8.43300e+01, 8.45800e+01, 8.50900e+01,\n",
       "       8.58500e+01, 8.61100e+01, 8.63600e+01, 8.66100e+01, 8.73800e+01,\n",
       "       1.38278e+03, 1.38532e+03, 9.34700e+01, 9.39800e+01, 9.44900e+01,\n",
       "       9.47400e+01, 9.55000e+01, 9.60100e+01, 9.65200e+01, 9.70300e+01,\n",
       "       9.72800e+01, 8.30600e+01, 8.48400e+01, 8.89000e+01, 8.10300e+01,\n",
       "       8.81400e+01, 8.91500e+01, 8.96600e+01, 9.06800e+01, 9.14400e+01,\n",
       "       9.83000e+01, 9.95700e+01, 1.00840e+02, 1.01600e+02, 1.04900e+02,\n",
       "       1.05660e+02, 1.08710e+02, 1.09220e+02, 1.09730e+02, 1.10240e+02,\n",
       "       1.10490e+02, 1.11000e+02, 1.01549e+03, 1.27760e+02, 7.89900e+01,\n",
       "       8.78800e+01, 8.94100e+01, 9.04200e+01, 9.24600e+01, 9.27100e+01,\n",
       "       9.57600e+01, 9.77900e+01, 9.93100e+01, 1.00080e+02, 1.01350e+02,\n",
       "       1.02110e+02, 1.03120e+02, 1.04140e+02, 1.04650e+02, 1.05410e+02,\n",
       "       1.05920e+02, 1.06430e+02, 1.07190e+02, 1.07700e+02, 1.08970e+02,\n",
       "       1.12010e+02, 1.14550e+02, 1.15060e+02, 1.62050e+02, 7.92500e+01,\n",
       "       1.07950e+02, 1.19130e+02, 1.21410e+02, 1.22940e+02, 1.25220e+02,\n",
       "       1.29790e+02, 1.30300e+02, 1.30560e+02, 1.30810e+02, 1.21160e+02,\n",
       "       1.27250e+02, 1.29030e+02, 1.31320e+02, 1.32590e+02, 1.32840e+02,\n",
       "       1.33600e+02, 1.33860e+02, 1.34370e+02, 1.34620e+02, 1.35130e+02,\n",
       "       1.35380e+02, 1.35640e+02, 1.35890e+02, 1.36140e+02, 1.36910e+02,\n",
       "       1.37410e+02, 1.37670e+02, 1.38680e+02, 1.38940e+02, 1.39450e+02,\n",
       "       1.39700e+02, 1.40210e+02, 1.40460e+02, 1.40720e+02, 1.40970e+02,\n",
       "       1.41220e+02, 1.19380e+02, 1.20400e+02, 1.52400e+02, 1.52650e+02,\n",
       "       1.54690e+02, 1.56970e+02, 1.57480e+02, 1.57730e+02, 1.57990e+02,\n",
       "       1.58500e+02, 1.73990e+02, 1.74240e+02, 1.74500e+02, 1.75010e+02,\n",
       "       2.18950e+02, 1.13790e+02, 1.23950e+02, 1.28270e+02, 1.29540e+02,\n",
       "       1.37920e+02, 1.38430e+02, 1.42240e+02, 1.44270e+02, 1.44780e+02,\n",
       "       1.20900e+02, 1.22680e+02, 1.24210e+02, 1.24710e+02, 1.26240e+02,\n",
       "       1.27510e+02, 1.28020e+02, 1.31060e+02, 1.34110e+02, 1.36400e+02,\n",
       "       1.37160e+02, 8.25500e+01, 9.16900e+01, 9.98200e+01, 1.02360e+02,\n",
       "       1.11250e+02, 1.12270e+02, 1.13030e+02, 1.14300e+02, 1.19890e+02,\n",
       "       1.20650e+02, 1.21920e+02, 1.22170e+02, 2.71800e+01, 3.04800e+01,\n",
       "       4.57200e+01, 4.90200e+01, 5.56300e+01, 5.86700e+01, 6.52800e+01,\n",
       "       7.62000e+00, 3.70800e+01, 3.91200e+01, 4.24200e+01, 3.37800e+01,\n",
       "       3.22600e+01, 5.20700e+01, 5.71500e+01, 8.05200e+01, 1.39700e+01,\n",
       "       8.28040e+02, 1.57500e+01, 2.54000e+00, 2.41300e+01, 2.56500e+01,\n",
       "       4.06400e+01, 4.39400e+01, 4.72400e+01, 5.38500e+01, 6.70600e+01,\n",
       "       6.88300e+01, 7.03600e+01, 7.18800e+01, 7.36600e+01, 7.54400e+01,\n",
       "       7.69600e+01, 8.20400e+01, 9.39800e+02, 2.89600e+01])"
      ]
     },
     "execution_count": 16,
     "metadata": {},
     "output_type": "execute_result"
    }
   ],
   "source": [
    "variable='precipTotal'\n",
    "min,max=min_max(df_estacion,variable)\n",
    "print(variable,min,max)\n",
    "df_estacion[variable][~df_estacion[variable].isna()].unique()"
   ]
  },
  {
   "cell_type": "markdown",
   "metadata": {},
   "source": [
    "## ORM"
   ]
  },
  {
   "cell_type": "markdown",
   "metadata": {},
   "source": [
    "### Wunder"
   ]
  },
  {
   "cell_type": "markdown",
   "metadata": {},
   "source": [
    "Motores"
   ]
  },
  {
   "cell_type": "code",
   "execution_count": 14,
   "metadata": {},
   "outputs": [
    {
     "data": {
      "text/plain": [
       "' connection_string = \"DRIVER=ODBC Driver 17 for SQL Server;SERVER=localhost;DATABASE=estaciones_wunder;trusted_connection=yes\"\\nconnection_url = URL.create(\"mssql+pyodbc\", query={\"odbc_connect\": connection_string})\\nengine = create_engine(connection_url) '"
      ]
     },
     "execution_count": 14,
     "metadata": {},
     "output_type": "execute_result"
    }
   ],
   "source": [
    "# Conexión con SQL SERVER\n",
    "\"\"\" connection_string = \"DRIVER=ODBC Driver 17 for SQL Server;SERVER=localhost;DATABASE=estaciones_wunder;trusted_connection=yes\"\n",
    "connection_url = URL.create(\"mssql+pyodbc\", query={\"odbc_connect\": connection_string})\n",
    "engine = create_engine(connection_url) \"\"\""
   ]
  },
  {
   "cell_type": "code",
   "execution_count": 60,
   "metadata": {},
   "outputs": [],
   "source": [
    "# Conexión con MySQL\n",
    "engine = create_engine(\"mysql+mysqlconnector://root:@localhost:3306/estaciones_wunder\")\n",
    "# Test the connection\n",
    "connection = engine.connect()\n"
   ]
  },
  {
   "cell_type": "markdown",
   "metadata": {},
   "source": [
    "Tablas"
   ]
  },
  {
   "cell_type": "code",
   "execution_count": 61,
   "metadata": {},
   "outputs": [],
   "source": [
    "class Base(DeclarativeBase):\n",
    "    pass"
   ]
  },
  {
   "cell_type": "code",
   "execution_count": 62,
   "metadata": {},
   "outputs": [],
   "source": [
    "class Estacion(Base):\n",
    "     __tablename__ = \"estaciones\"\n",
    "     __table_args__ = {'extend_existing': True}\n",
    "     \n",
    "     id_estacion: Mapped[int] = mapped_column(primary_key=True)\n",
    "     stationID: Mapped[str] = mapped_column(String(20),unique=True)\n",
    "     #En los siguientes 3 atributos se permite nulo porque hay estaciones sin observaciones\n",
    "     tz: Mapped[str] = mapped_column(String(50),nullable=True)\n",
    "     lat: Mapped[float] = mapped_column(Float(),nullable=True)\n",
    "     lon: Mapped[float] = mapped_column(Float(),nullable=True)\n",
    "     inicio: Mapped[str] = mapped_column(DateTime(),nullable=True)\n",
    "     comentario: Mapped[str] = mapped_column(String(50),nullable=True)\n",
    "     #activa: Mapped[bool] = mapped_column(Boolean(),default=1)\n",
    "     observaciones: Mapped[List[\"Observacion\"]] = relationship(back_populates=\"estacion\")\n",
    "\n",
    "     def __repr__(self) -> str:\n",
    "         return f\"stationID={self.stationID!r}\""
   ]
  },
  {
   "cell_type": "code",
   "execution_count": 63,
   "metadata": {},
   "outputs": [],
   "source": [
    "class Observacion(Base):\n",
    "    __tablename__ = \"observaciones\"\n",
    "    # Defino la restricción para evitar registros que compartan el id de la estación y la fecha (reportes duplicados)\n",
    "    __table_args__ = (UniqueConstraint('id_estacion','obsTimeLocal'),{'extend_existing': True})\n",
    "\n",
    "    id_observacion: Mapped[int] = mapped_column(primary_key=True)\n",
    "    id_estacion: Mapped[int] = mapped_column(ForeignKey(\"estaciones.id_estacion\"))\n",
    "    obsTimeLocal: Mapped[str] = mapped_column(DateTime())\n",
    "    solarRadiationHigh_watts_m2: Mapped[float] = mapped_column(Float(),nullable=True)\n",
    "    uvHigh_indice: Mapped[float] = mapped_column(Float(),nullable=True)\n",
    "    winddirAvg_grado: Mapped[float] = mapped_column(SmallInteger(),nullable=True)\n",
    "    humidityHigh_porcentaje : Mapped[float] = mapped_column(SmallInteger(),nullable=True) #Llevar a tinyint\n",
    "    humidityLow_porcentaje : Mapped[float] = mapped_column(SmallInteger(),nullable=True) #Llevar a tinyint\n",
    "    humidityAvg_porcentaje : Mapped[float] = mapped_column(SmallInteger(),nullable=True) #Llevar a tinyint\n",
    "    tempHigh_grados_C : Mapped[float] = mapped_column(Float(),nullable=True) \n",
    "    tempLow_grados_C : Mapped[float] = mapped_column(Float(),nullable=True) \n",
    "    tempAvg_grados_C : Mapped[float] = mapped_column(Float(),nullable=True) \n",
    "    windspeedHigh_km_h : Mapped[float] = mapped_column(Float(),nullable=True)\n",
    "    windspeedLow_km_h : Mapped[float] = mapped_column(Float(),nullable=True)\n",
    "    windspeedAvg_km_h : Mapped[float] = mapped_column(Float(),nullable=True)\n",
    "    windgustHigh_km_h : Mapped[float] = mapped_column(Float(),nullable=True)\n",
    "    windgustLow_km_h : Mapped[float] = mapped_column(Float(),nullable=True)\n",
    "    windgustAvg_km_h : Mapped[float] = mapped_column(Float(),nullable=True)\n",
    "    dewptHigh_grados_C : Mapped[float] = mapped_column(Float(),nullable=True)\n",
    "    dewptLow_grados_C : Mapped[float] = mapped_column(Float(),nullable=True)\n",
    "    dewptAvg_grados_C : Mapped[float] = mapped_column(Float(),nullable=True)\n",
    "    windchillHigh_indefinda : Mapped[float] = mapped_column(Float(),nullable=True)\n",
    "    windchillLow_indefinda : Mapped[float] = mapped_column(Float(),nullable=True)\n",
    "    windchillAvg_indefinda : Mapped[float] = mapped_column(Float(),nullable=True)\n",
    "    heatindexHigh_indefinda : Mapped[float] = mapped_column(Float(),nullable=True)\n",
    "    heatindexLow_indefinda : Mapped[float] = mapped_column(Float(),nullable=True)\n",
    "    heatindexAvg_indefinda : Mapped[float] = mapped_column(Float(),nullable=True)\n",
    "    pressureMax_hPa : Mapped[float] = mapped_column(Float(),nullable=True)\n",
    "    pressureMin_hPa : Mapped[float] = mapped_column(Float(),nullable=True)\n",
    "    pressureTrend_hPa : Mapped[float] = mapped_column(Float(),nullable=True)\n",
    "    precipRate_mm : Mapped[float] = mapped_column(Float(),nullable=True)\n",
    "    precipTotal_mm : Mapped[float] = mapped_column(Float(),nullable=True)\n",
    "    dia_con_obs: Mapped[bool] = mapped_column(Boolean())\n",
    "    #dia_completo: Mapped[bool] = mapped_column(Boolean())\n",
    "    estacion: Mapped[Estacion] = relationship(back_populates=\"observaciones\")\n",
    "\n",
    "    def __repr__(self) -> str:\n",
    "         return f\"id_estacion={self.id_estacion!r}, obsTimeLocal={self.obsTimeLocal!r}\""
   ]
  },
  {
   "cell_type": "code",
   "execution_count": 65,
   "metadata": {},
   "outputs": [],
   "source": [
    "Base.metadata.create_all(engine)"
   ]
  },
  {
   "cell_type": "code",
   "execution_count": 64,
   "metadata": {},
   "outputs": [],
   "source": [
    "Observacion.__table__.drop(engine)\n",
    "Estacion.__table__.drop(engine)"
   ]
  },
  {
   "cell_type": "markdown",
   "metadata": {},
   "source": [
    "CRUD ESTACIONES"
   ]
  },
  {
   "cell_type": "code",
   "execution_count": 67,
   "metadata": {},
   "outputs": [],
   "source": [
    "def obtener_datos_utiles_estaciones(info_estaciones:pd.DataFrame)->dict:\n",
    "    \"\"\" Construye un diccionario con los metadatos de las estaciones \"\"\"\n",
    "    info_util_estaciones = []\n",
    "    for i,estacion in info_estaciones.iterrows():\n",
    "        info_util_estacion = {}\n",
    "        info_util_estacion['stationID'] = estacion['stationID']\n",
    "        info_util_estacion['lat'] = estacion['lat']\n",
    "        info_util_estacion['lon'] = estacion['lon']\n",
    "        info_util_estacion['tz'] = estacion['tz']\n",
    "        info_util_estacion['inicio'] = str(estacion['inicio'])\n",
    "        info_util_estacion['comentario'] = estacion['comentario']\n",
    "        info_util_estaciones.append(info_util_estacion)\n",
    "    return info_util_estaciones    "
   ]
  },
  {
   "cell_type": "code",
   "execution_count": null,
   "metadata": {},
   "outputs": [],
   "source": [
    "def insertar_estaciones(estaciones:list[dict])->None:\n",
    "    with Session(engine) as session:\n",
    "        for estacion in estaciones:\n",
    "            #Creo el objeto de la clase estación. \n",
    "            # Tengo que imputar None a los faltantes para no tener problemas luego en la inserción de las estaciones.\n",
    "            # Tipos de faltantes. np.nan | np.float(nan) | pandas._libs.tslibs.nattype.NaTType -> dan errores en la inserción\n",
    "            obj_estacion = Estacion(\n",
    "                stationID= estacion['stationID'],\n",
    "                tz= estacion['tz'] if estacion['comentario'] != 'sin observaciones' else None,\n",
    "                lat= float(estacion['lat']) if estacion['comentario'] != 'sin observaciones' else None,\n",
    "                lon= float(estacion['lon']) if estacion['comentario'] != 'sin observaciones' else None,\n",
    "                inicio= estacion['inicio'] if estacion['comentario'] != 'sin observaciones' else None,\n",
    "                comentario= None if estacion['comentario'] != 'sin observaciones' else estacion['comentario'],\n",
    "            )\n",
    "            print(obj_estacion)\n",
    "            session.add(obj_estacion) \n",
    "        session.commit()"
   ]
  },
  {
   "cell_type": "code",
   "execution_count": 69,
   "metadata": {},
   "outputs": [],
   "source": [
    "estaciones_meta_datos =obtener_datos_utiles_estaciones(estaciones_elegidas)"
   ]
  },
  {
   "cell_type": "code",
   "execution_count": 70,
   "metadata": {},
   "outputs": [
    {
     "name": "stdout",
     "output_type": "stream",
     "text": [
      "stationID='IROCUA51'\n",
      "stationID='ISANTA538'\n",
      "stationID='IROSAR86'\n",
      "stationID='IJOVIT1'\n",
      "stationID='ISANJA13'\n",
      "stationID='ICONSTIT3'\n",
      "stationID='IMELIN1'\n",
      "stationID='IROSEG16'\n",
      "stationID='ISANLO49'\n",
      "stationID='IGENER305'\n",
      "stationID='IARMST25'\n",
      "stationID='IROSAR68'\n",
      "stationID='IDEPAR77'\n",
      "stationID='IROCUA44'\n",
      "stationID='IROSAR103'\n",
      "stationID='ILOSMO6'\n",
      "stationID='IGENER220'\n",
      "stationID='IJUREZ17'\n",
      "stationID='IROSAR70'\n",
      "stationID='IMARCO44'\n",
      "stationID='IPERGA21'\n",
      "stationID='IROCUA49'\n",
      "stationID='IUNINDEP8'\n",
      "stationID='IGENER186'\n",
      "stationID='IROSAR30'\n",
      "stationID='ISANTAFE23'\n",
      "stationID='IARIAS1'\n",
      "stationID='IAMENB2'\n",
      "stationID='IADELI1'\n",
      "stationID='IBELGR31'\n",
      "stationID='ICAADA3'\n",
      "stationID='ICALAM23'\n",
      "stationID='ICAADA2'\n",
      "stationID='IBUSTI3'\n",
      "stationID='IBIGAN11'\n",
      "stationID='ICASER40'\n",
      "stationID='ICASER25'\n",
      "stationID='ICORDOBA23'\n",
      "stationID='ICASER21'\n",
      "stationID='ICALAM32'\n",
      "stationID='ICASER34'\n",
      "stationID='ICASER12'\n",
      "stationID='ICONSTIT2'\n",
      "stationID='ICASIL2'\n",
      "stationID='ICONST54'\n",
      "stationID='ICONSTIT4'\n",
      "stationID='ICOLN10'\n",
      "stationID='IDEPAR62'\n",
      "stationID='ICRDOBAV12'\n",
      "stationID='IDESPE1'\n",
      "stationID='IDESPE2'\n",
      "stationID='IDIEGO12'\n",
      "stationID='IGENER106'\n",
      "stationID='IGENER126'\n",
      "stationID='IGENER124'\n",
      "stationID='IFUNES8'\n",
      "stationID='IGENER96'\n",
      "stationID='IGENER149'\n",
      "stationID='IGENER189'\n",
      "stationID='IGENER235'\n",
      "stationID='IGENER147'\n",
      "stationID='IGENER180'\n",
      "stationID='IGENER296'\n",
      "stationID='IGENER245'\n",
      "stationID='IIRION3'\n",
      "stationID='IINRIV1'\n",
      "stationID='IGENER348'\n",
      "stationID='IGENER364'\n",
      "stationID='IIRIONDO2'\n",
      "stationID='IJUNND5'\n",
      "stationID='IJUREZ12'\n",
      "stationID='IJUNND3'\n",
      "stationID='IISLAV1'\n",
      "stationID='IIRION6'\n",
      "stationID='IJUREZ15'\n",
      "stationID='ILASPA72'\n",
      "stationID='ILASPA81'\n",
      "stationID='ILACHI9'\n",
      "stationID='ILEAND6'\n",
      "stationID='IJUREZ19'\n",
      "stationID='IMARCO49'\n",
      "stationID='ILEAND30'\n",
      "stationID='IMARCO41'\n",
      "stationID='ILEAND17'\n",
      "stationID='IPERGA4'\n",
      "stationID='IMARCOSJ3'\n",
      "stationID='IONCAT1'\n",
      "stationID='IPERGA20'\n",
      "stationID='IPERGA17'\n",
      "stationID='IROSARIO11'\n",
      "stationID='IPERGAMI6'\n",
      "stationID='IPRESI18'\n",
      "stationID='IPERGA22'\n",
      "stationID='IROCUA46'\n",
      "stationID='IRODEL10'\n",
      "stationID='IROSAR106'\n",
      "stationID='IROSAR100'\n",
      "stationID='IROSAR107'\n",
      "stationID='IROSAR101'\n",
      "stationID='IROCUART12'\n",
      "stationID='IROSAR5'\n",
      "stationID='IROSAR14'\n",
      "stationID='IROSAR56'\n",
      "stationID='IROSAR38'\n",
      "stationID='IROSAR18'\n",
      "stationID='IROSAR60'\n",
      "stationID='IROSAR62'\n",
      "stationID='IROSAR84'\n",
      "stationID='IROSEG26'\n",
      "stationID='IROSEG9'\n",
      "stationID='IROSAR89'\n",
      "stationID='IROSAR97'\n",
      "stationID='IROSARIO39'\n",
      "stationID='ISANJAVI8'\n",
      "stationID='ISANJU117'\n",
      "stationID='IROSEG28'\n",
      "stationID='ISANFO4'\n",
      "stationID='ISANJO74'\n",
      "stationID='ISANLORE33'\n",
      "stationID='ISANLO71'\n",
      "stationID='ISANNI16'\n",
      "stationID='ISANLORE34'\n",
      "stationID='ISANTA1211'\n",
      "stationID='ISANNI7'\n",
      "stationID='ISANTA43'\n",
      "stationID='ISANNICO24'\n",
      "stationID='ISANTA203'\n",
      "stationID='ISANNI35'\n",
      "stationID='ISANTAFE60'\n",
      "stationID='ITORTU3'\n",
      "stationID='ISANTAFE105'\n",
      "stationID='IUNIND8'\n",
      "stationID='ISARGE5'\n",
      "stationID='ICASER32'\n",
      "stationID='IPREZ1'\n",
      "stationID='IVILLA133'\n",
      "stationID='ICASER41'\n",
      "stationID='IVILLA1083'\n",
      "stationID='IVENAD3'\n",
      "stationID='ICASER42'\n",
      "stationID='IJUNDD2'\n",
      "stationID='IROSAR110'\n",
      "stationID='IROSAR98'\n"
     ]
    }
   ],
   "source": [
    "insertar_estaciones(estaciones_meta_datos)"
   ]
  },
  {
   "cell_type": "markdown",
   "metadata": {},
   "source": [
    "CRUD OBSERVACIONES"
   ]
  },
  {
   "cell_type": "code",
   "execution_count": null,
   "metadata": {},
   "outputs": [],
   "source": [
    "\"\"\" var_sin_unidad=['stationID',\"tz\",\"obsTimeUtc\",\"obsTimeLocal\",\"epoch\",\"lat\",\"lon\",\"solarRadiationHigh\",\"uvHigh\",\"winddirAvg\",\"humidityHigh\",\"humidityLow\",\"humidityAvg\",\"qcStatus\"]\n",
    "var_con_unidad=[\"tempHigh\",\"tempLow\",\"tempAvg\",\"windspeedHigh\",\"windspeedLow\",\"windspeedAvg\",\"windgustHigh\",\"windgustLow\",\"windgustAvg\",\"dewptHigh\",\"dewptLow\",\"dewptAvg\",\"windchillHigh\",\"windchillLow\",\"windchillAvg\",\"heatindexHigh\",\"heatindexLow\",\"heatindexAvg\",\"pressureMax\",\"pressureMin\",\"pressureTrend\",\"precipRate\",\"precipTotal\"]\n",
    "var_wunder=var_sin_unidad+var_con_unidad \"\"\""
   ]
  },
  {
   "cell_type": "code",
   "execution_count": 31,
   "metadata": {},
   "outputs": [],
   "source": [
    "def ORM_extraer_campos(estacion:Estacion,observaciones:list,dia:date,stationId:str)->list:\n",
    "    \"\"\"agrega observaciones al objeto estación\"\"\"\n",
    "    if (len(observaciones)==0):\n",
    "        obs = Observacion(\n",
    "                obsTimeLocal=str(dia),\n",
    "                dia_con_obs= 0,\n",
    "        )\n",
    "        estacion.observaciones.append(obs)\n",
    "    else:\n",
    "        for observacion in observaciones:\n",
    "            obs = Observacion(\n",
    "                obsTimeLocal=observacion['obsTimeLocal'],\n",
    "                solarRadiationHigh_watts_m2= observacion['solarRadiationHigh'],\n",
    "                uvHigh_indice= observacion['uvHigh'],\n",
    "                winddirAvg_grado = observacion['winddirAvg'],\n",
    "                humidityHigh_porcentaje = observacion['humidityHigh'],\n",
    "                humidityLow_porcentaje = observacion['humidityLow'],\n",
    "                humidityAvg_porcentaje = observacion['humidityAvg'],\n",
    "                tempHigh_grados_C = observacion['metric']['tempHigh'],\n",
    "                tempLow_grados_C = observacion['metric']['tempLow'],\n",
    "                tempAvg_grados_C = observacion['metric']['tempAvg'],\n",
    "                windspeedHigh_km_h = observacion['metric']['windspeedHigh'],\n",
    "                windspeedLow_km_h = observacion['metric']['windspeedLow'],\n",
    "                windspeedAvg_km_h = observacion['metric']['windspeedAvg'],\n",
    "                windgustHigh_km_h = observacion['metric']['windgustHigh'],\n",
    "                windgustLow_km_h = observacion['metric']['windgustLow'],\n",
    "                windgustAvg_km_h = observacion['metric']['windgustAvg'],\n",
    "                dewptHigh_grados_C = observacion['metric']['dewptHigh'],\n",
    "                dewptLow_grados_C = observacion['metric']['dewptLow'],\n",
    "                dewptAvg_grados_C = observacion['metric']['dewptAvg'],\n",
    "                windchillHigh_indefinda = observacion['metric']['windchillHigh'],\n",
    "                windchillLow_indefinda = observacion['metric']['windchillLow'],\n",
    "                windchillAvg_indefinda = observacion['metric']['windchillAvg'],\n",
    "                heatindexHigh_indefinda = observacion['metric']['heatindexHigh'],\n",
    "                heatindexLow_indefinda = observacion['metric']['heatindexLow'],\n",
    "                heatindexAvg_indefinda = observacion['metric']['heatindexAvg'],\n",
    "                pressureMax_hPa = observacion['metric']['pressureMax'],\n",
    "                pressureMin_hPa = observacion['metric']['pressureMin'],\n",
    "                pressureTrend_hPa = observacion['metric']['pressureTrend'],\n",
    "                precipRate_mm = observacion['metric']['precipRate'],\n",
    "                precipTotal_mm = observacion['metric']['precipTotal'],\n",
    "                dia_con_obs= 1,\n",
    "            )\n",
    "            estacion.observaciones.append(obs)"
   ]
  },
  {
   "cell_type": "code",
   "execution_count": 28,
   "metadata": {},
   "outputs": [
    {
     "data": {
      "text/plain": [
       "0     2024-09-11 00:00:00\n",
       "1     2024-09-11 00:00:00\n",
       "2     2024-02-22 21:39:42\n",
       "3     2024-04-25 23:59:47\n",
       "4     2024-09-11 00:00:00\n",
       "              ...        \n",
       "138   2024-09-11 00:00:00\n",
       "139   2024-09-11 00:00:00\n",
       "140   2024-09-11 00:00:00\n",
       "141   2024-09-11 00:00:00\n",
       "142   2024-09-11 00:00:00\n",
       "Name: fecha_ultimo_reporte, Length: 143, dtype: datetime64[ns]"
      ]
     },
     "execution_count": 28,
     "metadata": {},
     "output_type": "execute_result"
    }
   ],
   "source": [
    "estaciones_elegidas['fecha_ultimo_reporte']"
   ]
  },
  {
   "cell_type": "code",
   "execution_count": 34,
   "metadata": {},
   "outputs": [],
   "source": [
    "def insertar_reportes_dia(fecha:date,claves_api:list[str])->None:\n",
    "    numero_llamada_global=0\n",
    "    numero_llamada_api_key=0\n",
    "    #Seteo de variables\n",
    "    api_key=claves_api[0]\n",
    "    numero_error_conexion=0\n",
    "    recurso=''\n",
    "    with Session(engine) as session:\n",
    "        estaciones = session.query(Estacion).all()\n",
    "        for estacion_obj in estaciones:\n",
    "            estacion_id=estacion_obj.stationID\n",
    "            if (numero_llamada_api_key==1400):\n",
    "                    imprimir_mensaje(situacion='llamada 1400',vieja_api_key=api_key)\n",
    "                    api_key=cambiar_api_key(conjunto_api_key=api_keys,api_key_actual=api_key)\n",
    "                    #Si se agotaron las api keys se rompe el bucle white\n",
    "                    if (api_key==''):\n",
    "                        break  \n",
    "                    numero_llamada_api_key=0\n",
    "            fecha_str = \"{:04d}\".format(fecha.year) + \"{:02d}\".format(fecha.month) + \"{:02d}\".format(fecha.day)\n",
    "            recurso=f'https://api.weather.com/v2/pws/history/all?stationId={estacion_id}&format=json&units=m&apiKey={api_key}&numericPrecision=decimal&date={fecha_str}'\n",
    "            # Se sale del bluce si se pudo realizar la llamada a la estacion o si se agotaron las api keys \n",
    "            while True:\n",
    "                try:\n",
    "                    # Mandatoriamente se debe indicar un tiempo límite de espera para evitar que la llamada quede inconclusa por falta de respuesta de la API\n",
    "                    respuesta = requests.get(recurso,timeout=60,headers={'Cache-Control': 'no-cache'})\n",
    "                    codigo_respusta=respuesta.status_code\n",
    "                    numero_llamada_api_key+=1\n",
    "                    numero_llamada_global+=1\n",
    "                    # Status Code 200: OK. The request has succeeded.\n",
    "                    # Status Code 204: No Data Found for specific query. The 204 status code will have an empty response body.\n",
    "                    if (codigo_respusta==200 or codigo_respusta==204):\n",
    "                        observaciones_un_dia = respuesta.json()['observations'] if codigo_respusta==200 else [] \n",
    "                        #total_observaciones+=ORM_extraer_campos(IPREZ1,observaciones_un_dia,fecha,estacion_id,var_w)\n",
    "                        ORM_extraer_campos(estacion=estacion_obj,observaciones=observaciones_un_dia,dia=fecha,stationId=estacion_id)\n",
    "                        break\n",
    "                    elif (codigo_respusta==401):\n",
    "                        # Status Code 401: Unauthorized. The request requires authentication.\n",
    "                        imprimir_mensaje(situacion='api key desautorizada',status_code=codigo_respusta,vieja_api_key=api_key)\n",
    "                        api_key=cambiar_api_key(conjunto_api_key=api_keys,api_key_actual=api_key)\n",
    "                        #Si se agotaron las api keys se rompe el bucle white\n",
    "                        if (api_key==''):\n",
    "                            break  \n",
    "                        numero_llamada_api_key=0      \n",
    "                    elif (codigo_respusta==500):\n",
    "                        imprimir_mensaje(situacion='el servidor no contesta',status_code=codigo_respusta)\n",
    "                        una_hora=60*60\n",
    "                        #Se pausa la ejecución para aguardar que normalicen el funcionamiento del servidor \n",
    "                        time.sleep(una_hora)\n",
    "                    else:\n",
    "                        imprimir_mensaje(situacion='respesta del servidor desconocida',status_code=codigo_respusta,url=recurso)    \n",
    "                        una_hora=60*60\n",
    "                        time.sleep(una_hora)\n",
    "                except requests.exceptions.RequestException as error:\n",
    "                    numero_error_conexion+=1\n",
    "                    imprimir_mensaje(situacion='error de conexión',n_error_con=numero_error_conexion,problema=error) \n",
    "                    un_minuto=60\n",
    "                    #Se pausa la ejecución para aguardar que normalicen el funcionamiento del servidor \n",
    "                    time.sleep(un_minuto)   \n",
    "            #Sale del while y corroborra que se pueda pasar a la siguiente estación \n",
    "            if (api_key==''):    \n",
    "                imprimir_mensaje(situacion='sin api keys',url=recurso)\n",
    "                break\n",
    "            \n",
    "            imprimir_mensaje(situacion='cambio estacion',identificador_estacion=estacion_id)\n",
    "        session.commit()  \n",
    "                \n",
    "    imprimir_mensaje(situacion='fin ejecución',llamadas_totales=numero_llamada_global)  "
   ]
  },
  {
   "cell_type": "code",
   "execution_count": 35,
   "metadata": {},
   "outputs": [
    {
     "name": "stdout",
     "output_type": "stream",
     "text": [
      "se cargaron todas las observacines de IADELI1\n",
      "se cargaron todas las observacines de IAMENB2\n",
      "se cargaron todas las observacines de IARIAS1\n",
      "se cargaron todas las observacines de IARMST25\n",
      "se cargaron todas las observacines de IBELGR31\n",
      "se cargaron todas las observacines de IBIGAN11\n",
      "se cargaron todas las observacines de IBUSTI3\n",
      "se cargaron todas las observacines de ICAADA2\n",
      "se cargaron todas las observacines de ICAADA3\n",
      "se cargaron todas las observacines de ICALAM23\n",
      "se cargaron todas las observacines de ICALAM32\n",
      "se cargaron todas las observacines de ICASER12\n",
      "se cargaron todas las observacines de ICASER21\n",
      "se cargaron todas las observacines de ICASER25\n",
      "se cargaron todas las observacines de ICASER34\n",
      "se cargaron todas las observacines de ICASER40\n",
      "se cargaron todas las observacines de ICASER42\n",
      "se cargaron todas las observacines de ICASIL2\n",
      "se cargaron todas las observacines de ICOLN10\n",
      "se cargaron todas las observacines de ICONST54\n",
      "se cargaron todas las observacines de ICONSTIT2\n",
      "se cargaron todas las observacines de ICONSTIT3\n",
      "se cargaron todas las observacines de ICONSTIT4\n",
      "se cargaron todas las observacines de ICORDOBA23\n",
      "se cargaron todas las observacines de ICRDOBAV12\n",
      "se cargaron todas las observacines de IDEPAR62\n",
      "se cargaron todas las observacines de IDEPAR77\n",
      "se cargaron todas las observacines de IDESPE1\n",
      "se cargaron todas las observacines de IDESPE2\n",
      "se cargaron todas las observacines de IDIEGO12\n",
      "se cargaron todas las observacines de IFUNES8\n",
      "se cargaron todas las observacines de IGENER96\n",
      "se cargaron todas las observacines de IGENER106\n",
      "se cargaron todas las observacines de IGENER124\n",
      "se cargaron todas las observacines de IGENER126\n",
      "se cargaron todas las observacines de IGENER147\n",
      "se cargaron todas las observacines de IGENER149\n",
      "se cargaron todas las observacines de IGENER180\n",
      "se cargaron todas las observacines de IGENER186\n",
      "se cargaron todas las observacines de IGENER189\n",
      "se cargaron todas las observacines de IGENER220\n",
      "se cargaron todas las observacines de IGENER235\n",
      "se cargaron todas las observacines de IGENER245\n",
      "se cargaron todas las observacines de IGENER296\n",
      "se cargaron todas las observacines de IGENER305\n",
      "se cargaron todas las observacines de IGENER348\n",
      "se cargaron todas las observacines de IGENER364\n",
      "se cargaron todas las observacines de IINRIV1\n",
      "se cargaron todas las observacines de IIRION3\n",
      "se cargaron todas las observacines de IIRION6\n",
      "se cargaron todas las observacines de IIRIONDO2\n",
      "se cargaron todas las observacines de IISLAV1\n",
      "se cargaron todas las observacines de IJOVIT1\n",
      "se cargaron todas las observacines de IJUNDD2\n",
      "se cargaron todas las observacines de IJUNND3\n",
      "se cargaron todas las observacines de IJUNND5\n",
      "se cargaron todas las observacines de IJUREZ12\n",
      "se cargaron todas las observacines de IJUREZ15\n",
      "se cargaron todas las observacines de IJUREZ17\n",
      "se cargaron todas las observacines de IJUREZ19\n",
      "se cargaron todas las observacines de ILACHI9\n",
      "se cargaron todas las observacines de ILASPA72\n",
      "se cargaron todas las observacines de ILASPA81\n",
      "se cargaron todas las observacines de ILEAND6\n",
      "se cargaron todas las observacines de ILEAND17\n",
      "se cargaron todas las observacines de ILEAND30\n",
      "se cargaron todas las observacines de ILOSMO6\n",
      "se cargaron todas las observacines de IMARCO41\n",
      "se cargaron todas las observacines de IMARCO44\n",
      "se cargaron todas las observacines de IMARCO49\n",
      "se cargaron todas las observacines de IMARCOSJ3\n",
      "se cargaron todas las observacines de IMELIN1\n",
      "se cargaron todas las observacines de IONCAT1\n",
      "se cargaron todas las observacines de IPERGA4\n",
      "se cargaron todas las observacines de IPERGA17\n",
      "se cargaron todas las observacines de IPERGA20\n",
      "se cargaron todas las observacines de IPERGA21\n",
      "se cargaron todas las observacines de IPERGA22\n",
      "se cargaron todas las observacines de IPERGAMI6\n",
      "se cargaron todas las observacines de IPRESI18\n",
      "se cargaron todas las observacines de IROCUA44\n",
      "se cargaron todas las observacines de IROCUA46\n",
      "se cargaron todas las observacines de IROCUA49\n",
      "se cargaron todas las observacines de IROCUA51\n",
      "se cargaron todas las observacines de IROCUART12\n",
      "se cargaron todas las observacines de IRODEL10\n",
      "se cargaron todas las observacines de IROSAR100\n",
      "se cargaron todas las observacines de IROSAR101\n",
      "se cargaron todas las observacines de IROSAR103\n",
      "se cargaron todas las observacines de IROSAR106\n",
      "se cargaron todas las observacines de IROSAR107\n",
      "se cargaron todas las observacines de IROSAR110\n",
      "se cargaron todas las observacines de IROSAR5\n",
      "se cargaron todas las observacines de IROSAR14\n",
      "se cargaron todas las observacines de IROSAR18\n",
      "se cargaron todas las observacines de IROSAR30\n",
      "se cargaron todas las observacines de IROSAR38\n",
      "se cargaron todas las observacines de IROSAR56\n",
      "se cargaron todas las observacines de IROSAR60\n",
      "se cargaron todas las observacines de IROSAR62\n",
      "se cargaron todas las observacines de IROSAR68\n",
      "se cargaron todas las observacines de IROSAR70\n",
      "se cargaron todas las observacines de IROSAR84\n",
      "se cargaron todas las observacines de IROSAR86\n",
      "se cargaron todas las observacines de IROSAR89\n",
      "se cargaron todas las observacines de IROSAR97\n",
      "se cargaron todas las observacines de IROSAR98\n",
      "se cargaron todas las observacines de IROSARIO11\n",
      "se cargaron todas las observacines de IROSARIO39\n",
      "se cargaron todas las observacines de IROSEG9\n",
      "se cargaron todas las observacines de IROSEG16\n",
      "se cargaron todas las observacines de IROSEG26\n",
      "se cargaron todas las observacines de IROSEG28\n",
      "se cargaron todas las observacines de ISANFO4\n",
      "se cargaron todas las observacines de ISANJA13\n",
      "se cargaron todas las observacines de ISANJAVI8\n",
      "se cargaron todas las observacines de ISANJO74\n",
      "se cargaron todas las observacines de ISANJU117\n",
      "se cargaron todas las observacines de ISANLO49\n",
      "se cargaron todas las observacines de ISANLO71\n",
      "se cargaron todas las observacines de ISANLORE33\n",
      "se cargaron todas las observacines de ISANLORE34\n",
      "se cargaron todas las observacines de ISANNI7\n",
      "se cargaron todas las observacines de ISANNI16\n",
      "se cargaron todas las observacines de ISANNI35\n",
      "se cargaron todas las observacines de ISANNICO24\n",
      "se cargaron todas las observacines de ISANTA43\n",
      "se cargaron todas las observacines de ISANTA203\n",
      "se cargaron todas las observacines de ISANTA538\n",
      "se cargaron todas las observacines de ISANTA1211\n",
      "se cargaron todas las observacines de ISANTAFE23\n",
      "se cargaron todas las observacines de ISANTAFE60\n",
      "se cargaron todas las observacines de ISANTAFE105\n",
      "se cargaron todas las observacines de ISARGE5\n",
      "se cargaron todas las observacines de ITORTU3\n",
      "se cargaron todas las observacines de IUNIND8\n",
      "se cargaron todas las observacines de IUNINDEP8\n",
      "se cargaron todas las observacines de IVENAD3\n",
      "se cargaron todas las observacines de IVILLA133\n",
      "se cargaron todas las observacines de IVILLA1083\n",
      "se cargaron todas las observacines de IPREZ1\n",
      "se cargaron todas las observacines de ICASER41\n",
      "se cargaron todas las observacines de ICASER32\n",
      "Finalizó la ejecucución del programa.\n",
      "Total de llamadas:143\n"
     ]
    }
   ],
   "source": [
    "fecha_elegida = date(2024,9,12)\n",
    "insertar_reportes_dia(fecha=fecha_elegida,claves_api=api_keys)"
   ]
  },
  {
   "cell_type": "code",
   "execution_count": 37,
   "metadata": {},
   "outputs": [],
   "source": [
    "def completar_reportes(claves_api:list[str])->None:\n",
    "    numero_llamada_global=0\n",
    "    numero_llamada_api_key=0\n",
    "    #Seteo de variables\n",
    "    api_key=claves_api[0]\n",
    "    numero_error_conexion=0\n",
    "    recurso=''\n",
    "    fecha_actual = datetime.now().date()\n",
    "    with Session(engine) as session:\n",
    "        estaciones = session.query(Estacion).all()\n",
    "        for estacion_obj in estaciones:\n",
    "            estacion_id=estacion_obj.stationID\n",
    "            ultima_fecha_DB = estacion_obj.observaciones[-1].obsTimeLocal\n",
    "            fecha = ultima_fecha_DB.date() + timedelta(days=1)\n",
    "            while fecha<=fecha_actual:\n",
    "                if (numero_llamada_api_key==1400):\n",
    "                        imprimir_mensaje(situacion='llamada 1400',vieja_api_key=api_key)\n",
    "                        api_key=cambiar_api_key(conjunto_api_key=api_keys,api_key_actual=api_key)\n",
    "                        #Si se agotaron las api keys se rompe el bucle white\n",
    "                        if (api_key==''):\n",
    "                            break  \n",
    "                        numero_llamada_api_key=0\n",
    "                fecha_str = \"{:04d}\".format(fecha.year) + \"{:02d}\".format(fecha.month) + \"{:02d}\".format(fecha.day)\n",
    "                if (fecha==fecha_actual):\n",
    "                    recurso=f'https://api.weather.com/v2/pws/observations/all/1day?stationId={estacion_id}&format=json&units=m&apiKey={api_key}&numericPrecision=decimal'\n",
    "                else:\n",
    "                    recurso=f'https://api.weather.com/v2/pws/history/all?stationId={estacion_id}&format=json&units=m&apiKey={api_key}&numericPrecision=decimal&date={fecha_str}'\n",
    "                try:\n",
    "                    # Mandatoriamente se debe indicar un tiempo límite de espera para evitar que la llamada quede inconclusa por falta de respuesta de la API\n",
    "                    respuesta = requests.get(recurso,timeout=60,headers={'Cache-Control': 'cache-control: max-age=599'})\n",
    "                    codigo_respusta=respuesta.status_code\n",
    "                    numero_llamada_api_key+=1\n",
    "                    numero_llamada_global+=1\n",
    "                    # Status Code 200: OK. The request has succeeded.\n",
    "                    # Status Code 204: No Data Found for specific query. The 204 status code will have an empty response body.\n",
    "                    if (codigo_respusta==200 or codigo_respusta==204):\n",
    "                        observaciones_un_dia = respuesta.json()['observations'] if codigo_respusta==200 else [] \n",
    "                        #total_observaciones+=ORM_extraer_campos(IPREZ1,observaciones_un_dia,fecha,estacion_id,var_w)\n",
    "                        ORM_extraer_campos(estacion=estacion_obj,observaciones=observaciones_un_dia,dia=fecha,stationId=estacion_id)\n",
    "                        fecha+= timedelta(days=1)\n",
    "                    elif (codigo_respusta==401):\n",
    "                        # Status Code 401: Unauthorized. The request requires authentication.\n",
    "                        imprimir_mensaje(situacion='api key desautorizada',status_code=codigo_respusta,vieja_api_key=api_key)\n",
    "                        api_key=cambiar_api_key(conjunto_api_key=api_keys,api_key_actual=api_key)\n",
    "                        #Si se agotaron las api keys se rompe el bucle white\n",
    "                        if (api_key==''):\n",
    "                            break  \n",
    "                        numero_llamada_api_key=0      \n",
    "                    elif (codigo_respusta==500):\n",
    "                        imprimir_mensaje(situacion='el servidor no contesta',status_code=codigo_respusta)\n",
    "                        una_hora=60*60\n",
    "                        #Se pausa la ejecución para aguardar que normalicen el funcionamiento del servidor \n",
    "                        time.sleep(una_hora)\n",
    "                    else:\n",
    "                        imprimir_mensaje(situacion='respesta del servidor desconocida',status_code=codigo_respusta,url=recurso)    \n",
    "                except requests.exceptions.RequestException as error:\n",
    "                    numero_error_conexion+=1\n",
    "                    imprimir_mensaje(situacion='error de conexión',n_error_con=numero_error_conexion,problema=error) \n",
    "                    un_minuto=60\n",
    "                    #Se pausa la ejecución para aguardar que normalicen el funcionamiento del servidor \n",
    "                    time.sleep(un_minuto)   \n",
    "            #Sale del while y corroborra que se pueda pasar a la siguiente estación \n",
    "            if (api_key==''):    \n",
    "                imprimir_mensaje(situacion='sin api keys',url=recurso)\n",
    "                break\n",
    "            else:\n",
    "                imprimir_mensaje(situacion='cambio estacion',identificador_estacion=estacion_id)\n",
    "        # Guarda todas las observaciones extraídas, aún cuando el script no haya realizado todas las consultas que correspondían\n",
    "        imprimir_mensaje(situacion='fin ejecución',llamadas_totales=numero_llamada_global)  \n",
    "        session.commit()  "
   ]
  },
  {
   "cell_type": "code",
   "execution_count": 21,
   "metadata": {},
   "outputs": [],
   "source": [
    "def eliminar_ultimos_reportes():\n",
    "    \"\"\"Para cada estación elimina las observaciones del último día con reportes\"\"\"\n",
    "    with Session(engine) as session:\n",
    "        estaciones = session.query(Estacion).all()\n",
    "        for estacion in estaciones:\n",
    "            observaciones = estacion.observaciones\n",
    "            ultima_observacion = observaciones[-1]\n",
    "            ultima_fecha = ultima_observacion.obsTimeLocal\n",
    "            ultimo_año = ultima_fecha.year\n",
    "            ultimo_mes = ultima_fecha.month\n",
    "            ultimo_dia = ultima_fecha.day\n",
    "            for obs in observaciones:\n",
    "                obs_fecha = obs.obsTimeLocal\n",
    "                obs_año = obs_fecha.year\n",
    "                obs_mes = obs_fecha.month\n",
    "                obs_dia = obs_fecha.day\n",
    "                if (ultimo_año == obs_año and ultimo_mes == obs_mes and ultimo_dia == obs_dia):\n",
    "                    session.delete(obs)\n",
    "        session.commit()  \n",
    "            \n",
    "    "
   ]
  },
  {
   "cell_type": "code",
   "execution_count": 38,
   "metadata": {},
   "outputs": [
    {
     "name": "stdout",
     "output_type": "stream",
     "text": [
      "se cargaron todas las observacines de IADELI1\n",
      "se cargaron todas las observacines de IAMENB2\n",
      "se cargaron todas las observacines de IARIAS1\n",
      "se cargaron todas las observacines de IARMST25\n",
      "se cargaron todas las observacines de IBELGR31\n",
      "Hubo un problema con la conexión al servidor.\n",
      "Error número:1.\n",
      "Error:Expecting value: line 1 column 1 (char 0)\n",
      "Se aguarda 1 minuto\n",
      "se cargaron todas las observacines de IBIGAN11\n",
      "se cargaron todas las observacines de IBUSTI3\n",
      "se cargaron todas las observacines de ICAADA2\n",
      "se cargaron todas las observacines de ICAADA3\n",
      "se cargaron todas las observacines de ICALAM23\n",
      "se cargaron todas las observacines de ICALAM32\n",
      "se cargaron todas las observacines de ICASER12\n",
      "se cargaron todas las observacines de ICASER21\n",
      "se cargaron todas las observacines de ICASER25\n",
      "se cargaron todas las observacines de ICASER34\n",
      "se cargaron todas las observacines de ICASER40\n",
      "se cargaron todas las observacines de ICASER42\n",
      "se cargaron todas las observacines de ICASIL2\n",
      "se cargaron todas las observacines de ICOLN10\n",
      "se cargaron todas las observacines de ICONST54\n",
      "se cargaron todas las observacines de ICONSTIT2\n",
      "se cargaron todas las observacines de ICONSTIT3\n",
      "se cargaron todas las observacines de ICONSTIT4\n",
      "se cargaron todas las observacines de ICORDOBA23\n",
      "se cargaron todas las observacines de ICRDOBAV12\n",
      "se cargaron todas las observacines de IDEPAR62\n",
      "cambio de api key por llamada 1400. Vieja api key\n",
      "66d6d2df24cb428a96d2df24cbc28ad4\n",
      "se cargaron todas las observacines de IDEPAR77\n",
      "se cargaron todas las observacines de IDESPE1\n",
      "se cargaron todas las observacines de IDESPE2\n",
      "se cargaron todas las observacines de IDIEGO12\n",
      "se cargaron todas las observacines de IFUNES8\n",
      "cambio de api key por problmeas de autorización.\n",
      "Respuesta:401.\n",
      "Vieja api key\n",
      "2efc62145baa4503bc62145baac50320\n",
      "se cargaron todas las observacines de IGENER96\n",
      "se cargaron todas las observacines de IGENER106\n",
      "se cargaron todas las observacines de IGENER124\n",
      "se cargaron todas las observacines de IGENER126\n",
      "se cargaron todas las observacines de IGENER147\n",
      "se cargaron todas las observacines de IGENER149\n",
      "se cargaron todas las observacines de IGENER180\n",
      "se cargaron todas las observacines de IGENER186\n",
      "se cargaron todas las observacines de IGENER189\n",
      "se cargaron todas las observacines de IGENER220\n",
      "se cargaron todas las observacines de IGENER235\n",
      "se cargaron todas las observacines de IGENER245\n",
      "se cargaron todas las observacines de IGENER296\n",
      "se cargaron todas las observacines de IGENER305\n",
      "se cargaron todas las observacines de IGENER348\n",
      "se cargaron todas las observacines de IGENER364\n",
      "se cargaron todas las observacines de IINRIV1\n",
      "se cargaron todas las observacines de IIRION3\n",
      "se cargaron todas las observacines de IIRION6\n",
      "se cargaron todas las observacines de IIRIONDO2\n",
      "cambio de api key por problmeas de autorización.\n",
      "Respuesta:401.\n",
      "Vieja api key\n",
      "17ae9bc6979c4f94ae9bc6979c2f94be\n",
      "se cargaron todas las observacines de IISLAV1\n",
      "se cargaron todas las observacines de IJOVIT1\n",
      "se cargaron todas las observacines de IJUNDD2\n",
      "se cargaron todas las observacines de IJUNND3\n",
      "se cargaron todas las observacines de IJUNND5\n",
      "se cargaron todas las observacines de IJUREZ12\n",
      "se cargaron todas las observacines de IJUREZ15\n",
      "se cargaron todas las observacines de IJUREZ17\n",
      "se cargaron todas las observacines de IJUREZ19\n",
      "se cargaron todas las observacines de ILACHI9\n",
      "se cargaron todas las observacines de ILASPA72\n",
      "se cargaron todas las observacines de ILASPA81\n",
      "se cargaron todas las observacines de ILEAND6\n",
      "se cargaron todas las observacines de ILEAND17\n",
      "se cargaron todas las observacines de ILEAND30\n",
      "se cargaron todas las observacines de ILOSMO6\n",
      "se cargaron todas las observacines de IMARCO41\n",
      "se cargaron todas las observacines de IMARCO44\n",
      "se cargaron todas las observacines de IMARCO49\n",
      "se cargaron todas las observacines de IMARCOSJ3\n",
      "se cargaron todas las observacines de IMELIN1\n",
      "se cargaron todas las observacines de IONCAT1\n",
      "se cargaron todas las observacines de IPERGA4\n",
      "se cargaron todas las observacines de IPERGA17\n",
      "se cargaron todas las observacines de IPERGA20\n",
      "se cargaron todas las observacines de IPERGA21\n",
      "se cargaron todas las observacines de IPERGA22\n",
      "cambio de api key por llamada 1400. Vieja api key\n",
      "3061cd3105fb4d04a1cd3105fb3d04f5\n",
      "se cargaron todas las observacines de IPERGAMI6\n",
      "se cargaron todas las observacines de IPRESI18\n",
      "se cargaron todas las observacines de IROCUA44\n",
      "se cargaron todas las observacines de IROCUA46\n",
      "se cargaron todas las observacines de IROCUA49\n",
      "se cargaron todas las observacines de IROCUA51\n",
      "se cargaron todas las observacines de IROCUART12\n",
      "se cargaron todas las observacines de IRODEL10\n",
      "se cargaron todas las observacines de IROSAR100\n",
      "se cargaron todas las observacines de IROSAR101\n",
      "se cargaron todas las observacines de IROSAR103\n",
      "se cargaron todas las observacines de IROSAR106\n",
      "se cargaron todas las observacines de IROSAR107\n",
      "se cargaron todas las observacines de IROSAR110\n",
      "se cargaron todas las observacines de IROSAR5\n",
      "se cargaron todas las observacines de IROSAR14\n",
      "cambio de api key por problmeas de autorización.\n",
      "Respuesta:401.\n",
      "Vieja api key\n",
      "e973d41675604a8fb3d41675603a8ff9\n",
      "se cargaron todas las observacines de IROSAR18\n",
      "se cargaron todas las observacines de IROSAR30\n",
      "se cargaron todas las observacines de IROSAR38\n",
      "se cargaron todas las observacines de IROSAR56\n",
      "se cargaron todas las observacines de IROSAR60\n",
      "se cargaron todas las observacines de IROSAR62\n",
      "se cargaron todas las observacines de IROSAR68\n",
      "se cargaron todas las observacines de IROSAR70\n",
      "se cargaron todas las observacines de IROSAR84\n",
      "se cargaron todas las observacines de IROSAR86\n",
      "se cargaron todas las observacines de IROSAR89\n",
      "se cargaron todas las observacines de IROSAR97\n",
      "se cargaron todas las observacines de IROSAR98\n",
      "se cargaron todas las observacines de IROSARIO11\n",
      "se cargaron todas las observacines de IROSARIO39\n",
      "se cargaron todas las observacines de IROSEG9\n",
      "se cargaron todas las observacines de IROSEG16\n",
      "se cargaron todas las observacines de IROSEG26\n",
      "se cargaron todas las observacines de IROSEG28\n",
      "se cargaron todas las observacines de ISANFO4\n",
      "se cargaron todas las observacines de ISANJA13\n",
      "se cargaron todas las observacines de ISANJAVI8\n",
      "se cargaron todas las observacines de ISANJO74\n",
      "se cargaron todas las observacines de ISANJU117\n",
      "se cargaron todas las observacines de ISANLO49\n",
      "se cargaron todas las observacines de ISANLO71\n",
      "se cargaron todas las observacines de ISANLORE33\n",
      "cambio de api key por llamada 1400. Vieja api key\n",
      "8bc93c50250c46aa893c50250c96aadf\n",
      "se cargaron todas las observacines de ISANLORE34\n",
      "se cargaron todas las observacines de ISANNI7\n",
      "se cargaron todas las observacines de ISANNI16\n",
      "se cargaron todas las observacines de ISANNI35\n",
      "se cargaron todas las observacines de ISANNICO24\n",
      "se cargaron todas las observacines de ISANTA43\n",
      "se cargaron todas las observacines de ISANTA203\n",
      "se cargaron todas las observacines de ISANTA538\n",
      "se cargaron todas las observacines de ISANTA1211\n",
      "se cargaron todas las observacines de ISANTAFE23\n",
      "se cargaron todas las observacines de ISANTAFE60\n",
      "cambio de api key por problmeas de autorización.\n",
      "Respuesta:401.\n",
      "Vieja api key\n",
      "d067936f17814b7ca7936f1781cb7c1b\n",
      "se cargaron todas las observacines de ISANTAFE105\n",
      "se cargaron todas las observacines de ISARGE5\n",
      "se cargaron todas las observacines de ITORTU3\n",
      "se cargaron todas las observacines de IUNIND8\n",
      "se cargaron todas las observacines de IUNINDEP8\n",
      "se cargaron todas las observacines de IVENAD3\n",
      "se cargaron todas las observacines de IVILLA133\n",
      "se cargaron todas las observacines de IVILLA1083\n",
      "se cargaron todas las observacines de IPREZ1\n",
      "se cargaron todas las observacines de ICASER41\n",
      "se cargaron todas las observacines de ICASER32\n",
      "Finalizó la ejecucución del programa.\n",
      "Total de llamadas:7441\n"
     ]
    }
   ],
   "source": [
    "completar_reportes(claves_api=api_keys)"
   ]
  },
  {
   "cell_type": "markdown",
   "metadata": {},
   "source": [
    "SUPLEMENTO"
   ]
  },
  {
   "cell_type": "code",
   "execution_count": 148,
   "metadata": {},
   "outputs": [],
   "source": [
    "def insertarObservacionesBD(estacion):\n",
    "    session = Session(engine)\n",
    "    session.add(estacion)\n",
    "    session.flush()\n",
    "    session.commit()\n",
    "    session.close()"
   ]
  },
  {
   "cell_type": "code",
   "execution_count": null,
   "metadata": {},
   "outputs": [],
   "source": [
    "def ORM_datos_estaciones(estaciones:pd.DataFrame,claves_api:list[str])->None:\n",
    "    numero_llamada_global=0\n",
    "    numero_llamada_api_key=0\n",
    "    #Seteo de variables\n",
    "    api_key=claves_api[0]\n",
    "    numero_error_conexion=0\n",
    "    recurso=''\n",
    "    for i,estacion in estaciones.iterrows():\n",
    "        if estacion['buscar_obs'] == 1:\n",
    "            IPREZ1 = Estacion(stationID='IPREZ1',lat=-32.997496,lon=-60.768009)\n",
    "            print('observaciones IPREZ1',IPREZ1.observaciones)\n",
    "            estacion_id=estacion['id']\n",
    "            fecha = estacion['inicio']\n",
    "            año = fecha.year\n",
    "            mes = fecha.month\n",
    "            dia = fecha.day\n",
    "            #total_observaciones=[]  \n",
    "            fecha=date(año,mes,dia)\n",
    "            fecha_limite = date(2024,1,31)\n",
    "            while fecha<=fecha_limite:\n",
    "                if (numero_llamada_api_key==1400):\n",
    "                        imprimir_mensaje(situacion='llamada 1400',vieja_api_key=api_key)\n",
    "                        api_key=cambiar_api_key(conjunto_api_key=api_keys,api_key_actual=api_key)\n",
    "                        #Si se agotaron las api keys se rompe el bucle white\n",
    "                        if (api_key==''):\n",
    "                            break  \n",
    "                        numero_llamada_api_key=0\n",
    "                fecha_str = \"{:04d}\".format(fecha.year) + \"{:02d}\".format(fecha.month) + \"{:02d}\".format(fecha.day)\n",
    "                recurso=f'https://api.weather.com/v2/pws/history/all?stationId={estacion_id}&format=json&units=m&apiKey={api_key}&numericPrecision=decimal&date={fecha_str}'\n",
    "                try:\n",
    "                    # Mandatoriamente se debe indicar un tiempo límite de espera para evitar que la llamada quede inconclusa por falta de respuesta de la API\n",
    "                    respuesta = requests.get(recurso,timeout=60)\n",
    "                    codigo_respusta=respuesta.status_code\n",
    "                    numero_llamada_api_key+=1\n",
    "                    numero_llamada_global+=1\n",
    "                    # Status Code 200: OK. The request has succeeded.\n",
    "                    # Status Code 204: No Data Found for specific query. The 204 status code will have an empty response body.\n",
    "                    if (codigo_respusta==200 or codigo_respusta==204):\n",
    "                        observaciones_un_dia = respuesta.json()['observations'] if codigo_respusta==200 else [] \n",
    "                        #total_observaciones+=ORM_extraer_campos(IPREZ1,observaciones_un_dia,fecha,estacion_id)\n",
    "                        ORM_extraer_campos(IPREZ1,observaciones_un_dia,fecha,estacion_id)\n",
    "                        fecha+= timedelta(days=1)\n",
    "                    elif (codigo_respusta==401):\n",
    "                        # Status Code 401: Unauthorized. The request requires authentication.\n",
    "                        imprimir_mensaje(situacion='api key desautorizada',status_code=codigo_respusta,vieja_api_key=api_key)\n",
    "                        api_key=cambiar_api_key(conjunto_api_key=api_keys,api_key_actual=api_key)\n",
    "                        #Si se agotaron las api keys se rompe el bucle white\n",
    "                        if (api_key==''):\n",
    "                            break  \n",
    "                        numero_llamada_api_key=0      \n",
    "                    elif (codigo_respusta==500):\n",
    "                        imprimir_mensaje(situacion='el servidor no contesta',status_code=codigo_respusta)\n",
    "                        una_hora=60*60\n",
    "                        #Se pausa la ejecución para aguardar que normalicen el funcionamiento del servidor \n",
    "                        time.sleep(una_hora)\n",
    "                    else:\n",
    "                        imprimir_mensaje(situacion='respesta del servidor desconocida',status_code=codigo_respusta,url=recurso)    \n",
    "                except requests.exceptions.RequestException as error:\n",
    "                    numero_error_conexion+=1\n",
    "                    imprimir_mensaje(situacion='error de conexión',n_error_con=numero_error_conexion,problema=error) \n",
    "                    un_minuto=60\n",
    "                    #Se pausa la ejecución para aguardar que normalicen el funcionamiento del servidor \n",
    "                    time.sleep(un_minuto)   \n",
    "            #Escribe todas las observaciones recolectadas de la estación antes de saltar a la siguiente\n",
    "            ubicacion=f'C:/Users/Usuario/Documents/observaciones/completas/observaciones_completas_{estacion_id}.csv'\n",
    "            var_con=[\"dia_con_obs\",\"dia_completo\"]\n",
    "            var_todas=tuple(var_w+var_con)\n",
    "            imprimir_mensaje(situacion='cambio estacion',identificador_estacion=estacion_id)\n",
    "            print('observaciones IPREZ1',IPREZ1.observaciones)\n",
    "            #escribirCSV(ruta=ubicacion,datos=total_observaciones,campos_encabezado=var_todas)\n",
    "            insertarObservacionesBD(IPREZ1)\n",
    "\n",
    "        #Sale del while y corroborra que se pueda pasar a la siguiente estación \n",
    "        if (api_key==''):    \n",
    "            imprimir_mensaje(situacion='sin api keys',url=recurso)\n",
    "            break\n",
    "            \n",
    "\n",
    "    imprimir_mensaje(situacion='fin ejecución',llamadas_totales=numero_llamada_global)  "
   ]
  },
  {
   "cell_type": "code",
   "execution_count": 198,
   "metadata": {},
   "outputs": [
    {
     "name": "stdout",
     "output_type": "stream",
     "text": [
      "observaciones IPREZ1 []\n",
      "se cargaron todas las observacines de IPREZ1\n",
      "observaciones IPREZ1 [id_estacion=None, obsTimeLocal='2024-01-15 23:44:01', id_estacion=None, obsTimeLocal='2024-01-15 23:49:01', id_estacion=None, obsTimeLocal='2024-01-15 23:54:00', id_estacion=None, obsTimeLocal='2024-01-15 23:59:01', id_estacion=None, obsTimeLocal='2024-01-16 00:04:00', id_estacion=None, obsTimeLocal='2024-01-16 00:09:00', id_estacion=None, obsTimeLocal='2024-01-16 00:14:01', id_estacion=None, obsTimeLocal='2024-01-16 00:19:00', id_estacion=None, obsTimeLocal='2024-01-16 00:24:00', id_estacion=None, obsTimeLocal='2024-01-16 00:29:01', id_estacion=None, obsTimeLocal='2024-01-16 00:34:00', id_estacion=None, obsTimeLocal='2024-01-16 00:39:01', id_estacion=None, obsTimeLocal='2024-01-16 00:44:01', id_estacion=None, obsTimeLocal='2024-01-16 00:49:00', id_estacion=None, obsTimeLocal='2024-01-16 00:54:00', id_estacion=None, obsTimeLocal='2024-01-16 00:59:01', id_estacion=None, obsTimeLocal='2024-01-16 01:04:01', id_estacion=None, obsTimeLocal='2024-01-16 01:09:01', id_estacion=None, obsTimeLocal='2024-01-16 01:14:00', id_estacion=None, obsTimeLocal='2024-01-16 01:19:01', id_estacion=None, obsTimeLocal='2024-01-16 01:24:01', id_estacion=None, obsTimeLocal='2024-01-16 01:29:01', id_estacion=None, obsTimeLocal='2024-01-16 01:34:00', id_estacion=None, obsTimeLocal='2024-01-16 01:39:01', id_estacion=None, obsTimeLocal='2024-01-16 01:44:01', id_estacion=None, obsTimeLocal='2024-01-16 01:49:01', id_estacion=None, obsTimeLocal='2024-01-16 01:54:01', id_estacion=None, obsTimeLocal='2024-01-16 01:59:00', id_estacion=None, obsTimeLocal='2024-01-16 02:04:00', id_estacion=None, obsTimeLocal='2024-01-16 02:09:00', id_estacion=None, obsTimeLocal='2024-01-16 02:14:00', id_estacion=None, obsTimeLocal='2024-01-16 02:19:00', id_estacion=None, obsTimeLocal='2024-01-16 02:24:01', id_estacion=None, obsTimeLocal='2024-01-16 02:29:01', id_estacion=None, obsTimeLocal='2024-01-16 02:34:00', id_estacion=None, obsTimeLocal='2024-01-16 02:39:01', id_estacion=None, obsTimeLocal='2024-01-16 02:44:00', id_estacion=None, obsTimeLocal='2024-01-16 02:49:01', id_estacion=None, obsTimeLocal='2024-01-16 02:54:01', id_estacion=None, obsTimeLocal='2024-01-16 02:59:00', id_estacion=None, obsTimeLocal='2024-01-16 03:04:00', id_estacion=None, obsTimeLocal='2024-01-16 03:09:01', id_estacion=None, obsTimeLocal='2024-01-16 03:14:01', id_estacion=None, obsTimeLocal='2024-01-16 03:19:00', id_estacion=None, obsTimeLocal='2024-01-16 03:24:00', id_estacion=None, obsTimeLocal='2024-01-16 03:29:01', id_estacion=None, obsTimeLocal='2024-01-16 03:34:00', id_estacion=None, obsTimeLocal='2024-01-16 03:39:01', id_estacion=None, obsTimeLocal='2024-01-16 03:44:01', id_estacion=None, obsTimeLocal='2024-01-16 03:49:00', id_estacion=None, obsTimeLocal='2024-01-16 03:54:00', id_estacion=None, obsTimeLocal='2024-01-16 03:59:01', id_estacion=None, obsTimeLocal='2024-01-16 04:04:01', id_estacion=None, obsTimeLocal='2024-01-16 04:09:00', id_estacion=None, obsTimeLocal='2024-01-16 04:14:01', id_estacion=None, obsTimeLocal='2024-01-16 04:19:01', id_estacion=None, obsTimeLocal='2024-01-16 04:24:01', id_estacion=None, obsTimeLocal='2024-01-16 04:29:01', id_estacion=None, obsTimeLocal='2024-01-16 04:34:00', id_estacion=None, obsTimeLocal='2024-01-16 04:39:00', id_estacion=None, obsTimeLocal='2024-01-16 04:44:00', id_estacion=None, obsTimeLocal='2024-01-16 04:49:00', id_estacion=None, obsTimeLocal='2024-01-16 04:54:02', id_estacion=None, obsTimeLocal='2024-01-16 04:59:01', id_estacion=None, obsTimeLocal='2024-01-16 05:04:01', id_estacion=None, obsTimeLocal='2024-01-16 05:09:01', id_estacion=None, obsTimeLocal='2024-01-16 05:14:01', id_estacion=None, obsTimeLocal='2024-01-16 05:19:01', id_estacion=None, obsTimeLocal='2024-01-16 05:24:00', id_estacion=None, obsTimeLocal='2024-01-16 05:29:01', id_estacion=None, obsTimeLocal='2024-01-16 05:34:01', id_estacion=None, obsTimeLocal='2024-01-16 05:39:00', id_estacion=None, obsTimeLocal='2024-01-16 05:44:01', id_estacion=None, obsTimeLocal='2024-01-16 05:49:00', id_estacion=None, obsTimeLocal='2024-01-16 05:54:01', id_estacion=None, obsTimeLocal='2024-01-16 05:59:00', id_estacion=None, obsTimeLocal='2024-01-16 06:04:00', id_estacion=None, obsTimeLocal='2024-01-16 06:09:01', id_estacion=None, obsTimeLocal='2024-01-16 06:14:00', id_estacion=None, obsTimeLocal='2024-01-16 06:19:01', id_estacion=None, obsTimeLocal='2024-01-16 06:24:00', id_estacion=None, obsTimeLocal='2024-01-16 06:29:00', id_estacion=None, obsTimeLocal='2024-01-16 06:34:00', id_estacion=None, obsTimeLocal='2024-01-16 06:39:01', id_estacion=None, obsTimeLocal='2024-01-16 06:44:00', id_estacion=None, obsTimeLocal='2024-01-16 06:49:01', id_estacion=None, obsTimeLocal='2024-01-16 06:54:00', id_estacion=None, obsTimeLocal='2024-01-16 06:59:01', id_estacion=None, obsTimeLocal='2024-01-16 07:04:00', id_estacion=None, obsTimeLocal='2024-01-16 07:09:01', id_estacion=None, obsTimeLocal='2024-01-16 07:14:00', id_estacion=None, obsTimeLocal='2024-01-16 07:19:01', id_estacion=None, obsTimeLocal='2024-01-16 07:24:00', id_estacion=None, obsTimeLocal='2024-01-16 07:29:01', id_estacion=None, obsTimeLocal='2024-01-16 07:34:01', id_estacion=None, obsTimeLocal='2024-01-16 07:39:01', id_estacion=None, obsTimeLocal='2024-01-16 07:44:00', id_estacion=None, obsTimeLocal='2024-01-16 07:49:01', id_estacion=None, obsTimeLocal='2024-01-16 07:54:01', id_estacion=None, obsTimeLocal='2024-01-16 07:59:01', id_estacion=None, obsTimeLocal='2024-01-16 08:04:01', id_estacion=None, obsTimeLocal='2024-01-16 08:09:00', id_estacion=None, obsTimeLocal='2024-01-16 08:14:01', id_estacion=None, obsTimeLocal='2024-01-16 08:19:00', id_estacion=None, obsTimeLocal='2024-01-16 08:24:01', id_estacion=None, obsTimeLocal='2024-01-16 08:29:00', id_estacion=None, obsTimeLocal='2024-01-16 08:34:00', id_estacion=None, obsTimeLocal='2024-01-16 08:39:01', id_estacion=None, obsTimeLocal='2024-01-16 08:44:01', id_estacion=None, obsTimeLocal='2024-01-16 08:49:00', id_estacion=None, obsTimeLocal='2024-01-16 08:54:01', id_estacion=None, obsTimeLocal='2024-01-16 08:59:01', id_estacion=None, obsTimeLocal='2024-01-16 09:04:00', id_estacion=None, obsTimeLocal='2024-01-16 09:09:02', id_estacion=None, obsTimeLocal='2024-01-16 09:14:01', id_estacion=None, obsTimeLocal='2024-01-16 09:19:00', id_estacion=None, obsTimeLocal='2024-01-16 09:24:01', id_estacion=None, obsTimeLocal='2024-01-16 09:29:01', id_estacion=None, obsTimeLocal='2024-01-16 09:34:01', id_estacion=None, obsTimeLocal='2024-01-16 09:39:00', id_estacion=None, obsTimeLocal='2024-01-16 09:44:01', id_estacion=None, obsTimeLocal='2024-01-16 09:49:01', id_estacion=None, obsTimeLocal='2024-01-16 09:54:00', id_estacion=None, obsTimeLocal='2024-01-16 09:59:01', id_estacion=None, obsTimeLocal='2024-01-16 10:04:01', id_estacion=None, obsTimeLocal='2024-01-16 10:09:00', id_estacion=None, obsTimeLocal='2024-01-16 10:14:01', id_estacion=None, obsTimeLocal='2024-01-16 10:19:01', id_estacion=None, obsTimeLocal='2024-01-16 10:24:01', id_estacion=None, obsTimeLocal='2024-01-16 10:29:00', id_estacion=None, obsTimeLocal='2024-01-16 10:34:00', id_estacion=None, obsTimeLocal='2024-01-16 10:39:01', id_estacion=None, obsTimeLocal='2024-01-16 10:44:01', id_estacion=None, obsTimeLocal='2024-01-16 10:49:00', id_estacion=None, obsTimeLocal='2024-01-16 10:54:00', id_estacion=None, obsTimeLocal='2024-01-16 10:59:01', id_estacion=None, obsTimeLocal='2024-01-16 11:04:00', id_estacion=None, obsTimeLocal='2024-01-16 11:09:01', id_estacion=None, obsTimeLocal='2024-01-16 11:14:00', id_estacion=None, obsTimeLocal='2024-01-16 11:19:01', id_estacion=None, obsTimeLocal='2024-01-16 11:24:00', id_estacion=None, obsTimeLocal='2024-01-16 11:29:01', id_estacion=None, obsTimeLocal='2024-01-16 11:34:00', id_estacion=None, obsTimeLocal='2024-01-16 11:39:00', id_estacion=None, obsTimeLocal='2024-01-16 11:44:01', id_estacion=None, obsTimeLocal='2024-01-16 11:49:00', id_estacion=None, obsTimeLocal='2024-01-16 11:54:00', id_estacion=None, obsTimeLocal='2024-01-16 11:59:00', id_estacion=None, obsTimeLocal='2024-01-16 12:04:01', id_estacion=None, obsTimeLocal='2024-01-16 12:09:00', id_estacion=None, obsTimeLocal='2024-01-16 12:14:00', id_estacion=None, obsTimeLocal='2024-01-16 12:19:01', id_estacion=None, obsTimeLocal='2024-01-16 12:24:00', id_estacion=None, obsTimeLocal='2024-01-16 12:29:00', id_estacion=None, obsTimeLocal='2024-01-16 12:34:01', id_estacion=None, obsTimeLocal='2024-01-16 12:39:00', id_estacion=None, obsTimeLocal='2024-01-16 12:44:00', id_estacion=None, obsTimeLocal='2024-01-16 12:49:01', id_estacion=None, obsTimeLocal='2024-01-16 12:54:00', id_estacion=None, obsTimeLocal='2024-01-16 12:59:00', id_estacion=None, obsTimeLocal='2024-01-16 13:04:01', id_estacion=None, obsTimeLocal='2024-01-16 13:09:01', id_estacion=None, obsTimeLocal='2024-01-16 13:14:01', id_estacion=None, obsTimeLocal='2024-01-16 13:19:00', id_estacion=None, obsTimeLocal='2024-01-16 13:24:00', id_estacion=None, obsTimeLocal='2024-01-16 13:29:01', id_estacion=None, obsTimeLocal='2024-01-16 13:34:00', id_estacion=None, obsTimeLocal='2024-01-16 13:39:01', id_estacion=None, obsTimeLocal='2024-01-16 13:44:00', id_estacion=None, obsTimeLocal='2024-01-16 13:49:01', id_estacion=None, obsTimeLocal='2024-01-16 13:54:00', id_estacion=None, obsTimeLocal='2024-01-16 13:59:01', id_estacion=None, obsTimeLocal='2024-01-16 14:04:01', id_estacion=None, obsTimeLocal='2024-01-16 14:09:01', id_estacion=None, obsTimeLocal='2024-01-16 14:14:00', id_estacion=None, obsTimeLocal='2024-01-16 14:19:01', id_estacion=None, obsTimeLocal='2024-01-16 14:24:01', id_estacion=None, obsTimeLocal='2024-01-16 14:29:00', id_estacion=None, obsTimeLocal='2024-01-16 14:34:00', id_estacion=None, obsTimeLocal='2024-01-16 14:39:01', id_estacion=None, obsTimeLocal='2024-01-16 14:44:00', id_estacion=None, obsTimeLocal='2024-01-16 14:49:01', id_estacion=None, obsTimeLocal='2024-01-16 14:54:00', id_estacion=None, obsTimeLocal='2024-01-16 14:59:00', id_estacion=None, obsTimeLocal='2024-01-16 15:04:00', id_estacion=None, obsTimeLocal='2024-01-16 15:09:01', id_estacion=None, obsTimeLocal='2024-01-16 15:14:00', id_estacion=None, obsTimeLocal='2024-01-16 15:19:01', id_estacion=None, obsTimeLocal='2024-01-16 15:24:00', id_estacion=None, obsTimeLocal='2024-01-16 15:29:00', id_estacion=None, obsTimeLocal='2024-01-16 15:34:01', id_estacion=None, obsTimeLocal='2024-01-16 15:39:00', id_estacion=None, obsTimeLocal='2024-01-16 15:44:01', id_estacion=None, obsTimeLocal='2024-01-16 15:49:01', id_estacion=None, obsTimeLocal='2024-01-16 15:54:01', id_estacion=None, obsTimeLocal='2024-01-16 15:59:01', id_estacion=None, obsTimeLocal='2024-01-16 16:04:01', id_estacion=None, obsTimeLocal='2024-01-16 16:09:01', id_estacion=None, obsTimeLocal='2024-01-16 16:14:00', id_estacion=None, obsTimeLocal='2024-01-16 16:19:01', id_estacion=None, obsTimeLocal='2024-01-16 16:24:01', id_estacion=None, obsTimeLocal='2024-01-16 16:29:00', id_estacion=None, obsTimeLocal='2024-01-16 16:34:01', id_estacion=None, obsTimeLocal='2024-01-16 16:39:00', id_estacion=None, obsTimeLocal='2024-01-16 16:44:01', id_estacion=None, obsTimeLocal='2024-01-16 16:49:00', id_estacion=None, obsTimeLocal='2024-01-16 16:54:01', id_estacion=None, obsTimeLocal='2024-01-16 16:59:00', id_estacion=None, obsTimeLocal='2024-01-16 17:04:01', id_estacion=None, obsTimeLocal='2024-01-16 17:09:00', id_estacion=None, obsTimeLocal='2024-01-16 17:14:01', id_estacion=None, obsTimeLocal='2024-01-16 17:19:00', id_estacion=None, obsTimeLocal='2024-01-16 17:24:00', id_estacion=None, obsTimeLocal='2024-01-16 17:29:01', id_estacion=None, obsTimeLocal='2024-01-16 17:34:00', id_estacion=None, obsTimeLocal='2024-01-16 17:39:00', id_estacion=None, obsTimeLocal='2024-01-16 17:44:00', id_estacion=None, obsTimeLocal='2024-01-16 17:49:01', id_estacion=None, obsTimeLocal='2024-01-16 17:54:01', id_estacion=None, obsTimeLocal='2024-01-16 17:59:00', id_estacion=None, obsTimeLocal='2024-01-16 18:04:01', id_estacion=None, obsTimeLocal='2024-01-16 18:09:00', id_estacion=None, obsTimeLocal='2024-01-16 18:14:00', id_estacion=None, obsTimeLocal='2024-01-16 18:19:01', id_estacion=None, obsTimeLocal='2024-01-16 18:24:00', id_estacion=None, obsTimeLocal='2024-01-16 18:29:01', id_estacion=None, obsTimeLocal='2024-01-16 18:34:00', id_estacion=None, obsTimeLocal='2024-01-16 18:39:01', id_estacion=None, obsTimeLocal='2024-01-16 18:44:01', id_estacion=None, obsTimeLocal='2024-01-16 18:49:00', id_estacion=None, obsTimeLocal='2024-01-16 18:54:01', id_estacion=None, obsTimeLocal='2024-01-16 18:59:01', id_estacion=None, obsTimeLocal='2024-01-16 19:04:00', id_estacion=None, obsTimeLocal='2024-01-16 19:09:00', id_estacion=None, obsTimeLocal='2024-01-16 19:14:00', id_estacion=None, obsTimeLocal='2024-01-16 19:19:00', id_estacion=None, obsTimeLocal='2024-01-16 19:24:00', id_estacion=None, obsTimeLocal='2024-01-16 19:29:01', id_estacion=None, obsTimeLocal='2024-01-16 19:34:00', id_estacion=None, obsTimeLocal='2024-01-16 19:39:00', id_estacion=None, obsTimeLocal='2024-01-16 19:44:00', id_estacion=None, obsTimeLocal='2024-01-16 19:49:00', id_estacion=None, obsTimeLocal='2024-01-16 19:54:00', id_estacion=None, obsTimeLocal='2024-01-16 19:59:00', id_estacion=None, obsTimeLocal='2024-01-16 20:04:00', id_estacion=None, obsTimeLocal='2024-01-16 20:09:00', id_estacion=None, obsTimeLocal='2024-01-16 20:14:00', id_estacion=None, obsTimeLocal='2024-01-16 20:19:00', id_estacion=None, obsTimeLocal='2024-01-16 20:24:00', id_estacion=None, obsTimeLocal='2024-01-16 20:29:00', id_estacion=None, obsTimeLocal='2024-01-16 20:34:01', id_estacion=None, obsTimeLocal='2024-01-16 20:39:00', id_estacion=None, obsTimeLocal='2024-01-16 20:44:01', id_estacion=None, obsTimeLocal='2024-01-16 20:49:00', id_estacion=None, obsTimeLocal='2024-01-16 20:54:00', id_estacion=None, obsTimeLocal='2024-01-16 20:59:01', id_estacion=None, obsTimeLocal='2024-01-16 21:04:00', id_estacion=None, obsTimeLocal='2024-01-16 21:09:01', id_estacion=None, obsTimeLocal='2024-01-16 21:14:00', id_estacion=None, obsTimeLocal='2024-01-16 21:19:01', id_estacion=None, obsTimeLocal='2024-01-16 21:24:00', id_estacion=None, obsTimeLocal='2024-01-16 21:29:00', id_estacion=None, obsTimeLocal='2024-01-16 21:34:01', id_estacion=None, obsTimeLocal='2024-01-16 21:39:00', id_estacion=None, obsTimeLocal='2024-01-16 21:44:00', id_estacion=None, obsTimeLocal='2024-01-16 21:49:01', id_estacion=None, obsTimeLocal='2024-01-16 21:54:01', id_estacion=None, obsTimeLocal='2024-01-16 21:59:00', id_estacion=None, obsTimeLocal='2024-01-16 22:04:00', id_estacion=None, obsTimeLocal='2024-01-16 22:09:00', id_estacion=None, obsTimeLocal='2024-01-16 22:14:01', id_estacion=None, obsTimeLocal='2024-01-16 22:19:00', id_estacion=None, obsTimeLocal='2024-01-16 22:24:00', id_estacion=None, obsTimeLocal='2024-01-16 22:29:01', id_estacion=None, obsTimeLocal='2024-01-16 22:34:00', id_estacion=None, obsTimeLocal='2024-01-16 22:39:01', id_estacion=None, obsTimeLocal='2024-01-16 22:44:00', id_estacion=None, obsTimeLocal='2024-01-16 22:49:01', id_estacion=None, obsTimeLocal='2024-01-16 22:54:00', id_estacion=None, obsTimeLocal='2024-01-16 22:59:01', id_estacion=None, obsTimeLocal='2024-01-16 23:04:00', id_estacion=None, obsTimeLocal='2024-01-16 23:09:01', id_estacion=None, obsTimeLocal='2024-01-16 23:14:01', id_estacion=None, obsTimeLocal='2024-01-16 23:19:00', id_estacion=None, obsTimeLocal='2024-01-16 23:24:01', id_estacion=None, obsTimeLocal='2024-01-16 23:29:00', id_estacion=None, obsTimeLocal='2024-01-16 23:34:01', id_estacion=None, obsTimeLocal='2024-01-16 23:39:00', id_estacion=None, obsTimeLocal='2024-01-16 23:44:01', id_estacion=None, obsTimeLocal='2024-01-16 23:49:01', id_estacion=None, obsTimeLocal='2024-01-16 23:54:00', id_estacion=None, obsTimeLocal='2024-01-16 23:59:01', id_estacion=None, obsTimeLocal='2024-01-17 00:04:00', id_estacion=None, obsTimeLocal='2024-01-17 00:09:01', id_estacion=None, obsTimeLocal='2024-01-17 00:14:00', id_estacion=None, obsTimeLocal='2024-01-17 00:19:00', id_estacion=None, obsTimeLocal='2024-01-17 00:24:00', id_estacion=None, obsTimeLocal='2024-01-17 00:29:00', id_estacion=None, obsTimeLocal='2024-01-17 00:34:01', id_estacion=None, obsTimeLocal='2024-01-17 00:39:00', id_estacion=None, obsTimeLocal='2024-01-17 00:44:00', id_estacion=None, obsTimeLocal='2024-01-17 00:49:01', id_estacion=None, obsTimeLocal='2024-01-17 00:54:00', id_estacion=None, obsTimeLocal='2024-01-17 00:59:00', id_estacion=None, obsTimeLocal='2024-01-17 01:04:00', id_estacion=None, obsTimeLocal='2024-01-17 01:09:01', id_estacion=None, obsTimeLocal='2024-01-17 01:14:01', id_estacion=None, obsTimeLocal='2024-01-17 01:19:00', id_estacion=None, obsTimeLocal='2024-01-17 01:24:00', id_estacion=None, obsTimeLocal='2024-01-17 01:29:00', id_estacion=None, obsTimeLocal='2024-01-17 01:34:00', id_estacion=None, obsTimeLocal='2024-01-17 01:39:01', id_estacion=None, obsTimeLocal='2024-01-17 01:44:00', id_estacion=None, obsTimeLocal='2024-01-17 01:49:00', id_estacion=None, obsTimeLocal='2024-01-17 01:54:01', id_estacion=None, obsTimeLocal='2024-01-17 01:59:00', id_estacion=None, obsTimeLocal='2024-01-17 02:04:00', id_estacion=None, obsTimeLocal='2024-01-17 02:09:00', id_estacion=None, obsTimeLocal='2024-01-17 02:14:00', id_estacion=None, obsTimeLocal='2024-01-17 02:19:01', id_estacion=None, obsTimeLocal='2024-01-17 02:24:01', id_estacion=None, obsTimeLocal='2024-01-17 02:29:00', id_estacion=None, obsTimeLocal='2024-01-17 02:34:00', id_estacion=None, obsTimeLocal='2024-01-17 02:39:00', id_estacion=None, obsTimeLocal='2024-01-17 02:44:00', id_estacion=None, obsTimeLocal='2024-01-17 02:49:00', id_estacion=None, obsTimeLocal='2024-01-17 02:54:00', id_estacion=None, obsTimeLocal='2024-01-17 02:59:00', id_estacion=None, obsTimeLocal='2024-01-17 03:04:00', id_estacion=None, obsTimeLocal='2024-01-17 03:09:01', id_estacion=None, obsTimeLocal='2024-01-17 03:14:01', id_estacion=None, obsTimeLocal='2024-01-17 03:19:00', id_estacion=None, obsTimeLocal='2024-01-17 03:24:00', id_estacion=None, obsTimeLocal='2024-01-17 03:29:00', id_estacion=None, obsTimeLocal='2024-01-17 03:34:00', id_estacion=None, obsTimeLocal='2024-01-17 03:39:00', id_estacion=None, obsTimeLocal='2024-01-17 03:44:00', id_estacion=None, obsTimeLocal='2024-01-17 03:49:00', id_estacion=None, obsTimeLocal='2024-01-17 03:54:01', id_estacion=None, obsTimeLocal='2024-01-17 03:59:00', id_estacion=None, obsTimeLocal='2024-01-17 04:04:00', id_estacion=None, obsTimeLocal='2024-01-17 04:09:00', id_estacion=None, obsTimeLocal='2024-01-17 04:14:00', id_estacion=None, obsTimeLocal='2024-01-17 04:19:00', id_estacion=None, obsTimeLocal='2024-01-17 04:24:00', id_estacion=None, obsTimeLocal='2024-01-17 04:29:01', id_estacion=None, obsTimeLocal='2024-01-17 04:34:01', id_estacion=None, obsTimeLocal='2024-01-17 04:39:00', id_estacion=None, obsTimeLocal='2024-01-17 04:44:00', id_estacion=None, obsTimeLocal='2024-01-17 04:49:00', id_estacion=None, obsTimeLocal='2024-01-17 04:54:00', id_estacion=None, obsTimeLocal='2024-01-17 04:59:00', id_estacion=None, obsTimeLocal='2024-01-17 05:04:00', id_estacion=None, obsTimeLocal='2024-01-17 05:09:00', id_estacion=None, obsTimeLocal='2024-01-17 05:14:00', id_estacion=None, obsTimeLocal='2024-01-17 05:19:01', id_estacion=None, obsTimeLocal='2024-01-17 05:24:01', id_estacion=None, obsTimeLocal='2024-01-17 05:29:00', id_estacion=None, obsTimeLocal='2024-01-17 05:34:00', id_estacion=None, obsTimeLocal='2024-01-17 05:39:00', id_estacion=None, obsTimeLocal='2024-01-17 05:44:00', id_estacion=None, obsTimeLocal='2024-01-17 05:49:00', id_estacion=None, obsTimeLocal='2024-01-17 05:54:01', id_estacion=None, obsTimeLocal='2024-01-17 05:59:00', id_estacion=None, obsTimeLocal='2024-01-17 06:04:00', id_estacion=None, obsTimeLocal='2024-01-17 06:09:00', id_estacion=None, obsTimeLocal='2024-01-17 06:14:00', id_estacion=None, obsTimeLocal='2024-01-17 06:19:01', id_estacion=None, obsTimeLocal='2024-01-17 06:24:01', id_estacion=None, obsTimeLocal='2024-01-17 06:29:00', id_estacion=None, obsTimeLocal='2024-01-17 06:34:00', id_estacion=None, obsTimeLocal='2024-01-17 06:39:00', id_estacion=None, obsTimeLocal='2024-01-17 06:44:00', id_estacion=None, obsTimeLocal='2024-01-17 06:49:00', id_estacion=None, obsTimeLocal='2024-01-17 06:54:01', id_estacion=None, obsTimeLocal='2024-01-17 06:59:01', id_estacion=None, obsTimeLocal='2024-01-17 07:04:00', id_estacion=None, obsTimeLocal='2024-01-17 07:09:00', id_estacion=None, obsTimeLocal='2024-01-17 07:14:00', id_estacion=None, obsTimeLocal='2024-01-17 07:19:01', id_estacion=None, obsTimeLocal='2024-01-17 07:24:00', id_estacion=None, obsTimeLocal='2024-01-17 07:29:00', id_estacion=None, obsTimeLocal='2024-01-17 07:34:03', id_estacion=None, obsTimeLocal='2024-01-17 07:39:01', id_estacion=None, obsTimeLocal='2024-01-17 07:44:00', id_estacion=None, obsTimeLocal='2024-01-17 07:49:00', id_estacion=None, obsTimeLocal='2024-01-17 07:54:00', id_estacion=None, obsTimeLocal='2024-01-17 07:59:00', id_estacion=None, obsTimeLocal='2024-01-17 08:04:00', id_estacion=None, obsTimeLocal='2024-01-17 08:09:00', id_estacion=None, obsTimeLocal='2024-01-17 08:14:01', id_estacion=None, obsTimeLocal='2024-01-17 08:19:00', id_estacion=None, obsTimeLocal='2024-01-17 08:24:00', id_estacion=None, obsTimeLocal='2024-01-17 08:29:00', id_estacion=None, obsTimeLocal='2024-01-17 08:34:01', id_estacion=None, obsTimeLocal='2024-01-17 08:39:00', id_estacion=None, obsTimeLocal='2024-01-17 08:44:00', id_estacion=None, obsTimeLocal='2024-01-17 08:49:00', id_estacion=None, obsTimeLocal='2024-01-17 08:54:01', id_estacion=None, obsTimeLocal='2024-01-17 08:59:00', id_estacion=None, obsTimeLocal='2024-01-17 09:04:00', id_estacion=None, obsTimeLocal='2024-01-17 09:09:00', id_estacion=None, obsTimeLocal='2024-01-17 09:14:00', id_estacion=None, obsTimeLocal='2024-01-17 09:19:00', id_estacion=None, obsTimeLocal='2024-01-17 09:24:00', id_estacion=None, obsTimeLocal='2024-01-17 09:29:00', id_estacion=None, obsTimeLocal='2024-01-17 09:34:01', id_estacion=None, obsTimeLocal='2024-01-17 09:39:01', id_estacion=None, obsTimeLocal='2024-01-17 09:44:00', id_estacion=None, obsTimeLocal='2024-01-17 09:49:00', id_estacion=None, obsTimeLocal='2024-01-17 09:54:00', id_estacion=None, obsTimeLocal='2024-01-17 09:59:00', id_estacion=None, obsTimeLocal='2024-01-17 10:04:01', id_estacion=None, obsTimeLocal='2024-01-17 10:09:00', id_estacion=None, obsTimeLocal='2024-01-17 10:14:00', id_estacion=None, obsTimeLocal='2024-01-17 10:19:01', id_estacion=None, obsTimeLocal='2024-01-17 10:24:01', id_estacion=None, obsTimeLocal='2024-01-17 10:29:00', id_estacion=None, obsTimeLocal='2024-01-17 10:34:00', id_estacion=None, obsTimeLocal='2024-01-17 10:39:00', id_estacion=None, obsTimeLocal='2024-01-17 10:44:00', id_estacion=None, obsTimeLocal='2024-01-17 10:49:01', id_estacion=None, obsTimeLocal='2024-01-17 10:54:01', id_estacion=None, obsTimeLocal='2024-01-17 10:59:00', id_estacion=None, obsTimeLocal='2024-01-17 11:04:00', id_estacion=None, obsTimeLocal='2024-01-17 11:09:00', id_estacion=None, obsTimeLocal='2024-01-17 11:14:00', id_estacion=None, obsTimeLocal='2024-01-17 11:19:00', id_estacion=None, obsTimeLocal='2024-01-17 11:24:01', id_estacion=None, obsTimeLocal='2024-01-17 11:29:00', id_estacion=None, obsTimeLocal='2024-01-17 11:34:01', id_estacion=None, obsTimeLocal='2024-01-17 11:39:00', id_estacion=None, obsTimeLocal='2024-01-17 11:44:01', id_estacion=None, obsTimeLocal='2024-01-17 11:49:00', id_estacion=None, obsTimeLocal='2024-01-17 11:54:01', id_estacion=None, obsTimeLocal='2024-01-17 11:59:00', id_estacion=None, obsTimeLocal='2024-01-17 12:04:00', id_estacion=None, obsTimeLocal='2024-01-17 12:09:01', id_estacion=None, obsTimeLocal='2024-01-17 12:14:01', id_estacion=None, obsTimeLocal='2024-01-17 12:19:00', id_estacion=None, obsTimeLocal='2024-01-17 12:24:00', id_estacion=None, obsTimeLocal='2024-01-17 12:29:00', id_estacion=None, obsTimeLocal='2024-01-17 12:34:00', id_estacion=None, obsTimeLocal='2024-01-17 12:39:00', id_estacion=None, obsTimeLocal='2024-01-17 12:44:00', id_estacion=None, obsTimeLocal='2024-01-17 12:49:00', id_estacion=None, obsTimeLocal='2024-01-17 12:54:00', id_estacion=None, obsTimeLocal='2024-01-17 12:59:00', id_estacion=None, obsTimeLocal='2024-01-17 13:02:22', id_estacion=None, obsTimeLocal='2024-01-17 13:07:22', id_estacion=None, obsTimeLocal='2024-01-17 13:12:22', id_estacion=None, obsTimeLocal='2024-01-17 13:17:22', id_estacion=None, obsTimeLocal='2024-01-17 13:22:22', id_estacion=None, obsTimeLocal='2024-01-17 13:27:22', id_estacion=None, obsTimeLocal='2024-01-17 13:32:22', id_estacion=None, obsTimeLocal='2024-01-17 13:37:22', id_estacion=None, obsTimeLocal='2024-01-17 13:42:22', id_estacion=None, obsTimeLocal='2024-01-17 13:47:22', id_estacion=None, obsTimeLocal='2024-01-17 13:52:22', id_estacion=None, obsTimeLocal='2024-01-17 13:57:22', id_estacion=None, obsTimeLocal='2024-01-17 14:02:22', id_estacion=None, obsTimeLocal='2024-01-17 14:07:22', id_estacion=None, obsTimeLocal='2024-01-17 14:12:22', id_estacion=None, obsTimeLocal='2024-01-17 14:17:22', id_estacion=None, obsTimeLocal='2024-01-17 14:22:22', id_estacion=None, obsTimeLocal='2024-01-17 14:27:22', id_estacion=None, obsTimeLocal='2024-01-17 14:32:22', id_estacion=None, obsTimeLocal='2024-01-17 14:37:22', id_estacion=None, obsTimeLocal='2024-01-17 14:42:22', id_estacion=None, obsTimeLocal='2024-01-17 14:47:22', id_estacion=None, obsTimeLocal='2024-01-17 14:52:22', id_estacion=None, obsTimeLocal='2024-01-17 14:57:22', id_estacion=None, obsTimeLocal='2024-01-17 15:02:22', id_estacion=None, obsTimeLocal='2024-01-17 15:07:22', id_estacion=None, obsTimeLocal='2024-01-17 15:12:22', id_estacion=None, obsTimeLocal='2024-01-17 15:17:22', id_estacion=None, obsTimeLocal='2024-01-17 15:22:22', id_estacion=None, obsTimeLocal='2024-01-17 15:27:22', id_estacion=None, obsTimeLocal='2024-01-17 15:32:22', id_estacion=None, obsTimeLocal='2024-01-17 15:37:22', id_estacion=None, obsTimeLocal='2024-01-17 15:42:22', id_estacion=None, obsTimeLocal='2024-01-17 15:47:22', id_estacion=None, obsTimeLocal='2024-01-17 15:52:22', id_estacion=None, obsTimeLocal='2024-01-17 15:57:22', id_estacion=None, obsTimeLocal='2024-01-17 16:02:22', id_estacion=None, obsTimeLocal='2024-01-17 16:07:22', id_estacion=None, obsTimeLocal='2024-01-17 16:12:22', id_estacion=None, obsTimeLocal='2024-01-17 16:17:22', id_estacion=None, obsTimeLocal='2024-01-17 16:22:22', id_estacion=None, obsTimeLocal='2024-01-17 16:27:22', id_estacion=None, obsTimeLocal='2024-01-17 16:32:22', id_estacion=None, obsTimeLocal='2024-01-17 16:37:22', id_estacion=None, obsTimeLocal='2024-01-17 16:42:22', id_estacion=None, obsTimeLocal='2024-01-17 16:47:22', id_estacion=None, obsTimeLocal='2024-01-17 16:52:22', id_estacion=None, obsTimeLocal='2024-01-17 16:57:22', id_estacion=None, obsTimeLocal='2024-01-17 17:02:22', id_estacion=None, obsTimeLocal='2024-01-17 17:07:22', id_estacion=None, obsTimeLocal='2024-01-17 17:12:22', id_estacion=None, obsTimeLocal='2024-01-17 17:17:22', id_estacion=None, obsTimeLocal='2024-01-17 17:22:22', id_estacion=None, obsTimeLocal='2024-01-17 17:27:22', id_estacion=None, obsTimeLocal='2024-01-17 17:32:22', id_estacion=None, obsTimeLocal='2024-01-17 17:37:22', id_estacion=None, obsTimeLocal='2024-01-17 17:42:22', id_estacion=None, obsTimeLocal='2024-01-17 17:47:22', id_estacion=None, obsTimeLocal='2024-01-17 17:52:22', id_estacion=None, obsTimeLocal='2024-01-17 17:57:22', id_estacion=None, obsTimeLocal='2024-01-17 18:02:22', id_estacion=None, obsTimeLocal='2024-01-17 18:07:22', id_estacion=None, obsTimeLocal='2024-01-17 18:12:22', id_estacion=None, obsTimeLocal='2024-01-17 18:17:22', id_estacion=None, obsTimeLocal='2024-01-17 18:22:22', id_estacion=None, obsTimeLocal='2024-01-17 18:27:22', id_estacion=None, obsTimeLocal='2024-01-17 18:32:22', id_estacion=None, obsTimeLocal='2024-01-17 18:37:22', id_estacion=None, obsTimeLocal='2024-01-17 18:42:22', id_estacion=None, obsTimeLocal='2024-01-17 18:47:22', id_estacion=None, obsTimeLocal='2024-01-17 18:52:22', id_estacion=None, obsTimeLocal='2024-01-17 18:57:22', id_estacion=None, obsTimeLocal='2024-01-17 19:02:22', id_estacion=None, obsTimeLocal='2024-01-17 19:08:22', id_estacion=None, obsTimeLocal='2024-01-17 19:13:22', id_estacion=None, obsTimeLocal='2024-01-17 19:18:22', id_estacion=None, obsTimeLocal='2024-01-17 19:24:22', id_estacion=None, obsTimeLocal='2024-01-17 19:29:22', id_estacion=None, obsTimeLocal='2024-01-17 19:34:22', id_estacion=None, obsTimeLocal='2024-01-17 19:40:22', id_estacion=None, obsTimeLocal='2024-01-17 19:45:22', id_estacion=None, obsTimeLocal='2024-01-17 19:50:22', id_estacion=None, obsTimeLocal='2024-01-17 19:56:22', id_estacion=None, obsTimeLocal='2024-01-17 20:01:22', id_estacion=None, obsTimeLocal='2024-01-17 20:06:22', id_estacion=None, obsTimeLocal='2024-01-17 20:12:22', id_estacion=None, obsTimeLocal='2024-01-17 20:17:22', id_estacion=None, obsTimeLocal='2024-01-17 20:22:22', id_estacion=None, obsTimeLocal='2024-01-17 20:28:22', id_estacion=None, obsTimeLocal='2024-01-17 20:33:22', id_estacion=None, obsTimeLocal='2024-01-17 20:38:22', id_estacion=None, obsTimeLocal='2024-01-17 20:44:22', id_estacion=None, obsTimeLocal='2024-01-17 20:49:22', id_estacion=None, obsTimeLocal='2024-01-17 20:54:22', id_estacion=None, obsTimeLocal='2024-01-17 20:59:22', id_estacion=None, obsTimeLocal='2024-01-17 21:04:22', id_estacion=None, obsTimeLocal='2024-01-17 21:09:22', id_estacion=None, obsTimeLocal='2024-01-17 21:14:22', id_estacion=None, obsTimeLocal='2024-01-17 21:19:22', id_estacion=None, obsTimeLocal='2024-01-17 21:24:22', id_estacion=None, obsTimeLocal='2024-01-17 21:29:22', id_estacion=None, obsTimeLocal='2024-01-17 21:34:22', id_estacion=None, obsTimeLocal='2024-01-17 21:39:22', id_estacion=None, obsTimeLocal='2024-01-17 21:49:00', id_estacion=None, obsTimeLocal='2024-01-17 21:54:00', id_estacion=None, obsTimeLocal='2024-01-17 21:59:01', id_estacion=None, obsTimeLocal='2024-01-17 22:04:01', id_estacion=None, obsTimeLocal='2024-01-17 22:09:00', id_estacion=None, obsTimeLocal='2024-01-17 22:14:00', id_estacion=None, obsTimeLocal='2024-01-17 22:19:00', id_estacion=None, obsTimeLocal='2024-01-17 22:24:00', id_estacion=None, obsTimeLocal='2024-01-17 22:29:00', id_estacion=None, obsTimeLocal='2024-01-17 22:34:01', id_estacion=None, obsTimeLocal='2024-01-17 22:39:00', id_estacion=None, obsTimeLocal='2024-01-17 22:44:00', id_estacion=None, obsTimeLocal='2024-01-17 22:49:00', id_estacion=None, obsTimeLocal='2024-01-17 22:54:00', id_estacion=None, obsTimeLocal='2024-01-17 22:59:00', id_estacion=None, obsTimeLocal='2024-01-17 23:04:00', id_estacion=None, obsTimeLocal='2024-01-17 23:09:01', id_estacion=None, obsTimeLocal='2024-01-17 23:14:00', id_estacion=None, obsTimeLocal='2024-01-17 23:19:01', id_estacion=None, obsTimeLocal='2024-01-17 23:24:00', id_estacion=None, obsTimeLocal='2024-01-17 23:29:00', id_estacion=None, obsTimeLocal='2024-01-17 23:34:00', id_estacion=None, obsTimeLocal='2024-01-17 23:39:00', id_estacion=None, obsTimeLocal='2024-01-17 23:44:00', id_estacion=None, obsTimeLocal='2024-01-17 23:49:00', id_estacion=None, obsTimeLocal='2024-01-17 23:54:00', id_estacion=None, obsTimeLocal='2024-01-17 23:59:01', id_estacion=None, obsTimeLocal='2024-01-18 00:04:00', id_estacion=None, obsTimeLocal='2024-01-18 00:09:01', id_estacion=None, obsTimeLocal='2024-01-18 00:14:01', id_estacion=None, obsTimeLocal='2024-01-18 00:19:00', id_estacion=None, obsTimeLocal='2024-01-18 00:24:00', id_estacion=None, obsTimeLocal='2024-01-18 00:29:00', id_estacion=None, obsTimeLocal='2024-01-18 00:34:00', id_estacion=None, obsTimeLocal='2024-01-18 00:39:00', id_estacion=None, obsTimeLocal='2024-01-18 00:44:00', id_estacion=None, obsTimeLocal='2024-01-18 00:49:00', id_estacion=None, obsTimeLocal='2024-01-18 00:54:00', id_estacion=None, obsTimeLocal='2024-01-18 00:59:00', id_estacion=None, obsTimeLocal='2024-01-18 01:04:00', id_estacion=None, obsTimeLocal='2024-01-18 01:09:00', id_estacion=None, obsTimeLocal='2024-01-18 01:14:00', id_estacion=None, obsTimeLocal='2024-01-18 01:19:00', id_estacion=None, obsTimeLocal='2024-01-18 01:24:00', id_estacion=None, obsTimeLocal='2024-01-18 01:29:01', id_estacion=None, obsTimeLocal='2024-01-18 01:34:00', id_estacion=None, obsTimeLocal='2024-01-18 01:39:00', id_estacion=None, obsTimeLocal='2024-01-18 01:44:00', id_estacion=None, obsTimeLocal='2024-01-18 01:49:01', id_estacion=None, obsTimeLocal='2024-01-18 01:54:00', id_estacion=None, obsTimeLocal='2024-01-18 01:59:00', id_estacion=None, obsTimeLocal='2024-01-18 02:04:01', id_estacion=None, obsTimeLocal='2024-01-18 02:09:00', id_estacion=None, obsTimeLocal='2024-01-18 02:14:00', id_estacion=None, obsTimeLocal='2024-01-18 02:19:00', id_estacion=None, obsTimeLocal='2024-01-18 02:24:00', id_estacion=None, obsTimeLocal='2024-01-18 02:29:01', id_estacion=None, obsTimeLocal='2024-01-18 02:34:01', id_estacion=None, obsTimeLocal='2024-01-18 02:39:00', id_estacion=None, obsTimeLocal='2024-01-18 02:44:00', id_estacion=None, obsTimeLocal='2024-01-18 02:49:00', id_estacion=None, obsTimeLocal='2024-01-18 02:54:00', id_estacion=None, obsTimeLocal='2024-01-18 02:59:01', id_estacion=None, obsTimeLocal='2024-01-18 03:04:00', id_estacion=None, obsTimeLocal='2024-01-18 03:09:00', id_estacion=None, obsTimeLocal='2024-01-18 03:14:00', id_estacion=None, obsTimeLocal='2024-01-18 03:19:00', id_estacion=None, obsTimeLocal='2024-01-18 03:24:01', id_estacion=None, obsTimeLocal='2024-01-18 03:29:00', id_estacion=None, obsTimeLocal='2024-01-18 03:34:00', id_estacion=None, obsTimeLocal='2024-01-18 03:39:00', id_estacion=None, obsTimeLocal='2024-01-18 03:44:00', id_estacion=None, obsTimeLocal='2024-01-18 03:49:01', id_estacion=None, obsTimeLocal='2024-01-18 03:54:01', id_estacion=None, obsTimeLocal='2024-01-18 03:59:00', id_estacion=None, obsTimeLocal='2024-01-18 04:04:00', id_estacion=None, obsTimeLocal='2024-01-18 04:09:00', id_estacion=None, obsTimeLocal='2024-01-18 04:14:00', id_estacion=None, obsTimeLocal='2024-01-18 04:19:01', id_estacion=None, obsTimeLocal='2024-01-18 04:24:01', id_estacion=None, obsTimeLocal='2024-01-18 04:29:00', id_estacion=None, obsTimeLocal='2024-01-18 04:34:00', id_estacion=None, obsTimeLocal='2024-01-18 04:39:01', id_estacion=None, obsTimeLocal='2024-01-18 04:44:00', id_estacion=None, obsTimeLocal='2024-01-18 04:49:00', id_estacion=None, obsTimeLocal='2024-01-18 04:54:00', id_estacion=None, obsTimeLocal='2024-01-18 04:59:01', id_estacion=None, obsTimeLocal='2024-01-18 05:04:00', id_estacion=None, obsTimeLocal='2024-01-18 05:09:00', id_estacion=None, obsTimeLocal='2024-01-18 05:14:00', id_estacion=None, obsTimeLocal='2024-01-18 05:19:01', id_estacion=None, obsTimeLocal='2024-01-18 05:24:01', id_estacion=None, obsTimeLocal='2024-01-18 05:29:00', id_estacion=None, obsTimeLocal='2024-01-18 05:34:00', id_estacion=None, obsTimeLocal='2024-01-18 05:39:00', id_estacion=None, obsTimeLocal='2024-01-18 05:44:01', id_estacion=None, obsTimeLocal='2024-01-18 05:49:00', id_estacion=None, obsTimeLocal='2024-01-18 05:54:00', id_estacion=None, obsTimeLocal='2024-01-18 05:59:00', id_estacion=None, obsTimeLocal='2024-01-18 06:04:00', id_estacion=None, obsTimeLocal='2024-01-18 06:09:01', id_estacion=None, obsTimeLocal='2024-01-18 06:14:00', id_estacion=None, obsTimeLocal='2024-01-18 06:19:00', id_estacion=None, obsTimeLocal='2024-01-18 06:24:01', id_estacion=None, obsTimeLocal='2024-01-18 06:29:00', id_estacion=None, obsTimeLocal='2024-01-18 06:34:00', id_estacion=None, obsTimeLocal='2024-01-18 06:39:00', id_estacion=None, obsTimeLocal='2024-01-18 06:44:01', id_estacion=None, obsTimeLocal='2024-01-18 06:49:00', id_estacion=None, obsTimeLocal='2024-01-18 06:54:00', id_estacion=None, obsTimeLocal='2024-01-18 06:59:00', id_estacion=None, obsTimeLocal='2024-01-18 07:04:01', id_estacion=None, obsTimeLocal='2024-01-18 07:09:00', id_estacion=None, obsTimeLocal='2024-01-18 07:14:00', id_estacion=None, obsTimeLocal='2024-01-18 07:19:00', id_estacion=None, obsTimeLocal='2024-01-18 07:24:00', id_estacion=None, obsTimeLocal='2024-01-18 07:29:01', id_estacion=None, obsTimeLocal='2024-01-18 07:34:00', id_estacion=None, obsTimeLocal='2024-01-18 07:39:00', id_estacion=None, obsTimeLocal='2024-01-18 07:44:00', id_estacion=None, obsTimeLocal='2024-01-18 07:49:00', id_estacion=None, obsTimeLocal='2024-01-18 07:54:40', id_estacion=None, obsTimeLocal='2024-01-18 07:59:02', id_estacion=None, obsTimeLocal='2024-01-18 08:04:31', id_estacion=None, obsTimeLocal='2024-01-18 08:09:01', id_estacion=None, obsTimeLocal='2024-01-18 08:14:01', id_estacion=None, obsTimeLocal='2024-01-18 08:19:00', id_estacion=None, obsTimeLocal='2024-01-18 08:24:00', id_estacion=None, obsTimeLocal='2024-01-18 08:29:00', id_estacion=None, obsTimeLocal='2024-01-18 08:34:00', id_estacion=None, obsTimeLocal='2024-01-18 08:39:00', id_estacion=None, obsTimeLocal='2024-01-18 08:44:00', id_estacion=None, obsTimeLocal='2024-01-18 08:49:00', id_estacion=None, obsTimeLocal='2024-01-18 08:54:01', id_estacion=None, obsTimeLocal='2024-01-18 08:59:00', id_estacion=None, obsTimeLocal='2024-01-18 09:04:01', id_estacion=None, obsTimeLocal='2024-01-18 09:09:01', id_estacion=None, obsTimeLocal='2024-01-18 09:14:01', id_estacion=None, obsTimeLocal='2024-01-18 09:19:00', id_estacion=None, obsTimeLocal='2024-01-18 09:24:01', id_estacion=None, obsTimeLocal='2024-01-18 09:29:00', id_estacion=None, obsTimeLocal='2024-01-18 09:34:00', id_estacion=None, obsTimeLocal='2024-01-18 09:39:01', id_estacion=None, obsTimeLocal='2024-01-18 09:44:01', id_estacion=None, obsTimeLocal='2024-01-18 09:49:00', id_estacion=None, obsTimeLocal='2024-01-18 09:54:01', id_estacion=None, obsTimeLocal='2024-01-18 09:59:00', id_estacion=None, obsTimeLocal='2024-01-18 10:04:02', id_estacion=None, obsTimeLocal='2024-01-18 10:09:01', id_estacion=None, obsTimeLocal='2024-01-18 10:14:00', id_estacion=None, obsTimeLocal='2024-01-18 10:19:00', id_estacion=None, obsTimeLocal='2024-01-18 10:24:01', id_estacion=None, obsTimeLocal='2024-01-18 10:29:00', id_estacion=None, obsTimeLocal='2024-01-18 10:34:01', id_estacion=None, obsTimeLocal='2024-01-18 10:39:01', id_estacion=None, obsTimeLocal='2024-01-18 10:44:01', id_estacion=None, obsTimeLocal='2024-01-18 10:49:00', id_estacion=None, obsTimeLocal='2024-01-18 10:54:01', id_estacion=None, obsTimeLocal='2024-01-18 10:59:01', id_estacion=None, obsTimeLocal='2024-01-18 11:04:00', id_estacion=None, obsTimeLocal='2024-01-18 11:09:02', id_estacion=None, obsTimeLocal='2024-01-18 11:14:01', id_estacion=None, obsTimeLocal='2024-01-18 11:19:00', id_estacion=None, obsTimeLocal='2024-01-18 11:24:00', id_estacion=None, obsTimeLocal='2024-01-18 11:29:00', id_estacion=None, obsTimeLocal='2024-01-18 11:34:01', id_estacion=None, obsTimeLocal='2024-01-18 11:39:00', id_estacion=None, obsTimeLocal='2024-01-18 11:44:10', id_estacion=None, obsTimeLocal='2024-01-18 11:49:01', id_estacion=None, obsTimeLocal='2024-01-18 11:54:00', id_estacion=None, obsTimeLocal='2024-01-18 11:59:00', id_estacion=None, obsTimeLocal='2024-01-18 12:04:01', id_estacion=None, obsTimeLocal='2024-01-18 12:09:00', id_estacion=None, obsTimeLocal='2024-01-18 12:14:01', id_estacion=None, obsTimeLocal='2024-01-18 12:19:01', id_estacion=None, obsTimeLocal='2024-01-18 12:24:00', id_estacion=None, obsTimeLocal='2024-01-18 12:29:00', id_estacion=None, obsTimeLocal='2024-01-18 12:34:01', id_estacion=None, obsTimeLocal='2024-01-18 12:39:00', id_estacion=None, obsTimeLocal='2024-01-18 12:44:00', id_estacion=None, obsTimeLocal='2024-01-18 12:49:00', id_estacion=None, obsTimeLocal='2024-01-18 12:54:00', id_estacion=None, obsTimeLocal='2024-01-18 12:59:00', id_estacion=None, obsTimeLocal='2024-01-18 13:04:01', id_estacion=None, obsTimeLocal='2024-01-18 13:09:01', id_estacion=None, obsTimeLocal='2024-01-18 13:14:01', id_estacion=None, obsTimeLocal='2024-01-18 13:19:01', id_estacion=None, obsTimeLocal='2024-01-18 13:24:01', id_estacion=None, obsTimeLocal='2024-01-18 13:29:01', id_estacion=None, obsTimeLocal='2024-01-18 13:34:01', id_estacion=None, obsTimeLocal='2024-01-18 13:39:00', id_estacion=None, obsTimeLocal='2024-01-18 13:44:00', id_estacion=None, obsTimeLocal='2024-01-18 13:49:00', id_estacion=None, obsTimeLocal='2024-01-18 13:54:00', id_estacion=None, obsTimeLocal='2024-01-18 13:59:00', id_estacion=None, obsTimeLocal='2024-01-18 14:04:00', id_estacion=None, obsTimeLocal='2024-01-18 14:09:00', id_estacion=None, obsTimeLocal='2024-01-18 14:14:00', id_estacion=None, obsTimeLocal='2024-01-18 14:19:01', id_estacion=None, obsTimeLocal='2024-01-18 14:24:00', id_estacion=None, obsTimeLocal='2024-01-18 14:29:01', id_estacion=None, obsTimeLocal='2024-01-18 14:34:01', id_estacion=None, obsTimeLocal='2024-01-18 14:39:01', id_estacion=None, obsTimeLocal='2024-01-18 14:42:00', id_estacion=None, obsTimeLocal='2024-01-18 14:59:00', id_estacion=None, obsTimeLocal='2024-01-18 15:04:00', id_estacion=None, obsTimeLocal='2024-01-18 15:09:00', id_estacion=None, obsTimeLocal='2024-01-18 15:11:00', id_estacion=None, obsTimeLocal='2024-01-18 15:29:00', id_estacion=None, obsTimeLocal='2024-01-18 15:34:00', id_estacion=None, obsTimeLocal='2024-01-18 15:39:01', id_estacion=None, obsTimeLocal='2024-01-18 15:44:01', id_estacion=None, obsTimeLocal='2024-01-18 15:49:00', id_estacion=None, obsTimeLocal='2024-01-18 15:54:00', id_estacion=None, obsTimeLocal='2024-01-18 15:59:01', id_estacion=None, obsTimeLocal='2024-01-18 16:04:01', id_estacion=None, obsTimeLocal='2024-01-18 16:09:00', id_estacion=None, obsTimeLocal='2024-01-18 16:14:00', id_estacion=None, obsTimeLocal='2024-01-18 16:19:00', id_estacion=None, obsTimeLocal='2024-01-18 16:24:00', id_estacion=None, obsTimeLocal='2024-01-18 16:29:00', id_estacion=None, obsTimeLocal='2024-01-18 16:34:00', id_estacion=None, obsTimeLocal='2024-01-18 16:39:01', id_estacion=None, obsTimeLocal='2024-01-18 16:44:01', id_estacion=None, obsTimeLocal='2024-01-18 16:49:00', id_estacion=None, obsTimeLocal='2024-01-18 16:54:00', id_estacion=None, obsTimeLocal='2024-01-18 16:59:00', id_estacion=None, obsTimeLocal='2024-01-18 17:04:00', id_estacion=None, obsTimeLocal='2024-01-18 17:09:01', id_estacion=None, obsTimeLocal='2024-01-18 17:14:01', id_estacion=None, obsTimeLocal='2024-01-18 17:19:00', id_estacion=None, obsTimeLocal='2024-01-18 17:24:00', id_estacion=None, obsTimeLocal='2024-01-18 17:29:00', id_estacion=None, obsTimeLocal='2024-01-18 17:34:00', id_estacion=None, obsTimeLocal='2024-01-18 17:39:01', id_estacion=None, obsTimeLocal='2024-01-18 17:44:01', id_estacion=None, obsTimeLocal='2024-01-18 17:49:00', id_estacion=None, obsTimeLocal='2024-01-18 17:54:00', id_estacion=None, obsTimeLocal='2024-01-18 17:59:00', id_estacion=None, obsTimeLocal='2024-01-18 18:04:00', id_estacion=None, obsTimeLocal='2024-01-18 18:09:00', id_estacion=None, obsTimeLocal='2024-01-18 18:14:00', id_estacion=None, obsTimeLocal='2024-01-18 18:19:00', id_estacion=None, obsTimeLocal='2024-01-18 18:24:00', id_estacion=None, obsTimeLocal='2024-01-18 18:29:01', id_estacion=None, obsTimeLocal='2024-01-18 18:34:01', id_estacion=None, obsTimeLocal='2024-01-18 18:39:00', id_estacion=None, obsTimeLocal='2024-01-18 18:44:00', id_estacion=None, obsTimeLocal='2024-01-18 18:49:00', id_estacion=None, obsTimeLocal='2024-01-18 18:54:00', id_estacion=None, obsTimeLocal='2024-01-18 18:59:00', id_estacion=None, obsTimeLocal='2024-01-18 19:04:00', id_estacion=None, obsTimeLocal='2024-01-18 19:09:01', id_estacion=None, obsTimeLocal='2024-01-18 19:14:01', id_estacion=None, obsTimeLocal='2024-01-18 19:19:00', id_estacion=None, obsTimeLocal='2024-01-18 19:24:00', id_estacion=None, obsTimeLocal='2024-01-18 19:29:00', id_estacion=None, obsTimeLocal='2024-01-18 19:34:00', id_estacion=None, obsTimeLocal='2024-01-18 19:39:00', id_estacion=None, obsTimeLocal='2024-01-18 19:44:00', id_estacion=None, obsTimeLocal='2024-01-18 19:49:01', id_estacion=None, obsTimeLocal='2024-01-18 19:54:01', id_estacion=None, obsTimeLocal='2024-01-18 19:59:00', id_estacion=None, obsTimeLocal='2024-01-18 20:04:00', id_estacion=None, obsTimeLocal='2024-01-18 20:09:00', id_estacion=None, obsTimeLocal='2024-01-18 20:14:00', id_estacion=None, obsTimeLocal='2024-01-18 20:19:00', id_estacion=None, obsTimeLocal='2024-01-18 20:24:00', id_estacion=None, obsTimeLocal='2024-01-18 20:29:00', id_estacion=None, obsTimeLocal='2024-01-18 20:34:00', id_estacion=None, obsTimeLocal='2024-01-18 20:39:00', id_estacion=None, obsTimeLocal='2024-01-18 20:44:00', id_estacion=None, obsTimeLocal='2024-01-18 20:49:00', id_estacion=None, obsTimeLocal='2024-01-18 20:54:00', id_estacion=None, obsTimeLocal='2024-01-18 20:59:00', id_estacion=None, obsTimeLocal='2024-01-18 21:04:01', id_estacion=None, obsTimeLocal='2024-01-18 21:09:01', id_estacion=None, obsTimeLocal='2024-01-18 21:14:01', id_estacion=None, obsTimeLocal='2024-01-18 21:19:00', id_estacion=None, obsTimeLocal='2024-01-18 21:24:00', id_estacion=None, obsTimeLocal='2024-01-18 21:29:00', id_estacion=None, obsTimeLocal='2024-01-18 21:34:01', id_estacion=None, obsTimeLocal='2024-01-18 21:39:00', id_estacion=None, obsTimeLocal='2024-01-18 21:44:01', id_estacion=None, obsTimeLocal='2024-01-18 21:49:01', id_estacion=None, obsTimeLocal='2024-01-18 21:54:01', id_estacion=None, obsTimeLocal='2024-01-18 21:59:00', id_estacion=None, obsTimeLocal='2024-01-18 22:04:01', id_estacion=None, obsTimeLocal='2024-01-18 22:09:00', id_estacion=None, obsTimeLocal='2024-01-18 22:14:00', id_estacion=None, obsTimeLocal='2024-01-18 22:19:00', id_estacion=None, obsTimeLocal='2024-01-18 22:24:00', id_estacion=None, obsTimeLocal='2024-01-18 22:29:00', id_estacion=None, obsTimeLocal='2024-01-18 22:34:00', id_estacion=None, obsTimeLocal='2024-01-18 22:39:00', id_estacion=None, obsTimeLocal='2024-01-18 22:44:00', id_estacion=None, obsTimeLocal='2024-01-18 22:49:00', id_estacion=None, obsTimeLocal='2024-01-18 22:54:00', id_estacion=None, obsTimeLocal='2024-01-18 22:59:00', id_estacion=None, obsTimeLocal='2024-01-18 23:04:00', id_estacion=None, obsTimeLocal='2024-01-18 23:09:01', id_estacion=None, obsTimeLocal='2024-01-18 23:14:01', id_estacion=None, obsTimeLocal='2024-01-18 23:19:00', id_estacion=None, obsTimeLocal='2024-01-18 23:24:00', id_estacion=None, obsTimeLocal='2024-01-18 23:29:00', id_estacion=None, obsTimeLocal='2024-01-18 23:34:00', id_estacion=None, obsTimeLocal='2024-01-18 23:39:00', id_estacion=None, obsTimeLocal='2024-01-18 23:44:01', id_estacion=None, obsTimeLocal='2024-01-18 23:49:01', id_estacion=None, obsTimeLocal='2024-01-18 23:54:00', id_estacion=None, obsTimeLocal='2024-01-18 23:59:00', id_estacion=None, obsTimeLocal='2024-01-19 00:04:00', id_estacion=None, obsTimeLocal='2024-01-19 00:09:00', id_estacion=None, obsTimeLocal='2024-01-19 00:14:01', id_estacion=None, obsTimeLocal='2024-01-19 00:19:01', id_estacion=None, obsTimeLocal='2024-01-19 00:24:00', id_estacion=None, obsTimeLocal='2024-01-19 00:29:00', id_estacion=None, obsTimeLocal='2024-01-19 00:34:01', id_estacion=None, obsTimeLocal='2024-01-19 00:39:00', id_estacion=None, obsTimeLocal='2024-01-19 00:44:01', id_estacion=None, obsTimeLocal='2024-01-19 00:49:01', id_estacion=None, obsTimeLocal='2024-01-19 00:54:00', id_estacion=None, obsTimeLocal='2024-01-19 00:59:01', id_estacion=None, obsTimeLocal='2024-01-19 01:04:01', id_estacion=None, obsTimeLocal='2024-01-19 01:09:00', id_estacion=None, obsTimeLocal='2024-01-19 01:14:01', id_estacion=None, obsTimeLocal='2024-01-19 01:19:00', id_estacion=None, obsTimeLocal='2024-01-19 01:24:00', id_estacion=None, obsTimeLocal='2024-01-19 01:29:00', id_estacion=None, obsTimeLocal='2024-01-19 01:34:00', id_estacion=None, obsTimeLocal='2024-01-19 01:39:00', id_estacion=None, obsTimeLocal='2024-01-19 01:44:00', id_estacion=None, obsTimeLocal='2024-01-19 01:49:00', id_estacion=None, obsTimeLocal='2024-01-19 01:54:00', id_estacion=None, obsTimeLocal='2024-01-19 01:59:00', id_estacion=None, obsTimeLocal='2024-01-19 02:04:00', id_estacion=None, obsTimeLocal='2024-01-19 02:09:00', id_estacion=None, obsTimeLocal='2024-01-19 02:14:00', id_estacion=None, obsTimeLocal='2024-01-19 02:19:00', id_estacion=None, obsTimeLocal='2024-01-19 02:24:00', id_estacion=None, obsTimeLocal='2024-01-19 02:29:00', id_estacion=None, obsTimeLocal='2024-01-19 02:34:00', id_estacion=None, obsTimeLocal='2024-01-19 02:39:00', id_estacion=None, obsTimeLocal='2024-01-19 02:44:00', id_estacion=None, obsTimeLocal='2024-01-19 02:49:00', id_estacion=None, obsTimeLocal='2024-01-19 02:54:00', id_estacion=None, obsTimeLocal='2024-01-19 02:59:00', id_estacion=None, obsTimeLocal='2024-01-19 03:04:00', id_estacion=None, obsTimeLocal='2024-01-19 03:09:00', id_estacion=None, obsTimeLocal='2024-01-19 03:14:00', id_estacion=None, obsTimeLocal='2024-01-19 03:19:00', id_estacion=None, obsTimeLocal='2024-01-19 03:24:00', id_estacion=None, obsTimeLocal='2024-01-19 03:29:00', id_estacion=None, obsTimeLocal='2024-01-19 03:34:00', id_estacion=None, obsTimeLocal='2024-01-19 03:39:00', id_estacion=None, obsTimeLocal='2024-01-19 03:44:00', id_estacion=None, obsTimeLocal='2024-01-19 03:49:00', id_estacion=None, obsTimeLocal='2024-01-19 03:54:00', id_estacion=None, obsTimeLocal='2024-01-19 03:59:00', id_estacion=None, obsTimeLocal='2024-01-19 04:04:00', id_estacion=None, obsTimeLocal='2024-01-19 04:09:00', id_estacion=None, obsTimeLocal='2024-01-19 04:14:00', id_estacion=None, obsTimeLocal='2024-01-19 04:19:00', id_estacion=None, obsTimeLocal='2024-01-19 04:24:00', id_estacion=None, obsTimeLocal='2024-01-19 04:29:00', id_estacion=None, obsTimeLocal='2024-01-19 04:34:01', id_estacion=None, obsTimeLocal='2024-01-19 04:39:00', id_estacion=None, obsTimeLocal='2024-01-19 04:44:01', id_estacion=None, obsTimeLocal='2024-01-19 04:49:00', id_estacion=None, obsTimeLocal='2024-01-19 04:54:00', id_estacion=None, obsTimeLocal='2024-01-19 04:59:00', id_estacion=None, obsTimeLocal='2024-01-19 05:04:00', id_estacion=None, obsTimeLocal='2024-01-19 05:09:00', id_estacion=None, obsTimeLocal='2024-01-19 05:14:00', id_estacion=None, obsTimeLocal='2024-01-19 05:19:00', id_estacion=None, obsTimeLocal='2024-01-19 05:24:00', id_estacion=None, obsTimeLocal='2024-01-19 05:29:00', id_estacion=None, obsTimeLocal='2024-01-19 05:34:00', id_estacion=None, obsTimeLocal='2024-01-19 05:39:01', id_estacion=None, obsTimeLocal='2024-01-19 05:44:01', id_estacion=None, obsTimeLocal='2024-01-19 05:49:00', id_estacion=None, obsTimeLocal='2024-01-19 05:54:01', id_estacion=None, obsTimeLocal='2024-01-19 05:59:00', id_estacion=None, obsTimeLocal='2024-01-19 06:04:00', id_estacion=None, obsTimeLocal='2024-01-19 06:09:00', id_estacion=None, obsTimeLocal='2024-01-19 06:14:00', id_estacion=None, obsTimeLocal='2024-01-19 06:19:00', id_estacion=None, obsTimeLocal='2024-01-19 06:24:00', id_estacion=None, obsTimeLocal='2024-01-19 06:29:00', id_estacion=None, obsTimeLocal='2024-01-19 06:34:00', id_estacion=None, obsTimeLocal='2024-01-19 06:39:00', id_estacion=None, obsTimeLocal='2024-01-19 06:44:00', id_estacion=None, obsTimeLocal='2024-01-19 06:49:00', id_estacion=None, obsTimeLocal='2024-01-19 06:54:00', id_estacion=None, obsTimeLocal='2024-01-19 06:59:01', id_estacion=None, obsTimeLocal='2024-01-19 07:04:01', id_estacion=None, obsTimeLocal='2024-01-19 07:09:00', id_estacion=None, obsTimeLocal='2024-01-19 07:14:00', id_estacion=None, obsTimeLocal='2024-01-19 07:19:00', id_estacion=None, obsTimeLocal='2024-01-19 07:24:00', id_estacion=None, obsTimeLocal='2024-01-19 07:29:00', id_estacion=None, obsTimeLocal='2024-01-19 07:34:01', id_estacion=None, obsTimeLocal='2024-01-19 07:39:01', id_estacion=None, obsTimeLocal='2024-01-19 07:44:00', id_estacion=None, obsTimeLocal='2024-01-19 07:49:00', id_estacion=None, obsTimeLocal='2024-01-19 07:54:00', id_estacion=None, obsTimeLocal='2024-01-19 07:59:00', id_estacion=None, obsTimeLocal='2024-01-19 08:04:00', id_estacion=None, obsTimeLocal='2024-01-19 08:09:00', id_estacion=None, obsTimeLocal='2024-01-19 08:14:01', id_estacion=None, obsTimeLocal='2024-01-19 08:19:00', id_estacion=None, obsTimeLocal='2024-01-19 08:24:00', id_estacion=None, obsTimeLocal='2024-01-19 08:29:00', id_estacion=None, obsTimeLocal='2024-01-19 08:34:01', id_estacion=None, obsTimeLocal='2024-01-19 08:39:01', id_estacion=None, obsTimeLocal='2024-01-19 08:44:00', id_estacion=None, obsTimeLocal='2024-01-19 08:49:00', id_estacion=None, obsTimeLocal='2024-01-19 08:54:00', id_estacion=None, obsTimeLocal='2024-01-19 08:59:00', id_estacion=None, obsTimeLocal='2024-01-19 09:04:00', id_estacion=None, obsTimeLocal='2024-01-19 09:09:00', id_estacion=None, obsTimeLocal='2024-01-19 09:14:01', id_estacion=None, obsTimeLocal='2024-01-19 09:19:01', id_estacion=None, obsTimeLocal='2024-01-19 09:24:01', id_estacion=None, obsTimeLocal='2024-01-19 09:29:00', id_estacion=None, obsTimeLocal='2024-01-19 09:34:01', id_estacion=None, obsTimeLocal='2024-01-19 09:39:00', id_estacion=None, obsTimeLocal='2024-01-19 09:44:00', id_estacion=None, obsTimeLocal='2024-01-19 09:49:00', id_estacion=None, obsTimeLocal='2024-01-19 09:54:01', id_estacion=None, obsTimeLocal='2024-01-19 09:59:00', id_estacion=None, obsTimeLocal='2024-01-19 10:04:00', id_estacion=None, obsTimeLocal='2024-01-19 10:09:00', id_estacion=None, obsTimeLocal='2024-01-19 10:14:00', id_estacion=None, obsTimeLocal='2024-01-19 10:19:00', id_estacion=None, obsTimeLocal='2024-01-19 10:24:00', id_estacion=None, obsTimeLocal='2024-01-19 10:29:00', id_estacion=None, obsTimeLocal='2024-01-19 10:34:00', id_estacion=None, obsTimeLocal='2024-01-19 10:39:00', id_estacion=None, obsTimeLocal='2024-01-19 10:44:00', id_estacion=None, obsTimeLocal='2024-01-19 10:49:01', id_estacion=None, obsTimeLocal='2024-01-19 10:54:00', id_estacion=None, obsTimeLocal='2024-01-19 10:59:00', id_estacion=None, obsTimeLocal='2024-01-19 11:04:00', id_estacion=None, obsTimeLocal='2024-01-19 11:09:02', id_estacion=None, obsTimeLocal='2024-01-19 11:14:00', id_estacion=None, obsTimeLocal='2024-01-19 11:19:00', id_estacion=None, obsTimeLocal='2024-01-19 11:24:00', id_estacion=None, obsTimeLocal='2024-01-19 11:29:00', id_estacion=None, obsTimeLocal='2024-01-19 11:34:00', id_estacion=None, obsTimeLocal='2024-01-19 11:39:00', id_estacion=None, obsTimeLocal='2024-01-19 11:44:01', id_estacion=None, obsTimeLocal='2024-01-19 11:49:01', id_estacion=None, obsTimeLocal='2024-01-19 11:54:00', id_estacion=None, obsTimeLocal='2024-01-19 11:59:00', id_estacion=None, obsTimeLocal='2024-01-19 12:04:00', id_estacion=None, obsTimeLocal='2024-01-19 12:09:00', id_estacion=None, obsTimeLocal='2024-01-19 12:14:00', id_estacion=None, obsTimeLocal='2024-01-19 12:19:00', id_estacion=None, obsTimeLocal='2024-01-19 12:24:00', id_estacion=None, obsTimeLocal='2024-01-19 12:29:00', id_estacion=None, obsTimeLocal='2024-01-19 12:34:01', id_estacion=None, obsTimeLocal='2024-01-19 12:39:03', id_estacion=None, obsTimeLocal='2024-01-19 12:44:00', id_estacion=None, obsTimeLocal='2024-01-19 12:49:02', id_estacion=None, obsTimeLocal='2024-01-19 12:54:00', id_estacion=None, obsTimeLocal='2024-01-19 12:59:01', id_estacion=None, obsTimeLocal='2024-01-19 13:04:01', id_estacion=None, obsTimeLocal='2024-01-19 13:09:00', id_estacion=None, obsTimeLocal='2024-01-19 13:14:00', id_estacion=None, obsTimeLocal='2024-01-19 13:19:00', id_estacion=None, obsTimeLocal='2024-01-19 13:24:00', id_estacion=None, obsTimeLocal='2024-01-19 13:29:01', id_estacion=None, obsTimeLocal='2024-01-19 13:34:01', id_estacion=None, obsTimeLocal='2024-01-19 13:39:00', id_estacion=None, obsTimeLocal='2024-01-19 13:44:00', id_estacion=None, obsTimeLocal='2024-01-19 13:49:00', id_estacion=None, obsTimeLocal='2024-01-19 13:54:00', id_estacion=None, obsTimeLocal='2024-01-19 13:59:00', id_estacion=None, obsTimeLocal='2024-01-19 14:04:00', id_estacion=None, obsTimeLocal='2024-01-19 14:09:00', id_estacion=None, obsTimeLocal='2024-01-19 14:14:00', id_estacion=None, obsTimeLocal='2024-01-19 14:19:00', id_estacion=None, obsTimeLocal='2024-01-19 14:24:00', id_estacion=None, obsTimeLocal='2024-01-19 14:29:00', id_estacion=None, obsTimeLocal='2024-01-19 14:34:00', id_estacion=None, obsTimeLocal='2024-01-19 14:39:00', id_estacion=None, obsTimeLocal='2024-01-19 14:44:00', id_estacion=None, obsTimeLocal='2024-01-19 14:49:01', id_estacion=None, obsTimeLocal='2024-01-19 14:54:01', id_estacion=None, obsTimeLocal='2024-01-19 14:59:00', id_estacion=None, obsTimeLocal='2024-01-19 15:04:00', id_estacion=None, obsTimeLocal='2024-01-19 15:09:00', id_estacion=None, obsTimeLocal='2024-01-19 15:14:00', id_estacion=None, obsTimeLocal='2024-01-19 15:19:00', id_estacion=None, obsTimeLocal='2024-01-19 15:24:00', id_estacion=None, obsTimeLocal='2024-01-19 15:29:00', id_estacion=None, obsTimeLocal='2024-01-19 15:34:00', id_estacion=None, obsTimeLocal='2024-01-19 15:39:01', id_estacion=None, obsTimeLocal='2024-01-19 15:44:01', id_estacion=None, obsTimeLocal='2024-01-19 15:49:00', id_estacion=None, obsTimeLocal='2024-01-19 15:54:00', id_estacion=None, obsTimeLocal='2024-01-19 15:59:00', id_estacion=None, obsTimeLocal='2024-01-19 16:04:00', id_estacion=None, obsTimeLocal='2024-01-19 16:09:00', id_estacion=None, obsTimeLocal='2024-01-19 16:14:00', id_estacion=None, obsTimeLocal='2024-01-19 16:19:01', id_estacion=None, obsTimeLocal='2024-01-19 16:24:01', id_estacion=None, obsTimeLocal='2024-01-19 16:29:00', id_estacion=None, obsTimeLocal='2024-01-19 16:34:00', id_estacion=None, obsTimeLocal='2024-01-19 16:39:00', id_estacion=None, obsTimeLocal='2024-01-19 16:44:00', id_estacion=None, obsTimeLocal='2024-01-19 16:49:01', id_estacion=None, obsTimeLocal='2024-01-19 16:54:01', id_estacion=None, obsTimeLocal='2024-01-19 16:59:00', id_estacion=None, obsTimeLocal='2024-01-19 17:04:00', id_estacion=None, obsTimeLocal='2024-01-19 17:09:00', id_estacion=None, obsTimeLocal='2024-01-19 17:14:00', id_estacion=None, obsTimeLocal='2024-01-19 17:19:01', id_estacion=None, obsTimeLocal='2024-01-19 17:24:01', id_estacion=None, obsTimeLocal='2024-01-19 17:29:00', id_estacion=None, obsTimeLocal='2024-01-19 17:34:00', id_estacion=None, obsTimeLocal='2024-01-19 17:39:00', id_estacion=None, obsTimeLocal='2024-01-19 17:44:00', id_estacion=None, obsTimeLocal='2024-01-19 17:49:00', id_estacion=None, obsTimeLocal='2024-01-19 17:54:00', id_estacion=None, obsTimeLocal='2024-01-19 17:59:01', id_estacion=None, obsTimeLocal='2024-01-19 18:04:00', id_estacion=None, obsTimeLocal='2024-01-19 18:09:00', id_estacion=None, obsTimeLocal='2024-01-19 18:14:00', id_estacion=None, obsTimeLocal='2024-01-19 18:19:00', id_estacion=None, obsTimeLocal='2024-01-19 18:24:00', id_estacion=None, obsTimeLocal='2024-01-19 18:29:00', id_estacion=None, obsTimeLocal='2024-01-19 18:34:00', id_estacion=None, obsTimeLocal='2024-01-19 18:39:01', id_estacion=None, obsTimeLocal='2024-01-19 18:44:01', id_estacion=None, obsTimeLocal='2024-01-19 18:49:00', id_estacion=None, obsTimeLocal='2024-01-19 18:54:00', id_estacion=None, obsTimeLocal='2024-01-19 18:59:00', id_estacion=None, obsTimeLocal='2024-01-19 19:04:00', id_estacion=None, obsTimeLocal='2024-01-19 19:09:00', id_estacion=None, obsTimeLocal='2024-01-19 19:14:00', id_estacion=None, obsTimeLocal='2024-01-19 19:19:01', id_estacion=None, obsTimeLocal='2024-01-19 19:24:01', id_estacion=None, obsTimeLocal='2024-01-19 19:29:00', id_estacion=None, obsTimeLocal='2024-01-19 19:34:00', id_estacion=None, obsTimeLocal='2024-01-19 19:39:00', id_estacion=None, obsTimeLocal='2024-01-19 19:44:00', id_estacion=None, obsTimeLocal='2024-01-19 19:49:00', id_estacion=None, obsTimeLocal='2024-01-19 19:54:00', id_estacion=None, obsTimeLocal='2024-01-19 19:59:00', id_estacion=None, obsTimeLocal='2024-01-19 20:04:01', id_estacion=None, obsTimeLocal='2024-01-19 20:09:00', id_estacion=None, obsTimeLocal='2024-01-19 20:14:00', id_estacion=None, obsTimeLocal='2024-01-19 20:19:00', id_estacion=None, obsTimeLocal='2024-01-19 20:24:00', id_estacion=None, obsTimeLocal='2024-01-19 20:29:00', id_estacion=None, obsTimeLocal='2024-01-19 20:34:00', id_estacion=None, obsTimeLocal='2024-01-19 20:39:00', id_estacion=None, obsTimeLocal='2024-01-19 20:44:00', id_estacion=None, obsTimeLocal='2024-01-19 20:49:01', id_estacion=None, obsTimeLocal='2024-01-19 20:54:01', id_estacion=None, obsTimeLocal='2024-01-19 20:59:00', id_estacion=None, obsTimeLocal='2024-01-19 21:04:00', id_estacion=None, obsTimeLocal='2024-01-19 21:09:00', id_estacion=None, obsTimeLocal='2024-01-19 21:14:00', id_estacion=None, obsTimeLocal='2024-01-19 21:19:00', id_estacion=None, obsTimeLocal='2024-01-19 21:24:00', id_estacion=None, obsTimeLocal='2024-01-19 21:29:01', id_estacion=None, obsTimeLocal='2024-01-19 21:34:01', id_estacion=None, obsTimeLocal='2024-01-19 21:39:00', id_estacion=None, obsTimeLocal='2024-01-19 21:44:00', id_estacion=None, obsTimeLocal='2024-01-19 21:49:00', id_estacion=None, obsTimeLocal='2024-01-19 21:54:00', id_estacion=None, obsTimeLocal='2024-01-19 21:59:00', id_estacion=None, obsTimeLocal='2024-01-19 22:04:01', id_estacion=None, obsTimeLocal='2024-01-19 22:09:00', id_estacion=None, obsTimeLocal='2024-01-19 22:14:00', id_estacion=None, obsTimeLocal='2024-01-19 22:19:00', id_estacion=None, obsTimeLocal='2024-01-19 22:24:00', id_estacion=None, obsTimeLocal='2024-01-19 22:29:01', id_estacion=None, obsTimeLocal='2024-01-19 22:34:01', id_estacion=None, obsTimeLocal='2024-01-19 22:39:00', id_estacion=None, obsTimeLocal='2024-01-19 22:44:00', id_estacion=None, obsTimeLocal='2024-01-19 22:49:00', id_estacion=None, obsTimeLocal='2024-01-19 22:54:00', id_estacion=None, obsTimeLocal='2024-01-19 22:59:00', id_estacion=None, obsTimeLocal='2024-01-19 23:04:00', id_estacion=None, obsTimeLocal='2024-01-19 23:09:00', id_estacion=None, obsTimeLocal='2024-01-19 23:14:00', id_estacion=None, obsTimeLocal='2024-01-19 23:19:00', id_estacion=None, obsTimeLocal='2024-01-19 23:24:00', id_estacion=None, obsTimeLocal='2024-01-19 23:29:01', id_estacion=None, obsTimeLocal='2024-01-19 23:34:01', id_estacion=None, obsTimeLocal='2024-01-19 23:39:00', id_estacion=None, obsTimeLocal='2024-01-19 23:44:00', id_estacion=None, obsTimeLocal='2024-01-19 23:49:00', id_estacion=None, obsTimeLocal='2024-01-19 23:54:00', id_estacion=None, obsTimeLocal='2024-01-19 23:59:01', id_estacion=None, obsTimeLocal='2024-01-20 00:04:00', id_estacion=None, obsTimeLocal='2024-01-20 00:09:01', id_estacion=None, obsTimeLocal='2024-01-20 00:14:01', id_estacion=None, obsTimeLocal='2024-01-20 00:19:00', id_estacion=None, obsTimeLocal='2024-01-20 00:24:00', id_estacion=None, obsTimeLocal='2024-01-20 00:29:00', id_estacion=None, obsTimeLocal='2024-01-20 00:34:00', id_estacion=None, obsTimeLocal='2024-01-20 00:39:01', id_estacion=None, obsTimeLocal='2024-01-20 00:44:00', id_estacion=None, obsTimeLocal='2024-01-20 00:49:00', id_estacion=None, obsTimeLocal='2024-01-20 00:54:01', id_estacion=None, obsTimeLocal='2024-01-20 00:59:00', id_estacion=None, obsTimeLocal='2024-01-20 01:04:00', id_estacion=None, obsTimeLocal='2024-01-20 01:09:00', id_estacion=None, obsTimeLocal='2024-01-20 01:14:00', id_estacion=None, obsTimeLocal='2024-01-20 01:19:00', id_estacion=None, obsTimeLocal='2024-01-20 01:24:00', id_estacion=None, obsTimeLocal='2024-01-20 01:29:01', id_estacion=None, obsTimeLocal='2024-01-20 01:34:01', id_estacion=None, obsTimeLocal='2024-01-20 01:39:00', id_estacion=None, obsTimeLocal='2024-01-20 01:44:00', id_estacion=None, obsTimeLocal='2024-01-20 01:49:01', id_estacion=None, obsTimeLocal='2024-01-20 01:54:01', id_estacion=None, obsTimeLocal='2024-01-20 01:59:00', id_estacion=None, obsTimeLocal='2024-01-20 02:04:00', id_estacion=None, obsTimeLocal='2024-01-20 02:09:00', id_estacion=None, obsTimeLocal='2024-01-20 02:14:00', id_estacion=None, obsTimeLocal='2024-01-20 02:19:01', id_estacion=None, obsTimeLocal='2024-01-20 02:24:01', id_estacion=None, obsTimeLocal='2024-01-20 02:29:00', id_estacion=None, obsTimeLocal='2024-01-20 02:34:00', id_estacion=None, obsTimeLocal='2024-01-20 02:39:00', id_estacion=None, obsTimeLocal='2024-01-20 02:44:00', id_estacion=None, obsTimeLocal='2024-01-20 02:49:00', id_estacion=None, obsTimeLocal='2024-01-20 02:54:00', id_estacion=None, obsTimeLocal='2024-01-20 02:59:00', id_estacion=None, obsTimeLocal='2024-01-20 03:04:00', id_estacion=None, obsTimeLocal='2024-01-20 03:09:00', id_estacion=None, obsTimeLocal='2024-01-20 03:14:00', id_estacion=None, obsTimeLocal='2024-01-20 03:19:00', id_estacion=None, obsTimeLocal='2024-01-20 03:24:00', id_estacion=None, obsTimeLocal='2024-01-20 03:29:00', id_estacion=None, obsTimeLocal='2024-01-20 03:34:00', id_estacion=None, obsTimeLocal='2024-01-20 03:39:01', id_estacion=None, obsTimeLocal='2024-01-20 03:44:01', id_estacion=None, obsTimeLocal='2024-01-20 03:49:00', id_estacion=None, obsTimeLocal='2024-01-20 03:54:00', id_estacion=None, obsTimeLocal='2024-01-20 03:59:00', id_estacion=None, obsTimeLocal='2024-01-20 04:04:00', id_estacion=None, obsTimeLocal='2024-01-20 04:09:00', id_estacion=None, obsTimeLocal='2024-01-20 04:14:01', id_estacion=None, obsTimeLocal='2024-01-20 04:19:00', id_estacion=None, obsTimeLocal='2024-01-20 04:24:00', id_estacion=None, obsTimeLocal='2024-01-20 04:29:00', id_estacion=None, obsTimeLocal='2024-01-20 04:34:00', id_estacion=None, obsTimeLocal='2024-01-20 04:39:00', id_estacion=None, obsTimeLocal='2024-01-20 04:44:00', id_estacion=None, obsTimeLocal='2024-01-20 04:49:00', id_estacion=None, obsTimeLocal='2024-01-20 04:54:00', id_estacion=None, obsTimeLocal='2024-01-20 04:59:00', id_estacion=None, obsTimeLocal='2024-01-20 05:04:00', id_estacion=None, obsTimeLocal='2024-01-20 05:09:01', id_estacion=None, obsTimeLocal='2024-01-20 05:14:01', id_estacion=None, obsTimeLocal='2024-01-20 05:19:00', id_estacion=None, obsTimeLocal='2024-01-20 05:24:00', id_estacion=None, obsTimeLocal='2024-01-20 05:29:00', id_estacion=None, obsTimeLocal='2024-01-20 05:34:00', id_estacion=None, obsTimeLocal='2024-01-20 05:39:00', id_estacion=None, obsTimeLocal='2024-01-20 05:44:00', id_estacion=None, obsTimeLocal='2024-01-20 05:49:01', id_estacion=None, obsTimeLocal='2024-01-20 05:54:00', id_estacion=None, obsTimeLocal='2024-01-20 05:59:00', id_estacion=None, obsTimeLocal='2024-01-20 06:04:00', id_estacion=None, obsTimeLocal='2024-01-20 06:09:00', id_estacion=None, obsTimeLocal='2024-01-20 06:14:00', id_estacion=None, obsTimeLocal='2024-01-20 06:19:01', id_estacion=None, obsTimeLocal='2024-01-20 06:24:01', id_estacion=None, obsTimeLocal='2024-01-20 06:29:00', id_estacion=None, obsTimeLocal='2024-01-20 06:34:00', id_estacion=None, obsTimeLocal='2024-01-20 06:39:00', id_estacion=None, obsTimeLocal='2024-01-20 06:44:00', id_estacion=None, obsTimeLocal='2024-01-20 06:49:01', id_estacion=None, obsTimeLocal='2024-01-20 06:54:01', id_estacion=None, obsTimeLocal='2024-01-20 06:59:00', id_estacion=None, obsTimeLocal='2024-01-20 07:04:00', id_estacion=None, obsTimeLocal='2024-01-20 07:09:00', id_estacion=None, obsTimeLocal='2024-01-20 07:14:00', id_estacion=None, obsTimeLocal='2024-01-20 07:19:00', id_estacion=None, obsTimeLocal='2024-01-20 07:24:00', id_estacion=None, obsTimeLocal='2024-01-20 07:29:01', id_estacion=None, obsTimeLocal='2024-01-20 07:34:01', id_estacion=None, obsTimeLocal='2024-01-20 07:39:00', id_estacion=None, obsTimeLocal='2024-01-20 07:44:01', id_estacion=None, obsTimeLocal='2024-01-20 07:49:00', id_estacion=None, obsTimeLocal='2024-01-20 07:54:00', id_estacion=None, obsTimeLocal='2024-01-20 07:59:00', id_estacion=None, obsTimeLocal='2024-01-20 08:04:00', id_estacion=None, obsTimeLocal='2024-01-20 08:09:01', id_estacion=None, obsTimeLocal='2024-01-20 08:14:00', id_estacion=None, obsTimeLocal='2024-01-20 08:19:00', id_estacion=None, obsTimeLocal='2024-01-20 08:24:00', id_estacion=None, obsTimeLocal='2024-01-20 08:29:00', id_estacion=None, obsTimeLocal='2024-01-20 08:34:01', id_estacion=None, obsTimeLocal='2024-01-20 08:39:00', id_estacion=None, obsTimeLocal='2024-01-20 08:44:00', id_estacion=None, obsTimeLocal='2024-01-20 08:49:00', id_estacion=None, obsTimeLocal='2024-01-20 08:54:00', id_estacion=None, obsTimeLocal='2024-01-20 08:59:01', id_estacion=None, obsTimeLocal='2024-01-20 09:04:01', id_estacion=None, obsTimeLocal='2024-01-20 09:09:00', id_estacion=None, obsTimeLocal='2024-01-20 09:14:00', id_estacion=None, obsTimeLocal='2024-01-20 09:19:00', id_estacion=None, obsTimeLocal='2024-01-20 09:24:00', id_estacion=None, obsTimeLocal='2024-01-20 09:29:00', id_estacion=None, obsTimeLocal='2024-01-20 09:34:00', id_estacion=None, obsTimeLocal='2024-01-20 09:39:00', id_estacion=None, obsTimeLocal='2024-01-20 09:44:00', id_estacion=None, obsTimeLocal='2024-01-20 09:49:00', id_estacion=None, obsTimeLocal='2024-01-20 09:54:00', id_estacion=None, obsTimeLocal='2024-01-20 09:59:00', id_estacion=None, obsTimeLocal='2024-01-20 10:04:00', id_estacion=None, obsTimeLocal='2024-01-20 10:09:01', id_estacion=None, obsTimeLocal='2024-01-20 10:14:01', id_estacion=None, obsTimeLocal='2024-01-20 10:19:00', id_estacion=None, obsTimeLocal='2024-01-20 10:24:00', id_estacion=None, obsTimeLocal='2024-01-20 10:29:00', id_estacion=None, obsTimeLocal='2024-01-20 10:34:00', id_estacion=None, obsTimeLocal='2024-01-20 10:39:01', id_estacion=None, obsTimeLocal='2024-01-20 10:44:01', id_estacion=None, obsTimeLocal='2024-01-20 10:49:00', id_estacion=None, obsTimeLocal='2024-01-20 10:54:00', id_estacion=None, obsTimeLocal='2024-01-20 10:59:00', id_estacion=None, obsTimeLocal='2024-01-20 11:04:00', id_estacion=None, obsTimeLocal='2024-01-20 11:09:00', id_estacion=None, obsTimeLocal='2024-01-20 11:14:00', id_estacion=None, obsTimeLocal='2024-01-20 11:19:01', id_estacion=None, obsTimeLocal='2024-01-20 11:24:01', id_estacion=None, obsTimeLocal='2024-01-20 11:29:00', id_estacion=None, obsTimeLocal='2024-01-20 11:34:00', id_estacion=None, obsTimeLocal='2024-01-20 11:39:00', id_estacion=None, obsTimeLocal='2024-01-20 11:44:00', id_estacion=None, obsTimeLocal='2024-01-20 11:49:00', id_estacion=None, obsTimeLocal='2024-01-20 11:54:00', id_estacion=None, obsTimeLocal='2024-01-20 11:59:00', id_estacion=None, obsTimeLocal='2024-01-20 12:04:01', id_estacion=None, obsTimeLocal='2024-01-20 12:09:00', id_estacion=None, obsTimeLocal='2024-01-20 12:14:00', id_estacion=None, obsTimeLocal='2024-01-20 12:19:00', id_estacion=None, obsTimeLocal='2024-01-20 12:24:00', id_estacion=None, obsTimeLocal='2024-01-20 12:29:01', id_estacion=None, obsTimeLocal='2024-01-20 12:34:01', id_estacion=None, obsTimeLocal='2024-01-20 12:39:00', id_estacion=None, obsTimeLocal='2024-01-20 12:44:00', id_estacion=None, obsTimeLocal='2024-01-20 12:49:00', id_estacion=None, obsTimeLocal='2024-01-20 12:54:00', id_estacion=None, obsTimeLocal='2024-01-20 12:59:00', id_estacion=None, obsTimeLocal='2024-01-20 13:04:00', id_estacion=None, obsTimeLocal='2024-01-20 13:09:01', id_estacion=None, obsTimeLocal='2024-01-20 13:14:01', id_estacion=None, obsTimeLocal='2024-01-20 13:19:00', id_estacion=None, obsTimeLocal='2024-01-20 13:24:00', id_estacion=None, obsTimeLocal='2024-01-20 13:29:00', id_estacion=None, obsTimeLocal='2024-01-20 13:34:00', id_estacion=None, obsTimeLocal='2024-01-20 13:39:00', id_estacion=None, obsTimeLocal='2024-01-20 13:44:00', id_estacion=None, obsTimeLocal='2024-01-20 13:49:01', id_estacion=None, obsTimeLocal='2024-01-20 13:54:00', id_estacion=None, obsTimeLocal='2024-01-20 13:59:00', id_estacion=None, obsTimeLocal='2024-01-20 14:04:00', id_estacion=None, obsTimeLocal='2024-01-20 14:09:00', id_estacion=None, obsTimeLocal='2024-01-20 14:14:00', id_estacion=None, obsTimeLocal='2024-01-20 14:19:01', id_estacion=None, obsTimeLocal='2024-01-20 14:24:01', id_estacion=None, obsTimeLocal='2024-01-20 14:29:00', id_estacion=None, obsTimeLocal='2024-01-20 14:34:00', id_estacion=None, obsTimeLocal='2024-01-20 14:39:00', id_estacion=None, obsTimeLocal='2024-01-20 14:44:00', id_estacion=None, obsTimeLocal='2024-01-20 14:49:00', id_estacion=None, obsTimeLocal='2024-01-20 14:54:00', id_estacion=None, obsTimeLocal='2024-01-20 14:59:01', id_estacion=None, obsTimeLocal='2024-01-20 15:04:01', id_estacion=None, obsTimeLocal='2024-01-20 15:09:00', id_estacion=None, obsTimeLocal='2024-01-20 15:14:00', id_estacion=None, obsTimeLocal='2024-01-20 15:19:00', id_estacion=None, obsTimeLocal='2024-01-20 15:24:00', id_estacion=None, obsTimeLocal='2024-01-20 15:29:00', id_estacion=None, obsTimeLocal='2024-01-20 15:34:00', id_estacion=None, obsTimeLocal='2024-01-20 15:39:01', id_estacion=None, obsTimeLocal='2024-01-20 15:44:01', id_estacion=None, obsTimeLocal='2024-01-20 15:49:00', id_estacion=None, obsTimeLocal='2024-01-20 15:54:00', id_estacion=None, obsTimeLocal='2024-01-20 15:59:00', id_estacion=None, obsTimeLocal='2024-01-20 16:04:00', id_estacion=None, obsTimeLocal='2024-01-20 16:09:00', id_estacion=None, obsTimeLocal='2024-01-20 16:14:00', id_estacion=None, obsTimeLocal='2024-01-20 16:19:01', id_estacion=None, obsTimeLocal='2024-01-20 16:24:01', id_estacion=None, obsTimeLocal='2024-01-20 16:29:00', id_estacion=None, obsTimeLocal='2024-01-20 16:34:00', id_estacion=None, obsTimeLocal='2024-01-20 16:39:00', id_estacion=None, obsTimeLocal='2024-01-20 16:44:00', id_estacion=None, obsTimeLocal='2024-01-20 16:49:00', id_estacion=None, obsTimeLocal='2024-01-20 16:54:00', id_estacion=None, obsTimeLocal='2024-01-20 16:59:01', id_estacion=None, obsTimeLocal='2024-01-20 17:04:01', id_estacion=None, obsTimeLocal='2024-01-20 17:09:00', id_estacion=None, obsTimeLocal='2024-01-20 17:14:00', id_estacion=None, obsTimeLocal='2024-01-20 17:19:00', id_estacion=None, obsTimeLocal='2024-01-20 17:24:00', id_estacion=None, obsTimeLocal='2024-01-20 17:29:00', id_estacion=None, obsTimeLocal='2024-01-20 17:34:00', id_estacion=None, obsTimeLocal='2024-01-20 17:39:01', id_estacion=None, obsTimeLocal='2024-01-20 17:44:01', id_estacion=None, obsTimeLocal='2024-01-20 17:49:00', id_estacion=None, obsTimeLocal='2024-01-20 17:54:00', id_estacion=None, obsTimeLocal='2024-01-20 17:59:00', id_estacion=None, obsTimeLocal='2024-01-20 18:04:00', id_estacion=None, obsTimeLocal='2024-01-20 18:09:00', id_estacion=None, obsTimeLocal='2024-01-20 18:14:00', id_estacion=None, obsTimeLocal='2024-01-20 18:19:01', id_estacion=None, obsTimeLocal='2024-01-20 18:24:01', id_estacion=None, obsTimeLocal='2024-01-20 18:29:00', id_estacion=None, obsTimeLocal='2024-01-20 18:34:00', id_estacion=None, obsTimeLocal='2024-01-20 18:39:00', id_estacion=None, obsTimeLocal='2024-01-20 18:44:00', id_estacion=None, obsTimeLocal='2024-01-20 18:49:00', id_estacion=None, obsTimeLocal='2024-01-20 18:54:00', id_estacion=None, obsTimeLocal='2024-01-20 18:59:01', id_estacion=None, obsTimeLocal='2024-01-20 19:04:01', id_estacion=None, obsTimeLocal='2024-01-20 19:09:00', id_estacion=None, obsTimeLocal='2024-01-20 19:14:00', id_estacion=None, obsTimeLocal='2024-01-20 19:19:00', id_estacion=None, obsTimeLocal='2024-01-20 19:24:00', id_estacion=None, obsTimeLocal='2024-01-20 19:29:00', id_estacion=None, obsTimeLocal='2024-01-20 19:34:00', id_estacion=None, obsTimeLocal='2024-01-20 19:39:01', id_estacion=None, obsTimeLocal='2024-01-20 19:44:01', id_estacion=None, obsTimeLocal='2024-01-20 19:49:00', id_estacion=None, obsTimeLocal='2024-01-20 19:54:00', id_estacion=None, obsTimeLocal='2024-01-20 19:59:00', id_estacion=None, obsTimeLocal='2024-01-20 20:04:00', id_estacion=None, obsTimeLocal='2024-01-20 20:09:00', id_estacion=None, obsTimeLocal='2024-01-20 20:14:00', id_estacion=None, obsTimeLocal='2024-01-20 20:19:01', id_estacion=None, obsTimeLocal='2024-01-20 20:24:01', id_estacion=None, obsTimeLocal='2024-01-20 20:29:00', id_estacion=None, obsTimeLocal='2024-01-20 20:34:00', id_estacion=None, obsTimeLocal='2024-01-20 20:39:00', id_estacion=None, obsTimeLocal='2024-01-20 20:44:00', id_estacion=None, obsTimeLocal='2024-01-20 20:49:01', id_estacion=None, obsTimeLocal='2024-01-20 20:54:01', id_estacion=None, obsTimeLocal='2024-01-20 20:59:00', id_estacion=None, obsTimeLocal='2024-01-20 21:04:00', id_estacion=None, obsTimeLocal='2024-01-20 21:09:00', id_estacion=None, obsTimeLocal='2024-01-20 21:14:01', id_estacion=None, obsTimeLocal='2024-01-20 21:19:00', id_estacion=None, obsTimeLocal='2024-01-20 21:24:00', id_estacion=None, obsTimeLocal='2024-01-20 21:29:00', id_estacion=None, obsTimeLocal='2024-01-20 21:34:00', id_estacion=None, obsTimeLocal='2024-01-20 21:39:00', id_estacion=None, obsTimeLocal='2024-01-20 21:44:00', id_estacion=None, obsTimeLocal='2024-01-20 21:49:00', id_estacion=None, obsTimeLocal='2024-01-20 21:54:01', id_estacion=None, obsTimeLocal='2024-01-20 21:59:00', id_estacion=None, obsTimeLocal='2024-01-20 22:04:00', id_estacion=None, obsTimeLocal='2024-01-20 22:09:00', id_estacion=None, obsTimeLocal='2024-01-20 22:14:00', id_estacion=None, obsTimeLocal='2024-01-20 22:19:00', id_estacion=None, obsTimeLocal='2024-01-20 22:24:00', id_estacion=None, obsTimeLocal='2024-01-20 22:29:01', id_estacion=None, obsTimeLocal='2024-01-20 22:34:01', id_estacion=None, obsTimeLocal='2024-01-20 22:39:01', id_estacion=None, obsTimeLocal='2024-01-20 22:44:00', id_estacion=None, obsTimeLocal='2024-01-20 22:49:00', id_estacion=None, obsTimeLocal='2024-01-20 22:54:00', id_estacion=None, obsTimeLocal='2024-01-20 22:59:00', id_estacion=None, obsTimeLocal='2024-01-20 23:04:00', id_estacion=None, obsTimeLocal='2024-01-20 23:09:00', id_estacion=None, obsTimeLocal='2024-01-20 23:14:00', id_estacion=None, obsTimeLocal='2024-01-20 23:19:01', id_estacion=None, obsTimeLocal='2024-01-20 23:24:01', id_estacion=None, obsTimeLocal='2024-01-20 23:29:00', id_estacion=None, obsTimeLocal='2024-01-20 23:34:00', id_estacion=None, obsTimeLocal='2024-01-20 23:39:00', id_estacion=None, obsTimeLocal='2024-01-20 23:44:00', id_estacion=None, obsTimeLocal='2024-01-20 23:49:00', id_estacion=None, obsTimeLocal='2024-01-20 23:54:00', id_estacion=None, obsTimeLocal='2024-01-20 23:59:01', id_estacion=None, obsTimeLocal='2024-01-21 00:04:00', id_estacion=None, obsTimeLocal='2024-01-21 00:09:00', id_estacion=None, obsTimeLocal='2024-01-21 00:14:00', id_estacion=None, obsTimeLocal='2024-01-21 00:19:00', id_estacion=None, obsTimeLocal='2024-01-21 00:24:00', id_estacion=None, obsTimeLocal='2024-01-21 00:29:00', id_estacion=None, obsTimeLocal='2024-01-21 00:34:01', id_estacion=None, obsTimeLocal='2024-01-21 00:39:00', id_estacion=None, obsTimeLocal='2024-01-21 00:44:00', id_estacion=None, obsTimeLocal='2024-01-21 00:49:00', id_estacion=None, obsTimeLocal='2024-01-21 00:54:00', id_estacion=None, obsTimeLocal='2024-01-21 00:59:00', id_estacion=None, obsTimeLocal='2024-01-21 01:04:00', id_estacion=None, obsTimeLocal='2024-01-21 01:09:00', id_estacion=None, obsTimeLocal='2024-01-21 01:14:00', id_estacion=None, obsTimeLocal='2024-01-21 01:19:01', id_estacion=None, obsTimeLocal='2024-01-21 01:24:01', id_estacion=None, obsTimeLocal='2024-01-21 01:29:00', id_estacion=None, obsTimeLocal='2024-01-21 01:34:00', id_estacion=None, obsTimeLocal='2024-01-21 01:39:01', id_estacion=None, obsTimeLocal='2024-01-21 01:44:01', id_estacion=None, obsTimeLocal='2024-01-21 01:49:00', id_estacion=None, obsTimeLocal='2024-01-21 01:54:00', id_estacion=None, obsTimeLocal='2024-01-21 01:59:00', id_estacion=None, obsTimeLocal='2024-01-21 02:04:00', id_estacion=None, obsTimeLocal='2024-01-21 02:09:01', id_estacion=None, obsTimeLocal='2024-01-21 02:14:01', id_estacion=None, obsTimeLocal='2024-01-21 02:19:00', id_estacion=None, obsTimeLocal='2024-01-21 02:24:00', id_estacion=None, obsTimeLocal='2024-01-21 02:29:00', id_estacion=None, obsTimeLocal='2024-01-21 02:34:00', id_estacion=None, obsTimeLocal='2024-01-21 02:39:00', id_estacion=None, obsTimeLocal='2024-01-21 02:44:00', id_estacion=None, obsTimeLocal='2024-01-21 02:49:00', id_estacion=None, obsTimeLocal='2024-01-21 02:54:00', id_estacion=None, obsTimeLocal='2024-01-21 02:59:01', id_estacion=None, obsTimeLocal='2024-01-21 03:04:01', id_estacion=None, obsTimeLocal='2024-01-21 03:09:00', id_estacion=None, obsTimeLocal='2024-01-21 03:14:00', id_estacion=None, obsTimeLocal='2024-01-21 03:19:00', id_estacion=None, obsTimeLocal='2024-01-21 03:24:00', id_estacion=None, obsTimeLocal='2024-01-21 03:29:00', id_estacion=None, obsTimeLocal='2024-01-21 03:34:00', id_estacion=None, obsTimeLocal='2024-01-21 03:39:01', id_estacion=None, obsTimeLocal='2024-01-21 03:44:00', id_estacion=None, obsTimeLocal='2024-01-21 03:49:00', id_estacion=None, obsTimeLocal='2024-01-21 03:54:01', id_estacion=None, obsTimeLocal='2024-01-21 03:59:01', id_estacion=None, obsTimeLocal='2024-01-21 04:04:01', id_estacion=None, obsTimeLocal='2024-01-21 04:09:00', id_estacion=None, obsTimeLocal='2024-01-21 04:14:00', id_estacion=None, obsTimeLocal='2024-01-21 04:19:00', id_estacion=None, obsTimeLocal='2024-01-21 04:24:00', id_estacion=None, obsTimeLocal='2024-01-21 04:29:00', id_estacion=None, obsTimeLocal='2024-01-21 04:34:00', id_estacion=None, obsTimeLocal='2024-01-21 04:39:00', id_estacion=None, obsTimeLocal='2024-01-21 04:44:00', id_estacion=None, obsTimeLocal='2024-01-21 04:49:01', id_estacion=None, obsTimeLocal='2024-01-21 04:54:00', id_estacion=None, obsTimeLocal='2024-01-21 04:59:00', id_estacion=None, obsTimeLocal='2024-01-21 05:04:00', id_estacion=None, obsTimeLocal='2024-01-21 05:09:00', id_estacion=None, obsTimeLocal='2024-01-21 05:14:00', id_estacion=None, obsTimeLocal='2024-01-21 05:19:01', id_estacion=None, obsTimeLocal='2024-01-21 05:24:01', id_estacion=None, obsTimeLocal='2024-01-21 05:29:00', id_estacion=None, obsTimeLocal='2024-01-21 05:34:00', id_estacion=None, obsTimeLocal='2024-01-21 05:39:00', id_estacion=None, obsTimeLocal='2024-01-21 05:44:00', id_estacion=None, obsTimeLocal='2024-01-21 05:49:00', id_estacion=None, obsTimeLocal='2024-01-21 05:54:00', id_estacion=None, obsTimeLocal='2024-01-21 05:59:01', id_estacion=None, obsTimeLocal='2024-01-21 06:04:01', id_estacion=None, obsTimeLocal='2024-01-21 06:09:01', id_estacion=None, obsTimeLocal='2024-01-21 06:14:01', id_estacion=None, obsTimeLocal='2024-01-21 06:19:00', id_estacion=None, obsTimeLocal='2024-01-21 06:24:00', id_estacion=None, obsTimeLocal='2024-01-21 06:29:00', id_estacion=None, obsTimeLocal='2024-01-21 06:34:00', id_estacion=None, obsTimeLocal='2024-01-21 06:39:00', id_estacion=None, obsTimeLocal='2024-01-21 06:44:00', id_estacion=None, obsTimeLocal='2024-01-21 06:49:00', id_estacion=None, obsTimeLocal='2024-01-21 06:54:00', id_estacion=None, obsTimeLocal='2024-01-21 06:59:01', id_estacion=None, obsTimeLocal='2024-01-21 07:04:01', id_estacion=None, obsTimeLocal='2024-01-21 07:09:00', id_estacion=None, obsTimeLocal='2024-01-21 07:14:00', id_estacion=None, obsTimeLocal='2024-01-21 07:19:00', id_estacion=None, obsTimeLocal='2024-01-21 07:24:00', id_estacion=None, obsTimeLocal='2024-01-21 07:29:00', id_estacion=None, obsTimeLocal='2024-01-21 07:34:00', id_estacion=None, obsTimeLocal='2024-01-21 07:39:00', id_estacion=None, obsTimeLocal='2024-01-21 07:44:01', id_estacion=None, obsTimeLocal='2024-01-21 07:49:00', id_estacion=None, obsTimeLocal='2024-01-21 07:54:00', id_estacion=None, obsTimeLocal='2024-01-21 07:59:00', id_estacion=None, obsTimeLocal='2024-01-21 08:04:00', id_estacion=None, obsTimeLocal='2024-01-21 08:09:01', id_estacion=None, obsTimeLocal='2024-01-21 08:14:00', id_estacion=None, obsTimeLocal='2024-01-21 08:19:00', id_estacion=None, obsTimeLocal='2024-01-21 08:24:01', id_estacion=None, obsTimeLocal='2024-01-21 08:29:00', id_estacion=None, obsTimeLocal='2024-01-21 08:34:00', id_estacion=None, obsTimeLocal='2024-01-21 08:39:00', id_estacion=None, obsTimeLocal='2024-01-21 08:44:00', id_estacion=None, obsTimeLocal='2024-01-21 08:49:00', id_estacion=None, obsTimeLocal='2024-01-21 08:54:01', id_estacion=None, obsTimeLocal='2024-01-21 08:59:00', id_estacion=None, obsTimeLocal='2024-01-21 09:04:00', id_estacion=None, obsTimeLocal='2024-01-21 09:09:01', id_estacion=None, obsTimeLocal='2024-01-21 09:14:01', id_estacion=None, obsTimeLocal='2024-01-21 09:19:00', id_estacion=None, obsTimeLocal='2024-01-21 09:24:00', id_estacion=None, obsTimeLocal='2024-01-21 09:29:00', id_estacion=None, obsTimeLocal='2024-01-21 09:34:00', id_estacion=None, obsTimeLocal='2024-01-21 09:39:01', id_estacion=None, obsTimeLocal='2024-01-21 09:44:01', id_estacion=None, obsTimeLocal='2024-01-21 09:49:00', id_estacion=None, obsTimeLocal='2024-01-21 09:54:00', id_estacion=None, obsTimeLocal='2024-01-21 09:59:00', id_estacion=None, obsTimeLocal='2024-01-21 10:04:00', id_estacion=None, obsTimeLocal='2024-01-21 10:09:01', id_estacion=None, obsTimeLocal='2024-01-21 10:14:01', id_estacion=None, obsTimeLocal='2024-01-21 10:19:00', id_estacion=None, obsTimeLocal='2024-01-21 10:24:00', id_estacion=None, obsTimeLocal='2024-01-21 10:29:00', id_estacion=None, obsTimeLocal='2024-01-21 10:34:00', id_estacion=None, obsTimeLocal='2024-01-21 10:39:01', id_estacion=None, obsTimeLocal='2024-01-21 10:44:01', id_estacion=None, obsTimeLocal='2024-01-21 10:49:00', id_estacion=None, obsTimeLocal='2024-01-21 10:54:00', id_estacion=None, obsTimeLocal='2024-01-21 10:59:00', id_estacion=None, obsTimeLocal='2024-01-21 11:04:00', id_estacion=None, obsTimeLocal='2024-01-21 11:09:00', id_estacion=None, obsTimeLocal='2024-01-21 11:14:00', id_estacion=None, obsTimeLocal='2024-01-21 11:19:01', id_estacion=None, obsTimeLocal='2024-01-21 11:24:01', id_estacion=None, obsTimeLocal='2024-01-21 11:29:00', id_estacion=None, obsTimeLocal='2024-01-21 11:34:00', id_estacion=None, obsTimeLocal='2024-01-21 11:39:00', id_estacion=None, obsTimeLocal='2024-01-21 11:44:00', id_estacion=None, obsTimeLocal='2024-01-21 11:49:01', id_estacion=None, obsTimeLocal='2024-01-21 11:54:01', id_estacion=None, obsTimeLocal='2024-01-21 11:59:00', id_estacion=None, obsTimeLocal='2024-01-21 12:04:00', id_estacion=None, obsTimeLocal='2024-01-21 12:09:00', id_estacion=None, obsTimeLocal='2024-01-21 12:14:00', id_estacion=None, obsTimeLocal='2024-01-21 12:19:00', id_estacion=None, obsTimeLocal='2024-01-21 12:24:00', id_estacion=None, obsTimeLocal='2024-01-21 12:29:00', id_estacion=None, obsTimeLocal='2024-01-21 12:34:01', id_estacion=None, obsTimeLocal='2024-01-21 12:39:00', id_estacion=None, obsTimeLocal='2024-01-21 12:44:00', id_estacion=None, obsTimeLocal='2024-01-21 12:49:00', id_estacion=None, obsTimeLocal='2024-01-21 12:54:00', id_estacion=None, obsTimeLocal='2024-01-21 12:59:00', id_estacion=None, obsTimeLocal='2024-01-21 13:04:00', id_estacion=None, obsTimeLocal='2024-01-21 13:09:00', id_estacion=None, obsTimeLocal='2024-01-21 13:14:00', id_estacion=None, obsTimeLocal='2024-01-21 13:19:01', id_estacion=None, obsTimeLocal='2024-01-21 13:24:01', id_estacion=None, obsTimeLocal='2024-01-21 13:29:00', id_estacion=None, obsTimeLocal='2024-01-21 13:34:00', id_estacion=None, obsTimeLocal='2024-01-21 13:39:00', id_estacion=None, obsTimeLocal='2024-01-21 13:44:00', id_estacion=None, obsTimeLocal='2024-01-21 13:49:00', id_estacion=None, obsTimeLocal='2024-01-21 13:54:00', id_estacion=None, obsTimeLocal='2024-01-21 13:59:00', id_estacion=None, obsTimeLocal='2024-01-21 14:04:00', id_estacion=None, obsTimeLocal='2024-01-21 14:09:00', id_estacion=None, obsTimeLocal='2024-01-21 14:14:00', id_estacion=None, obsTimeLocal='2024-01-21 14:19:00', id_estacion=None, obsTimeLocal='2024-01-21 14:24:00', id_estacion=None, obsTimeLocal='2024-01-21 14:29:00', id_estacion=None, obsTimeLocal='2024-01-21 14:34:00', id_estacion=None, obsTimeLocal='2024-01-21 14:39:00', id_estacion=None, obsTimeLocal='2024-01-21 14:44:00', id_estacion=None, obsTimeLocal='2024-01-21 14:49:01', id_estacion=None, obsTimeLocal='2024-01-21 14:54:01', id_estacion=None, obsTimeLocal='2024-01-21 14:59:00', id_estacion=None, obsTimeLocal='2024-01-21 15:04:00', id_estacion=None, obsTimeLocal='2024-01-21 15:09:00', id_estacion=None, obsTimeLocal='2024-01-21 15:14:00', id_estacion=None, obsTimeLocal='2024-01-21 15:19:00', id_estacion=None, obsTimeLocal='2024-01-21 15:24:01', id_estacion=None, obsTimeLocal='2024-01-21 15:29:00', id_estacion=None, obsTimeLocal='2024-01-21 15:34:00', id_estacion=None, obsTimeLocal='2024-01-21 15:39:00', id_estacion=None, obsTimeLocal='2024-01-21 15:44:00', id_estacion=None, obsTimeLocal='2024-01-21 15:49:00', id_estacion=None, obsTimeLocal='2024-01-21 15:54:00', id_estacion=None, obsTimeLocal='2024-01-21 15:59:01', id_estacion=None, obsTimeLocal='2024-01-21 16:04:01', id_estacion=None, obsTimeLocal='2024-01-21 16:09:00', id_estacion=None, obsTimeLocal='2024-01-21 16:14:00', id_estacion=None, obsTimeLocal='2024-01-21 16:19:00', id_estacion=None, obsTimeLocal='2024-01-21 16:24:00', id_estacion=None, obsTimeLocal='2024-01-21 16:29:01', id_estacion=None, obsTimeLocal='2024-01-21 16:34:00', id_estacion=None, obsTimeLocal='2024-01-21 16:39:00', id_estacion=None, obsTimeLocal='2024-01-21 16:44:00', id_estacion=None, obsTimeLocal='2024-01-21 16:49:00', id_estacion=None, obsTimeLocal='2024-01-21 16:54:00', id_estacion=None, obsTimeLocal='2024-01-21 16:59:00', id_estacion=None, obsTimeLocal='2024-01-21 17:04:00', id_estacion=None, obsTimeLocal='2024-01-21 17:09:00', id_estacion=None, obsTimeLocal='2024-01-21 17:14:00', id_estacion=None, obsTimeLocal='2024-01-21 17:19:00', id_estacion=None, obsTimeLocal='2024-01-21 17:24:00', id_estacion=None, obsTimeLocal='2024-01-21 17:29:00', id_estacion=None, obsTimeLocal='2024-01-21 17:34:00', id_estacion=None, obsTimeLocal='2024-01-21 17:39:00', id_estacion=None, obsTimeLocal='2024-01-21 17:44:00', id_estacion=None, obsTimeLocal='2024-01-21 17:49:01', id_estacion=None, obsTimeLocal='2024-01-21 17:54:01', id_estacion=None, obsTimeLocal='2024-01-21 17:59:00', id_estacion=None, obsTimeLocal='2024-01-21 18:04:00', id_estacion=None, obsTimeLocal='2024-01-21 18:09:00', id_estacion=None, obsTimeLocal='2024-01-21 18:14:00', id_estacion=None, obsTimeLocal='2024-01-21 18:19:00', id_estacion=None, obsTimeLocal='2024-01-21 18:24:00', id_estacion=None, obsTimeLocal='2024-01-21 18:29:01', id_estacion=None, obsTimeLocal='2024-01-21 18:34:01', id_estacion=None, obsTimeLocal='2024-01-21 18:39:00', id_estacion=None, obsTimeLocal='2024-01-21 18:44:00', id_estacion=None, obsTimeLocal='2024-01-21 18:49:00', id_estacion=None, obsTimeLocal='2024-01-21 18:54:00', id_estacion=None, obsTimeLocal='2024-01-21 18:59:00', id_estacion=None, obsTimeLocal='2024-01-21 19:04:01', id_estacion=None, obsTimeLocal='2024-01-21 19:09:00', id_estacion=None, obsTimeLocal='2024-01-21 19:14:00', id_estacion=None, obsTimeLocal='2024-01-21 19:19:00', id_estacion=None, obsTimeLocal='2024-01-21 19:24:00', id_estacion=None, obsTimeLocal='2024-01-21 19:29:00', id_estacion=None, obsTimeLocal='2024-01-21 19:34:00', id_estacion=None, obsTimeLocal='2024-01-21 19:39:01', id_estacion=None, obsTimeLocal='2024-01-21 19:44:01', id_estacion=None, obsTimeLocal='2024-01-21 19:49:00', id_estacion=None, obsTimeLocal='2024-01-21 19:54:00', id_estacion=None, obsTimeLocal='2024-01-21 19:59:00', id_estacion=None, obsTimeLocal='2024-01-21 20:04:00', id_estacion=None, obsTimeLocal='2024-01-21 20:09:01', id_estacion=None, obsTimeLocal='2024-01-21 20:14:01', id_estacion=None, obsTimeLocal='2024-01-21 20:19:00', id_estacion=None, obsTimeLocal='2024-01-21 20:24:00', id_estacion=None, obsTimeLocal='2024-01-21 20:29:00', id_estacion=None, obsTimeLocal='2024-01-21 20:34:00', id_estacion=None, obsTimeLocal='2024-01-21 20:39:00', id_estacion=None, obsTimeLocal='2024-01-21 20:44:00', id_estacion=None, obsTimeLocal='2024-01-21 20:49:01', id_estacion=None, obsTimeLocal='2024-01-21 20:54:00', id_estacion=None, obsTimeLocal='2024-01-21 20:59:00', id_estacion=None, obsTimeLocal='2024-01-21 21:04:00', id_estacion=None, obsTimeLocal='2024-01-21 21:09:00', id_estacion=None, obsTimeLocal='2024-01-21 21:14:00', id_estacion=None, obsTimeLocal='2024-01-21 21:19:00', id_estacion=None, obsTimeLocal='2024-01-21 21:24:00', id_estacion=None, obsTimeLocal='2024-01-21 21:29:01', id_estacion=None, obsTimeLocal='2024-01-21 21:34:01', id_estacion=None, obsTimeLocal='2024-01-21 21:39:00', id_estacion=None, obsTimeLocal='2024-01-21 21:44:00', id_estacion=None, obsTimeLocal='2024-01-21 21:49:00', id_estacion=None, obsTimeLocal='2024-01-21 21:54:00', id_estacion=None, obsTimeLocal='2024-01-21 21:59:00', id_estacion=None, obsTimeLocal='2024-01-21 22:04:01', id_estacion=None, obsTimeLocal='2024-01-21 22:09:00', id_estacion=None, obsTimeLocal='2024-01-21 22:14:00', id_estacion=None, obsTimeLocal='2024-01-21 22:19:01', id_estacion=None, obsTimeLocal='2024-01-21 22:24:00', id_estacion=None, obsTimeLocal='2024-01-21 22:29:00', id_estacion=None, obsTimeLocal='2024-01-21 22:34:00', id_estacion=None, obsTimeLocal='2024-01-21 22:39:00', id_estacion=None, obsTimeLocal='2024-01-21 22:44:00', id_estacion=None, obsTimeLocal='2024-01-21 22:49:01', id_estacion=None, obsTimeLocal='2024-01-21 22:54:00', id_estacion=None, obsTimeLocal='2024-01-21 22:59:00', id_estacion=None, obsTimeLocal='2024-01-21 23:04:00', id_estacion=None, obsTimeLocal='2024-01-21 23:09:00', id_estacion=None, obsTimeLocal='2024-01-21 23:14:00', id_estacion=None, obsTimeLocal='2024-01-21 23:19:00', id_estacion=None, obsTimeLocal='2024-01-21 23:24:01', id_estacion=None, obsTimeLocal='2024-01-21 23:29:00', id_estacion=None, obsTimeLocal='2024-01-21 23:34:00', id_estacion=None, obsTimeLocal='2024-01-21 23:39:00', id_estacion=None, obsTimeLocal='2024-01-21 23:44:00', id_estacion=None, obsTimeLocal='2024-01-21 23:49:00', id_estacion=None, obsTimeLocal='2024-01-21 23:54:00', id_estacion=None, obsTimeLocal='2024-01-21 23:59:01', id_estacion=None, obsTimeLocal='2024-01-22 00:04:00', id_estacion=None, obsTimeLocal='2024-01-22 00:09:01', id_estacion=None, obsTimeLocal='2024-01-22 00:14:01', id_estacion=None, obsTimeLocal='2024-01-22 00:19:00', id_estacion=None, obsTimeLocal='2024-01-22 00:24:00', id_estacion=None, obsTimeLocal='2024-01-22 00:29:01', id_estacion=None, obsTimeLocal='2024-01-22 00:34:01', id_estacion=None, obsTimeLocal='2024-01-22 00:39:01', id_estacion=None, obsTimeLocal='2024-01-22 00:44:01', id_estacion=None, obsTimeLocal='2024-01-22 00:49:00', id_estacion=None, obsTimeLocal='2024-01-22 00:54:00', id_estacion=None, obsTimeLocal='2024-01-22 00:59:00', id_estacion=None, obsTimeLocal='2024-01-22 01:04:00', id_estacion=None, obsTimeLocal='2024-01-22 01:09:00', id_estacion=None, obsTimeLocal='2024-01-22 01:14:00', id_estacion=None, obsTimeLocal='2024-01-22 01:19:01', id_estacion=None, obsTimeLocal='2024-01-22 01:24:00', id_estacion=None, obsTimeLocal='2024-01-22 01:29:00', id_estacion=None, obsTimeLocal='2024-01-22 01:34:00', id_estacion=None, obsTimeLocal='2024-01-22 01:39:00', id_estacion=None, obsTimeLocal='2024-01-22 01:44:00', id_estacion=None, obsTimeLocal='2024-01-22 01:49:01', id_estacion=None, obsTimeLocal='2024-01-22 01:54:01', id_estacion=None, obsTimeLocal='2024-01-22 01:59:00', id_estacion=None, obsTimeLocal='2024-01-22 02:04:00', id_estacion=None, obsTimeLocal='2024-01-22 02:09:00', id_estacion=None, obsTimeLocal='2024-01-22 02:14:00', id_estacion=None, obsTimeLocal='2024-01-22 02:19:00', id_estacion=None, obsTimeLocal='2024-01-22 02:24:00', id_estacion=None, obsTimeLocal='2024-01-22 02:29:01', id_estacion=None, obsTimeLocal='2024-01-22 02:34:00', id_estacion=None, obsTimeLocal='2024-01-22 02:39:00', id_estacion=None, obsTimeLocal='2024-01-22 02:44:00', id_estacion=None, obsTimeLocal='2024-01-22 02:49:00', id_estacion=None, obsTimeLocal='2024-01-22 02:54:00', id_estacion=None, obsTimeLocal='2024-01-22 02:59:01', id_estacion=None, obsTimeLocal='2024-01-22 03:04:00', id_estacion=None, obsTimeLocal='2024-01-22 03:09:00', id_estacion=None, obsTimeLocal='2024-01-22 03:14:00', id_estacion=None, obsTimeLocal='2024-01-22 03:19:01', id_estacion=None, obsTimeLocal='2024-01-22 03:24:01', id_estacion=None, obsTimeLocal='2024-01-22 03:29:00', id_estacion=None, obsTimeLocal='2024-01-22 03:34:01', id_estacion=None, obsTimeLocal='2024-01-22 03:39:00', id_estacion=None, obsTimeLocal='2024-01-22 03:44:00', id_estacion=None, obsTimeLocal='2024-01-22 03:49:00', id_estacion=None, obsTimeLocal='2024-01-22 03:54:00', id_estacion=None, obsTimeLocal='2024-01-22 03:59:00', id_estacion=None, obsTimeLocal='2024-01-22 04:04:00', id_estacion=None, obsTimeLocal='2024-01-22 04:09:00', id_estacion=None, obsTimeLocal='2024-01-22 04:14:00', id_estacion=None, obsTimeLocal='2024-01-22 04:19:01', id_estacion=None, obsTimeLocal='2024-01-22 04:24:00', id_estacion=None, obsTimeLocal='2024-01-22 04:29:00', id_estacion=None, obsTimeLocal='2024-01-22 04:34:00', id_estacion=None, obsTimeLocal='2024-01-22 04:39:01', id_estacion=None, obsTimeLocal='2024-01-22 04:44:01', id_estacion=None, obsTimeLocal='2024-01-22 04:49:00', id_estacion=None, obsTimeLocal='2024-01-22 04:54:00', id_estacion=None, obsTimeLocal='2024-01-22 04:59:00', id_estacion=None, obsTimeLocal='2024-01-22 05:04:00', id_estacion=None, obsTimeLocal='2024-01-22 05:09:00', id_estacion=None, obsTimeLocal='2024-01-22 05:14:00', id_estacion=None, obsTimeLocal='2024-01-22 05:19:01', id_estacion=None, obsTimeLocal='2024-01-22 05:24:00', id_estacion=None, obsTimeLocal='2024-01-22 05:29:00', id_estacion=None, obsTimeLocal='2024-01-22 05:34:00', id_estacion=None, obsTimeLocal='2024-01-22 05:39:01', id_estacion=None, obsTimeLocal='2024-01-22 05:44:01', id_estacion=None, obsTimeLocal='2024-01-22 05:49:00', id_estacion=None, obsTimeLocal='2024-01-22 05:54:00', id_estacion=None, obsTimeLocal='2024-01-22 05:59:01', id_estacion=None, obsTimeLocal='2024-01-22 06:04:01', id_estacion=None, obsTimeLocal='2024-01-22 06:09:01', id_estacion=None, obsTimeLocal='2024-01-22 06:14:01', id_estacion=None, obsTimeLocal='2024-01-22 06:19:00', id_estacion=None, obsTimeLocal='2024-01-22 06:24:00', id_estacion=None, obsTimeLocal='2024-01-22 06:29:00', id_estacion=None, obsTimeLocal='2024-01-22 06:34:00', id_estacion=None, obsTimeLocal='2024-01-22 06:39:00', id_estacion=None, obsTimeLocal='2024-01-22 06:44:00', id_estacion=None, obsTimeLocal='2024-01-22 06:49:00', id_estacion=None, obsTimeLocal='2024-01-22 06:54:00', id_estacion=None, obsTimeLocal='2024-01-22 06:59:01', id_estacion=None, obsTimeLocal='2024-01-22 07:04:01', id_estacion=None, obsTimeLocal='2024-01-22 07:09:05', id_estacion=None, obsTimeLocal='2024-01-22 07:14:01', id_estacion=None, obsTimeLocal='2024-01-22 07:19:01', id_estacion=None, obsTimeLocal='2024-01-22 07:24:00', id_estacion=None, obsTimeLocal='2024-01-22 07:29:00', id_estacion=None, obsTimeLocal='2024-01-22 07:34:01', id_estacion=None, obsTimeLocal='2024-01-22 07:39:00', id_estacion=None, obsTimeLocal='2024-01-22 07:44:00', id_estacion=None, obsTimeLocal='2024-01-22 07:49:00', id_estacion=None, obsTimeLocal='2024-01-22 07:54:00', id_estacion=None, obsTimeLocal='2024-01-22 07:59:00', id_estacion=None, obsTimeLocal='2024-01-22 08:04:00', id_estacion=None, obsTimeLocal='2024-01-22 08:09:01', id_estacion=None, obsTimeLocal='2024-01-22 08:14:00', id_estacion=None, obsTimeLocal='2024-01-22 08:19:01', id_estacion=None, obsTimeLocal='2024-01-22 08:24:00', id_estacion=None, obsTimeLocal='2024-01-22 08:29:00', id_estacion=None, obsTimeLocal='2024-01-22 08:34:01', id_estacion=None, obsTimeLocal='2024-01-22 08:39:00', id_estacion=None, obsTimeLocal='2024-01-22 08:44:01', id_estacion=None, obsTimeLocal='2024-01-22 08:49:00', id_estacion=None, obsTimeLocal='2024-01-22 08:54:01', id_estacion=None, obsTimeLocal='2024-01-22 08:59:00', id_estacion=None, obsTimeLocal='2024-01-22 09:04:00', id_estacion=None, obsTimeLocal='2024-01-22 09:09:00', id_estacion=None, obsTimeLocal='2024-01-22 09:14:01', id_estacion=None, obsTimeLocal='2024-01-22 09:19:00', id_estacion=None, obsTimeLocal='2024-01-22 09:24:00', id_estacion=None, obsTimeLocal='2024-01-22 09:29:00', id_estacion=None, obsTimeLocal='2024-01-22 09:34:00', id_estacion=None, obsTimeLocal='2024-01-22 09:39:01', id_estacion=None, obsTimeLocal='2024-01-22 09:44:01', id_estacion=None, obsTimeLocal='2024-01-22 09:49:00', id_estacion=None, obsTimeLocal='2024-01-22 09:54:00', id_estacion=None, obsTimeLocal='2024-01-22 09:59:01', id_estacion=None, obsTimeLocal='2024-01-22 10:04:01', id_estacion=None, obsTimeLocal='2024-01-22 10:09:00', id_estacion=None, obsTimeLocal='2024-01-22 10:14:00', id_estacion=None, obsTimeLocal='2024-01-22 10:19:00', id_estacion=None, obsTimeLocal='2024-01-22 10:24:00', id_estacion=None, obsTimeLocal='2024-01-22 10:29:01', id_estacion=None, obsTimeLocal='2024-01-22 10:34:01', id_estacion=None, obsTimeLocal='2024-01-22 10:39:00', id_estacion=None, obsTimeLocal='2024-01-22 10:44:00', id_estacion=None, obsTimeLocal='2024-01-22 10:49:00', id_estacion=None, obsTimeLocal='2024-01-22 10:54:00', id_estacion=None, obsTimeLocal='2024-01-22 10:59:01', id_estacion=None, obsTimeLocal='2024-01-22 11:04:01', id_estacion=None, obsTimeLocal='2024-01-22 11:09:01', id_estacion=None, obsTimeLocal='2024-01-22 11:14:01', id_estacion=None, obsTimeLocal='2024-01-22 11:19:01', id_estacion=None, obsTimeLocal='2024-01-22 11:24:00', id_estacion=None, obsTimeLocal='2024-01-22 11:29:00', id_estacion=None, obsTimeLocal='2024-01-22 11:34:01', id_estacion=None, obsTimeLocal='2024-01-22 11:39:00', id_estacion=None, obsTimeLocal='2024-01-22 11:44:01', id_estacion=None, obsTimeLocal='2024-01-22 11:49:00', id_estacion=None, obsTimeLocal='2024-01-22 11:54:00', id_estacion=None, obsTimeLocal='2024-01-22 11:59:00', id_estacion=None, obsTimeLocal='2024-01-22 12:04:00', id_estacion=None, obsTimeLocal='2024-01-22 12:09:00', id_estacion=None, obsTimeLocal='2024-01-22 12:14:01', id_estacion=None, obsTimeLocal='2024-01-22 12:19:00', id_estacion=None, obsTimeLocal='2024-01-22 12:24:00', id_estacion=None, obsTimeLocal='2024-01-22 12:29:00', id_estacion=None, obsTimeLocal='2024-01-22 12:34:00', id_estacion=None, obsTimeLocal='2024-01-22 12:39:00', id_estacion=None, obsTimeLocal='2024-01-22 12:44:00', id_estacion=None, obsTimeLocal='2024-01-22 12:49:00', id_estacion=None, obsTimeLocal='2024-01-22 12:54:00', id_estacion=None, obsTimeLocal='2024-01-22 12:59:00', id_estacion=None, obsTimeLocal='2024-01-22 13:04:00', id_estacion=None, obsTimeLocal='2024-01-22 13:09:00', id_estacion=None, obsTimeLocal='2024-01-22 13:14:00', id_estacion=None, obsTimeLocal='2024-01-22 13:19:00', id_estacion=None, obsTimeLocal='2024-01-22 13:24:00', id_estacion=None, obsTimeLocal='2024-01-22 13:29:01', id_estacion=None, obsTimeLocal='2024-01-22 13:34:01', id_estacion=None, obsTimeLocal='2024-01-22 13:39:00', id_estacion=None, obsTimeLocal='2024-01-22 13:44:00', id_estacion=None, obsTimeLocal='2024-01-22 13:49:00', id_estacion=None, obsTimeLocal='2024-01-22 13:54:00', id_estacion=None, obsTimeLocal='2024-01-22 13:59:00', id_estacion=None, obsTimeLocal='2024-01-22 14:04:00', id_estacion=None, obsTimeLocal='2024-01-22 14:09:01', id_estacion=None, obsTimeLocal='2024-01-22 14:14:01', id_estacion=None, obsTimeLocal='2024-01-22 14:19:00', id_estacion=None, obsTimeLocal='2024-01-22 14:24:00', id_estacion=None, obsTimeLocal='2024-01-22 14:29:00', id_estacion=None, obsTimeLocal='2024-01-22 14:34:00', id_estacion=None, obsTimeLocal='2024-01-22 14:39:00', id_estacion=None, obsTimeLocal='2024-01-22 14:44:00', id_estacion=None, obsTimeLocal='2024-01-22 14:49:01', id_estacion=None, obsTimeLocal='2024-01-22 14:54:01', id_estacion=None, obsTimeLocal='2024-01-22 14:59:00', id_estacion=None, obsTimeLocal='2024-01-22 15:04:00', id_estacion=None, obsTimeLocal='2024-01-22 15:09:00', id_estacion=None, obsTimeLocal='2024-01-22 15:14:00', id_estacion=None, obsTimeLocal='2024-01-22 15:19:01', id_estacion=None, obsTimeLocal='2024-01-22 15:24:01', id_estacion=None, obsTimeLocal='2024-01-22 15:29:00', id_estacion=None, obsTimeLocal='2024-01-22 15:34:00', id_estacion=None, obsTimeLocal='2024-01-22 15:39:00', id_estacion=None, obsTimeLocal='2024-01-22 15:44:00', id_estacion=None, obsTimeLocal='2024-01-22 15:49:00', id_estacion=None, obsTimeLocal='2024-01-22 15:54:00', id_estacion=None, obsTimeLocal='2024-01-22 15:59:00', id_estacion=None, obsTimeLocal='2024-01-22 16:04:00', id_estacion=None, obsTimeLocal='2024-01-22 16:09:01', id_estacion=None, obsTimeLocal='2024-01-22 16:14:01', id_estacion=None, obsTimeLocal='2024-01-22 16:19:00', id_estacion=None, obsTimeLocal='2024-01-22 16:24:00', id_estacion=None, obsTimeLocal='2024-01-22 16:29:00', id_estacion=None, obsTimeLocal='2024-01-22 16:34:00', id_estacion=None, obsTimeLocal='2024-01-22 16:39:00', id_estacion=None, obsTimeLocal='2024-01-22 16:44:00', id_estacion=None, obsTimeLocal='2024-01-22 16:49:00', id_estacion=None, obsTimeLocal='2024-01-22 16:54:00', id_estacion=None, obsTimeLocal='2024-01-22 16:59:00', id_estacion=None, obsTimeLocal='2024-01-22 17:04:00', id_estacion=None, obsTimeLocal='2024-01-22 17:09:00', id_estacion=None, obsTimeLocal='2024-01-22 17:14:00', id_estacion=None, obsTimeLocal='2024-01-22 17:19:01', id_estacion=None, obsTimeLocal='2024-01-22 17:24:01', id_estacion=None, obsTimeLocal='2024-01-22 17:29:00', id_estacion=None, obsTimeLocal='2024-01-22 17:34:00', id_estacion=None, obsTimeLocal='2024-01-22 17:39:00', id_estacion=None, obsTimeLocal='2024-01-22 17:44:00', id_estacion=None, obsTimeLocal='2024-01-22 17:49:00', id_estacion=None, obsTimeLocal='2024-01-22 17:54:00', id_estacion=None, obsTimeLocal='2024-01-22 17:59:01', id_estacion=None, obsTimeLocal='2024-01-22 18:04:01', id_estacion=None, obsTimeLocal='2024-01-22 18:09:00', id_estacion=None, obsTimeLocal='2024-01-22 18:14:00', id_estacion=None, obsTimeLocal='2024-01-22 18:19:00', id_estacion=None, obsTimeLocal='2024-01-22 18:24:00', id_estacion=None, obsTimeLocal='2024-01-22 18:29:00', id_estacion=None, obsTimeLocal='2024-01-22 18:34:00', id_estacion=None, obsTimeLocal='2024-01-22 18:39:00', id_estacion=None, obsTimeLocal='2024-01-22 18:44:00', id_estacion=None, obsTimeLocal='2024-01-22 18:49:00', id_estacion=None, obsTimeLocal='2024-01-22 18:54:00', id_estacion=None, obsTimeLocal='2024-01-22 18:59:00', id_estacion=None, obsTimeLocal='2024-01-22 19:04:00', id_estacion=None, obsTimeLocal='2024-01-22 19:09:00', id_estacion=None, obsTimeLocal='2024-01-22 19:14:00', id_estacion=None, obsTimeLocal='2024-01-22 19:19:00', id_estacion=None, obsTimeLocal='2024-01-22 19:24:00', id_estacion=None, obsTimeLocal='2024-01-22 19:29:01', id_estacion=None, obsTimeLocal='2024-01-22 19:34:01', id_estacion=None, obsTimeLocal='2024-01-22 19:39:00', id_estacion=None, obsTimeLocal='2024-01-22 19:44:00', id_estacion=None, obsTimeLocal='2024-01-22 19:49:00', id_estacion=None, obsTimeLocal='2024-01-22 19:54:00', id_estacion=None, obsTimeLocal='2024-01-22 19:59:00', id_estacion=None, obsTimeLocal='2024-01-22 20:04:00', id_estacion=None, obsTimeLocal='2024-01-22 20:09:00', id_estacion=None, obsTimeLocal='2024-01-22 20:14:00', id_estacion=None, obsTimeLocal='2024-01-22 20:19:01', id_estacion=None, obsTimeLocal='2024-01-22 20:24:01', id_estacion=None, obsTimeLocal='2024-01-22 20:29:00', id_estacion=None, obsTimeLocal='2024-01-22 20:34:00', id_estacion=None, obsTimeLocal='2024-01-22 20:39:00', id_estacion=None, obsTimeLocal='2024-01-22 20:44:00', id_estacion=None, obsTimeLocal='2024-01-22 20:49:00', id_estacion=None, obsTimeLocal='2024-01-22 20:54:00', id_estacion=None, obsTimeLocal='2024-01-22 20:59:00', id_estacion=None, obsTimeLocal='2024-01-22 21:04:00', id_estacion=None, obsTimeLocal='2024-01-22 21:09:01', id_estacion=None, obsTimeLocal='2024-01-22 21:14:01', id_estacion=None, obsTimeLocal='2024-01-22 21:19:00', id_estacion=None, obsTimeLocal='2024-01-22 21:24:00', id_estacion=None, obsTimeLocal='2024-01-22 21:29:00', id_estacion=None, obsTimeLocal='2024-01-22 21:34:00', id_estacion=None, obsTimeLocal='2024-01-22 21:39:00', id_estacion=None, obsTimeLocal='2024-01-22 21:44:00', id_estacion=None, obsTimeLocal='2024-01-22 21:49:00', id_estacion=None, obsTimeLocal='2024-01-22 21:54:00', id_estacion=None, obsTimeLocal='2024-01-22 21:59:01', id_estacion=None, obsTimeLocal='2024-01-22 22:04:01', id_estacion=None, obsTimeLocal='2024-01-22 22:09:00', id_estacion=None, obsTimeLocal='2024-01-22 22:14:00', id_estacion=None, obsTimeLocal='2024-01-22 22:19:00', id_estacion=None, obsTimeLocal='2024-01-22 22:24:01', id_estacion=None, obsTimeLocal='2024-01-22 22:29:00', id_estacion=None, obsTimeLocal='2024-01-22 22:34:00', id_estacion=None, obsTimeLocal='2024-01-22 22:39:00', id_estacion=None, obsTimeLocal='2024-01-22 22:44:00', id_estacion=None, obsTimeLocal='2024-01-22 22:49:00', id_estacion=None, obsTimeLocal='2024-01-22 22:54:00', id_estacion=None, obsTimeLocal='2024-01-22 22:59:00', id_estacion=None, obsTimeLocal='2024-01-22 23:04:00', id_estacion=None, obsTimeLocal='2024-01-22 23:09:01', id_estacion=None, obsTimeLocal='2024-01-22 23:14:01', id_estacion=None, obsTimeLocal='2024-01-22 23:19:00', id_estacion=None, obsTimeLocal='2024-01-22 23:24:00', id_estacion=None, obsTimeLocal='2024-01-22 23:29:00', id_estacion=None, obsTimeLocal='2024-01-22 23:34:00', id_estacion=None, obsTimeLocal='2024-01-22 23:39:00', id_estacion=None, obsTimeLocal='2024-01-22 23:44:00', id_estacion=None, obsTimeLocal='2024-01-22 23:49:00', id_estacion=None, obsTimeLocal='2024-01-22 23:54:00', id_estacion=None, obsTimeLocal='2024-01-22 23:59:00', id_estacion=None, obsTimeLocal='2024-01-23 00:04:00', id_estacion=None, obsTimeLocal='2024-01-23 00:09:00', id_estacion=None, obsTimeLocal='2024-01-23 00:14:00', id_estacion=None, obsTimeLocal='2024-01-23 00:19:00', id_estacion=None, obsTimeLocal='2024-01-23 00:24:00', id_estacion=None, obsTimeLocal='2024-01-23 00:29:00', id_estacion=None, obsTimeLocal='2024-01-23 00:34:01', id_estacion=None, obsTimeLocal='2024-01-23 00:39:00', id_estacion=None, obsTimeLocal='2024-01-23 00:44:00', id_estacion=None, obsTimeLocal='2024-01-23 00:49:00', id_estacion=None, obsTimeLocal='2024-01-23 00:54:00', id_estacion=None, obsTimeLocal='2024-01-23 00:59:00', id_estacion=None, obsTimeLocal='2024-01-23 01:04:00', id_estacion=None, obsTimeLocal='2024-01-23 01:09:01', id_estacion=None, obsTimeLocal='2024-01-23 01:14:01', id_estacion=None, obsTimeLocal='2024-01-23 01:19:01', id_estacion=None, obsTimeLocal='2024-01-23 01:24:00', id_estacion=None, obsTimeLocal='2024-01-23 01:29:00', id_estacion=None, obsTimeLocal='2024-01-23 01:34:00', id_estacion=None, obsTimeLocal='2024-01-23 01:39:01', id_estacion=None, obsTimeLocal='2024-01-23 01:44:01', id_estacion=None, obsTimeLocal='2024-01-23 01:49:00', id_estacion=None, obsTimeLocal='2024-01-23 01:54:00', id_estacion=None, obsTimeLocal='2024-01-23 01:59:00', id_estacion=None, obsTimeLocal='2024-01-23 02:04:00', id_estacion=None, obsTimeLocal='2024-01-23 02:09:01', id_estacion=None, obsTimeLocal='2024-01-23 02:14:01', id_estacion=None, obsTimeLocal='2024-01-23 02:19:00', id_estacion=None, obsTimeLocal='2024-01-23 02:24:00', id_estacion=None, obsTimeLocal='2024-01-23 02:29:00', id_estacion=None, obsTimeLocal='2024-01-23 02:34:00', id_estacion=None, obsTimeLocal='2024-01-23 02:39:00', id_estacion=None, obsTimeLocal='2024-01-23 02:44:00', id_estacion=None, obsTimeLocal='2024-01-23 02:49:01', id_estacion=None, obsTimeLocal='2024-01-23 02:54:01', id_estacion=None, obsTimeLocal='2024-01-23 02:59:01', id_estacion=None, obsTimeLocal='2024-01-23 03:04:01', id_estacion=None, obsTimeLocal='2024-01-23 03:09:00', id_estacion=None, obsTimeLocal='2024-01-23 03:14:00', id_estacion=None, obsTimeLocal='2024-01-23 03:19:00', id_estacion=None, obsTimeLocal='2024-01-23 03:24:00', id_estacion=None, obsTimeLocal='2024-01-23 03:29:00', id_estacion=None, obsTimeLocal='2024-01-23 03:34:00', id_estacion=None, obsTimeLocal='2024-01-23 03:39:01', id_estacion=None, obsTimeLocal='2024-01-23 03:44:01', id_estacion=None, obsTimeLocal='2024-01-23 03:49:00', id_estacion=None, obsTimeLocal='2024-01-23 03:54:00', id_estacion=None, obsTimeLocal='2024-01-23 03:59:00', id_estacion=None, obsTimeLocal='2024-01-23 04:04:00', id_estacion=None, obsTimeLocal='2024-01-23 04:09:00', id_estacion=None, obsTimeLocal='2024-01-23 04:14:00', id_estacion=None, obsTimeLocal='2024-01-23 04:19:00', id_estacion=None, obsTimeLocal='2024-01-23 04:24:00', id_estacion=None, obsTimeLocal='2024-01-23 04:29:00', id_estacion=None, obsTimeLocal='2024-01-23 04:34:00', id_estacion=None, obsTimeLocal='2024-01-23 04:39:01', id_estacion=None, obsTimeLocal='2024-01-23 04:44:01', id_estacion=None, obsTimeLocal='2024-01-23 04:49:00', id_estacion=None, obsTimeLocal='2024-01-23 04:54:00', id_estacion=None, obsTimeLocal='2024-01-23 04:59:00', id_estacion=None, obsTimeLocal='2024-01-23 05:04:00', id_estacion=None, obsTimeLocal='2024-01-23 05:09:00', id_estacion=None, obsTimeLocal='2024-01-23 05:14:00', id_estacion=None, obsTimeLocal='2024-01-23 05:19:00', id_estacion=None, obsTimeLocal='2024-01-23 05:24:00', id_estacion=None, obsTimeLocal='2024-01-23 05:29:01', id_estacion=None, obsTimeLocal='2024-01-23 05:34:01', id_estacion=None, obsTimeLocal='2024-01-23 05:39:00', id_estacion=None, obsTimeLocal='2024-01-23 05:44:00', id_estacion=None, obsTimeLocal='2024-01-23 05:49:00', id_estacion=None, obsTimeLocal='2024-01-23 05:54:00', id_estacion=None, obsTimeLocal='2024-01-23 05:59:00', id_estacion=None, obsTimeLocal='2024-01-23 06:04:00', id_estacion=None, obsTimeLocal='2024-01-23 06:09:00', id_estacion=None, obsTimeLocal='2024-01-23 06:14:00', id_estacion=None, obsTimeLocal='2024-01-23 06:19:01', id_estacion=None, obsTimeLocal='2024-01-23 06:24:01', id_estacion=None, obsTimeLocal='2024-01-23 06:29:00', id_estacion=None, obsTimeLocal='2024-01-23 06:34:01', id_estacion=None, obsTimeLocal='2024-01-23 06:39:00', id_estacion=None, obsTimeLocal='2024-01-23 06:44:00', id_estacion=None, obsTimeLocal='2024-01-23 06:49:00', id_estacion=None, obsTimeLocal='2024-01-23 06:54:00', id_estacion=None, obsTimeLocal='2024-01-23 06:59:00', id_estacion=None, obsTimeLocal='2024-01-23 07:04:00', id_estacion=None, obsTimeLocal='2024-01-23 07:09:00', id_estacion=None, obsTimeLocal='2024-01-23 07:14:00', id_estacion=None, obsTimeLocal='2024-01-23 07:19:00', id_estacion=None, obsTimeLocal='2024-01-23 07:24:00', id_estacion=None, obsTimeLocal='2024-01-23 07:29:00', id_estacion=None, obsTimeLocal='2024-01-23 07:34:00', id_estacion=None, obsTimeLocal='2024-01-23 07:39:01', id_estacion=None, obsTimeLocal='2024-01-23 07:44:01', id_estacion=None, obsTimeLocal='2024-01-23 07:49:00', id_estacion=None, obsTimeLocal='2024-01-23 07:54:00', id_estacion=None, obsTimeLocal='2024-01-23 07:59:00', id_estacion=None, obsTimeLocal='2024-01-23 08:04:00', id_estacion=None, obsTimeLocal='2024-01-23 08:09:00', id_estacion=None, obsTimeLocal='2024-01-23 08:14:01', id_estacion=None, obsTimeLocal='2024-01-23 08:19:00', id_estacion=None, obsTimeLocal='2024-01-23 08:24:00', id_estacion=None, obsTimeLocal='2024-01-23 08:29:01', id_estacion=None, obsTimeLocal='2024-01-23 08:34:01', id_estacion=None, obsTimeLocal='2024-01-23 08:39:00', id_estacion=None, obsTimeLocal='2024-01-23 08:44:00', id_estacion=None, obsTimeLocal='2024-01-23 08:49:00', id_estacion=None, obsTimeLocal='2024-01-23 08:54:00', id_estacion=None, obsTimeLocal='2024-01-23 08:59:01', id_estacion=None, obsTimeLocal='2024-01-23 09:04:00', id_estacion=None, obsTimeLocal='2024-01-23 09:09:00', id_estacion=None, obsTimeLocal='2024-01-23 09:14:00', id_estacion=None, obsTimeLocal='2024-01-23 09:19:00', id_estacion=None, obsTimeLocal='2024-01-23 09:24:00', id_estacion=None, obsTimeLocal='2024-01-23 09:29:01', id_estacion=None, obsTimeLocal='2024-01-23 09:34:00', id_estacion=None, obsTimeLocal='2024-01-23 09:39:00', id_estacion=None, obsTimeLocal='2024-01-23 09:44:01', id_estacion=None, obsTimeLocal='2024-01-23 09:49:00', id_estacion=None, obsTimeLocal='2024-01-23 09:54:04', id_estacion=None, obsTimeLocal='2024-01-23 09:59:01', id_estacion=None, obsTimeLocal='2024-01-23 10:04:00', id_estacion=None, obsTimeLocal='2024-01-23 10:09:00', id_estacion=None, obsTimeLocal='2024-01-23 10:14:00', id_estacion=None, obsTimeLocal='2024-01-23 10:19:00', id_estacion=None, obsTimeLocal='2024-01-23 10:24:01', id_estacion=None, obsTimeLocal='2024-01-23 10:29:01', id_estacion=None, obsTimeLocal='2024-01-23 10:34:00', id_estacion=None, obsTimeLocal='2024-01-23 10:39:01', id_estacion=None, obsTimeLocal='2024-01-23 10:44:01', id_estacion=None, obsTimeLocal='2024-01-23 10:49:00', id_estacion=None, obsTimeLocal='2024-01-23 10:54:00', id_estacion=None, obsTimeLocal='2024-01-23 10:59:00', id_estacion=None, obsTimeLocal='2024-01-23 11:04:00', id_estacion=None, obsTimeLocal='2024-01-23 11:09:00', id_estacion=None, obsTimeLocal='2024-01-23 11:14:01', id_estacion=None, obsTimeLocal='2024-01-23 11:19:03', id_estacion=None, obsTimeLocal='2024-01-23 11:24:01', id_estacion=None, obsTimeLocal='2024-01-23 11:29:00', id_estacion=None, obsTimeLocal='2024-01-23 11:34:00', id_estacion=None, obsTimeLocal='2024-01-23 11:39:00', id_estacion=None, obsTimeLocal='2024-01-23 11:44:00', id_estacion=None, obsTimeLocal='2024-01-23 11:49:00', id_estacion=None, obsTimeLocal='2024-01-23 11:54:00', id_estacion=None, obsTimeLocal='2024-01-23 11:59:01', id_estacion=None, obsTimeLocal='2024-01-23 12:04:00', id_estacion=None, obsTimeLocal='2024-01-23 12:09:00', id_estacion=None, obsTimeLocal='2024-01-23 12:14:00', id_estacion=None, obsTimeLocal='2024-01-23 12:19:00', id_estacion=None, obsTimeLocal='2024-01-23 12:24:00', id_estacion=None, obsTimeLocal='2024-01-23 12:29:01', id_estacion=None, obsTimeLocal='2024-01-23 12:34:01', id_estacion=None, obsTimeLocal='2024-01-23 12:39:00', id_estacion=None, obsTimeLocal='2024-01-23 12:44:00', id_estacion=None, obsTimeLocal='2024-01-23 12:49:00', id_estacion=None, obsTimeLocal='2024-01-23 12:54:00', id_estacion=None, obsTimeLocal='2024-01-23 12:59:00', id_estacion=None, obsTimeLocal='2024-01-23 13:04:01', id_estacion=None, obsTimeLocal='2024-01-23 13:09:00', id_estacion=None, obsTimeLocal='2024-01-23 13:14:00', id_estacion=None, obsTimeLocal='2024-01-23 13:19:00', id_estacion=None, obsTimeLocal='2024-01-23 13:24:00', id_estacion=None, obsTimeLocal='2024-01-23 13:29:00', id_estacion=None, obsTimeLocal='2024-01-23 13:34:01', id_estacion=None, obsTimeLocal='2024-01-23 13:39:00', id_estacion=None, obsTimeLocal='2024-01-23 13:44:00', id_estacion=None, obsTimeLocal='2024-01-23 13:49:00', id_estacion=None, obsTimeLocal='2024-01-23 13:54:00', id_estacion=None, obsTimeLocal='2024-01-23 13:59:00', id_estacion=None, obsTimeLocal='2024-01-23 14:04:00', id_estacion=None, obsTimeLocal='2024-01-23 14:09:01', id_estacion=None, obsTimeLocal='2024-01-23 14:14:01', id_estacion=None, obsTimeLocal='2024-01-23 14:19:00', id_estacion=None, obsTimeLocal='2024-01-23 14:24:00', id_estacion=None, obsTimeLocal='2024-01-23 14:29:00', id_estacion=None, obsTimeLocal='2024-01-23 14:34:00', id_estacion=None, obsTimeLocal='2024-01-23 14:39:00', id_estacion=None, obsTimeLocal='2024-01-23 14:44:00', id_estacion=None, obsTimeLocal='2024-01-23 14:49:01', id_estacion=None, obsTimeLocal='2024-01-23 14:54:01', id_estacion=None, obsTimeLocal='2024-01-23 14:59:00', id_estacion=None, obsTimeLocal='2024-01-23 15:04:00', id_estacion=None, obsTimeLocal='2024-01-23 15:09:00', id_estacion=None, obsTimeLocal='2024-01-23 15:14:00', id_estacion=None, obsTimeLocal='2024-01-23 15:19:00', id_estacion=None, obsTimeLocal='2024-01-23 15:24:01', id_estacion=None, obsTimeLocal='2024-01-23 15:29:01', id_estacion=None, obsTimeLocal='2024-01-23 15:34:01', id_estacion=None, obsTimeLocal='2024-01-23 15:39:00', id_estacion=None, obsTimeLocal='2024-01-23 15:44:00', id_estacion=None, obsTimeLocal='2024-01-23 15:49:00', id_estacion=None, obsTimeLocal='2024-01-23 15:54:00', id_estacion=None, obsTimeLocal='2024-01-23 15:59:01', id_estacion=None, obsTimeLocal='2024-01-23 16:04:01', id_estacion=None, obsTimeLocal='2024-01-23 16:09:00', id_estacion=None, obsTimeLocal='2024-01-23 16:14:00', id_estacion=None, obsTimeLocal='2024-01-23 16:19:00', id_estacion=None, obsTimeLocal='2024-01-23 16:24:00', id_estacion=None, obsTimeLocal='2024-01-23 16:29:00', id_estacion=None, obsTimeLocal='2024-01-23 16:34:00', id_estacion=None, obsTimeLocal='2024-01-23 16:39:01', id_estacion=None, obsTimeLocal='2024-01-23 16:44:01', id_estacion=None, obsTimeLocal='2024-01-23 16:49:00', id_estacion=None, obsTimeLocal='2024-01-23 16:54:00', id_estacion=None, obsTimeLocal='2024-01-23 16:59:00', id_estacion=None, obsTimeLocal='2024-01-23 17:04:00', id_estacion=None, obsTimeLocal='2024-01-23 17:09:01', id_estacion=None, obsTimeLocal='2024-01-23 17:14:01', id_estacion=None, obsTimeLocal='2024-01-23 17:19:00', id_estacion=None, obsTimeLocal='2024-01-23 17:24:00', id_estacion=None, obsTimeLocal='2024-01-23 17:29:00', id_estacion=None, obsTimeLocal='2024-01-23 17:34:00', id_estacion=None, obsTimeLocal='2024-01-23 17:39:00', id_estacion=None, obsTimeLocal='2024-01-23 17:44:00', id_estacion=None, obsTimeLocal='2024-01-23 17:49:01', id_estacion=None, obsTimeLocal='2024-01-23 17:54:01', id_estacion=None, obsTimeLocal='2024-01-23 17:59:00', id_estacion=None, obsTimeLocal='2024-01-23 18:04:00', id_estacion=None, obsTimeLocal='2024-01-23 18:09:00', id_estacion=None, obsTimeLocal='2024-01-23 18:14:00', id_estacion=None, obsTimeLocal='2024-01-23 18:19:00', id_estacion=None, obsTimeLocal='2024-01-23 18:24:00', id_estacion=None, obsTimeLocal='2024-01-23 18:29:01', id_estacion=None, obsTimeLocal='2024-01-23 18:34:01', id_estacion=None, obsTimeLocal='2024-01-23 18:39:00', id_estacion=None, obsTimeLocal='2024-01-23 18:44:00', id_estacion=None, obsTimeLocal='2024-01-23 18:49:00', id_estacion=None, obsTimeLocal='2024-01-23 18:54:00', id_estacion=None, obsTimeLocal='2024-01-23 18:59:00', id_estacion=None, obsTimeLocal='2024-01-23 19:04:01', id_estacion=None, obsTimeLocal='2024-01-23 19:09:01', id_estacion=None, obsTimeLocal='2024-01-23 19:14:01', id_estacion=None, obsTimeLocal='2024-01-23 19:19:00', id_estacion=None, obsTimeLocal='2024-01-23 19:24:00', id_estacion=None, obsTimeLocal='2024-01-23 19:29:00', id_estacion=None, obsTimeLocal='2024-01-23 19:34:00', id_estacion=None, obsTimeLocal='2024-01-23 19:39:00', id_estacion=None, obsTimeLocal='2024-01-23 19:44:01', id_estacion=None, obsTimeLocal='2024-01-23 19:49:00', id_estacion=None, obsTimeLocal='2024-01-23 19:54:00', id_estacion=None, obsTimeLocal='2024-01-23 19:59:00', id_estacion=None, obsTimeLocal='2024-01-23 20:04:00', id_estacion=None, obsTimeLocal='2024-01-23 20:09:00', id_estacion=None, obsTimeLocal='2024-01-23 20:14:00', id_estacion=None, obsTimeLocal='2024-01-23 20:19:01', id_estacion=None, obsTimeLocal='2024-01-23 20:24:01', id_estacion=None, obsTimeLocal='2024-01-23 20:29:00', id_estacion=None, obsTimeLocal='2024-01-23 20:34:00', id_estacion=None, obsTimeLocal='2024-01-23 20:39:00', id_estacion=None, obsTimeLocal='2024-01-23 20:44:00', id_estacion=None, obsTimeLocal='2024-01-23 20:49:00', id_estacion=None, obsTimeLocal='2024-01-23 20:54:00', id_estacion=None, obsTimeLocal='2024-01-23 20:59:00', id_estacion=None, obsTimeLocal='2024-01-23 21:04:01', id_estacion=None, obsTimeLocal='2024-01-23 21:09:01', id_estacion=None, obsTimeLocal='2024-01-23 21:14:00', id_estacion=None, obsTimeLocal='2024-01-23 21:19:00', id_estacion=None, obsTimeLocal='2024-01-23 21:24:00', id_estacion=None, obsTimeLocal='2024-01-23 21:29:00', id_estacion=None, obsTimeLocal='2024-01-23 21:34:00', id_estacion=None, obsTimeLocal='2024-01-23 21:39:00', id_estacion=None, obsTimeLocal='2024-01-23 21:44:00', id_estacion=None, obsTimeLocal='2024-01-23 21:49:01', id_estacion=None, obsTimeLocal='2024-01-23 21:54:01', id_estacion=None, obsTimeLocal='2024-01-23 21:59:00', id_estacion=None, obsTimeLocal='2024-01-23 22:04:00', id_estacion=None, obsTimeLocal='2024-01-23 22:09:00', id_estacion=None, obsTimeLocal='2024-01-23 22:14:01', id_estacion=None, obsTimeLocal='2024-01-23 22:19:00', id_estacion=None, obsTimeLocal='2024-01-23 22:24:00', id_estacion=None, obsTimeLocal='2024-01-23 22:29:00', id_estacion=None, obsTimeLocal='2024-01-23 22:34:00', id_estacion=None, obsTimeLocal='2024-01-23 22:39:01', id_estacion=None, obsTimeLocal='2024-01-23 22:44:00', id_estacion=None, obsTimeLocal='2024-01-23 22:49:00', id_estacion=None, obsTimeLocal='2024-01-23 22:54:00', id_estacion=None, obsTimeLocal='2024-01-23 22:59:00', id_estacion=None, obsTimeLocal='2024-01-23 23:04:00', id_estacion=None, obsTimeLocal='2024-01-23 23:09:01', id_estacion=None, obsTimeLocal='2024-01-23 23:14:01', id_estacion=None, obsTimeLocal='2024-01-23 23:19:00', id_estacion=None, obsTimeLocal='2024-01-23 23:24:00', id_estacion=None, obsTimeLocal='2024-01-23 23:29:00', id_estacion=None, obsTimeLocal='2024-01-23 23:34:00', id_estacion=None, obsTimeLocal='2024-01-23 23:39:00', id_estacion=None, obsTimeLocal='2024-01-23 23:44:00', id_estacion=None, obsTimeLocal='2024-01-23 23:49:01', id_estacion=None, obsTimeLocal='2024-01-23 23:54:00', id_estacion=None, obsTimeLocal='2024-01-23 23:59:00', id_estacion=None, obsTimeLocal='2024-01-24 00:04:00', id_estacion=None, obsTimeLocal='2024-01-24 00:09:00', id_estacion=None, obsTimeLocal='2024-01-24 00:14:00', id_estacion=None, obsTimeLocal='2024-01-24 00:19:01', id_estacion=None, obsTimeLocal='2024-01-24 00:24:01', id_estacion=None, obsTimeLocal='2024-01-24 00:29:00', id_estacion=None, obsTimeLocal='2024-01-24 00:34:00', id_estacion=None, obsTimeLocal='2024-01-24 00:39:00', id_estacion=None, obsTimeLocal='2024-01-24 00:44:00', id_estacion=None, obsTimeLocal='2024-01-24 00:49:01', id_estacion=None, obsTimeLocal='2024-01-24 00:54:01', id_estacion=None, obsTimeLocal='2024-01-24 00:59:00', id_estacion=None, obsTimeLocal='2024-01-24 01:04:00', id_estacion=None, obsTimeLocal='2024-01-24 01:09:00', id_estacion=None, obsTimeLocal='2024-01-24 01:14:00', id_estacion=None, obsTimeLocal='2024-01-24 01:19:01', id_estacion=None, obsTimeLocal='2024-01-24 01:24:00', id_estacion=None, obsTimeLocal='2024-01-24 01:29:00', id_estacion=None, obsTimeLocal='2024-01-24 01:34:00', id_estacion=None, obsTimeLocal='2024-01-24 01:39:00', id_estacion=None, obsTimeLocal='2024-01-24 01:44:00', id_estacion=None, obsTimeLocal='2024-01-24 01:49:00', id_estacion=None, obsTimeLocal='2024-01-24 01:54:00', id_estacion=None, obsTimeLocal='2024-01-24 01:59:01', id_estacion=None, obsTimeLocal='2024-01-24 02:04:01', id_estacion=None, obsTimeLocal='2024-01-24 02:09:01', id_estacion=None, obsTimeLocal='2024-01-24 02:14:01', id_estacion=None, obsTimeLocal='2024-01-24 02:19:00', id_estacion=None, obsTimeLocal='2024-01-24 02:24:00', id_estacion=None, obsTimeLocal='2024-01-24 02:29:00', id_estacion=None, obsTimeLocal='2024-01-24 02:34:00', id_estacion=None, obsTimeLocal='2024-01-24 02:39:00', id_estacion=None, obsTimeLocal='2024-01-24 02:44:00', id_estacion=None, obsTimeLocal='2024-01-24 02:49:00', id_estacion=None, obsTimeLocal='2024-01-24 02:54:00', id_estacion=None, obsTimeLocal='2024-01-24 02:59:00', id_estacion=None, obsTimeLocal='2024-01-24 03:04:00', id_estacion=None, obsTimeLocal='2024-01-24 03:09:00', id_estacion=None, obsTimeLocal='2024-01-24 03:14:00', id_estacion=None, obsTimeLocal='2024-01-24 03:19:00', id_estacion=None, obsTimeLocal='2024-01-24 03:24:00', id_estacion=None, obsTimeLocal='2024-01-24 03:29:00', id_estacion=None, obsTimeLocal='2024-01-24 03:34:00', id_estacion=None, obsTimeLocal='2024-01-24 03:39:00', id_estacion=None, obsTimeLocal='2024-01-24 03:44:01', id_estacion=None, obsTimeLocal='2024-01-24 03:49:00', id_estacion=None, obsTimeLocal='2024-01-24 03:54:01', id_estacion=None, obsTimeLocal='2024-01-24 03:59:00', id_estacion=None, obsTimeLocal='2024-01-24 04:04:00', id_estacion=None, obsTimeLocal='2024-01-24 04:09:00', id_estacion=None, obsTimeLocal='2024-01-24 04:14:00', id_estacion=None, obsTimeLocal='2024-01-24 04:19:00', id_estacion=None, obsTimeLocal='2024-01-24 04:24:00', id_estacion=None, obsTimeLocal='2024-01-24 04:29:00', id_estacion=None, obsTimeLocal='2024-01-24 04:34:00', id_estacion=None, obsTimeLocal='2024-01-24 04:39:00', id_estacion=None, obsTimeLocal='2024-01-24 04:44:00', id_estacion=None, obsTimeLocal='2024-01-24 04:49:01', id_estacion=None, obsTimeLocal='2024-01-24 04:54:01', id_estacion=None, obsTimeLocal='2024-01-24 04:59:00', id_estacion=None, obsTimeLocal='2024-01-24 05:04:00', id_estacion=None, obsTimeLocal='2024-01-24 05:09:00', id_estacion=None, obsTimeLocal='2024-01-24 05:14:00', id_estacion=None, obsTimeLocal='2024-01-24 05:19:00', id_estacion=None, obsTimeLocal='2024-01-24 05:24:00', id_estacion=None, obsTimeLocal='2024-01-24 05:29:01', id_estacion=None, obsTimeLocal='2024-01-24 05:34:01', id_estacion=None, obsTimeLocal='2024-01-24 05:39:00', id_estacion=None, obsTimeLocal='2024-01-24 05:44:00', id_estacion=None, obsTimeLocal='2024-01-24 05:49:00', id_estacion=None, obsTimeLocal='2024-01-24 05:54:00', id_estacion=None, obsTimeLocal='2024-01-24 05:59:00', id_estacion=None, obsTimeLocal='2024-01-24 06:04:00', id_estacion=None, obsTimeLocal='2024-01-24 06:09:01', id_estacion=None, obsTimeLocal='2024-01-24 06:14:01', id_estacion=None, obsTimeLocal='2024-01-24 06:19:00', id_estacion=None, obsTimeLocal='2024-01-24 06:24:01', id_estacion=None, obsTimeLocal='2024-01-24 06:29:00', id_estacion=None, obsTimeLocal='2024-01-24 06:34:00', id_estacion=None, obsTimeLocal='2024-01-24 06:39:00', id_estacion=None, obsTimeLocal='2024-01-24 06:44:00', id_estacion=None, obsTimeLocal='2024-01-24 06:49:00', id_estacion=None, obsTimeLocal='2024-01-24 06:54:00', id_estacion=None, obsTimeLocal='2024-01-24 06:59:01', id_estacion=None, obsTimeLocal='2024-01-24 07:04:00', id_estacion=None, obsTimeLocal='2024-01-24 07:09:00', id_estacion=None, obsTimeLocal='2024-01-24 07:14:01', id_estacion=None, obsTimeLocal='2024-01-24 07:19:00', id_estacion=None, obsTimeLocal='2024-01-24 07:24:00', id_estacion=None, obsTimeLocal='2024-01-24 07:29:00', id_estacion=None, obsTimeLocal='2024-01-24 07:34:00', id_estacion=None, obsTimeLocal='2024-01-24 07:39:00', id_estacion=None, obsTimeLocal='2024-01-24 07:44:00', id_estacion=None, obsTimeLocal='2024-01-24 07:49:00', id_estacion=None, obsTimeLocal='2024-01-24 07:54:00', id_estacion=None, obsTimeLocal='2024-01-24 07:59:01', id_estacion=None, obsTimeLocal='2024-01-24 08:04:01', id_estacion=None, obsTimeLocal='2024-01-24 08:09:00', id_estacion=None, obsTimeLocal='2024-01-24 08:14:00', id_estacion=None, obsTimeLocal='2024-01-24 08:19:01', id_estacion=None, obsTimeLocal='2024-01-24 08:24:01', id_estacion=None, obsTimeLocal='2024-01-24 08:29:00', id_estacion=None, obsTimeLocal='2024-01-24 08:34:00', id_estacion=None, obsTimeLocal='2024-01-24 08:39:00', id_estacion=None, obsTimeLocal='2024-01-24 08:44:00', id_estacion=None, obsTimeLocal='2024-01-24 08:49:00', id_estacion=None, obsTimeLocal='2024-01-24 08:54:00', id_estacion=None, obsTimeLocal='2024-01-24 08:59:01', id_estacion=None, obsTimeLocal='2024-01-24 09:04:01', id_estacion=None, obsTimeLocal='2024-01-24 09:09:00', id_estacion=None, obsTimeLocal='2024-01-24 09:14:00', id_estacion=None, obsTimeLocal='2024-01-24 09:19:00', id_estacion=None, obsTimeLocal='2024-01-24 09:24:00', id_estacion=None, obsTimeLocal='2024-01-24 09:29:00', id_estacion=None, obsTimeLocal='2024-01-24 09:34:00', id_estacion=None, obsTimeLocal='2024-01-24 09:39:01', id_estacion=None, obsTimeLocal='2024-01-24 09:44:00', id_estacion=None, obsTimeLocal='2024-01-24 09:49:01', id_estacion=None, obsTimeLocal='2024-01-24 09:54:00', id_estacion=None, obsTimeLocal='2024-01-24 09:59:00', id_estacion=None, obsTimeLocal='2024-01-24 10:04:00', id_estacion=None, obsTimeLocal='2024-01-24 10:09:00', id_estacion=None, obsTimeLocal='2024-01-24 10:14:01', id_estacion=None, obsTimeLocal='2024-01-24 10:19:00', id_estacion=None, obsTimeLocal='2024-01-24 10:24:00', id_estacion=None, obsTimeLocal='2024-01-24 10:29:00', id_estacion=None, obsTimeLocal='2024-01-24 10:34:00', id_estacion=None, obsTimeLocal='2024-01-24 10:39:01', id_estacion=None, obsTimeLocal='2024-01-24 10:44:00', id_estacion=None, obsTimeLocal='2024-01-24 10:49:00', id_estacion=None, obsTimeLocal='2024-01-24 10:54:00', id_estacion=None, obsTimeLocal='2024-01-24 10:59:00', id_estacion=None, obsTimeLocal='2024-01-24 11:04:01', id_estacion=None, obsTimeLocal='2024-01-24 11:09:00', id_estacion=None, obsTimeLocal='2024-01-24 11:14:00', id_estacion=None, obsTimeLocal='2024-01-24 11:19:01', id_estacion=None, obsTimeLocal='2024-01-24 11:24:00', id_estacion=None, obsTimeLocal='2024-01-24 11:29:00', id_estacion=None, obsTimeLocal='2024-01-24 11:34:00', id_estacion=None, obsTimeLocal='2024-01-24 11:39:01', id_estacion=None, obsTimeLocal='2024-01-24 11:44:00', id_estacion=None, obsTimeLocal='2024-01-24 11:49:00', id_estacion=None, obsTimeLocal='2024-01-24 11:54:00', id_estacion=None, obsTimeLocal='2024-01-24 11:59:01', id_estacion=None, obsTimeLocal='2024-01-24 12:04:00', id_estacion=None, obsTimeLocal='2024-01-24 12:09:00', id_estacion=None, obsTimeLocal='2024-01-24 12:14:00', id_estacion=None, obsTimeLocal='2024-01-24 12:19:00', id_estacion=None, obsTimeLocal='2024-01-24 12:24:00', id_estacion=None, obsTimeLocal='2024-01-24 12:29:01', id_estacion=None, obsTimeLocal='2024-01-24 12:34:00', id_estacion=None, obsTimeLocal='2024-01-24 12:39:00', id_estacion=None, obsTimeLocal='2024-01-24 12:44:00', id_estacion=None, obsTimeLocal='2024-01-24 12:49:00', id_estacion=None, obsTimeLocal='2024-01-24 12:54:00', id_estacion=None, obsTimeLocal='2024-01-24 12:59:00', id_estacion=None, obsTimeLocal='2024-01-24 13:04:00', id_estacion=None, obsTimeLocal='2024-01-24 13:09:01', id_estacion=None, obsTimeLocal='2024-01-24 13:14:01', id_estacion=None, obsTimeLocal='2024-01-24 13:19:00', id_estacion=None, obsTimeLocal='2024-01-24 13:24:00', id_estacion=None, obsTimeLocal='2024-01-24 13:29:00', id_estacion=None, obsTimeLocal='2024-01-24 13:34:00', id_estacion=None, obsTimeLocal='2024-01-24 13:39:00', id_estacion=None, obsTimeLocal='2024-01-24 13:44:01', id_estacion=None, obsTimeLocal='2024-01-24 13:49:00', id_estacion=None, obsTimeLocal='2024-01-24 13:54:00', id_estacion=None, obsTimeLocal='2024-01-24 13:59:00', id_estacion=None, obsTimeLocal='2024-01-24 14:04:00', id_estacion=None, obsTimeLocal='2024-01-24 14:09:00', id_estacion=None, obsTimeLocal='2024-01-24 14:14:00', id_estacion=None, obsTimeLocal='2024-01-24 14:19:01', id_estacion=None, obsTimeLocal='2024-01-24 14:24:01', id_estacion=None, obsTimeLocal='2024-01-24 14:29:00', id_estacion=None, obsTimeLocal='2024-01-24 14:34:00', id_estacion=None, obsTimeLocal='2024-01-24 14:39:00', id_estacion=None, obsTimeLocal='2024-01-24 14:44:00', id_estacion=None, obsTimeLocal='2024-01-24 14:49:01', id_estacion=None, obsTimeLocal='2024-01-24 14:54:01', id_estacion=None, obsTimeLocal='2024-01-24 14:59:00', id_estacion=None, obsTimeLocal='2024-01-24 15:04:00', id_estacion=None, obsTimeLocal='2024-01-24 15:09:00', id_estacion=None, obsTimeLocal='2024-01-24 15:14:00', id_estacion=None, obsTimeLocal='2024-01-24 15:19:00', id_estacion=None, obsTimeLocal='2024-01-24 15:24:00', id_estacion=None, obsTimeLocal='2024-01-24 15:29:01', id_estacion=None, obsTimeLocal='2024-01-24 15:34:01', id_estacion=None, obsTimeLocal='2024-01-24 15:39:00', id_estacion=None, obsTimeLocal='2024-01-24 15:44:00', id_estacion=None, obsTimeLocal='2024-01-24 15:49:00', id_estacion=None, obsTimeLocal='2024-01-24 15:54:00', id_estacion=None, obsTimeLocal='2024-01-24 15:59:01', id_estacion=None, obsTimeLocal='2024-01-24 16:04:01', id_estacion=None, obsTimeLocal='2024-01-24 16:09:00', id_estacion=None, obsTimeLocal='2024-01-24 16:14:00', id_estacion=None, obsTimeLocal='2024-01-24 16:19:00', id_estacion=None, obsTimeLocal='2024-01-24 16:24:00', id_estacion=None, obsTimeLocal='2024-01-24 16:29:01', id_estacion=None, obsTimeLocal='2024-01-24 16:34:01', id_estacion=None, obsTimeLocal='2024-01-24 16:39:00', id_estacion=None, obsTimeLocal='2024-01-24 16:44:00', id_estacion=None, obsTimeLocal='2024-01-24 16:49:00', id_estacion=None, obsTimeLocal='2024-01-24 16:54:00', id_estacion=None, obsTimeLocal='2024-01-24 16:59:00', id_estacion=None, obsTimeLocal='2024-01-24 17:04:01', id_estacion=None, obsTimeLocal='2024-01-24 17:09:00', id_estacion=None, obsTimeLocal='2024-01-24 17:14:00', id_estacion=None, obsTimeLocal='2024-01-24 17:19:00', id_estacion=None, obsTimeLocal='2024-01-24 17:24:00', id_estacion=None, obsTimeLocal='2024-01-24 17:29:00', id_estacion=None, obsTimeLocal='2024-01-24 17:34:00', id_estacion=None, obsTimeLocal='2024-01-24 17:39:01', id_estacion=None, obsTimeLocal='2024-01-24 17:44:01', id_estacion=None, obsTimeLocal='2024-01-24 17:49:00', id_estacion=None, obsTimeLocal='2024-01-24 17:54:00', id_estacion=None, obsTimeLocal='2024-01-24 17:59:00', id_estacion=None, obsTimeLocal='2024-01-24 18:04:00', id_estacion=None, obsTimeLocal='2024-01-24 18:09:00', id_estacion=None, obsTimeLocal='2024-01-24 18:14:01', id_estacion=None, obsTimeLocal='2024-01-24 18:19:00', id_estacion=None, obsTimeLocal='2024-01-24 18:24:00', id_estacion=None, obsTimeLocal='2024-01-24 18:29:00', id_estacion=None, obsTimeLocal='2024-01-24 18:34:00', id_estacion=None, obsTimeLocal='2024-01-24 18:39:00', id_estacion=None, obsTimeLocal='2024-01-24 18:44:00', id_estacion=None, obsTimeLocal='2024-01-24 18:49:01', id_estacion=None, obsTimeLocal='2024-01-24 18:54:01', id_estacion=None, obsTimeLocal='2024-01-24 18:59:00', id_estacion=None, obsTimeLocal='2024-01-24 19:04:00', id_estacion=None, obsTimeLocal='2024-01-24 19:09:00', id_estacion=None, obsTimeLocal='2024-01-24 19:14:00', id_estacion=None, obsTimeLocal='2024-01-24 19:19:01', id_estacion=None, obsTimeLocal='2024-01-24 19:24:01', id_estacion=None, obsTimeLocal='2024-01-24 19:29:00', id_estacion=None, obsTimeLocal='2024-01-24 19:34:00', id_estacion=None, obsTimeLocal='2024-01-24 19:39:00', id_estacion=None, obsTimeLocal='2024-01-24 19:44:00', id_estacion=None, obsTimeLocal='2024-01-24 19:49:01', id_estacion=None, obsTimeLocal='2024-01-24 19:54:01', id_estacion=None, obsTimeLocal='2024-01-24 19:59:00', id_estacion=None, obsTimeLocal='2024-01-24 20:04:00', id_estacion=None, obsTimeLocal='2024-01-24 20:09:00', id_estacion=None, obsTimeLocal='2024-01-24 20:14:00', id_estacion=None, obsTimeLocal='2024-01-24 20:19:01', id_estacion=None, obsTimeLocal='2024-01-24 20:24:01', id_estacion=None, obsTimeLocal='2024-01-24 20:29:00', id_estacion=None, obsTimeLocal='2024-01-24 20:34:00', id_estacion=None, obsTimeLocal='2024-01-24 20:39:00', id_estacion=None, obsTimeLocal='2024-01-24 20:44:00', id_estacion=None, obsTimeLocal='2024-01-24 20:49:00', id_estacion=None, obsTimeLocal='2024-01-24 20:54:00', id_estacion=None, obsTimeLocal='2024-01-24 20:59:01', id_estacion=None, obsTimeLocal='2024-01-24 21:04:01', id_estacion=None, obsTimeLocal='2024-01-24 21:09:00', id_estacion=None, obsTimeLocal='2024-01-24 21:14:00', id_estacion=None, obsTimeLocal='2024-01-24 21:19:00', id_estacion=None, obsTimeLocal='2024-01-24 21:24:00', id_estacion=None, obsTimeLocal='2024-01-24 21:29:00', id_estacion=None, obsTimeLocal='2024-01-24 21:34:00', id_estacion=None, obsTimeLocal='2024-01-24 21:39:01', id_estacion=None, obsTimeLocal='2024-01-24 21:44:01', id_estacion=None, obsTimeLocal='2024-01-24 21:49:00', id_estacion=None, obsTimeLocal='2024-01-24 21:54:00', id_estacion=None, obsTimeLocal='2024-01-24 21:59:00', id_estacion=None, obsTimeLocal='2024-01-24 22:04:00', id_estacion=None, obsTimeLocal='2024-01-24 22:09:01', id_estacion=None, obsTimeLocal='2024-01-24 22:14:00', id_estacion=None, obsTimeLocal='2024-01-24 22:19:00', id_estacion=None, obsTimeLocal='2024-01-24 22:24:00', id_estacion=None, obsTimeLocal='2024-01-24 22:29:01', id_estacion=None, obsTimeLocal='2024-01-24 22:34:01', id_estacion=None, obsTimeLocal='2024-01-24 22:39:00', id_estacion=None, obsTimeLocal='2024-01-24 22:44:00', id_estacion=None, obsTimeLocal='2024-01-24 22:49:00', id_estacion=None, obsTimeLocal='2024-01-24 22:54:00', id_estacion=None, obsTimeLocal='2024-01-24 22:59:00', id_estacion=None, obsTimeLocal='2024-01-24 23:04:01', id_estacion=None, obsTimeLocal='2024-01-24 23:09:00', id_estacion=None, obsTimeLocal='2024-01-24 23:14:00', id_estacion=None, obsTimeLocal='2024-01-24 23:19:00', id_estacion=None, obsTimeLocal='2024-01-24 23:24:00', id_estacion=None, obsTimeLocal='2024-01-24 23:29:00', id_estacion=None, obsTimeLocal='2024-01-24 23:34:00', id_estacion=None, obsTimeLocal='2024-01-24 23:39:01', id_estacion=None, obsTimeLocal='2024-01-24 23:44:00', id_estacion=None, obsTimeLocal='2024-01-24 23:49:00', id_estacion=None, obsTimeLocal='2024-01-24 23:54:00', id_estacion=None, obsTimeLocal='2024-01-24 23:59:00', id_estacion=None, obsTimeLocal='2024-01-25 00:04:00', id_estacion=None, obsTimeLocal='2024-01-25 00:09:00', id_estacion=None, obsTimeLocal='2024-01-25 00:14:01', id_estacion=None, obsTimeLocal='2024-01-25 00:19:00', id_estacion=None, obsTimeLocal='2024-01-25 00:24:00', id_estacion=None, obsTimeLocal='2024-01-25 00:29:00', id_estacion=None, obsTimeLocal='2024-01-25 00:34:00', id_estacion=None, obsTimeLocal='2024-01-25 00:39:00', id_estacion=None, obsTimeLocal='2024-01-25 00:44:00', id_estacion=None, obsTimeLocal='2024-01-25 00:49:00', id_estacion=None, obsTimeLocal='2024-01-25 00:54:00', id_estacion=None, obsTimeLocal='2024-01-25 00:59:00', id_estacion=None, obsTimeLocal='2024-01-25 01:04:00', id_estacion=None, obsTimeLocal='2024-01-25 01:09:01', id_estacion=None, obsTimeLocal='2024-01-25 01:14:01', id_estacion=None, obsTimeLocal='2024-01-25 01:19:01', id_estacion=None, obsTimeLocal='2024-01-25 01:24:01', id_estacion=None, obsTimeLocal='2024-01-25 01:29:00', id_estacion=None, obsTimeLocal='2024-01-25 01:34:00', id_estacion=None, obsTimeLocal='2024-01-25 01:39:00', id_estacion=None, obsTimeLocal='2024-01-25 01:44:00', id_estacion=None, obsTimeLocal='2024-01-25 01:49:01', id_estacion=None, obsTimeLocal='2024-01-25 01:54:01', id_estacion=None, obsTimeLocal='2024-01-25 01:59:00', id_estacion=None, obsTimeLocal='2024-01-25 02:04:00', id_estacion=None, obsTimeLocal='2024-01-25 02:09:00', id_estacion=None, obsTimeLocal='2024-01-25 02:14:00', id_estacion=None, obsTimeLocal='2024-01-25 02:19:01', id_estacion=None, obsTimeLocal='2024-01-25 02:24:00', id_estacion=None, obsTimeLocal='2024-01-25 02:29:00', id_estacion=None, obsTimeLocal='2024-01-25 02:34:00', id_estacion=None, obsTimeLocal='2024-01-25 02:39:00', id_estacion=None, obsTimeLocal='2024-01-25 02:44:00', id_estacion=None, obsTimeLocal='2024-01-25 02:49:00', id_estacion=None, obsTimeLocal='2024-01-25 02:54:00', id_estacion=None, obsTimeLocal='2024-01-25 02:59:01', id_estacion=None, obsTimeLocal='2024-01-25 03:04:00', id_estacion=None, obsTimeLocal='2024-01-25 03:09:00', id_estacion=None, obsTimeLocal='2024-01-25 03:14:00', id_estacion=None, obsTimeLocal='2024-01-25 03:19:00', id_estacion=None, obsTimeLocal='2024-01-25 03:24:00', id_estacion=None, obsTimeLocal='2024-01-25 03:29:01', id_estacion=None, obsTimeLocal='2024-01-25 03:34:01', id_estacion=None, obsTimeLocal='2024-01-25 03:39:00', id_estacion=None, obsTimeLocal='2024-01-25 03:44:00', id_estacion=None, obsTimeLocal='2024-01-25 03:49:00', id_estacion=None, obsTimeLocal='2024-01-25 03:54:00', id_estacion=None, obsTimeLocal='2024-01-25 03:59:00', id_estacion=None, obsTimeLocal='2024-01-25 04:04:00', id_estacion=None, obsTimeLocal='2024-01-25 04:09:00', id_estacion=None, obsTimeLocal='2024-01-25 04:14:00', id_estacion=None, obsTimeLocal='2024-01-25 04:19:00', id_estacion=None, obsTimeLocal='2024-01-25 04:24:00', id_estacion=None, obsTimeLocal='2024-01-25 04:29:00', id_estacion=None, obsTimeLocal='2024-01-25 04:34:00', id_estacion=None, obsTimeLocal='2024-01-25 04:39:00', id_estacion=None, obsTimeLocal='2024-01-25 04:44:00', id_estacion=None, obsTimeLocal='2024-01-25 04:49:01', id_estacion=None, obsTimeLocal='2024-01-25 04:54:00', id_estacion=None, obsTimeLocal='2024-01-25 04:59:00', id_estacion=None, obsTimeLocal='2024-01-25 05:04:01', id_estacion=None, obsTimeLocal='2024-01-25 05:09:01', id_estacion=None, obsTimeLocal='2024-01-25 05:14:01', id_estacion=None, obsTimeLocal='2024-01-25 05:19:00', id_estacion=None, obsTimeLocal='2024-01-25 05:24:00', id_estacion=None, obsTimeLocal='2024-01-25 05:29:00', id_estacion=None, obsTimeLocal='2024-01-25 05:34:00', id_estacion=None, obsTimeLocal='2024-01-25 05:39:00', id_estacion=None, obsTimeLocal='2024-01-25 05:44:01', id_estacion=None, obsTimeLocal='2024-01-25 05:49:00', id_estacion=None, obsTimeLocal='2024-01-25 05:54:00', id_estacion=None, obsTimeLocal='2024-01-25 05:59:00', id_estacion=None, obsTimeLocal='2024-01-25 06:04:00', id_estacion=None, obsTimeLocal='2024-01-25 06:09:00', id_estacion=None, obsTimeLocal='2024-01-25 06:14:00', id_estacion=None, obsTimeLocal='2024-01-25 06:19:00', id_estacion=None, obsTimeLocal='2024-01-25 06:24:00', id_estacion=None, obsTimeLocal='2024-01-25 06:29:00', id_estacion=None, obsTimeLocal='2024-01-25 06:34:00', id_estacion=None, obsTimeLocal='2024-01-25 06:39:01', id_estacion=None, obsTimeLocal='2024-01-25 06:44:00', id_estacion=None, obsTimeLocal='2024-01-25 06:49:01', id_estacion=None, obsTimeLocal='2024-01-25 06:54:00', id_estacion=None, obsTimeLocal='2024-01-25 06:59:01', id_estacion=None, obsTimeLocal='2024-01-25 07:04:00', id_estacion=None, obsTimeLocal='2024-01-25 07:09:00', id_estacion=None, obsTimeLocal='2024-01-25 07:14:00', id_estacion=None, obsTimeLocal='2024-01-25 07:19:00', id_estacion=None, obsTimeLocal='2024-01-25 07:24:00', id_estacion=None, obsTimeLocal='2024-01-25 07:29:00', id_estacion=None, obsTimeLocal='2024-01-25 07:34:00', id_estacion=None, obsTimeLocal='2024-01-25 07:39:01', id_estacion=None, obsTimeLocal='2024-01-25 07:44:01', id_estacion=None, obsTimeLocal='2024-01-25 07:49:00', id_estacion=None, obsTimeLocal='2024-01-25 07:54:00', id_estacion=None, obsTimeLocal='2024-01-25 07:59:00', id_estacion=None, obsTimeLocal='2024-01-25 08:04:01', id_estacion=None, obsTimeLocal='2024-01-25 08:09:00', id_estacion=None, obsTimeLocal='2024-01-25 08:14:00', id_estacion=None, obsTimeLocal='2024-01-25 08:19:01', id_estacion=None, obsTimeLocal='2024-01-25 08:24:01', id_estacion=None, obsTimeLocal='2024-01-25 08:29:00', id_estacion=None, obsTimeLocal='2024-01-25 08:34:00', id_estacion=None, obsTimeLocal='2024-01-25 08:39:00', id_estacion=None, obsTimeLocal='2024-01-25 08:44:00', id_estacion=None, obsTimeLocal='2024-01-25 08:49:01', id_estacion=None, obsTimeLocal='2024-01-25 08:54:01', id_estacion=None, obsTimeLocal='2024-01-25 08:59:00', id_estacion=None, obsTimeLocal='2024-01-25 09:04:00', id_estacion=None, obsTimeLocal='2024-01-25 09:09:00', id_estacion=None, obsTimeLocal='2024-01-25 09:14:00', id_estacion=None, obsTimeLocal='2024-01-25 09:19:01', id_estacion=None, obsTimeLocal='2024-01-25 09:24:00', id_estacion=None, obsTimeLocal='2024-01-25 09:29:00', id_estacion=None, obsTimeLocal='2024-01-25 09:34:00', id_estacion=None, obsTimeLocal='2024-01-25 09:39:00', id_estacion=None, obsTimeLocal='2024-01-25 09:44:01', id_estacion=None, obsTimeLocal='2024-01-25 09:49:00', id_estacion=None, obsTimeLocal='2024-01-25 09:54:01', id_estacion=None, obsTimeLocal='2024-01-25 09:59:00', id_estacion=None, obsTimeLocal='2024-01-25 10:04:00', id_estacion=None, obsTimeLocal='2024-01-25 10:09:01', id_estacion=None, obsTimeLocal='2024-01-25 10:14:00', id_estacion=None, obsTimeLocal='2024-01-25 10:19:00', id_estacion=None, obsTimeLocal='2024-01-25 10:24:00', id_estacion=None, obsTimeLocal='2024-01-25 10:29:00', id_estacion=None, obsTimeLocal='2024-01-25 10:34:00', id_estacion=None, obsTimeLocal='2024-01-25 10:39:01', id_estacion=None, obsTimeLocal='2024-01-25 10:44:00', id_estacion=None, obsTimeLocal='2024-01-25 10:49:00', id_estacion=None, obsTimeLocal='2024-01-25 10:54:00', id_estacion=None, obsTimeLocal='2024-01-25 10:59:00', id_estacion=None, obsTimeLocal='2024-01-25 11:04:01', id_estacion=None, obsTimeLocal='2024-01-25 11:09:00', id_estacion=None, obsTimeLocal='2024-01-25 11:14:00', id_estacion=None, obsTimeLocal='2024-01-25 11:19:00', id_estacion=None, obsTimeLocal='2024-01-25 11:24:00', id_estacion=None, obsTimeLocal='2024-01-25 11:29:00', id_estacion=None, obsTimeLocal='2024-01-25 11:34:00', id_estacion=None, obsTimeLocal='2024-01-25 11:39:01', id_estacion=None, obsTimeLocal='2024-01-25 11:44:01', id_estacion=None, obsTimeLocal='2024-01-25 11:49:00', id_estacion=None, obsTimeLocal='2024-01-25 11:54:00', id_estacion=None, obsTimeLocal='2024-01-25 11:59:00', id_estacion=None, obsTimeLocal='2024-01-25 12:04:00', id_estacion=None, obsTimeLocal='2024-01-25 12:09:01', id_estacion=None, obsTimeLocal='2024-01-25 12:14:00', id_estacion=None, obsTimeLocal='2024-01-25 12:19:00', id_estacion=None, obsTimeLocal='2024-01-25 12:24:03', id_estacion=None, obsTimeLocal='2024-01-25 12:29:00', id_estacion=None, obsTimeLocal='2024-01-25 12:34:00', id_estacion=None, obsTimeLocal='2024-01-25 12:39:01', id_estacion=None, obsTimeLocal='2024-01-25 12:44:00', id_estacion=None, obsTimeLocal='2024-01-25 12:49:01', id_estacion=None, obsTimeLocal='2024-01-25 12:54:00', id_estacion=None, obsTimeLocal='2024-01-25 12:59:01', id_estacion=None, obsTimeLocal='2024-01-25 13:04:00', id_estacion=None, obsTimeLocal='2024-01-25 13:09:00', id_estacion=None, obsTimeLocal='2024-01-25 13:14:00', id_estacion=None, obsTimeLocal='2024-01-25 13:19:00', id_estacion=None, obsTimeLocal='2024-01-25 13:24:00', id_estacion=None, obsTimeLocal='2024-01-25 13:29:01', id_estacion=None, obsTimeLocal='2024-01-25 13:34:00', id_estacion=None, obsTimeLocal='2024-01-25 13:39:00', id_estacion=None, obsTimeLocal='2024-01-25 13:44:00', id_estacion=None, obsTimeLocal='2024-01-25 13:49:00', id_estacion=None, obsTimeLocal='2024-01-25 13:54:00', id_estacion=None, obsTimeLocal='2024-01-25 13:59:01', id_estacion=None, obsTimeLocal='2024-01-25 14:04:00', id_estacion=None, obsTimeLocal='2024-01-25 14:09:00', id_estacion=None, obsTimeLocal='2024-01-25 14:14:00', id_estacion=None, obsTimeLocal='2024-01-25 14:19:00', id_estacion=None, obsTimeLocal='2024-01-25 14:24:00', id_estacion=None, obsTimeLocal='2024-01-25 14:29:01', id_estacion=None, obsTimeLocal='2024-01-25 14:34:01', id_estacion=None, obsTimeLocal='2024-01-25 14:39:00', id_estacion=None, obsTimeLocal='2024-01-25 14:44:00', id_estacion=None, obsTimeLocal='2024-01-25 14:49:00', id_estacion=None, obsTimeLocal='2024-01-25 14:54:00', id_estacion=None, obsTimeLocal='2024-01-25 14:59:01', id_estacion=None, obsTimeLocal='2024-01-25 15:04:00', id_estacion=None, obsTimeLocal='2024-01-25 15:09:00', id_estacion=None, obsTimeLocal='2024-01-25 15:14:00', id_estacion=None, obsTimeLocal='2024-01-25 15:19:00', id_estacion=None, obsTimeLocal='2024-01-25 15:24:00', id_estacion=None, obsTimeLocal='2024-01-25 15:29:01', id_estacion=None, obsTimeLocal='2024-01-25 15:34:01', id_estacion=None, obsTimeLocal='2024-01-25 15:39:00', id_estacion=None, obsTimeLocal='2024-01-25 15:44:00', id_estacion=None, obsTimeLocal='2024-01-25 15:49:00', id_estacion=None, obsTimeLocal='2024-01-25 15:54:00', id_estacion=None, obsTimeLocal='2024-01-25 15:59:00', id_estacion=None, obsTimeLocal='2024-01-25 16:04:00', id_estacion=None, obsTimeLocal='2024-01-25 16:09:00', id_estacion=None, obsTimeLocal='2024-01-25 16:14:00', id_estacion=None, obsTimeLocal='2024-01-25 16:19:00', id_estacion=None, obsTimeLocal='2024-01-25 16:24:00', id_estacion=None, obsTimeLocal='2024-01-25 16:29:00', id_estacion=None, obsTimeLocal='2024-01-25 16:34:00', id_estacion=None, obsTimeLocal='2024-01-25 16:39:01', id_estacion=None, obsTimeLocal='2024-01-25 16:44:00', id_estacion=None, obsTimeLocal='2024-01-25 16:49:00', id_estacion=None, obsTimeLocal='2024-01-25 16:54:00', id_estacion=None, obsTimeLocal='2024-01-25 16:59:00', id_estacion=None, obsTimeLocal='2024-01-25 17:04:00', id_estacion=None, obsTimeLocal='2024-01-25 17:09:01', id_estacion=None, obsTimeLocal='2024-01-25 17:14:00', id_estacion=None, obsTimeLocal='2024-01-25 17:19:00', id_estacion=None, obsTimeLocal='2024-01-25 17:24:00', id_estacion=None, obsTimeLocal='2024-01-25 17:29:00', id_estacion=None, obsTimeLocal='2024-01-25 17:34:00', id_estacion=None, obsTimeLocal='2024-01-25 17:39:01', id_estacion=None, obsTimeLocal='2024-01-25 17:44:01', id_estacion=None, obsTimeLocal='2024-01-25 17:49:00', id_estacion=None, obsTimeLocal='2024-01-25 17:54:00', id_estacion=None, obsTimeLocal='2024-01-25 17:59:00', id_estacion=None, obsTimeLocal='2024-01-25 18:04:00', id_estacion=None, obsTimeLocal='2024-01-25 18:09:01', id_estacion=None, obsTimeLocal='2024-01-25 18:14:01', id_estacion=None, obsTimeLocal='2024-01-25 18:19:00', id_estacion=None, obsTimeLocal='2024-01-25 18:24:00', id_estacion=None, obsTimeLocal='2024-01-25 18:29:00', id_estacion=None, obsTimeLocal='2024-01-25 18:34:00', id_estacion=None, obsTimeLocal='2024-01-25 18:39:00', id_estacion=None, obsTimeLocal='2024-01-25 18:44:01', id_estacion=None, obsTimeLocal='2024-01-25 18:49:00', id_estacion=None, obsTimeLocal='2024-01-25 18:54:00', id_estacion=None, obsTimeLocal='2024-01-25 18:59:00', id_estacion=None, obsTimeLocal='2024-01-25 19:04:00', id_estacion=None, obsTimeLocal='2024-01-25 19:09:00', id_estacion=None, obsTimeLocal='2024-01-25 19:14:00', id_estacion=None, obsTimeLocal='2024-01-25 19:19:01', id_estacion=None, obsTimeLocal='2024-01-25 19:24:00', id_estacion=None, obsTimeLocal='2024-01-25 19:29:00', id_estacion=None, obsTimeLocal='2024-01-25 19:34:00', id_estacion=None, obsTimeLocal='2024-01-25 19:39:00', id_estacion=None, obsTimeLocal='2024-01-25 19:44:00', id_estacion=None, obsTimeLocal='2024-01-25 19:49:01', id_estacion=None, obsTimeLocal='2024-01-25 19:54:01', id_estacion=None, obsTimeLocal='2024-01-25 19:59:00', id_estacion=None, obsTimeLocal='2024-01-25 20:04:00', id_estacion=None, obsTimeLocal='2024-01-25 20:09:00', id_estacion=None, obsTimeLocal='2024-01-25 20:14:00', id_estacion=None, obsTimeLocal='2024-01-25 20:19:00', id_estacion=None, obsTimeLocal='2024-01-25 20:24:00', id_estacion=None, obsTimeLocal='2024-01-25 20:29:01', id_estacion=None, obsTimeLocal='2024-01-25 20:34:01', id_estacion=None, obsTimeLocal='2024-01-25 20:39:00', id_estacion=None, obsTimeLocal='2024-01-25 20:44:00', id_estacion=None, obsTimeLocal='2024-01-25 20:49:00', id_estacion=None, obsTimeLocal='2024-01-25 20:54:00', id_estacion=None, obsTimeLocal='2024-01-25 20:59:01', id_estacion=None, obsTimeLocal='2024-01-25 21:04:01', id_estacion=None, obsTimeLocal='2024-01-25 21:09:01', id_estacion=None, obsTimeLocal='2024-01-25 21:14:01', id_estacion=None, obsTimeLocal='2024-01-25 21:19:00', id_estacion=None, obsTimeLocal='2024-01-25 21:24:01', id_estacion=None, obsTimeLocal='2024-01-25 21:29:00', id_estacion=None, obsTimeLocal='2024-01-25 21:34:00', id_estacion=None, obsTimeLocal='2024-01-25 21:39:00', id_estacion=None, obsTimeLocal='2024-01-25 21:44:00', id_estacion=None, obsTimeLocal='2024-01-25 21:49:00', id_estacion=None, obsTimeLocal='2024-01-25 21:54:00', id_estacion=None, obsTimeLocal='2024-01-25 21:59:01', id_estacion=None, obsTimeLocal='2024-01-25 22:04:01', id_estacion=None, obsTimeLocal='2024-01-25 22:09:00', id_estacion=None, obsTimeLocal='2024-01-25 22:14:00', id_estacion=None, obsTimeLocal='2024-01-25 22:19:00', id_estacion=None, obsTimeLocal='2024-01-25 22:24:00', id_estacion=None, obsTimeLocal='2024-01-25 22:29:01', id_estacion=None, obsTimeLocal='2024-01-25 22:34:01', id_estacion=None, obsTimeLocal='2024-01-25 22:39:00', id_estacion=None, obsTimeLocal='2024-01-25 22:44:00', id_estacion=None, obsTimeLocal='2024-01-25 22:49:00', id_estacion=None, obsTimeLocal='2024-01-25 22:54:00', id_estacion=None, obsTimeLocal='2024-01-25 22:59:00', id_estacion=None, obsTimeLocal='2024-01-25 23:04:00', id_estacion=None, obsTimeLocal='2024-01-25 23:09:01', id_estacion=None, obsTimeLocal='2024-01-25 23:14:01', id_estacion=None, obsTimeLocal='2024-01-25 23:19:00', id_estacion=None, obsTimeLocal='2024-01-25 23:24:00', id_estacion=None, obsTimeLocal='2024-01-25 23:29:00', id_estacion=None, obsTimeLocal='2024-01-25 23:34:00', id_estacion=None, obsTimeLocal='2024-01-25 23:39:00', id_estacion=None, obsTimeLocal='2024-01-25 23:44:00', id_estacion=None, obsTimeLocal='2024-01-25 23:49:00', id_estacion=None, obsTimeLocal='2024-01-25 23:54:00', id_estacion=None, obsTimeLocal='2024-01-25 23:59:00', id_estacion=None, obsTimeLocal='2024-01-26 00:04:00', id_estacion=None, obsTimeLocal='2024-01-26 00:09:00', id_estacion=None, obsTimeLocal='2024-01-26 00:14:00', id_estacion=None, obsTimeLocal='2024-01-26 00:19:00', id_estacion=None, obsTimeLocal='2024-01-26 00:24:00', id_estacion=None, obsTimeLocal='2024-01-26 00:29:00', id_estacion=None, obsTimeLocal='2024-01-26 00:34:00', id_estacion=None, obsTimeLocal='2024-01-26 00:39:00', id_estacion=None, obsTimeLocal='2024-01-26 00:44:00', id_estacion=None, obsTimeLocal='2024-01-26 00:49:01', id_estacion=None, obsTimeLocal='2024-01-26 00:54:01', id_estacion=None, obsTimeLocal='2024-01-26 00:59:00', id_estacion=None, obsTimeLocal='2024-01-26 01:04:00', id_estacion=None, obsTimeLocal='2024-01-26 01:09:01', id_estacion=None, obsTimeLocal='2024-01-26 01:14:00', id_estacion=None, obsTimeLocal='2024-01-26 01:19:00', id_estacion=None, obsTimeLocal='2024-01-26 01:24:00', id_estacion=None, obsTimeLocal='2024-01-26 01:29:00', id_estacion=None, obsTimeLocal='2024-01-26 01:34:01', id_estacion=None, obsTimeLocal='2024-01-26 01:39:00', id_estacion=None, obsTimeLocal='2024-01-26 01:44:00', id_estacion=None, obsTimeLocal='2024-01-26 01:49:01', id_estacion=None, obsTimeLocal='2024-01-26 01:54:00', id_estacion=None, obsTimeLocal='2024-01-26 01:59:00', id_estacion=None, obsTimeLocal='2024-01-26 02:04:00', id_estacion=None, obsTimeLocal='2024-01-26 02:09:00', id_estacion=None, obsTimeLocal='2024-01-26 02:14:00', id_estacion=None, obsTimeLocal='2024-01-26 02:19:00', id_estacion=None, obsTimeLocal='2024-01-26 02:24:00', id_estacion=None, obsTimeLocal='2024-01-26 02:29:00', id_estacion=None, obsTimeLocal='2024-01-26 02:34:00', id_estacion=None, obsTimeLocal='2024-01-26 02:39:01', id_estacion=None, obsTimeLocal='2024-01-26 02:44:01', id_estacion=None, obsTimeLocal='2024-01-26 02:49:00', id_estacion=None, obsTimeLocal='2024-01-26 02:54:00', id_estacion=None, obsTimeLocal='2024-01-26 02:59:00', id_estacion=None, obsTimeLocal='2024-01-26 03:04:00', id_estacion=None, obsTimeLocal='2024-01-26 03:09:00', id_estacion=None, obsTimeLocal='2024-01-26 03:14:00', id_estacion=None, obsTimeLocal='2024-01-26 03:19:00', id_estacion=None, obsTimeLocal='2024-01-26 03:24:00', id_estacion=None, obsTimeLocal='2024-01-26 03:29:00', id_estacion=None, obsTimeLocal='2024-01-26 03:34:00', id_estacion=None, obsTimeLocal='2024-01-26 03:39:00', id_estacion=None, obsTimeLocal='2024-01-26 03:44:00', id_estacion=None, obsTimeLocal='2024-01-26 03:49:00', id_estacion=None, obsTimeLocal='2024-01-26 03:54:00', id_estacion=None, obsTimeLocal='2024-01-26 03:59:00', id_estacion=None, obsTimeLocal='2024-01-26 04:04:00', id_estacion=None, obsTimeLocal='2024-01-26 04:09:00', id_estacion=None, obsTimeLocal='2024-01-26 04:14:00', id_estacion=None, obsTimeLocal='2024-01-26 04:19:01', id_estacion=None, obsTimeLocal='2024-01-26 04:24:01', id_estacion=None, obsTimeLocal='2024-01-26 04:29:00', id_estacion=None, obsTimeLocal='2024-01-26 04:34:00', id_estacion=None, obsTimeLocal='2024-01-26 04:39:00', id_estacion=None, obsTimeLocal='2024-01-26 04:44:00', id_estacion=None, obsTimeLocal='2024-01-26 04:49:00', id_estacion=None, obsTimeLocal='2024-01-26 04:54:00', id_estacion=None, obsTimeLocal='2024-01-26 04:59:01', id_estacion=None, obsTimeLocal='2024-01-26 05:04:01', id_estacion=None, obsTimeLocal='2024-01-26 05:09:00', id_estacion=None, obsTimeLocal='2024-01-26 05:14:00', id_estacion=None, obsTimeLocal='2024-01-26 05:19:00', id_estacion=None, obsTimeLocal='2024-01-26 05:24:00', id_estacion=None, obsTimeLocal='2024-01-26 05:29:00', id_estacion=None, obsTimeLocal='2024-01-26 05:34:01', id_estacion=None, obsTimeLocal='2024-01-26 05:39:00', id_estacion=None, obsTimeLocal='2024-01-26 05:44:00', id_estacion=None, obsTimeLocal='2024-01-26 05:49:00', id_estacion=None, obsTimeLocal='2024-01-26 05:54:01', id_estacion=None, obsTimeLocal='2024-01-26 05:59:00', id_estacion=None, obsTimeLocal='2024-01-26 06:04:00', id_estacion=None, obsTimeLocal='2024-01-26 06:09:00', id_estacion=None, obsTimeLocal='2024-01-26 06:14:00', id_estacion=None, obsTimeLocal='2024-01-26 06:19:00', id_estacion=None, obsTimeLocal='2024-01-26 06:24:00', id_estacion=None, obsTimeLocal='2024-01-26 06:29:01', id_estacion=None, obsTimeLocal='2024-01-26 06:34:01', id_estacion=None, obsTimeLocal='2024-01-26 06:39:00', id_estacion=None, obsTimeLocal='2024-01-26 06:44:00', id_estacion=None, obsTimeLocal='2024-01-26 06:49:00', id_estacion=None, obsTimeLocal='2024-01-26 06:54:00', id_estacion=None, obsTimeLocal='2024-01-26 06:59:00', id_estacion=None, obsTimeLocal='2024-01-26 07:04:00', id_estacion=None, obsTimeLocal='2024-01-26 07:09:01', id_estacion=None, obsTimeLocal='2024-01-26 07:14:01', id_estacion=None, obsTimeLocal='2024-01-26 07:19:00', id_estacion=None, obsTimeLocal='2024-01-26 07:24:00', id_estacion=None, obsTimeLocal='2024-01-26 07:29:00', id_estacion=None, obsTimeLocal='2024-01-26 07:34:00', id_estacion=None, obsTimeLocal='2024-01-26 07:39:01', id_estacion=None, obsTimeLocal='2024-01-26 07:44:01', id_estacion=None, obsTimeLocal='2024-01-26 07:49:00', id_estacion=None, obsTimeLocal='2024-01-26 07:54:00', id_estacion=None, obsTimeLocal='2024-01-26 07:59:00', id_estacion=None, obsTimeLocal='2024-01-26 08:04:00', id_estacion=None, obsTimeLocal='2024-01-26 08:09:01', id_estacion=None, obsTimeLocal='2024-01-26 08:14:00', id_estacion=None, obsTimeLocal='2024-01-26 08:19:00', id_estacion=None, obsTimeLocal='2024-01-26 08:24:00', id_estacion=None, obsTimeLocal='2024-01-26 08:29:00', id_estacion=None, obsTimeLocal='2024-01-26 08:34:00', id_estacion=None, obsTimeLocal='2024-01-26 08:39:01', id_estacion=None, obsTimeLocal='2024-01-26 08:44:01', id_estacion=None, obsTimeLocal='2024-01-26 08:49:01', id_estacion=None, obsTimeLocal='2024-01-26 08:54:00', id_estacion=None, obsTimeLocal='2024-01-26 08:59:00', id_estacion=None, obsTimeLocal='2024-01-26 09:04:00', id_estacion=None, obsTimeLocal='2024-01-26 09:09:00', id_estacion=None, obsTimeLocal='2024-01-26 09:14:00', id_estacion=None, obsTimeLocal='2024-01-26 09:19:01', id_estacion=None, obsTimeLocal='2024-01-26 09:24:01', id_estacion=None, obsTimeLocal='2024-01-26 09:29:00', id_estacion=None, obsTimeLocal='2024-01-26 09:34:00', id_estacion=None, obsTimeLocal='2024-01-26 09:39:00', id_estacion=None, obsTimeLocal='2024-01-26 09:44:00', id_estacion=None, obsTimeLocal='2024-01-26 09:49:01', id_estacion=None, obsTimeLocal='2024-01-26 09:54:01', id_estacion=None, obsTimeLocal='2024-01-26 09:59:00', id_estacion=None, obsTimeLocal='2024-01-26 10:04:00', id_estacion=None, obsTimeLocal='2024-01-26 10:09:00', id_estacion=None, obsTimeLocal='2024-01-26 10:14:00', id_estacion=None, obsTimeLocal='2024-01-26 10:19:00', id_estacion=None, obsTimeLocal='2024-01-26 10:24:00', id_estacion=None, obsTimeLocal='2024-01-26 10:29:01', id_estacion=None, obsTimeLocal='2024-01-26 10:34:00', id_estacion=None, obsTimeLocal='2024-01-26 10:39:01', id_estacion=None, obsTimeLocal='2024-01-26 10:44:00', id_estacion=None, obsTimeLocal='2024-01-26 10:49:00', id_estacion=None, obsTimeLocal='2024-01-26 10:54:00', id_estacion=None, obsTimeLocal='2024-01-26 10:59:00', id_estacion=None, obsTimeLocal='2024-01-26 11:04:01', id_estacion=None, obsTimeLocal='2024-01-26 11:09:01', id_estacion=None, obsTimeLocal='2024-01-26 11:14:00', id_estacion=None, obsTimeLocal='2024-01-26 11:19:01', id_estacion=None, obsTimeLocal='2024-01-26 11:24:00', id_estacion=None, obsTimeLocal='2024-01-26 11:29:00', id_estacion=None, obsTimeLocal='2024-01-26 11:34:00', id_estacion=None, obsTimeLocal='2024-01-26 11:39:01', id_estacion=None, obsTimeLocal='2024-01-26 11:44:00', id_estacion=None, obsTimeLocal='2024-01-26 11:49:01', id_estacion=None, obsTimeLocal='2024-01-26 11:54:01', id_estacion=None, obsTimeLocal='2024-01-26 11:59:00', id_estacion=None, obsTimeLocal='2024-01-26 12:04:01', id_estacion=None, obsTimeLocal='2024-01-26 12:09:01', id_estacion=None, obsTimeLocal='2024-01-26 12:14:00', id_estacion=None, obsTimeLocal='2024-01-26 12:19:00', id_estacion=None, obsTimeLocal='2024-01-26 12:24:01', id_estacion=None, obsTimeLocal='2024-01-26 12:29:01', id_estacion=None, obsTimeLocal='2024-01-26 12:34:01', id_estacion=None, obsTimeLocal='2024-01-26 12:39:01', id_estacion=None, obsTimeLocal='2024-01-26 12:44:01', id_estacion=None, obsTimeLocal='2024-01-26 12:49:00', id_estacion=None, obsTimeLocal='2024-01-26 12:54:00', id_estacion=None, obsTimeLocal='2024-01-26 12:59:00', id_estacion=None, obsTimeLocal='2024-01-26 13:04:00', id_estacion=None, obsTimeLocal='2024-01-26 13:09:01', id_estacion=None, obsTimeLocal='2024-01-26 13:14:01', id_estacion=None, obsTimeLocal='2024-01-26 13:19:00', id_estacion=None, obsTimeLocal='2024-01-26 13:24:00', id_estacion=None, obsTimeLocal='2024-01-26 13:29:00', id_estacion=None, obsTimeLocal='2024-01-26 13:34:00', id_estacion=None, obsTimeLocal='2024-01-26 13:39:01', id_estacion=None, obsTimeLocal='2024-01-26 13:44:00', id_estacion=None, obsTimeLocal='2024-01-26 13:49:00', id_estacion=None, obsTimeLocal='2024-01-26 13:54:00', id_estacion=None, obsTimeLocal='2024-01-26 13:59:00', id_estacion=None, obsTimeLocal='2024-01-26 14:04:00', id_estacion=None, obsTimeLocal='2024-01-26 14:09:01', id_estacion=None, obsTimeLocal='2024-01-26 14:14:00', id_estacion=None, obsTimeLocal='2024-01-26 14:19:00', id_estacion=None, obsTimeLocal='2024-01-26 14:24:00', id_estacion=None, obsTimeLocal='2024-01-26 14:29:01', id_estacion=None, obsTimeLocal='2024-01-26 14:34:01', id_estacion=None, obsTimeLocal='2024-01-26 14:39:00', id_estacion=None, obsTimeLocal='2024-01-26 14:44:00', id_estacion=None, obsTimeLocal='2024-01-26 14:49:00', id_estacion=None, obsTimeLocal='2024-01-26 14:54:00', id_estacion=None, obsTimeLocal='2024-01-26 14:59:01', id_estacion=None, obsTimeLocal='2024-01-26 15:04:01', id_estacion=None, obsTimeLocal='2024-01-26 15:09:00', id_estacion=None, obsTimeLocal='2024-01-26 15:14:00', id_estacion=None, obsTimeLocal='2024-01-26 15:19:00', id_estacion=None, obsTimeLocal='2024-01-26 15:24:00', id_estacion=None, obsTimeLocal='2024-01-26 15:29:01', id_estacion=None, obsTimeLocal='2024-01-26 15:34:01', id_estacion=None, obsTimeLocal='2024-01-26 15:39:00', id_estacion=None, obsTimeLocal='2024-01-26 15:44:00', id_estacion=None, obsTimeLocal='2024-01-26 15:49:00', id_estacion=None, obsTimeLocal='2024-01-26 15:54:00', id_estacion=None, obsTimeLocal='2024-01-26 15:59:00', id_estacion=None, obsTimeLocal='2024-01-26 16:04:01', id_estacion=None, obsTimeLocal='2024-01-26 16:09:00', id_estacion=None, obsTimeLocal='2024-01-26 16:14:00', id_estacion=None, obsTimeLocal='2024-01-26 16:19:00', id_estacion=None, obsTimeLocal='2024-01-26 16:24:00', id_estacion=None, obsTimeLocal='2024-01-26 16:29:01', id_estacion=None, obsTimeLocal='2024-01-26 16:34:01', id_estacion=None, obsTimeLocal='2024-01-26 16:39:00', id_estacion=None, obsTimeLocal='2024-01-26 16:44:00', id_estacion=None, obsTimeLocal='2024-01-26 16:49:00', id_estacion=None, obsTimeLocal='2024-01-26 16:54:00', id_estacion=None, obsTimeLocal='2024-01-26 16:59:01', id_estacion=None, obsTimeLocal='2024-01-26 17:04:00', id_estacion=None, obsTimeLocal='2024-01-26 17:09:00', id_estacion=None, obsTimeLocal='2024-01-26 17:14:00', id_estacion=None, obsTimeLocal='2024-01-26 17:19:00', id_estacion=None, obsTimeLocal='2024-01-26 17:24:01', id_estacion=None, obsTimeLocal='2024-01-26 17:29:00', id_estacion=None, obsTimeLocal='2024-01-26 17:34:00', id_estacion=None, obsTimeLocal='2024-01-26 17:39:00', id_estacion=None, obsTimeLocal='2024-01-26 17:44:00', id_estacion=None, obsTimeLocal='2024-01-26 17:49:00', id_estacion=None, obsTimeLocal='2024-01-26 17:54:00', id_estacion=None, obsTimeLocal='2024-01-26 17:59:00', id_estacion=None, obsTimeLocal='2024-01-26 18:04:00', id_estacion=None, obsTimeLocal='2024-01-26 18:09:00', id_estacion=None, obsTimeLocal='2024-01-26 18:14:00', id_estacion=None, obsTimeLocal='2024-01-26 18:19:01', id_estacion=None, obsTimeLocal='2024-01-26 18:24:01', id_estacion=None, obsTimeLocal='2024-01-26 18:29:00', id_estacion=None, obsTimeLocal='2024-01-26 18:34:00', id_estacion=None, obsTimeLocal='2024-01-26 18:39:00', id_estacion=None, obsTimeLocal='2024-01-26 18:44:00', id_estacion=None, obsTimeLocal='2024-01-26 18:49:01', id_estacion=None, obsTimeLocal='2024-01-26 18:54:01', id_estacion=None, obsTimeLocal='2024-01-26 18:59:00', id_estacion=None, obsTimeLocal='2024-01-26 19:04:00', id_estacion=None, obsTimeLocal='2024-01-26 19:09:00', id_estacion=None, obsTimeLocal='2024-01-26 19:14:00', id_estacion=None, obsTimeLocal='2024-01-26 19:19:01', id_estacion=None, obsTimeLocal='2024-01-26 19:24:01', id_estacion=None, obsTimeLocal='2024-01-26 19:29:00', id_estacion=None, obsTimeLocal='2024-01-26 19:34:00', id_estacion=None, obsTimeLocal='2024-01-26 19:39:00', id_estacion=None, obsTimeLocal='2024-01-26 19:44:01', id_estacion=None, obsTimeLocal='2024-01-26 19:49:00', id_estacion=None, obsTimeLocal='2024-01-26 19:54:00', id_estacion=None, obsTimeLocal='2024-01-26 19:59:00', id_estacion=None, obsTimeLocal='2024-01-26 20:04:00', id_estacion=None, obsTimeLocal='2024-01-26 20:09:01', id_estacion=None, obsTimeLocal='2024-01-26 20:14:01', id_estacion=None, obsTimeLocal='2024-01-26 20:19:00', id_estacion=None, obsTimeLocal='2024-01-26 20:24:00', id_estacion=None, obsTimeLocal='2024-01-26 20:29:00', id_estacion=None, obsTimeLocal='2024-01-26 20:34:00', id_estacion=None, obsTimeLocal='2024-01-26 20:39:01', id_estacion=None, obsTimeLocal='2024-01-26 20:44:01', id_estacion=None, obsTimeLocal='2024-01-26 20:49:00', id_estacion=None, obsTimeLocal='2024-01-26 20:54:00', id_estacion=None, obsTimeLocal='2024-01-26 20:59:00', id_estacion=None, obsTimeLocal='2024-01-26 21:04:00', id_estacion=None, obsTimeLocal='2024-01-26 21:09:01', id_estacion=None, obsTimeLocal='2024-01-26 21:14:00', id_estacion=None, obsTimeLocal='2024-01-26 21:19:00', id_estacion=None, obsTimeLocal='2024-01-26 21:24:00', id_estacion=None, obsTimeLocal='2024-01-26 21:29:00', id_estacion=None, obsTimeLocal='2024-01-26 21:34:00', id_estacion=None, obsTimeLocal='2024-01-26 21:39:01', id_estacion=None, obsTimeLocal='2024-01-26 21:44:01', id_estacion=None, obsTimeLocal='2024-01-26 21:49:00', id_estacion=None, obsTimeLocal='2024-01-26 21:54:00', id_estacion=None, obsTimeLocal='2024-01-26 21:59:00', id_estacion=None, obsTimeLocal='2024-01-26 22:04:00', id_estacion=None, obsTimeLocal='2024-01-26 22:09:01', id_estacion=None, obsTimeLocal='2024-01-26 22:14:00', id_estacion=None, obsTimeLocal='2024-01-26 22:19:00', id_estacion=None, obsTimeLocal='2024-01-26 22:24:00', id_estacion=None, obsTimeLocal='2024-01-26 22:29:01', id_estacion=None, obsTimeLocal='2024-01-26 22:34:01', id_estacion=None, obsTimeLocal='2024-01-26 22:39:00', id_estacion=None, obsTimeLocal='2024-01-26 22:44:00', id_estacion=None, obsTimeLocal='2024-01-26 22:49:00', id_estacion=None, obsTimeLocal='2024-01-26 22:54:00', id_estacion=None, obsTimeLocal='2024-01-26 22:59:01', id_estacion=None, obsTimeLocal='2024-01-26 23:04:01', id_estacion=None, obsTimeLocal='2024-01-26 23:09:00', id_estacion=None, obsTimeLocal='2024-01-26 23:14:00', id_estacion=None, obsTimeLocal='2024-01-26 23:19:01', id_estacion=None, obsTimeLocal='2024-01-26 23:24:01', id_estacion=None, obsTimeLocal='2024-01-26 23:29:00', id_estacion=None, obsTimeLocal='2024-01-26 23:34:00', id_estacion=None, obsTimeLocal='2024-01-26 23:39:00', id_estacion=None, obsTimeLocal='2024-01-26 23:44:00', id_estacion=None, obsTimeLocal='2024-01-26 23:49:01', id_estacion=None, obsTimeLocal='2024-01-26 23:54:00', id_estacion=None, obsTimeLocal='2024-01-26 23:59:00', id_estacion=None, obsTimeLocal='2024-01-27', id_estacion=None, obsTimeLocal='2024-01-28 00:00:33', id_estacion=None, obsTimeLocal='2024-01-28 00:05:33', id_estacion=None, obsTimeLocal='2024-01-28 00:10:33', id_estacion=None, obsTimeLocal='2024-01-28 00:15:33', id_estacion=None, obsTimeLocal='2024-01-28 00:20:33', id_estacion=None, obsTimeLocal='2024-01-28 00:25:33', id_estacion=None, obsTimeLocal='2024-01-28 00:30:33', id_estacion=None, obsTimeLocal='2024-01-28 00:35:33', id_estacion=None, obsTimeLocal='2024-01-28 00:40:33', id_estacion=None, obsTimeLocal='2024-01-28 00:45:33', id_estacion=None, obsTimeLocal='2024-01-28 00:50:33', id_estacion=None, obsTimeLocal='2024-01-28 00:55:33', id_estacion=None, obsTimeLocal='2024-01-28 01:00:33', id_estacion=None, obsTimeLocal='2024-01-28 01:05:33', id_estacion=None, obsTimeLocal='2024-01-28 01:10:33', id_estacion=None, obsTimeLocal='2024-01-28 01:15:33', id_estacion=None, obsTimeLocal='2024-01-28 01:20:33', id_estacion=None, obsTimeLocal='2024-01-28 01:25:33', id_estacion=None, obsTimeLocal='2024-01-28 01:30:33', id_estacion=None, obsTimeLocal='2024-01-28 01:35:33', id_estacion=None, obsTimeLocal='2024-01-28 01:40:33', id_estacion=None, obsTimeLocal='2024-01-28 01:45:33', id_estacion=None, obsTimeLocal='2024-01-28 01:50:33', id_estacion=None, obsTimeLocal='2024-01-28 01:55:33', id_estacion=None, obsTimeLocal='2024-01-28 02:00:33', id_estacion=None, obsTimeLocal='2024-01-28 02:05:33', id_estacion=None, obsTimeLocal='2024-01-28 02:10:33', id_estacion=None, obsTimeLocal='2024-01-28 02:15:33', id_estacion=None, obsTimeLocal='2024-01-28 02:20:33', id_estacion=None, obsTimeLocal='2024-01-28 02:25:33', id_estacion=None, obsTimeLocal='2024-01-28 02:30:33', id_estacion=None, obsTimeLocal='2024-01-28 02:35:33', id_estacion=None, obsTimeLocal='2024-01-28 02:40:33', id_estacion=None, obsTimeLocal='2024-01-28 02:45:33', id_estacion=None, obsTimeLocal='2024-01-28 02:50:33', id_estacion=None, obsTimeLocal='2024-01-28 02:55:33', id_estacion=None, obsTimeLocal='2024-01-28 03:00:33', id_estacion=None, obsTimeLocal='2024-01-28 03:05:33', id_estacion=None, obsTimeLocal='2024-01-28 03:10:33', id_estacion=None, obsTimeLocal='2024-01-28 03:15:33', id_estacion=None, obsTimeLocal='2024-01-28 03:20:33', id_estacion=None, obsTimeLocal='2024-01-28 03:25:33', id_estacion=None, obsTimeLocal='2024-01-28 03:30:33', id_estacion=None, obsTimeLocal='2024-01-28 03:35:33', id_estacion=None, obsTimeLocal='2024-01-28 03:40:33', id_estacion=None, obsTimeLocal='2024-01-28 03:45:33', id_estacion=None, obsTimeLocal='2024-01-28 03:50:33', id_estacion=None, obsTimeLocal='2024-01-28 03:55:33', id_estacion=None, obsTimeLocal='2024-01-28 04:00:33', id_estacion=None, obsTimeLocal='2024-01-28 04:05:33', id_estacion=None, obsTimeLocal='2024-01-28 04:10:33', id_estacion=None, obsTimeLocal='2024-01-28 04:15:33', id_estacion=None, obsTimeLocal='2024-01-28 04:20:33', id_estacion=None, obsTimeLocal='2024-01-28 04:25:33', id_estacion=None, obsTimeLocal='2024-01-28 04:30:33', id_estacion=None, obsTimeLocal='2024-01-28 04:35:33', id_estacion=None, obsTimeLocal='2024-01-28 04:40:33', id_estacion=None, obsTimeLocal='2024-01-28 04:45:33', id_estacion=None, obsTimeLocal='2024-01-28 04:50:33', id_estacion=None, obsTimeLocal='2024-01-28 04:55:33', id_estacion=None, obsTimeLocal='2024-01-28 05:00:33', id_estacion=None, obsTimeLocal='2024-01-28 05:05:33', id_estacion=None, obsTimeLocal='2024-01-28 05:10:33', id_estacion=None, obsTimeLocal='2024-01-28 05:15:33', id_estacion=None, obsTimeLocal='2024-01-28 05:20:33', id_estacion=None, obsTimeLocal='2024-01-28 05:25:33', id_estacion=None, obsTimeLocal='2024-01-28 05:30:33', id_estacion=None, obsTimeLocal='2024-01-28 05:35:33', id_estacion=None, obsTimeLocal='2024-01-28 05:40:33', id_estacion=None, obsTimeLocal='2024-01-28 05:45:33', id_estacion=None, obsTimeLocal='2024-01-28 05:50:33', id_estacion=None, obsTimeLocal='2024-01-28 05:55:33', id_estacion=None, obsTimeLocal='2024-01-28 06:00:33', id_estacion=None, obsTimeLocal='2024-01-28 06:05:33', id_estacion=None, obsTimeLocal='2024-01-28 06:10:33', id_estacion=None, obsTimeLocal='2024-01-28 06:15:33', id_estacion=None, obsTimeLocal='2024-01-28 06:20:33', id_estacion=None, obsTimeLocal='2024-01-28 06:25:33', id_estacion=None, obsTimeLocal='2024-01-28 06:30:33', id_estacion=None, obsTimeLocal='2024-01-28 06:35:33', id_estacion=None, obsTimeLocal='2024-01-28 06:40:33', id_estacion=None, obsTimeLocal='2024-01-28 06:45:33', id_estacion=None, obsTimeLocal='2024-01-28 06:50:33', id_estacion=None, obsTimeLocal='2024-01-28 06:55:33', id_estacion=None, obsTimeLocal='2024-01-28 07:00:33', id_estacion=None, obsTimeLocal='2024-01-28 07:05:33', id_estacion=None, obsTimeLocal='2024-01-28 07:10:33', id_estacion=None, obsTimeLocal='2024-01-28 07:15:33', id_estacion=None, obsTimeLocal='2024-01-28 07:20:33', id_estacion=None, obsTimeLocal='2024-01-28 07:25:33', id_estacion=None, obsTimeLocal='2024-01-28 07:30:33', id_estacion=None, obsTimeLocal='2024-01-28 07:35:33', id_estacion=None, obsTimeLocal='2024-01-28 07:40:33', id_estacion=None, obsTimeLocal='2024-01-28 07:45:33', id_estacion=None, obsTimeLocal='2024-01-28 07:50:33', id_estacion=None, obsTimeLocal='2024-01-28 07:55:33', id_estacion=None, obsTimeLocal='2024-01-28 08:00:33', id_estacion=None, obsTimeLocal='2024-01-28 08:05:33', id_estacion=None, obsTimeLocal='2024-01-28 08:10:33', id_estacion=None, obsTimeLocal='2024-01-28 08:15:33', id_estacion=None, obsTimeLocal='2024-01-28 08:20:33', id_estacion=None, obsTimeLocal='2024-01-28 08:25:33', id_estacion=None, obsTimeLocal='2024-01-28 08:30:33', id_estacion=None, obsTimeLocal='2024-01-28 08:35:33', id_estacion=None, obsTimeLocal='2024-01-28 08:40:33', id_estacion=None, obsTimeLocal='2024-01-28 08:45:33', id_estacion=None, obsTimeLocal='2024-01-28 08:50:33', id_estacion=None, obsTimeLocal='2024-01-28 08:55:33', id_estacion=None, obsTimeLocal='2024-01-28 09:00:33', id_estacion=None, obsTimeLocal='2024-01-28 09:05:33', id_estacion=None, obsTimeLocal='2024-01-28 09:10:33', id_estacion=None, obsTimeLocal='2024-01-28 09:15:33', id_estacion=None, obsTimeLocal='2024-01-28 09:20:33', id_estacion=None, obsTimeLocal='2024-01-28 09:30:33', id_estacion=None, obsTimeLocal='2024-01-28 09:35:33', id_estacion=None, obsTimeLocal='2024-01-28 09:40:33', id_estacion=None, obsTimeLocal='2024-01-28 09:45:33', id_estacion=None, obsTimeLocal='2024-01-28 09:50:33', id_estacion=None, obsTimeLocal='2024-01-28 09:55:33', id_estacion=None, obsTimeLocal='2024-01-28 10:00:33', id_estacion=None, obsTimeLocal='2024-01-28 10:05:33', id_estacion=None, obsTimeLocal='2024-01-28 10:10:33', id_estacion=None, obsTimeLocal='2024-01-28 10:15:33', id_estacion=None, obsTimeLocal='2024-01-28 10:20:33', id_estacion=None, obsTimeLocal='2024-01-28 10:25:33', id_estacion=None, obsTimeLocal='2024-01-28 10:30:33', id_estacion=None, obsTimeLocal='2024-01-28 10:35:33', id_estacion=None, obsTimeLocal='2024-01-28 10:40:33', id_estacion=None, obsTimeLocal='2024-01-28 10:45:33', id_estacion=None, obsTimeLocal='2024-01-28 10:50:33', id_estacion=None, obsTimeLocal='2024-01-28 10:55:33', id_estacion=None, obsTimeLocal='2024-01-28 11:00:33', id_estacion=None, obsTimeLocal='2024-01-28 11:10:33', id_estacion=None, obsTimeLocal='2024-01-28 11:15:33', id_estacion=None, obsTimeLocal='2024-01-28 11:20:33', id_estacion=None, obsTimeLocal='2024-01-28 11:25:33', id_estacion=None, obsTimeLocal='2024-01-28 11:30:33', id_estacion=None, obsTimeLocal='2024-01-28 11:35:33', id_estacion=None, obsTimeLocal='2024-01-28 11:40:33', id_estacion=None, obsTimeLocal='2024-01-28 11:45:33', id_estacion=None, obsTimeLocal='2024-01-28 11:50:33', id_estacion=None, obsTimeLocal='2024-01-28 11:55:33', id_estacion=None, obsTimeLocal='2024-01-28 12:00:33', id_estacion=None, obsTimeLocal='2024-01-28 12:05:33', id_estacion=None, obsTimeLocal='2024-01-28 12:10:33', id_estacion=None, obsTimeLocal='2024-01-28 12:15:33', id_estacion=None, obsTimeLocal='2024-01-28 12:25:33', id_estacion=None, obsTimeLocal='2024-01-28 12:30:33', id_estacion=None, obsTimeLocal='2024-01-28 12:40:33', id_estacion=None, obsTimeLocal='2024-01-28 12:45:33', id_estacion=None, obsTimeLocal='2024-01-28 12:50:33', id_estacion=None, obsTimeLocal='2024-01-28 12:55:33', id_estacion=None, obsTimeLocal='2024-01-28 13:00:33', id_estacion=None, obsTimeLocal='2024-01-28 13:05:33', id_estacion=None, obsTimeLocal='2024-01-28 13:10:33', id_estacion=None, obsTimeLocal='2024-01-28 13:15:33', id_estacion=None, obsTimeLocal='2024-01-28 13:20:33', id_estacion=None, obsTimeLocal='2024-01-28 13:25:33', id_estacion=None, obsTimeLocal='2024-01-28 13:30:33', id_estacion=None, obsTimeLocal='2024-01-28 13:35:33', id_estacion=None, obsTimeLocal='2024-01-28 13:40:33', id_estacion=None, obsTimeLocal='2024-01-28 13:45:33', id_estacion=None, obsTimeLocal='2024-01-28 13:50:33', id_estacion=None, obsTimeLocal='2024-01-28 13:55:33', id_estacion=None, obsTimeLocal='2024-01-28 14:00:33', id_estacion=None, obsTimeLocal='2024-01-28 14:05:33', id_estacion=None, obsTimeLocal='2024-01-28 14:10:33', id_estacion=None, obsTimeLocal='2024-01-28 14:20:33', id_estacion=None, obsTimeLocal='2024-01-28 14:30:33', id_estacion=None, obsTimeLocal='2024-01-28 14:35:33', id_estacion=None, obsTimeLocal='2024-01-28 14:40:33', id_estacion=None, obsTimeLocal='2024-01-28 14:45:33', id_estacion=None, obsTimeLocal='2024-01-28 14:50:33', id_estacion=None, obsTimeLocal='2024-01-28 15:00:33', id_estacion=None, obsTimeLocal='2024-01-28 15:05:33', id_estacion=None, obsTimeLocal='2024-01-28 15:10:33', id_estacion=None, obsTimeLocal='2024-01-28 15:15:33', id_estacion=None, obsTimeLocal='2024-01-28 15:20:33', id_estacion=None, obsTimeLocal='2024-01-28 15:25:33', id_estacion=None, obsTimeLocal='2024-01-28 15:30:33', id_estacion=None, obsTimeLocal='2024-01-28 15:35:33', id_estacion=None, obsTimeLocal='2024-01-28 15:40:33', id_estacion=None, obsTimeLocal='2024-01-28 15:45:33', id_estacion=None, obsTimeLocal='2024-01-28 15:50:33', id_estacion=None, obsTimeLocal='2024-01-28 15:55:33', id_estacion=None, obsTimeLocal='2024-01-28 16:00:33', id_estacion=None, obsTimeLocal='2024-01-28 16:05:33', id_estacion=None, obsTimeLocal='2024-01-28 16:10:33', id_estacion=None, obsTimeLocal='2024-01-28 16:15:33', id_estacion=None, obsTimeLocal='2024-01-28 16:20:33', id_estacion=None, obsTimeLocal='2024-01-28 16:25:33', id_estacion=None, obsTimeLocal='2024-01-28 16:30:33', id_estacion=None, obsTimeLocal='2024-01-28 16:35:33', id_estacion=None, obsTimeLocal='2024-01-28 16:45:33', id_estacion=None, obsTimeLocal='2024-01-28 16:50:33', id_estacion=None, obsTimeLocal='2024-01-28 17:00:33', id_estacion=None, obsTimeLocal='2024-01-28 17:05:33', id_estacion=None, obsTimeLocal='2024-01-28 17:15:33', id_estacion=None, obsTimeLocal='2024-01-28 17:20:33', id_estacion=None, obsTimeLocal='2024-01-28 17:30:33', id_estacion=None, obsTimeLocal='2024-01-28 17:35:33', id_estacion=None, obsTimeLocal='2024-01-28 17:40:33', id_estacion=None, obsTimeLocal='2024-01-28 17:45:33', id_estacion=None, obsTimeLocal='2024-01-28 17:55:33', id_estacion=None, obsTimeLocal='2024-01-28 18:00:33', id_estacion=None, obsTimeLocal='2024-01-28 18:05:33', id_estacion=None, obsTimeLocal='2024-01-28 18:10:33', id_estacion=None, obsTimeLocal='2024-01-28 18:15:33', id_estacion=None, obsTimeLocal='2024-01-28 18:20:33', id_estacion=None, obsTimeLocal='2024-01-28 18:25:33', id_estacion=None, obsTimeLocal='2024-01-28 18:30:33', id_estacion=None, obsTimeLocal='2024-01-28 18:35:33', id_estacion=None, obsTimeLocal='2024-01-28 18:40:33', id_estacion=None, obsTimeLocal='2024-01-28 18:45:33', id_estacion=None, obsTimeLocal='2024-01-28 18:50:33', id_estacion=None, obsTimeLocal='2024-01-28 18:55:33', id_estacion=None, obsTimeLocal='2024-01-28 19:00:33', id_estacion=None, obsTimeLocal='2024-01-28 19:05:33', id_estacion=None, obsTimeLocal='2024-01-28 19:10:33', id_estacion=None, obsTimeLocal='2024-01-28 19:15:33', id_estacion=None, obsTimeLocal='2024-01-28 19:20:33', id_estacion=None, obsTimeLocal='2024-01-28 19:25:33', id_estacion=None, obsTimeLocal='2024-01-28 19:35:33', id_estacion=None, obsTimeLocal='2024-01-28 19:40:33', id_estacion=None, obsTimeLocal='2024-01-28 19:45:33', id_estacion=None, obsTimeLocal='2024-01-28 19:50:33', id_estacion=None, obsTimeLocal='2024-01-28 19:55:33', id_estacion=None, obsTimeLocal='2024-01-28 20:00:33', id_estacion=None, obsTimeLocal='2024-01-28 20:05:33', id_estacion=None, obsTimeLocal='2024-01-28 20:10:33', id_estacion=None, obsTimeLocal='2024-01-28 20:15:33', id_estacion=None, obsTimeLocal='2024-01-28 20:25:33', id_estacion=None, obsTimeLocal='2024-01-28 20:30:33', id_estacion=None, obsTimeLocal='2024-01-28 20:35:33', id_estacion=None, obsTimeLocal='2024-01-28 20:45:33', id_estacion=None, obsTimeLocal='2024-01-28 20:50:33', id_estacion=None, obsTimeLocal='2024-01-28 20:55:33', id_estacion=None, obsTimeLocal='2024-01-28 21:00:33', id_estacion=None, obsTimeLocal='2024-01-28 21:05:33', id_estacion=None, obsTimeLocal='2024-01-28 21:10:33', id_estacion=None, obsTimeLocal='2024-01-28 21:15:33', id_estacion=None, obsTimeLocal='2024-01-28 21:20:33', id_estacion=None, obsTimeLocal='2024-01-28 21:25:33', id_estacion=None, obsTimeLocal='2024-01-28 21:30:33', id_estacion=None, obsTimeLocal='2024-01-28 21:35:33', id_estacion=None, obsTimeLocal='2024-01-28 21:40:33', id_estacion=None, obsTimeLocal='2024-01-28 21:45:33', id_estacion=None, obsTimeLocal='2024-01-28 21:50:33', id_estacion=None, obsTimeLocal='2024-01-28 21:55:33', id_estacion=None, obsTimeLocal='2024-01-28 22:00:33', id_estacion=None, obsTimeLocal='2024-01-28 22:05:33', id_estacion=None, obsTimeLocal='2024-01-28 22:10:33', id_estacion=None, obsTimeLocal='2024-01-28 22:15:33', id_estacion=None, obsTimeLocal='2024-01-28 22:20:33', id_estacion=None, obsTimeLocal='2024-01-28 22:25:33', id_estacion=None, obsTimeLocal='2024-01-28 22:30:33', id_estacion=None, obsTimeLocal='2024-01-28 22:35:33', id_estacion=None, obsTimeLocal='2024-01-28 22:40:33', id_estacion=None, obsTimeLocal='2024-01-28 22:45:33', id_estacion=None, obsTimeLocal='2024-01-28 22:50:33', id_estacion=None, obsTimeLocal='2024-01-28 22:55:33', id_estacion=None, obsTimeLocal='2024-01-28 23:00:33', id_estacion=None, obsTimeLocal='2024-01-28 23:05:33', id_estacion=None, obsTimeLocal='2024-01-28 23:10:33', id_estacion=None, obsTimeLocal='2024-01-28 23:15:33', id_estacion=None, obsTimeLocal='2024-01-28 23:20:33', id_estacion=None, obsTimeLocal='2024-01-28 23:25:33', id_estacion=None, obsTimeLocal='2024-01-28 23:30:33', id_estacion=None, obsTimeLocal='2024-01-28 23:35:33', id_estacion=None, obsTimeLocal='2024-01-28 23:40:33', id_estacion=None, obsTimeLocal='2024-01-28 23:45:33', id_estacion=None, obsTimeLocal='2024-01-28 23:50:33', id_estacion=None, obsTimeLocal='2024-01-28 23:55:33', id_estacion=None, obsTimeLocal='2024-01-29 00:00:33', id_estacion=None, obsTimeLocal='2024-01-29 00:05:33', id_estacion=None, obsTimeLocal='2024-01-29 00:10:33', id_estacion=None, obsTimeLocal='2024-01-29 00:15:33', id_estacion=None, obsTimeLocal='2024-01-29 00:20:33', id_estacion=None, obsTimeLocal='2024-01-29 00:25:33', id_estacion=None, obsTimeLocal='2024-01-29 00:30:33', id_estacion=None, obsTimeLocal='2024-01-29 00:35:33', id_estacion=None, obsTimeLocal='2024-01-29 00:40:33', id_estacion=None, obsTimeLocal='2024-01-29 00:45:33', id_estacion=None, obsTimeLocal='2024-01-29 00:50:33', id_estacion=None, obsTimeLocal='2024-01-29 00:55:33', id_estacion=None, obsTimeLocal='2024-01-29 01:05:33', id_estacion=None, obsTimeLocal='2024-01-29 01:10:33', id_estacion=None, obsTimeLocal='2024-01-29 01:15:33', id_estacion=None, obsTimeLocal='2024-01-29 01:20:33', id_estacion=None, obsTimeLocal='2024-01-29 01:25:33', id_estacion=None, obsTimeLocal='2024-01-29 01:30:33', id_estacion=None, obsTimeLocal='2024-01-29 01:35:33', id_estacion=None, obsTimeLocal='2024-01-29 01:40:33', id_estacion=None, obsTimeLocal='2024-01-29 01:50:33', id_estacion=None, obsTimeLocal='2024-01-29 02:40:33', id_estacion=None, obsTimeLocal='2024-01-29 02:45:33', id_estacion=None, obsTimeLocal='2024-01-29 02:50:33', id_estacion=None, obsTimeLocal='2024-01-29 02:55:33', id_estacion=None, obsTimeLocal='2024-01-29 03:00:33', id_estacion=None, obsTimeLocal='2024-01-29 03:05:33', id_estacion=None, obsTimeLocal='2024-01-29 03:10:33', id_estacion=None, obsTimeLocal='2024-01-29 03:15:33', id_estacion=None, obsTimeLocal='2024-01-29 03:20:33', id_estacion=None, obsTimeLocal='2024-01-29 03:25:33', id_estacion=None, obsTimeLocal='2024-01-29 03:30:33', id_estacion=None, obsTimeLocal='2024-01-29 03:40:33', id_estacion=None, obsTimeLocal='2024-01-29 03:45:33', id_estacion=None, obsTimeLocal='2024-01-29 03:50:33', id_estacion=None, obsTimeLocal='2024-01-29 03:55:33', id_estacion=None, obsTimeLocal='2024-01-29 04:00:33', id_estacion=None, obsTimeLocal='2024-01-29 04:05:33', id_estacion=None, obsTimeLocal='2024-01-29 04:10:33', id_estacion=None, obsTimeLocal='2024-01-29 04:15:33', id_estacion=None, obsTimeLocal='2024-01-29 04:20:33', id_estacion=None, obsTimeLocal='2024-01-29 04:25:33', id_estacion=None, obsTimeLocal='2024-01-29 04:30:33', id_estacion=None, obsTimeLocal='2024-01-29 04:35:33', id_estacion=None, obsTimeLocal='2024-01-29 04:40:33', id_estacion=None, obsTimeLocal='2024-01-29 04:45:33', id_estacion=None, obsTimeLocal='2024-01-29 04:50:33', id_estacion=None, obsTimeLocal='2024-01-29 04:55:33', id_estacion=None, obsTimeLocal='2024-01-29 05:00:33', id_estacion=None, obsTimeLocal='2024-01-29 05:10:33', id_estacion=None, obsTimeLocal='2024-01-29 05:15:33', id_estacion=None, obsTimeLocal='2024-01-29 05:20:33', id_estacion=None, obsTimeLocal='2024-01-29 05:25:33', id_estacion=None, obsTimeLocal='2024-01-29 05:30:33', id_estacion=None, obsTimeLocal='2024-01-29 05:35:33', id_estacion=None, obsTimeLocal='2024-01-29 05:40:33', id_estacion=None, obsTimeLocal='2024-01-29 05:45:33', id_estacion=None, obsTimeLocal='2024-01-29 05:50:33', id_estacion=None, obsTimeLocal='2024-01-29 05:55:33', id_estacion=None, obsTimeLocal='2024-01-29 06:00:33', id_estacion=None, obsTimeLocal='2024-01-29 06:05:33', id_estacion=None, obsTimeLocal='2024-01-29 06:10:33', id_estacion=None, obsTimeLocal='2024-01-29 06:20:33', id_estacion=None, obsTimeLocal='2024-01-29 06:30:33', id_estacion=None, obsTimeLocal='2024-01-29 06:35:33', id_estacion=None, obsTimeLocal='2024-01-29 06:45:33', id_estacion=None, obsTimeLocal='2024-01-29 06:50:33', id_estacion=None, obsTimeLocal='2024-01-29 06:55:33', id_estacion=None, obsTimeLocal='2024-01-29 07:07:00', id_estacion=None, obsTimeLocal='2024-01-29 07:14:01', id_estacion=None, obsTimeLocal='2024-01-29 07:19:00', id_estacion=None, obsTimeLocal='2024-01-29 07:24:00', id_estacion=None, obsTimeLocal='2024-01-29 07:29:00', id_estacion=None, obsTimeLocal='2024-01-29 07:34:00', id_estacion=None, obsTimeLocal='2024-01-29 07:39:00', id_estacion=None, obsTimeLocal='2024-01-29 07:44:00', id_estacion=None, obsTimeLocal='2024-01-29 07:49:00', id_estacion=None, obsTimeLocal='2024-01-29 07:54:00', id_estacion=None, obsTimeLocal='2024-01-29 07:59:01', id_estacion=None, obsTimeLocal='2024-01-29 08:04:00', id_estacion=None, obsTimeLocal='2024-01-29 08:09:00', id_estacion=None, obsTimeLocal='2024-01-29 08:14:00', id_estacion=None, obsTimeLocal='2024-01-29 08:19:00', id_estacion=None, obsTimeLocal='2024-01-29 08:24:00', id_estacion=None, obsTimeLocal='2024-01-29 08:29:00', id_estacion=None, obsTimeLocal='2024-01-29 08:34:00', id_estacion=None, obsTimeLocal='2024-01-29 08:39:01', id_estacion=None, obsTimeLocal='2024-01-29 08:44:00', id_estacion=None, obsTimeLocal='2024-01-29 08:49:00', id_estacion=None, obsTimeLocal='2024-01-29 08:54:00', id_estacion=None, obsTimeLocal='2024-01-29 08:59:00', id_estacion=None, obsTimeLocal='2024-01-29 09:04:00', id_estacion=None, obsTimeLocal='2024-01-29 09:09:01', id_estacion=None, obsTimeLocal='2024-01-29 09:14:01', id_estacion=None, obsTimeLocal='2024-01-29 09:19:00', id_estacion=None, obsTimeLocal='2024-01-29 09:24:00', id_estacion=None, obsTimeLocal='2024-01-29 09:29:00', id_estacion=None, obsTimeLocal='2024-01-29 09:34:00', id_estacion=None, obsTimeLocal='2024-01-29 09:39:00', id_estacion=None, obsTimeLocal='2024-01-29 09:44:00', id_estacion=None, obsTimeLocal='2024-01-29 09:49:00', id_estacion=None, obsTimeLocal='2024-01-29 09:54:00', id_estacion=None, obsTimeLocal='2024-01-29 09:59:01', id_estacion=None, obsTimeLocal='2024-01-29 10:04:00', id_estacion=None, obsTimeLocal='2024-01-29 10:09:00', id_estacion=None, obsTimeLocal='2024-01-29 10:14:00', id_estacion=None, obsTimeLocal='2024-01-29 10:19:00', id_estacion=None, obsTimeLocal='2024-01-29 10:24:00', id_estacion=None, obsTimeLocal='2024-01-29 10:29:00', id_estacion=None, obsTimeLocal='2024-01-29 10:34:00', id_estacion=None, obsTimeLocal='2024-01-29 10:39:01', id_estacion=None, obsTimeLocal='2024-01-29 10:44:00', id_estacion=None, obsTimeLocal='2024-01-29 10:49:01', id_estacion=None, obsTimeLocal='2024-01-29 10:54:00', id_estacion=None, obsTimeLocal='2024-01-29 10:59:00', id_estacion=None, obsTimeLocal='2024-01-29 11:04:00', id_estacion=None, obsTimeLocal='2024-01-29 11:09:00', id_estacion=None, obsTimeLocal='2024-01-29 11:14:00', id_estacion=None, obsTimeLocal='2024-01-29 11:19:01', id_estacion=None, obsTimeLocal='2024-01-29 11:24:00', id_estacion=None, obsTimeLocal='2024-01-29 11:29:00', id_estacion=None, obsTimeLocal='2024-01-29 11:34:00', id_estacion=None, obsTimeLocal='2024-01-29 11:39:00', id_estacion=None, obsTimeLocal='2024-01-29 11:44:00', id_estacion=None, obsTimeLocal='2024-01-29 11:49:00', id_estacion=None, obsTimeLocal='2024-01-29 11:54:00', id_estacion=None, obsTimeLocal='2024-01-29 11:59:00', id_estacion=None, obsTimeLocal='2024-01-29 12:04:02', id_estacion=None, obsTimeLocal='2024-01-29 12:09:00', id_estacion=None, obsTimeLocal='2024-01-29 12:14:00', id_estacion=None, obsTimeLocal='2024-01-29 12:19:00', id_estacion=None, obsTimeLocal='2024-01-29 12:24:00', id_estacion=None, obsTimeLocal='2024-01-29 12:29:00', id_estacion=None, obsTimeLocal='2024-01-29 12:34:00', id_estacion=None, obsTimeLocal='2024-01-29 12:39:00', id_estacion=None, obsTimeLocal='2024-01-29 12:44:01', id_estacion=None, obsTimeLocal='2024-01-29 12:49:00', id_estacion=None, obsTimeLocal='2024-01-29 12:54:01', id_estacion=None, obsTimeLocal='2024-01-29 12:59:00', id_estacion=None, obsTimeLocal='2024-01-29 13:04:00', id_estacion=None, obsTimeLocal='2024-01-29 13:09:01', id_estacion=None, obsTimeLocal='2024-01-29 13:14:01', id_estacion=None, obsTimeLocal='2024-01-29 13:19:00', id_estacion=None, obsTimeLocal='2024-01-29 13:24:00', id_estacion=None, obsTimeLocal='2024-01-29 13:29:00', id_estacion=None, obsTimeLocal='2024-01-29 13:34:00', id_estacion=None, obsTimeLocal='2024-01-29 13:39:00', id_estacion=None, obsTimeLocal='2024-01-29 13:44:00', id_estacion=None, obsTimeLocal='2024-01-29 13:49:01', id_estacion=None, obsTimeLocal='2024-01-29 13:54:01', id_estacion=None, obsTimeLocal='2024-01-29 13:59:00', id_estacion=None, obsTimeLocal='2024-01-29 14:04:00', id_estacion=None, obsTimeLocal='2024-01-29 14:09:00', id_estacion=None, obsTimeLocal='2024-01-29 14:14:00', id_estacion=None, obsTimeLocal='2024-01-29 14:19:00', id_estacion=None, obsTimeLocal='2024-01-29 14:24:00', id_estacion=None, obsTimeLocal='2024-01-29 14:29:01', id_estacion=None, obsTimeLocal='2024-01-29 14:34:01', id_estacion=None, obsTimeLocal='2024-01-29 14:39:00', id_estacion=None, obsTimeLocal='2024-01-29 14:44:00', id_estacion=None, obsTimeLocal='2024-01-29 14:49:00', id_estacion=None, obsTimeLocal='2024-01-29 14:54:00', id_estacion=None, obsTimeLocal='2024-01-29 14:59:00', id_estacion=None, obsTimeLocal='2024-01-29 15:04:00', id_estacion=None, obsTimeLocal='2024-01-29 15:09:01', id_estacion=None, obsTimeLocal='2024-01-29 15:14:01', id_estacion=None, obsTimeLocal='2024-01-29 15:19:00', id_estacion=None, obsTimeLocal='2024-01-29 15:24:00', id_estacion=None, obsTimeLocal='2024-01-29 15:29:00', id_estacion=None, obsTimeLocal='2024-01-29 15:34:00', id_estacion=None, obsTimeLocal='2024-01-29 15:39:00', id_estacion=None, obsTimeLocal='2024-01-29 15:44:00', id_estacion=None, obsTimeLocal='2024-01-29 15:49:00', id_estacion=None, obsTimeLocal='2024-01-29 15:54:00', id_estacion=None, obsTimeLocal='2024-01-29 15:59:00', id_estacion=None, obsTimeLocal='2024-01-29 16:04:00', id_estacion=None, obsTimeLocal='2024-01-29 16:09:00', id_estacion=None, obsTimeLocal='2024-01-29 16:14:00', id_estacion=None, obsTimeLocal='2024-01-29 16:19:00', id_estacion=None, obsTimeLocal='2024-01-29 16:24:00', id_estacion=None, obsTimeLocal='2024-01-29 16:29:01', id_estacion=None, obsTimeLocal='2024-01-29 16:34:00', id_estacion=None, obsTimeLocal='2024-01-29 16:39:00', id_estacion=None, obsTimeLocal='2024-01-29 16:44:00', id_estacion=None, obsTimeLocal='2024-01-29 16:49:00', id_estacion=None, obsTimeLocal='2024-01-29 16:54:00', id_estacion=None, obsTimeLocal='2024-01-29 16:59:00', id_estacion=None, obsTimeLocal='2024-01-29 17:04:00', id_estacion=None, obsTimeLocal='2024-01-29 17:09:01', id_estacion=None, obsTimeLocal='2024-01-29 17:14:01', id_estacion=None, obsTimeLocal='2024-01-29 17:19:00', id_estacion=None, obsTimeLocal='2024-01-29 17:24:00', id_estacion=None, obsTimeLocal='2024-01-29 17:29:00', id_estacion=None, obsTimeLocal='2024-01-29 17:34:00', id_estacion=None, obsTimeLocal='2024-01-29 17:39:00', id_estacion=None, obsTimeLocal='2024-01-29 17:44:00', id_estacion=None, obsTimeLocal='2024-01-29 17:49:00', id_estacion=None, obsTimeLocal='2024-01-29 17:54:00', id_estacion=None, obsTimeLocal='2024-01-29 17:59:01', id_estacion=None, obsTimeLocal='2024-01-29 18:04:01', id_estacion=None, obsTimeLocal='2024-01-29 18:09:00', id_estacion=None, obsTimeLocal='2024-01-29 18:14:00', id_estacion=None, obsTimeLocal='2024-01-29 18:19:00', id_estacion=None, obsTimeLocal='2024-01-29 18:24:00', id_estacion=None, obsTimeLocal='2024-01-29 18:29:00', id_estacion=None, obsTimeLocal='2024-01-29 18:34:01', id_estacion=None, obsTimeLocal='2024-01-29 18:39:00', id_estacion=None, obsTimeLocal='2024-01-29 18:44:00', id_estacion=None, obsTimeLocal='2024-01-29 18:49:00', id_estacion=None, obsTimeLocal='2024-01-29 18:54:00', id_estacion=None, obsTimeLocal='2024-01-29 18:59:00', id_estacion=None, obsTimeLocal='2024-01-29 19:04:00', id_estacion=None, obsTimeLocal='2024-01-29 19:09:00', id_estacion=None, obsTimeLocal='2024-01-29 19:14:00', id_estacion=None, obsTimeLocal='2024-01-29 19:19:00', id_estacion=None, obsTimeLocal='2024-01-29 19:24:00', id_estacion=None, obsTimeLocal='2024-01-29 19:29:01', id_estacion=None, obsTimeLocal='2024-01-29 19:34:01', id_estacion=None, obsTimeLocal='2024-01-29 19:39:00', id_estacion=None, obsTimeLocal='2024-01-29 19:44:00', id_estacion=None, obsTimeLocal='2024-01-29 19:49:00', id_estacion=None, obsTimeLocal='2024-01-29 19:54:00', id_estacion=None, obsTimeLocal='2024-01-29 19:59:00', id_estacion=None, obsTimeLocal='2024-01-29 20:04:00', id_estacion=None, obsTimeLocal='2024-01-29 20:09:01', id_estacion=None, obsTimeLocal='2024-01-29 20:14:01', id_estacion=None, obsTimeLocal='2024-01-29 20:19:01', id_estacion=None, obsTimeLocal='2024-01-29 20:24:00', id_estacion=None, obsTimeLocal='2024-01-29 20:29:00', id_estacion=None, obsTimeLocal='2024-01-29 20:34:00', id_estacion=None, obsTimeLocal='2024-01-29 20:39:00', id_estacion=None, obsTimeLocal='2024-01-29 20:44:00', id_estacion=None, obsTimeLocal='2024-01-29 20:49:00', id_estacion=None, obsTimeLocal='2024-01-29 20:54:00', id_estacion=None, obsTimeLocal='2024-01-29 20:59:01', id_estacion=None, obsTimeLocal='2024-01-29 21:04:01', id_estacion=None, obsTimeLocal='2024-01-29 21:09:00', id_estacion=None, obsTimeLocal='2024-01-29 21:14:00', id_estacion=None, obsTimeLocal='2024-01-29 21:19:00', id_estacion=None, obsTimeLocal='2024-01-29 21:24:00', id_estacion=None, obsTimeLocal='2024-01-29 21:29:00', id_estacion=None, obsTimeLocal='2024-01-29 21:34:00', id_estacion=None, obsTimeLocal='2024-01-29 21:39:00', id_estacion=None, obsTimeLocal='2024-01-29 21:44:00', id_estacion=None, obsTimeLocal='2024-01-29 21:49:00', id_estacion=None, obsTimeLocal='2024-01-29 21:54:00', id_estacion=None, obsTimeLocal='2024-01-29 21:59:00', id_estacion=None, obsTimeLocal='2024-01-29 22:04:01', id_estacion=None, obsTimeLocal='2024-01-29 22:09:01', id_estacion=None, obsTimeLocal='2024-01-29 22:14:01', id_estacion=None, obsTimeLocal='2024-01-29 22:19:01', id_estacion=None, obsTimeLocal='2024-01-29 22:24:01', id_estacion=None, obsTimeLocal='2024-01-29 22:29:00', id_estacion=None, obsTimeLocal='2024-01-29 22:34:01', id_estacion=None, obsTimeLocal='2024-01-29 22:39:00', id_estacion=None, obsTimeLocal='2024-01-29 22:44:01', id_estacion=None, obsTimeLocal='2024-01-29 22:49:01', id_estacion=None, obsTimeLocal='2024-01-29 22:54:00', id_estacion=None, obsTimeLocal='2024-01-29 22:59:00', id_estacion=None, obsTimeLocal='2024-01-29 23:04:00', id_estacion=None, obsTimeLocal='2024-01-29 23:09:00', id_estacion=None, obsTimeLocal='2024-01-29 23:14:00', id_estacion=None, obsTimeLocal='2024-01-29 23:19:00', id_estacion=None, obsTimeLocal='2024-01-29 23:24:00', id_estacion=None, obsTimeLocal='2024-01-29 23:29:00', id_estacion=None, obsTimeLocal='2024-01-29 23:34:00', id_estacion=None, obsTimeLocal='2024-01-29 23:39:00', id_estacion=None, obsTimeLocal='2024-01-29 23:44:00', id_estacion=None, obsTimeLocal='2024-01-29 23:49:00', id_estacion=None, obsTimeLocal='2024-01-29 23:54:00', id_estacion=None, obsTimeLocal='2024-01-29 23:59:00', id_estacion=None, obsTimeLocal='2024-01-30 00:04:00', id_estacion=None, obsTimeLocal='2024-01-30 00:09:01', id_estacion=None, obsTimeLocal='2024-01-30 00:14:01', id_estacion=None, obsTimeLocal='2024-01-30 00:19:00', id_estacion=None, obsTimeLocal='2024-01-30 00:24:01', id_estacion=None, obsTimeLocal='2024-01-30 00:29:01', id_estacion=None, obsTimeLocal='2024-01-30 00:34:00', id_estacion=None, obsTimeLocal='2024-01-30 00:39:00', id_estacion=None, obsTimeLocal='2024-01-30 00:44:00', id_estacion=None, obsTimeLocal='2024-01-30 00:49:00', id_estacion=None, obsTimeLocal='2024-01-30 00:54:00', id_estacion=None, obsTimeLocal='2024-01-30 00:59:00', id_estacion=None, obsTimeLocal='2024-01-30 01:04:00', id_estacion=None, obsTimeLocal='2024-01-30 01:09:00', id_estacion=None, obsTimeLocal='2024-01-30 01:14:00', id_estacion=None, obsTimeLocal='2024-01-30 01:19:00', id_estacion=None, obsTimeLocal='2024-01-30 01:24:00', id_estacion=None, obsTimeLocal='2024-01-30 01:29:00', id_estacion=None, obsTimeLocal='2024-01-30 01:34:00', id_estacion=None, obsTimeLocal='2024-01-30 01:39:00', id_estacion=None, obsTimeLocal='2024-01-30 01:44:00', id_estacion=None, obsTimeLocal='2024-01-30 01:49:01', id_estacion=None, obsTimeLocal='2024-01-30 01:54:01', id_estacion=None, obsTimeLocal='2024-01-30 01:59:00', id_estacion=None, obsTimeLocal='2024-01-30 02:04:00', id_estacion=None, obsTimeLocal='2024-01-30 02:09:01', id_estacion=None, obsTimeLocal='2024-01-30 02:14:00', id_estacion=None, obsTimeLocal='2024-01-30 02:19:00', id_estacion=None, obsTimeLocal='2024-01-30 02:24:00', id_estacion=None, obsTimeLocal='2024-01-30 02:29:00', id_estacion=None, obsTimeLocal='2024-01-30 02:34:00', id_estacion=None, obsTimeLocal='2024-01-30 02:39:00', id_estacion=None, obsTimeLocal='2024-01-30 02:44:00', id_estacion=None, obsTimeLocal='2024-01-30 02:49:00', id_estacion=None, obsTimeLocal='2024-01-30 02:54:00', id_estacion=None, obsTimeLocal='2024-01-30 02:59:00', id_estacion=None, obsTimeLocal='2024-01-30 03:04:00', id_estacion=None, obsTimeLocal='2024-01-30 03:09:00', id_estacion=None, obsTimeLocal='2024-01-30 03:14:00', id_estacion=None, obsTimeLocal='2024-01-30 03:19:00', id_estacion=None, obsTimeLocal='2024-01-30 03:24:00', id_estacion=None, obsTimeLocal='2024-01-30 03:29:00', id_estacion=None, obsTimeLocal='2024-01-30 03:34:00', id_estacion=None, obsTimeLocal='2024-01-30 03:39:00', id_estacion=None, obsTimeLocal='2024-01-30 03:44:00', id_estacion=None, obsTimeLocal='2024-01-30 03:49:00', id_estacion=None, obsTimeLocal='2024-01-30 03:54:00', id_estacion=None, obsTimeLocal='2024-01-30 03:59:01', id_estacion=None, obsTimeLocal='2024-01-30 04:04:00', id_estacion=None, obsTimeLocal='2024-01-30 04:09:00', id_estacion=None, obsTimeLocal='2024-01-30 04:14:00', id_estacion=None, obsTimeLocal='2024-01-30 04:19:00', id_estacion=None, obsTimeLocal='2024-01-30 04:24:00', id_estacion=None, obsTimeLocal='2024-01-30 04:29:01', id_estacion=None, obsTimeLocal='2024-01-30 04:34:00', id_estacion=None, obsTimeLocal='2024-01-30 04:39:01', id_estacion=None, obsTimeLocal='2024-01-30 04:44:00', id_estacion=None, obsTimeLocal='2024-01-30 04:49:00', id_estacion=None, obsTimeLocal='2024-01-30 04:54:00', id_estacion=None, obsTimeLocal='2024-01-30 04:59:00', id_estacion=None, obsTimeLocal='2024-01-30 05:04:00', id_estacion=None, obsTimeLocal='2024-01-30 05:09:00', id_estacion=None, obsTimeLocal='2024-01-30 05:14:00', id_estacion=None, obsTimeLocal='2024-01-30 05:19:00', id_estacion=None, obsTimeLocal='2024-01-30 05:24:00', id_estacion=None, obsTimeLocal='2024-01-30 05:29:00', id_estacion=None, obsTimeLocal='2024-01-30 05:34:00', id_estacion=None, obsTimeLocal='2024-01-30 05:39:00', id_estacion=None, obsTimeLocal='2024-01-30 05:44:00', id_estacion=None, obsTimeLocal='2024-01-30 05:49:00', id_estacion=None, obsTimeLocal='2024-01-30 05:54:00', id_estacion=None, obsTimeLocal='2024-01-30 05:59:00', id_estacion=None, obsTimeLocal='2024-01-30 06:04:00', id_estacion=None, obsTimeLocal='2024-01-30 06:09:00', id_estacion=None, obsTimeLocal='2024-01-30 06:14:00', id_estacion=None, obsTimeLocal='2024-01-30 06:19:00', id_estacion=None, obsTimeLocal='2024-01-30 06:24:00', id_estacion=None, obsTimeLocal='2024-01-30 06:29:00', id_estacion=None, obsTimeLocal='2024-01-30 06:34:00', id_estacion=None, obsTimeLocal='2024-01-30 06:39:01', id_estacion=None, obsTimeLocal='2024-01-30 06:44:01', id_estacion=None, obsTimeLocal='2024-01-30 06:49:01', id_estacion=None, obsTimeLocal='2024-01-30 06:54:01', id_estacion=None, obsTimeLocal='2024-01-30 06:59:00', id_estacion=None, obsTimeLocal='2024-01-30 07:04:00', id_estacion=None, obsTimeLocal='2024-01-30 07:09:00', id_estacion=None, obsTimeLocal='2024-01-30 07:14:00', id_estacion=None, obsTimeLocal='2024-01-30 07:19:00', id_estacion=None, obsTimeLocal='2024-01-30 07:24:00', id_estacion=None, obsTimeLocal='2024-01-30 07:29:01', id_estacion=None, obsTimeLocal='2024-01-30 07:34:01', id_estacion=None, obsTimeLocal='2024-01-30 07:39:00', id_estacion=None, obsTimeLocal='2024-01-30 07:44:00', id_estacion=None, obsTimeLocal='2024-01-30 07:49:00', id_estacion=None, obsTimeLocal='2024-01-30 07:54:01', id_estacion=None, obsTimeLocal='2024-01-30 07:59:00', id_estacion=None, obsTimeLocal='2024-01-30 08:04:00', id_estacion=None, obsTimeLocal='2024-01-30 08:09:00', id_estacion=None, obsTimeLocal='2024-01-30 08:14:00', id_estacion=None, obsTimeLocal='2024-01-30 08:19:00', id_estacion=None, obsTimeLocal='2024-01-30 08:24:00', id_estacion=None, obsTimeLocal='2024-01-30 08:29:01', id_estacion=None, obsTimeLocal='2024-01-30 08:34:00', id_estacion=None, obsTimeLocal='2024-01-30 08:39:01', id_estacion=None, obsTimeLocal='2024-01-30 08:44:01', id_estacion=None, obsTimeLocal='2024-01-30 08:49:00', id_estacion=None, obsTimeLocal='2024-01-30 08:54:01', id_estacion=None, obsTimeLocal='2024-01-30 08:59:00', id_estacion=None, obsTimeLocal='2024-01-30 09:04:00', id_estacion=None, obsTimeLocal='2024-01-30 09:09:00', id_estacion=None, obsTimeLocal='2024-01-30 09:14:01', id_estacion=None, obsTimeLocal='2024-01-30 09:19:00', id_estacion=None, obsTimeLocal='2024-01-30 09:24:01', id_estacion=None, obsTimeLocal='2024-01-30 09:29:00', id_estacion=None, obsTimeLocal='2024-01-30 09:34:00', id_estacion=None, obsTimeLocal='2024-01-30 09:39:00', id_estacion=None, obsTimeLocal='2024-01-30 09:44:00', id_estacion=None, obsTimeLocal='2024-01-30 09:49:00', id_estacion=None, obsTimeLocal='2024-01-30 09:54:01', id_estacion=None, obsTimeLocal='2024-01-30 09:59:01', id_estacion=None, obsTimeLocal='2024-01-30 10:04:01', id_estacion=None, obsTimeLocal='2024-01-30 10:09:00', id_estacion=None, obsTimeLocal='2024-01-30 10:14:00', id_estacion=None, obsTimeLocal='2024-01-30 10:19:00', id_estacion=None, obsTimeLocal='2024-01-30 10:24:00', id_estacion=None, obsTimeLocal='2024-01-30 10:29:01', id_estacion=None, obsTimeLocal='2024-01-30 10:34:00', id_estacion=None, obsTimeLocal='2024-01-30 10:39:00', id_estacion=None, obsTimeLocal='2024-01-30 10:44:00', id_estacion=None, obsTimeLocal='2024-01-30 10:49:01', id_estacion=None, obsTimeLocal='2024-01-30 10:54:01', id_estacion=None, obsTimeLocal='2024-01-30 10:59:00', id_estacion=None, obsTimeLocal='2024-01-30 11:04:00', id_estacion=None, obsTimeLocal='2024-01-30 11:09:00', id_estacion=None, obsTimeLocal='2024-01-30 11:14:00', id_estacion=None, obsTimeLocal='2024-01-30 11:19:00', id_estacion=None, obsTimeLocal='2024-01-30 11:24:00', id_estacion=None, obsTimeLocal='2024-01-30 11:29:01', id_estacion=None, obsTimeLocal='2024-01-30 11:34:00', id_estacion=None, obsTimeLocal='2024-01-30 11:39:00', id_estacion=None, obsTimeLocal='2024-01-30 11:44:00', id_estacion=None, obsTimeLocal='2024-01-30 11:49:00', id_estacion=None, obsTimeLocal='2024-01-30 11:54:00', id_estacion=None, obsTimeLocal='2024-01-30 11:59:01', id_estacion=None, obsTimeLocal='2024-01-30 12:04:00', id_estacion=None, obsTimeLocal='2024-01-30 12:09:00', id_estacion=None, obsTimeLocal='2024-01-30 12:14:00', id_estacion=None, obsTimeLocal='2024-01-30 12:19:01', id_estacion=None, obsTimeLocal='2024-01-30 12:24:01', id_estacion=None, obsTimeLocal='2024-01-30 12:29:00', id_estacion=None, obsTimeLocal='2024-01-30 12:34:00', id_estacion=None, obsTimeLocal='2024-01-30 12:39:00', id_estacion=None, obsTimeLocal='2024-01-30 12:44:00', id_estacion=None, obsTimeLocal='2024-01-30 12:49:00', id_estacion=None, obsTimeLocal='2024-01-30 12:54:00', id_estacion=None, obsTimeLocal='2024-01-30 12:59:01', id_estacion=None, obsTimeLocal='2024-01-30 13:04:01', id_estacion=None, obsTimeLocal='2024-01-30 13:09:00', id_estacion=None, obsTimeLocal='2024-01-30 13:14:00', id_estacion=None, obsTimeLocal='2024-01-30 13:19:00', id_estacion=None, obsTimeLocal='2024-01-30 13:24:00', id_estacion=None, obsTimeLocal='2024-01-30 13:29:01', id_estacion=None, obsTimeLocal='2024-01-30 13:34:01', id_estacion=None, obsTimeLocal='2024-01-30 13:39:00', id_estacion=None, obsTimeLocal='2024-01-30 13:44:00', id_estacion=None, obsTimeLocal='2024-01-30 13:49:00', id_estacion=None, obsTimeLocal='2024-01-30 13:54:00', id_estacion=None, obsTimeLocal='2024-01-30 13:59:01', id_estacion=None, obsTimeLocal='2024-01-30 14:04:01', id_estacion=None, obsTimeLocal='2024-01-30 14:09:00', id_estacion=None, obsTimeLocal='2024-01-30 14:14:00', id_estacion=None, obsTimeLocal='2024-01-30 14:19:00', id_estacion=None, obsTimeLocal='2024-01-30 14:24:00', id_estacion=None, obsTimeLocal='2024-01-30 14:29:01', id_estacion=None, obsTimeLocal='2024-01-30 14:34:01', id_estacion=None, obsTimeLocal='2024-01-30 14:39:00', id_estacion=None, obsTimeLocal='2024-01-30 14:44:00', id_estacion=None, obsTimeLocal='2024-01-30 14:49:01', id_estacion=None, obsTimeLocal='2024-01-30 14:54:01', id_estacion=None, obsTimeLocal='2024-01-30 14:59:00', id_estacion=None, obsTimeLocal='2024-01-30 15:04:00', id_estacion=None, obsTimeLocal='2024-01-30 15:09:00', id_estacion=None, obsTimeLocal='2024-01-30 15:14:00', id_estacion=None, obsTimeLocal='2024-01-30 15:19:00', id_estacion=None, obsTimeLocal='2024-01-30 15:24:00', id_estacion=None, obsTimeLocal='2024-01-30 15:29:01', id_estacion=None, obsTimeLocal='2024-01-30 15:34:01', id_estacion=None, obsTimeLocal='2024-01-30 15:39:00', id_estacion=None, obsTimeLocal='2024-01-30 15:44:00', id_estacion=None, obsTimeLocal='2024-01-30 15:49:00', id_estacion=None, obsTimeLocal='2024-01-30 15:54:00', id_estacion=None, obsTimeLocal='2024-01-30 15:59:00', id_estacion=None, obsTimeLocal='2024-01-30 16:04:00', id_estacion=None, obsTimeLocal='2024-01-30 16:09:00', id_estacion=None, obsTimeLocal='2024-01-30 16:14:00', id_estacion=None, obsTimeLocal='2024-01-30 16:19:01', id_estacion=None, obsTimeLocal='2024-01-30 16:24:01', id_estacion=None, obsTimeLocal='2024-01-30 16:29:00', id_estacion=None, obsTimeLocal='2024-01-30 16:34:00', id_estacion=None, obsTimeLocal='2024-01-30 16:39:00', id_estacion=None, obsTimeLocal='2024-01-30 16:44:00', id_estacion=None, obsTimeLocal='2024-01-30 16:49:01', id_estacion=None, obsTimeLocal='2024-01-30 16:54:00', id_estacion=None, obsTimeLocal='2024-01-30 16:59:00', id_estacion=None, obsTimeLocal='2024-01-30 17:04:00', id_estacion=None, obsTimeLocal='2024-01-30 17:09:00', id_estacion=None, obsTimeLocal='2024-01-30 17:14:00', id_estacion=None, obsTimeLocal='2024-01-30 17:19:00', id_estacion=None, obsTimeLocal='2024-01-30 17:24:00', id_estacion=None, obsTimeLocal='2024-01-30 17:29:00', id_estacion=None, obsTimeLocal='2024-01-30 17:34:00', id_estacion=None, obsTimeLocal='2024-01-30 17:39:01', id_estacion=None, obsTimeLocal='2024-01-30 17:44:01', id_estacion=None, obsTimeLocal='2024-01-30 17:49:00', id_estacion=None, obsTimeLocal='2024-01-30 17:54:00', id_estacion=None, obsTimeLocal='2024-01-30 17:59:00', id_estacion=None, obsTimeLocal='2024-01-30 18:04:00', id_estacion=None, obsTimeLocal='2024-01-30 18:09:00', id_estacion=None, obsTimeLocal='2024-01-30 18:14:00', id_estacion=None, obsTimeLocal='2024-01-30 18:19:00', id_estacion=None, obsTimeLocal='2024-01-30 18:24:00', id_estacion=None, obsTimeLocal='2024-01-30 18:29:01', id_estacion=None, obsTimeLocal='2024-01-30 18:34:01', id_estacion=None, obsTimeLocal='2024-01-30 18:39:00', id_estacion=None, obsTimeLocal='2024-01-30 18:44:00', id_estacion=None, obsTimeLocal='2024-01-30 18:49:00', id_estacion=None, obsTimeLocal='2024-01-30 18:54:00', id_estacion=None, obsTimeLocal='2024-01-30 18:59:00', id_estacion=None, obsTimeLocal='2024-01-30 19:04:00', id_estacion=None, obsTimeLocal='2024-01-30 19:09:00', id_estacion=None, obsTimeLocal='2024-01-30 19:14:00', id_estacion=None, obsTimeLocal='2024-01-30 19:19:01', id_estacion=None, obsTimeLocal='2024-01-30 19:24:01', id_estacion=None, obsTimeLocal='2024-01-30 19:29:00', id_estacion=None, obsTimeLocal='2024-01-30 19:34:00', id_estacion=None, obsTimeLocal='2024-01-30 19:39:00', id_estacion=None, obsTimeLocal='2024-01-30 19:44:00', id_estacion=None, obsTimeLocal='2024-01-30 19:49:00', id_estacion=None, obsTimeLocal='2024-01-30 19:54:00', id_estacion=None, obsTimeLocal='2024-01-30 19:59:00', id_estacion=None, obsTimeLocal='2024-01-30 20:04:00', id_estacion=None, obsTimeLocal='2024-01-30 20:09:01', id_estacion=None, obsTimeLocal='2024-01-30 20:14:00', id_estacion=None, obsTimeLocal='2024-01-30 20:19:01', id_estacion=None, obsTimeLocal='2024-01-30 20:24:01', id_estacion=None, obsTimeLocal='2024-01-30 20:29:01', id_estacion=None, obsTimeLocal='2024-01-30 20:34:01', id_estacion=None, obsTimeLocal='2024-01-30 20:39:01', id_estacion=None, obsTimeLocal='2024-01-30 20:44:01', id_estacion=None, obsTimeLocal='2024-01-30 20:49:01', id_estacion=None, obsTimeLocal='2024-01-30 20:54:00', id_estacion=None, obsTimeLocal='2024-01-30 20:59:00', id_estacion=None, obsTimeLocal='2024-01-30 21:04:00', id_estacion=None, obsTimeLocal='2024-01-30 21:09:00', id_estacion=None, obsTimeLocal='2024-01-30 21:14:00', id_estacion=None, obsTimeLocal='2024-01-30 21:19:00', id_estacion=None, obsTimeLocal='2024-01-30 21:24:00', id_estacion=None, obsTimeLocal='2024-01-30 21:29:00', id_estacion=None, obsTimeLocal='2024-01-30 21:34:00', id_estacion=None, obsTimeLocal='2024-01-30 21:39:00', id_estacion=None, obsTimeLocal='2024-01-30 21:44:00', id_estacion=None, obsTimeLocal='2024-01-30 21:49:00', id_estacion=None, obsTimeLocal='2024-01-30 21:54:00', id_estacion=None, obsTimeLocal='2024-01-30 21:59:00', id_estacion=None, obsTimeLocal='2024-01-30 22:04:01', id_estacion=None, obsTimeLocal='2024-01-30 22:09:01', id_estacion=None, obsTimeLocal='2024-01-30 22:14:00', id_estacion=None, obsTimeLocal='2024-01-30 22:19:01', id_estacion=None, obsTimeLocal='2024-01-30 22:24:01', id_estacion=None, obsTimeLocal='2024-01-30 22:29:01', id_estacion=None, obsTimeLocal='2024-01-30 22:34:00', id_estacion=None, obsTimeLocal='2024-01-30 22:39:01', id_estacion=None, obsTimeLocal='2024-01-30 22:44:00', id_estacion=None, obsTimeLocal='2024-01-30 22:49:00', id_estacion=None, obsTimeLocal='2024-01-30 22:54:00', id_estacion=None, obsTimeLocal='2024-01-30 22:59:00', id_estacion=None, obsTimeLocal='2024-01-30 23:04:00', id_estacion=None, obsTimeLocal='2024-01-30 23:09:00', id_estacion=None, obsTimeLocal='2024-01-30 23:14:00', id_estacion=None, obsTimeLocal='2024-01-30 23:19:00', id_estacion=None, obsTimeLocal='2024-01-30 23:24:00', id_estacion=None, obsTimeLocal='2024-01-30 23:29:00', id_estacion=None, obsTimeLocal='2024-01-30 23:34:00', id_estacion=None, obsTimeLocal='2024-01-30 23:39:00', id_estacion=None, obsTimeLocal='2024-01-30 23:44:00', id_estacion=None, obsTimeLocal='2024-01-30 23:49:00', id_estacion=None, obsTimeLocal='2024-01-30 23:54:01', id_estacion=None, obsTimeLocal='2024-01-30 23:59:01', id_estacion=None, obsTimeLocal='2024-01-31 00:04:00', id_estacion=None, obsTimeLocal='2024-01-31 00:09:00', id_estacion=None, obsTimeLocal='2024-01-31 00:14:00', id_estacion=None, obsTimeLocal='2024-01-31 00:19:00', id_estacion=None, obsTimeLocal='2024-01-31 00:24:00', id_estacion=None, obsTimeLocal='2024-01-31 00:29:00', id_estacion=None, obsTimeLocal='2024-01-31 00:34:00', id_estacion=None, obsTimeLocal='2024-01-31 00:39:00', id_estacion=None, obsTimeLocal='2024-01-31 00:44:00', id_estacion=None, obsTimeLocal='2024-01-31 00:49:00', id_estacion=None, obsTimeLocal='2024-01-31 00:54:01', id_estacion=None, obsTimeLocal='2024-01-31 00:59:01', id_estacion=None, obsTimeLocal='2024-01-31 01:04:01', id_estacion=None, obsTimeLocal='2024-01-31 01:09:01', id_estacion=None, obsTimeLocal='2024-01-31 01:14:00', id_estacion=None, obsTimeLocal='2024-01-31 01:19:01', id_estacion=None, obsTimeLocal='2024-01-31 01:24:01', id_estacion=None, obsTimeLocal='2024-01-31 01:29:00', id_estacion=None, obsTimeLocal='2024-01-31 01:34:01', id_estacion=None, obsTimeLocal='2024-01-31 01:39:01', id_estacion=None, obsTimeLocal='2024-01-31 01:44:00', id_estacion=None, obsTimeLocal='2024-01-31 01:49:00', id_estacion=None, obsTimeLocal='2024-01-31 01:54:00', id_estacion=None, obsTimeLocal='2024-01-31 01:59:00', id_estacion=None, obsTimeLocal='2024-01-31 02:04:00', id_estacion=None, obsTimeLocal='2024-01-31 02:09:00', id_estacion=None, obsTimeLocal='2024-01-31 02:14:00', id_estacion=None, obsTimeLocal='2024-01-31 02:19:00', id_estacion=None, obsTimeLocal='2024-01-31 02:24:01', id_estacion=None, obsTimeLocal='2024-01-31 02:29:00', id_estacion=None, obsTimeLocal='2024-01-31 02:34:01', id_estacion=None, obsTimeLocal='2024-01-31 02:39:01', id_estacion=None, obsTimeLocal='2024-01-31 02:44:00', id_estacion=None, obsTimeLocal='2024-01-31 02:49:00', id_estacion=None, obsTimeLocal='2024-01-31 02:54:00', id_estacion=None, obsTimeLocal='2024-01-31 02:59:00', id_estacion=None, obsTimeLocal='2024-01-31 03:04:00', id_estacion=None, obsTimeLocal='2024-01-31 03:09:00', id_estacion=None, obsTimeLocal='2024-01-31 03:14:00', id_estacion=None, obsTimeLocal='2024-01-31 03:19:00', id_estacion=None, obsTimeLocal='2024-01-31 03:24:00', id_estacion=None, obsTimeLocal='2024-01-31 03:29:00', id_estacion=None, obsTimeLocal='2024-01-31 03:34:01', id_estacion=None, obsTimeLocal='2024-01-31 03:39:00', id_estacion=None, obsTimeLocal='2024-01-31 03:44:01', id_estacion=None, obsTimeLocal='2024-01-31 03:49:00', id_estacion=None, obsTimeLocal='2024-01-31 03:54:00', id_estacion=None, obsTimeLocal='2024-01-31 03:59:00', id_estacion=None, obsTimeLocal='2024-01-31 04:04:00', id_estacion=None, obsTimeLocal='2024-01-31 04:09:00', id_estacion=None, obsTimeLocal='2024-01-31 04:14:00', id_estacion=None, obsTimeLocal='2024-01-31 04:19:00', id_estacion=None, obsTimeLocal='2024-01-31 04:24:00', id_estacion=None, obsTimeLocal='2024-01-31 04:29:00', id_estacion=None, obsTimeLocal='2024-01-31 04:34:00', id_estacion=None, obsTimeLocal='2024-01-31 04:39:00', id_estacion=None, obsTimeLocal='2024-01-31 04:44:00', id_estacion=None, obsTimeLocal='2024-01-31 04:49:00', id_estacion=None, obsTimeLocal='2024-01-31 04:54:01', id_estacion=None, obsTimeLocal='2024-01-31 04:59:00', id_estacion=None, obsTimeLocal='2024-01-31 05:04:01', id_estacion=None, obsTimeLocal='2024-01-31 05:09:01', id_estacion=None, obsTimeLocal='2024-01-31 05:14:00', id_estacion=None, obsTimeLocal='2024-01-31 05:19:00', id_estacion=None, obsTimeLocal='2024-01-31 05:24:00', id_estacion=None, obsTimeLocal='2024-01-31 05:29:00', id_estacion=None, obsTimeLocal='2024-01-31 05:34:00', id_estacion=None, obsTimeLocal='2024-01-31 05:39:00', id_estacion=None, obsTimeLocal='2024-01-31 05:44:01', id_estacion=None, obsTimeLocal='2024-01-31 05:49:00', id_estacion=None, obsTimeLocal='2024-01-31 05:54:01', id_estacion=None, obsTimeLocal='2024-01-31 05:59:01', id_estacion=None, obsTimeLocal='2024-01-31 06:04:01', id_estacion=None, obsTimeLocal='2024-01-31 06:09:00', id_estacion=None, obsTimeLocal='2024-01-31 06:14:01', id_estacion=None, obsTimeLocal='2024-01-31 06:19:01', id_estacion=None, obsTimeLocal='2024-01-31 06:24:00', id_estacion=None, obsTimeLocal='2024-01-31 06:29:01', id_estacion=None, obsTimeLocal='2024-01-31 06:34:00', id_estacion=None, obsTimeLocal='2024-01-31 06:39:00', id_estacion=None, obsTimeLocal='2024-01-31 06:44:00', id_estacion=None, obsTimeLocal='2024-01-31 06:49:00', id_estacion=None, obsTimeLocal='2024-01-31 06:54:01', id_estacion=None, obsTimeLocal='2024-01-31 06:59:01', id_estacion=None, obsTimeLocal='2024-01-31 07:04:01', id_estacion=None, obsTimeLocal='2024-01-31 07:09:00', id_estacion=None, obsTimeLocal='2024-01-31 07:14:01', id_estacion=None, obsTimeLocal='2024-01-31 07:19:00', id_estacion=None, obsTimeLocal='2024-01-31 07:24:00', id_estacion=None, obsTimeLocal='2024-01-31 07:29:00', id_estacion=None, obsTimeLocal='2024-01-31 07:34:01', id_estacion=None, obsTimeLocal='2024-01-31 07:39:00', id_estacion=None, obsTimeLocal='2024-01-31 07:44:01', id_estacion=None, obsTimeLocal='2024-01-31 07:49:00', id_estacion=None, obsTimeLocal='2024-01-31 07:54:00', id_estacion=None, obsTimeLocal='2024-01-31 07:59:00', id_estacion=None, obsTimeLocal='2024-01-31 08:04:00', id_estacion=None, obsTimeLocal='2024-01-31 08:09:00', id_estacion=None, obsTimeLocal='2024-01-31 08:14:01', id_estacion=None, obsTimeLocal='2024-01-31 08:19:00', id_estacion=None, obsTimeLocal='2024-01-31 08:24:00', id_estacion=None, obsTimeLocal='2024-01-31 08:29:01', id_estacion=None, obsTimeLocal='2024-01-31 08:34:01', id_estacion=None, obsTimeLocal='2024-01-31 08:39:00', id_estacion=None, obsTimeLocal='2024-01-31 08:44:00', id_estacion=None, obsTimeLocal='2024-01-31 08:49:03', id_estacion=None, obsTimeLocal='2024-01-31 08:54:00', id_estacion=None, obsTimeLocal='2024-01-31 08:59:02', id_estacion=None, obsTimeLocal='2024-01-31 09:04:00', id_estacion=None, obsTimeLocal='2024-01-31 09:09:16', id_estacion=None, obsTimeLocal='2024-01-31 09:14:01', id_estacion=None, obsTimeLocal='2024-01-31 09:19:01', id_estacion=None, obsTimeLocal='2024-01-31 09:24:01', id_estacion=None, obsTimeLocal='2024-01-31 09:29:01', id_estacion=None, obsTimeLocal='2024-01-31 09:34:01', id_estacion=None, obsTimeLocal='2024-01-31 09:39:01', id_estacion=None, obsTimeLocal='2024-01-31 09:44:09', id_estacion=None, obsTimeLocal='2024-01-31 09:49:16', id_estacion=None, obsTimeLocal='2024-01-31 09:54:01', id_estacion=None, obsTimeLocal='2024-01-31 09:59:01', id_estacion=None, obsTimeLocal='2024-01-31 10:04:01', id_estacion=None, obsTimeLocal='2024-01-31 10:09:01', id_estacion=None, obsTimeLocal='2024-01-31 10:14:01', id_estacion=None, obsTimeLocal='2024-01-31 10:19:00', id_estacion=None, obsTimeLocal='2024-01-31 10:24:02', id_estacion=None, obsTimeLocal='2024-01-31 10:29:01', id_estacion=None, obsTimeLocal='2024-01-31 10:34:02', id_estacion=None, obsTimeLocal='2024-01-31 10:39:14', id_estacion=None, obsTimeLocal='2024-01-31 10:44:00', id_estacion=None, obsTimeLocal='2024-01-31 10:49:00', id_estacion=None, obsTimeLocal='2024-01-31 10:54:01', id_estacion=None, obsTimeLocal='2024-01-31 10:59:00', id_estacion=None, obsTimeLocal='2024-01-31 11:04:00', id_estacion=None, obsTimeLocal='2024-01-31 11:09:03', id_estacion=None, obsTimeLocal='2024-01-31 11:14:01', id_estacion=None, obsTimeLocal='2024-01-31 11:19:01', id_estacion=None, obsTimeLocal='2024-01-31 11:24:03', id_estacion=None, obsTimeLocal='2024-01-31 11:29:00', id_estacion=None, obsTimeLocal='2024-01-31 11:34:01', id_estacion=None, obsTimeLocal='2024-01-31 11:39:05', id_estacion=None, obsTimeLocal='2024-01-31 11:44:00', id_estacion=None, obsTimeLocal='2024-01-31 11:49:00', id_estacion=None, obsTimeLocal='2024-01-31 11:54:01', id_estacion=None, obsTimeLocal='2024-01-31 11:59:00', id_estacion=None, obsTimeLocal='2024-01-31 12:04:00', id_estacion=None, obsTimeLocal='2024-01-31 12:09:00', id_estacion=None, obsTimeLocal='2024-01-31 12:14:00', id_estacion=None, obsTimeLocal='2024-01-31 12:19:00', id_estacion=None, obsTimeLocal='2024-01-31 12:24:00', id_estacion=None, obsTimeLocal='2024-01-31 12:29:00', id_estacion=None, obsTimeLocal='2024-01-31 12:34:00', id_estacion=None, obsTimeLocal='2024-01-31 12:39:00', id_estacion=None, obsTimeLocal='2024-01-31 12:44:00', id_estacion=None, obsTimeLocal='2024-01-31 12:49:00', id_estacion=None, obsTimeLocal='2024-01-31 12:54:00', id_estacion=None, obsTimeLocal='2024-01-31 12:59:00', id_estacion=None, obsTimeLocal='2024-01-31 13:04:00', id_estacion=None, obsTimeLocal='2024-01-31 13:09:00', id_estacion=None, obsTimeLocal='2024-01-31 13:14:00', id_estacion=None, obsTimeLocal='2024-01-31 13:19:00', id_estacion=None, obsTimeLocal='2024-01-31 13:24:00', id_estacion=None, obsTimeLocal='2024-01-31 13:29:01', id_estacion=None, obsTimeLocal='2024-01-31 13:34:01', id_estacion=None, obsTimeLocal='2024-01-31 13:39:00', id_estacion=None, obsTimeLocal='2024-01-31 13:44:00', id_estacion=None, obsTimeLocal='2024-01-31 13:49:00', id_estacion=None, obsTimeLocal='2024-01-31 13:54:00', id_estacion=None, obsTimeLocal='2024-01-31 13:59:00', id_estacion=None, obsTimeLocal='2024-01-31 14:04:00', id_estacion=None, obsTimeLocal='2024-01-31 14:09:01', id_estacion=None, obsTimeLocal='2024-01-31 14:14:01', id_estacion=None, obsTimeLocal='2024-01-31 14:19:00', id_estacion=None, obsTimeLocal='2024-01-31 14:24:01', id_estacion=None, obsTimeLocal='2024-01-31 14:29:00', id_estacion=None, obsTimeLocal='2024-01-31 14:34:00', id_estacion=None, obsTimeLocal='2024-01-31 14:39:00', id_estacion=None, obsTimeLocal='2024-01-31 14:44:00', id_estacion=None, obsTimeLocal='2024-01-31 14:49:00', id_estacion=None, obsTimeLocal='2024-01-31 14:54:00', id_estacion=None, obsTimeLocal='2024-01-31 14:59:00', id_estacion=None, obsTimeLocal='2024-01-31 15:04:00', id_estacion=None, obsTimeLocal='2024-01-31 15:09:00', id_estacion=None, obsTimeLocal='2024-01-31 15:14:00', id_estacion=None, obsTimeLocal='2024-01-31 15:19:01', id_estacion=None, obsTimeLocal='2024-01-31 15:24:00', id_estacion=None, obsTimeLocal='2024-01-31 15:29:01', id_estacion=None, obsTimeLocal='2024-01-31 15:34:01', id_estacion=None, obsTimeLocal='2024-01-31 15:39:00', id_estacion=None, obsTimeLocal='2024-01-31 15:44:01', id_estacion=None, obsTimeLocal='2024-01-31 15:49:00', id_estacion=None, obsTimeLocal='2024-01-31 15:54:00', id_estacion=None, obsTimeLocal='2024-01-31 15:59:00', id_estacion=None, obsTimeLocal='2024-01-31 16:04:00', id_estacion=None, obsTimeLocal='2024-01-31 16:09:00', id_estacion=None, obsTimeLocal='2024-01-31 16:14:00', id_estacion=None, obsTimeLocal='2024-01-31 16:19:00', id_estacion=None, obsTimeLocal='2024-01-31 16:24:00', id_estacion=None, obsTimeLocal='2024-01-31 16:29:00', id_estacion=None, obsTimeLocal='2024-01-31 16:34:00', id_estacion=None, obsTimeLocal='2024-01-31 16:39:01', id_estacion=None, obsTimeLocal='2024-01-31 16:44:01', id_estacion=None, obsTimeLocal='2024-01-31 16:49:01', id_estacion=None, obsTimeLocal='2024-01-31 16:54:01', id_estacion=None, obsTimeLocal='2024-01-31 16:55:00']\n",
      "Finalizó la ejecucución del programa.\n",
      "Total de llamadas:17\n"
     ]
    }
   ],
   "source": [
    "var_sin_unidad=['stationID',\"tz\",\"obsTimeUtc\",\"obsTimeLocal\",\"epoch\",\"lat\",\"lon\",\"solarRadiationHigh\",\"uvHigh\",\"winddirAvg\",\"humidityHigh\",\"humidityLow\",\"humidityAvg\",\"qcStatus\"]\n",
    "var_con_unidad=[\"tempHigh\",\"tempLow\",\"tempAvg\",\"windspeedHigh\",\"windspeedLow\",\"windspeedAvg\",\"windgustHigh\",\"windgustLow\",\"windgustAvg\",\"dewptHigh\",\"dewptLow\",\"dewptAvg\",\"windchillHigh\",\"windchillLow\",\"windchillAvg\",\"heatindexHigh\",\"heatindexLow\",\"heatindexAvg\",\"pressureMax\",\"pressureMin\",\"pressureTrend\",\"precipRate\",\"precipTotal\"]\n",
    "var_wunder=var_sin_unidad+var_con_unidad\n",
    "ORM_datos_estaciones(estaciones=estaciones_elegidas,var_w=var_wunder,claves_api=api_keys)"
   ]
  },
  {
   "cell_type": "code",
   "execution_count": 166,
   "metadata": {},
   "outputs": [
    {
     "name": "stdout",
     "output_type": "stream",
     "text": [
      "2024-12-20 00:00:00\n"
     ]
    }
   ],
   "source": [
    "fecha=datetime(2024,12,20)\n",
    "print(fecha)"
   ]
  },
  {
   "cell_type": "code",
   "execution_count": 119,
   "metadata": {},
   "outputs": [],
   "source": [
    "# Instances of Classes represent Rows: estación\n",
    "iprez1 = Estacion(stationID='IPREZ1',lat=-32.997496,lon=-60.768009)"
   ]
  },
  {
   "cell_type": "code",
   "execution_count": 89,
   "metadata": {},
   "outputs": [],
   "source": [
    "dia = date(2024,1,20)\n",
    "IPREZ1.observaciones = [\n",
    "    Observacion(obsTimeLocal=str(dia),precipTotal=0,dia_con_obs=1,dia_completo=1),\n",
    "    Observacion(obsTimeLocal='2024-07-01 00:09:00',precipTotal=15,dia_con_obs=1,dia_completo=1)\n",
    "]"
   ]
  },
  {
   "cell_type": "code",
   "execution_count": 154,
   "metadata": {},
   "outputs": [],
   "source": [
    "IPREZ1.observaciones.append(Observacion(obsTimeLocal='2024-07-01 00:04:00',precipTotal=0,dia_con_obs=1,dia_completo=1))"
   ]
  },
  {
   "cell_type": "code",
   "execution_count": 60,
   "metadata": {},
   "outputs": [
    {
     "data": {
      "text/plain": [
       "[]"
      ]
     },
     "execution_count": 60,
     "metadata": {},
     "output_type": "execute_result"
    }
   ],
   "source": [
    "IPREZ1.observaciones"
   ]
  },
  {
   "cell_type": "code",
   "execution_count": null,
   "metadata": {},
   "outputs": [],
   "source": [
    "Observacion(obsTimeLocal='2024-07-01 00:04:00',precipTotal=0,dia_con_obs=1,dia_completo=1),\n",
    "Observacion(obsTimeLocal='2024-07-01 00:09:00',precipTotal=15,dia_con_obs=1,dia_completo=1)"
   ]
  },
  {
   "cell_type": "markdown",
   "metadata": {},
   "source": [
    "### Quick Start"
   ]
  },
  {
   "cell_type": "markdown",
   "metadata": {},
   "source": [
    "Declare models"
   ]
  },
  {
   "cell_type": "code",
   "execution_count": 20,
   "metadata": {},
   "outputs": [],
   "source": [
    "class Base(DeclarativeBase):\n",
    "    pass"
   ]
  },
  {
   "cell_type": "code",
   "execution_count": 21,
   "metadata": {},
   "outputs": [],
   "source": [
    "class User(Base):\n",
    "    __tablename__ = \"user_account\"\n",
    "\n",
    "    id: Mapped[int] = mapped_column(primary_key=True)\n",
    "    name: Mapped[str] = mapped_column(String(30))\n",
    "    fullname: Mapped[Optional[str]]\n",
    "\n",
    "    addresses: Mapped[List[\"Address\"]] = relationship(\n",
    "        back_populates=\"user\", cascade=\"all, delete-orphan\"\n",
    "    )\n",
    "\n",
    "    def __repr__(self) -> str:\n",
    "        return f\"User(id={self.id!r}, name={self.name!r}, fullname={self.fullname!r})\""
   ]
  },
  {
   "cell_type": "code",
   "execution_count": 22,
   "metadata": {},
   "outputs": [],
   "source": [
    "class Address(Base):\n",
    "     __tablename__ = \"address\"\n",
    "\n",
    "     id: Mapped[int] = mapped_column(primary_key=True)\n",
    "     email_address: Mapped[str]\n",
    "     user_id: Mapped[int] = mapped_column(ForeignKey(\"user_account.id\"))\n",
    "\n",
    "     user: Mapped[\"User\"] = relationship(back_populates=\"addresses\")\n",
    "\n",
    "     def __repr__(self) -> str:\n",
    "         return f\"Address(id={self.id!r}, email_address={self.email_address!r})\"\n"
   ]
  },
  {
   "cell_type": "markdown",
   "metadata": {},
   "source": [
    "Create an engine"
   ]
  },
  {
   "cell_type": "code",
   "execution_count": 23,
   "metadata": {},
   "outputs": [],
   "source": [
    "connection_string = \"DRIVER=ODBC Driver 17 for SQL Server;SERVER=localhost;DATABASE=sql_alchemy;trusted_connection=yes\"\n",
    "connection_url = URL.create(\"mssql+pyodbc\", query={\"odbc_connect\": connection_string})\n",
    "engine = create_engine(connection_url)"
   ]
  },
  {
   "cell_type": "markdown",
   "metadata": {},
   "source": [
    "Create table DDL"
   ]
  },
  {
   "cell_type": "code",
   "execution_count": 15,
   "metadata": {},
   "outputs": [],
   "source": [
    "Base.metadata.create_all(engine)"
   ]
  },
  {
   "cell_type": "markdown",
   "metadata": {},
   "source": [
    "Create objects and persist"
   ]
  },
  {
   "cell_type": "code",
   "execution_count": 11,
   "metadata": {},
   "outputs": [],
   "source": [
    "with Session(engine) as session:\n",
    "     spongebob = User(\n",
    "         name=\"spongebob\",\n",
    "         fullname=\"Spongebob Squarepants\",\n",
    "         addresses=[Address(email_address=\"spongebob@sqlalchemy.org\")],\n",
    "     )\n",
    "     sandy = User(\n",
    "         name=\"sandy\",\n",
    "         fullname=\"Sandy Cheeks\",\n",
    "         addresses=[\n",
    "             Address(email_address=\"sandy@sqlalchemy.org\"),\n",
    "             Address(email_address=\"sandy@squirrelpower.org\"),\n",
    "         ],\n",
    "     )\n",
    "     patrick = User(name=\"patrick\", fullname=\"Patrick Star\")\n",
    "\n",
    "     session.add_all([spongebob, sandy, patrick])\n",
    "\n",
    "     session.commit()"
   ]
  },
  {
   "cell_type": "markdown",
   "metadata": {},
   "source": [
    "Simple Select "
   ]
  },
  {
   "cell_type": "code",
   "execution_count": 24,
   "metadata": {},
   "outputs": [
    {
     "name": "stdout",
     "output_type": "stream",
     "text": [
      "User(id=1, name='spongebob', fullname='Spongebob Squarepants')\n",
      "User(id=2, name='sandy', fullname='Sandy Cheeks')\n"
     ]
    }
   ],
   "source": [
    "session = Session(engine)\n",
    "stmt = select(User).where(User.name.in_([\"spongebob\", \"sandy\"]))\n",
    "for user in session.scalars(stmt):\n",
    "     print(user)"
   ]
  },
  {
   "cell_type": "markdown",
   "metadata": {},
   "source": [
    "Select with join"
   ]
  },
  {
   "cell_type": "code",
   "execution_count": 25,
   "metadata": {},
   "outputs": [],
   "source": [
    "stmt = (\n",
    "     select(Address)\n",
    "     .join(Address.user)\n",
    "     .where(User.name == \"sandy\")\n",
    "     .where(Address.email_address == \"sandy@sqlalchemy.org\")\n",
    " )"
   ]
  },
  {
   "cell_type": "code",
   "execution_count": 26,
   "metadata": {},
   "outputs": [],
   "source": [
    "sandy_address = session.scalars(stmt).one()"
   ]
  },
  {
   "cell_type": "code",
   "execution_count": 27,
   "metadata": {},
   "outputs": [
    {
     "data": {
      "text/plain": [
       "Address(id=2, email_address='sandy@sqlalchemy.org')"
      ]
     },
     "execution_count": 27,
     "metadata": {},
     "output_type": "execute_result"
    }
   ],
   "source": [
    "sandy_address"
   ]
  },
  {
   "cell_type": "markdown",
   "metadata": {},
   "source": [
    "Make Changes"
   ]
  },
  {
   "cell_type": "code",
   "execution_count": 28,
   "metadata": {},
   "outputs": [],
   "source": [
    "stmt = select(User).where(User.name == \"patrick\")\n",
    "patrick = session.scalars(stmt).one()"
   ]
  },
  {
   "cell_type": "code",
   "execution_count": 31,
   "metadata": {},
   "outputs": [],
   "source": [
    "patrick.addresses.append(Address(email_address='patrickstar@sqlalchemy.org'))"
   ]
  },
  {
   "cell_type": "code",
   "execution_count": 36,
   "metadata": {},
   "outputs": [],
   "source": [
    "sandy_address.email_address = \"sandy_cheeks@sqlalchemy.org\""
   ]
  },
  {
   "cell_type": "code",
   "execution_count": 37,
   "metadata": {},
   "outputs": [],
   "source": [
    "session.commit()"
   ]
  },
  {
   "cell_type": "markdown",
   "metadata": {},
   "source": [
    "Some Deletes"
   ]
  },
  {
   "cell_type": "code",
   "execution_count": 38,
   "metadata": {},
   "outputs": [],
   "source": [
    "sandy = session.get(User, 2)"
   ]
  },
  {
   "cell_type": "code",
   "execution_count": 39,
   "metadata": {},
   "outputs": [],
   "source": [
    "sandy.addresses.remove(sandy_address)"
   ]
  },
  {
   "cell_type": "code",
   "execution_count": 40,
   "metadata": {},
   "outputs": [],
   "source": [
    "session.flush()"
   ]
  },
  {
   "cell_type": "code",
   "execution_count": 42,
   "metadata": {},
   "outputs": [],
   "source": [
    "session.delete(patrick)"
   ]
  },
  {
   "cell_type": "code",
   "execution_count": 43,
   "metadata": {},
   "outputs": [],
   "source": [
    "session.commit()"
   ]
  },
  {
   "cell_type": "code",
   "execution_count": 44,
   "metadata": {},
   "outputs": [
    {
     "data": {
      "text/plain": [
       "'2.0.35'"
      ]
     },
     "execution_count": 44,
     "metadata": {},
     "output_type": "execute_result"
    }
   ],
   "source": [
    "sqlalchemy.__version__"
   ]
  },
  {
   "cell_type": "markdown",
   "metadata": {},
   "source": [
    "### Unified Tutorial"
   ]
  },
  {
   "cell_type": "markdown",
   "metadata": {},
   "source": [
    "Establishing connectivity - the engine "
   ]
  },
  {
   "cell_type": "code",
   "execution_count": null,
   "metadata": {},
   "outputs": [],
   "source": [
    "engine = create_engine(\"sqlite+pysqlite:///:memory:\", echo=True)"
   ]
  },
  {
   "cell_type": "markdown",
   "metadata": {},
   "source": [
    "Working with Transactions and the DBAPI"
   ]
  },
  {
   "cell_type": "code",
   "execution_count": 24,
   "metadata": {},
   "outputs": [
    {
     "name": "stdout",
     "output_type": "stream",
     "text": [
      "[('hello world',)]\n"
     ]
    }
   ],
   "source": [
    "with engine.connect() as conn:\n",
    "     result = conn.execute(text(\"select 'hello world'\"))\n",
    "     print(result.all())"
   ]
  },
  {
   "cell_type": "code",
   "execution_count": 5,
   "metadata": {},
   "outputs": [],
   "source": [
    "with engine.connect() as conn:\n",
    "    conn.execute(text(\"CREATE TABLE some_table (x int, y int)\"))\n",
    "    conn.execute(\n",
    "        text(\"INSERT INTO some_table (x, y) VALUES (:x, :y)\"),\n",
    "        [{\"x\": 1, \"y\": 1}, {\"x\": 2, \"y\": 4}],\n",
    "    )\n",
    "    conn.commit()"
   ]
  },
  {
   "cell_type": "code",
   "execution_count": 25,
   "metadata": {},
   "outputs": [
    {
     "name": "stdout",
     "output_type": "stream",
     "text": [
      "[(1, 1), (2, 4), (3, 9), (4, 16), (5, 25), (4, 16), (5, 25)]\n"
     ]
    }
   ],
   "source": [
    "with engine.connect() as conn:\n",
    "    result = conn.execute(text('select * from some_table'))\n",
    "    print(result.all())"
   ]
  },
  {
   "cell_type": "markdown",
   "metadata": {},
   "source": [
    "Working with Database Metadata"
   ]
  },
  {
   "cell_type": "code",
   "execution_count": 5,
   "metadata": {},
   "outputs": [],
   "source": [
    "metadata_obj = MetaData()"
   ]
  },
  {
   "cell_type": "code",
   "execution_count": 6,
   "metadata": {},
   "outputs": [],
   "source": [
    "user_table = Table(\n",
    "     \"user_account\",\n",
    "     metadata_obj,\n",
    "     Column(\"id\", Integer, primary_key=True),\n",
    "     Column(\"name\", String(30)),\n",
    "     Column(\"fullname\", String),\n",
    " )"
   ]
  },
  {
   "cell_type": "code",
   "execution_count": 7,
   "metadata": {},
   "outputs": [],
   "source": [
    "address_table = Table(\n",
    "    \"address\",\n",
    "    metadata_obj,\n",
    "    Column(\"id\",Integer,primary_key=True),\n",
    "    Column(\"user_id\",ForeignKey(\"user_account.id\"),nullable=False),\n",
    "    Column(\"email_address\",String,nullable=False),\n",
    ")"
   ]
  },
  {
   "cell_type": "code",
   "execution_count": 48,
   "metadata": {},
   "outputs": [],
   "source": [
    "metadata_obj.create_all(engine)"
   ]
  },
  {
   "cell_type": "markdown",
   "metadata": {},
   "source": [
    "Working with Data"
   ]
  },
  {
   "cell_type": "code",
   "execution_count": 56,
   "metadata": {},
   "outputs": [
    {
     "name": "stdout",
     "output_type": "stream",
     "text": [
      "INSERT INTO user_account (name, fullname) VALUES (:name, :fullname)\n"
     ]
    }
   ],
   "source": [
    "#Insert statements\n",
    "stmt = Insert(user_table).values(name='facundo',fullname='facundo lópez crespo')\n",
    "print(stmt)\n",
    "compiled = stmt.compile()\n",
    "compiled.params\n",
    "with engine.connect() as conn:\n",
    "    result = conn.execute(stmt)\n",
    "    conn.commit()\n",
    "\n",
    "with engine.connect() as conn:\n",
    "     result = conn.execute(\n",
    "            Insert(user_table),\n",
    "         [\n",
    "             {\"name\": \"sandy\", \"fullname\": \"Sandy Cheeks\"},\n",
    "             {\"name\": \"patrick\", \"fullname\": \"Patrick Star\"},\n",
    "         ],\n",
    "     )\n",
    "     conn.commit()    "
   ]
  },
  {
   "cell_type": "code",
   "execution_count": 14,
   "metadata": {},
   "outputs": [],
   "source": [
    "#Insert statements\n",
    "\n",
    "\"\"\" with engine.connect() as conn:\n",
    "     result = conn.execute(\n",
    "            Insert(user_table),\n",
    "         [\n",
    "             {\"name\": \"sandy\", \"fullname\": \"Sandy Cheeks\"},\n",
    "             {\"name\": \"patrick\", \"fullname\": \"Patrick Star\"},\n",
    "         ],\n",
    "     )\n",
    "     conn.commit()  \"\"\"\n",
    "\n",
    "\n",
    "with engine.connect() as conn:\n",
    "     result = conn.execute(\n",
    "         Insert(address_table),\n",
    "         [\n",
    "             {\n",
    "                 \"user_id\": 3,\n",
    "                 \"email_address\": \"spongebob@sqlalchemy.org\",\n",
    "             },\n",
    "             {\"user_id\": 4, \"email_address\": \"sandy@sqlalchemy.org\"},\n",
    "             {\"user_id\": 4, \"email_address\": \"sandy@squirrelpower.org\"},\n",
    "         ],\n",
    "     )\n",
    "     conn.commit()    "
   ]
  },
  {
   "cell_type": "code",
   "execution_count": 9,
   "metadata": {},
   "outputs": [],
   "source": [
    "#Select \n",
    "stmt = select(user_table).where(user_table.c.name == 'facundo').where(user_table.c.fullname == 'facundo lópez crespo')\n",
    "with engine.connect() as conn:\n",
    "    for row in conn.execute(stmt):\n",
    "        print(row)\n"
   ]
  },
  {
   "cell_type": "code",
   "execution_count": 66,
   "metadata": {},
   "outputs": [
    {
     "name": "stdout",
     "output_type": "stream",
     "text": [
      "('facundo',)\n",
      "('ramiro',)\n",
      "('sandy',)\n",
      "('patrick',)\n"
     ]
    }
   ],
   "source": [
    "stmt = select(user_table.c.name)\n",
    "with engine.connect() as conn:\n",
    "    for row in conn.execute(stmt):\n",
    "        print(row)"
   ]
  },
  {
   "cell_type": "code",
   "execution_count": 12,
   "metadata": {},
   "outputs": [
    {
     "name": "stdout",
     "output_type": "stream",
     "text": [
      "SELECT address.email_address \n",
      "FROM address, user_account \n",
      "WHERE user_account.name = :name_1 AND address.user_id = user_account.id\n"
     ]
    }
   ],
   "source": [
    "print(\n",
    "     select(address_table.c.email_address).where(\n",
    "         user_table.c.name == \"squidward\",\n",
    "         address_table.c.user_id == user_table.c.id,\n",
    "     )\n",
    " )"
   ]
  },
  {
   "cell_type": "code",
   "execution_count": 28,
   "metadata": {},
   "outputs": [
    {
     "name": "stdout",
     "output_type": "stream",
     "text": [
      "('sandy', 'spongebob@sqlalchemy.org')\n",
      "('patrick', 'sandy@sqlalchemy.org')\n",
      "('patrick', 'sandy@squirrelpower.org')\n"
     ]
    }
   ],
   "source": [
    "stmt=select(user_table.c.name, address_table.c.email_address).join_from(\n",
    "         user_table, address_table\n",
    "     )\n",
    "with engine.connect() as conn:\n",
    "    response = conn.execute(stmt)\n",
    "    for row in response:\n",
    "        print(row)\n",
    "     "
   ]
  },
  {
   "cell_type": "code",
   "execution_count": 8,
   "metadata": {},
   "outputs": [
    {
     "name": "stdout",
     "output_type": "stream",
     "text": [
      "SELECT user_account.id, user_account.name, user_account.fullname \n",
      "FROM user_account ORDER BY user_account.name\n"
     ]
    }
   ],
   "source": [
    "print(\n",
    "    select(user_table).order_by(user_table.c.name)\n",
    ")"
   ]
  },
  {
   "cell_type": "code",
   "execution_count": 34,
   "metadata": {},
   "outputs": [],
   "source": [
    "#Update statements\n",
    "stmt = (\n",
    "     update(user_table)\n",
    "     .where(user_table.c.name == \"patrick\")\n",
    "     .values(fullname=\"Patrick the Star\")\n",
    " )\n",
    "with engine.connect() as conn:\n",
    "    conn.execute(stmt)\n",
    "    conn.commit()\n",
    "     "
   ]
  },
  {
   "cell_type": "code",
   "execution_count": 36,
   "metadata": {},
   "outputs": [],
   "source": [
    "#Delete statements\n",
    "stmt = (\n",
    "     delete(user_table)\n",
    "     .where(user_table.c.name == \"ramiro\")\n",
    " )\n",
    "with engine.connect() as conn:\n",
    "    conn.execute(stmt)\n",
    "    conn.commit()"
   ]
  },
  {
   "cell_type": "code",
   "execution_count": 38,
   "metadata": {},
   "outputs": [
    {
     "name": "stdout",
     "output_type": "stream",
     "text": [
      "('facundo',)\n"
     ]
    }
   ],
   "source": [
    "stmt = (\n",
    "     delete(user_table)\n",
    "     .where(user_table.c.name == \"facundo\")\n",
    "     .returning(user_table.c.name)\n",
    " )\n",
    "with engine.connect() as conn:\n",
    "    result = conn.execute(stmt)\n",
    "    for row in result:\n",
    "        print(row)\n",
    "    conn.commit()        "
   ]
  }
 ],
 "metadata": {
  "colab": {
   "provenance": []
  },
  "kernelspec": {
   "display_name": "Python 3",
   "language": "python",
   "name": "python3"
  },
  "language_info": {
   "codemirror_mode": {
    "name": "ipython",
    "version": 3
   },
   "file_extension": ".py",
   "mimetype": "text/x-python",
   "name": "python",
   "nbconvert_exporter": "python",
   "pygments_lexer": "ipython3",
   "version": "3.11.9"
  }
 },
 "nbformat": 4,
 "nbformat_minor": 0
}
