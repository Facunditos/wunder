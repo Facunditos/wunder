{
 "cells": [
  {
   "cell_type": "markdown",
   "metadata": {
    "id": "C51oHN3dknr6"
   },
   "source": [
    "# Librerías"
   ]
  },
  {
   "cell_type": "code",
   "execution_count": 1,
   "metadata": {
    "id": "boAsIx8yknsa"
   },
   "outputs": [],
   "source": [
    "from bs4 import BeautifulSoup # type: ignore\n",
    "import requests # type: ignore\n",
    "import pandas as pd # type: ignore\n",
    "from datetime import date,timedelta,datetime\n",
    "import time\n",
    "import seaborn as sns # type: ignore\n",
    "import matplotlib.pyplot as plt # type: ignore\n",
    "import csv\n",
    "import re\n",
    "import sqlalchemy # type: ignore\n",
    "import sqlalchemy # type: ignore\n",
    "import pyodbc # type: ignore\n",
    "from sqlalchemy.engine import * # type: ignore\n",
    "from sqlalchemy.orm import * # type: ignore\n",
    "from sqlalchemy import * # type: ignore\n",
    "from sqlalchemy import update # type: ignore\n",
    "from typing import List\n",
    "from typing import Optional\n",
    "from typing import Any, TYPE_CHECKING\n",
    "\n",
    "import os\n",
    "import numpy as np # type: ignore\n",
    "import warnings\n",
    "warnings.filterwarnings('ignore')\n",
    "import os.path as path\n"
   ]
  },
  {
   "cell_type": "markdown",
   "metadata": {
    "id": "8rcG90xTknsr"
   },
   "source": [
    "# Desarrollo"
   ]
  },
  {
   "cell_type": "code",
   "execution_count": null,
   "metadata": {
    "id": "LNqkImExK09p"
   },
   "outputs": [],
   "source": [
    "print('hola')"
   ]
  },
  {
   "cell_type": "markdown",
   "metadata": {
    "id": "CC4iEdLsKZWG"
   },
   "source": [
    "## Funciones comunes"
   ]
  },
  {
   "cell_type": "code",
   "execution_count": 2,
   "metadata": {
    "id": "VEv8D20-KZWG"
   },
   "outputs": [],
   "source": [
    "estaciones_elegidas = pd.read_excel('./info_wunder.xlsx','estaciones')"
   ]
  },
  {
   "cell_type": "code",
   "execution_count": null,
   "metadata": {
    "id": "kEk8rC8EKZWG"
   },
   "outputs": [],
   "source": [
    "df_cuentas_wunder=pd.read_excel('./info_wunder.xlsx','apiKeys',skiprows=2)\n",
    "api_keys=df_cuentas_wunder['apiKey']\n",
    "api_keys=list(api_keys)\n",
    "api_keys\n"
   ]
  },
  {
   "cell_type": "code",
   "execution_count": 4,
   "metadata": {
    "id": "zb4msAytKZWH"
   },
   "outputs": [],
   "source": [
    "def extraer_campos_utiles(observaciones:list,dia:date,stationId:str=None)->list:\n",
    "    \"\"\"retorna un mensaje en torno a las observaciones agregadas\n",
    "    y la fecha de la última observacoin agregada\"\"\"\n",
    "    observaciones_filtrada=[]\n",
    "    # Reportes completos\n",
    "    if (len(observaciones)==288):\n",
    "        # dia_con_obs=1 | dia_completo=1\n",
    "        for observacion in observaciones:\n",
    "            observacion_filtrada = [observacion['stationID'],observacion['lat'],observacion['lon'],observacion['obsTimeLocal'],observacion['winddirAvg'],observacion['metric']['windspeedAvg'],observacion['metric']['windgustAvg'],observacion['metric']['precipRate'],observacion['metric']['precipTotal'],1,1]\n",
    "            observaciones_filtrada.append(observacion_filtrada)\n",
    "    # Reportes Incompletos\n",
    "    elif ((len(observaciones)>0)):\n",
    "        # dia_con_obs=1 | dia_completo=0\n",
    "        for observacion in observaciones:\n",
    "            observacion_filtrada = [observacion['stationID'],observacion['lat'],observacion['lon'],observacion['obsTimeLocal'],observacion['winddirAvg'],observacion['metric']['windspeedAvg'],observacion['metric']['windgustAvg'],observacion['metric']['precipRate'],observacion['metric']['precipTotal'],1,0]\n",
    "            observaciones_filtrada.append(observacion_filtrada)\n",
    "    #No hubo reportes\n",
    "    else:\n",
    "        observacion_filtrada = [stationId,None,None,dia,None,None,None,None,None,0,0]\n",
    "        observaciones_filtrada.append(observacion_filtrada)\n",
    "    return observaciones_filtrada\n"
   ]
  },
  {
   "cell_type": "code",
   "execution_count": 5,
   "metadata": {
    "id": "oOt82qGEKZWH"
   },
   "outputs": [],
   "source": [
    "def construirObservacion(obs:dict,campos:tuple)->list:\n",
    "    \"\"\" Recibe una observación en formato diccionario y los campos de interés como tupla.\n",
    "    Devuelve una lista con los valores de los campos de interés \"\"\"\n",
    "    var_sin_unidad=[\"stationID\",\"tz\",\"obsTimeUtc\",\"obsTimeLocal\",\"epoch\",\"lat\",\"lon\",\"solarRadiationHigh\",\"uvHigh\",\"winddirAvg\",\"humidityHigh\",\"humidityLow\",\"humidityAvg\",\"qcStatus\"]\n",
    "    observacion=[]\n",
    "    for campo in campos:\n",
    "        if campo in var_sin_unidad:\n",
    "            observacion.append(obs[campo])\n",
    "        else:\n",
    "            observacion.append(obs['metric'][campo])\n",
    "    return observacion"
   ]
  },
  {
   "cell_type": "code",
   "execution_count": null,
   "metadata": {
    "id": "1JdkEXhNKZWH"
   },
   "outputs": [],
   "source": [
    "\"\"\" construirObservacion({'tz':'Darío','metric':{\"tempHigh\":'Facundo'}},('tz','tempHigh')) \"\"\""
   ]
  },
  {
   "cell_type": "code",
   "execution_count": 7,
   "metadata": {
    "id": "qawFcTThKZWH"
   },
   "outputs": [],
   "source": [
    "def extraer_campos(observaciones:list,dia:date,stationId:str,variables:tuple)->list:\n",
    "    \"\"\"retorna un mensaje en torno a las observaciones agregadas\n",
    "    y la fecha de la última observacoin agregada\"\"\"\n",
    "    obs=[]\n",
    "    #No hubo reportes\n",
    "    if (len(observaciones)==0):\n",
    "        observacion = [stationId,None,None,dia,None,None,None,None,None,None,None,None,None,None,None,None,None,None,None,None,None,None,None,None,None,None,None,None,None,None,None,None,None,None,None,None,None,0,0]\n",
    "        obs.append(observacion)\n",
    "    else:\n",
    "        # Reportes completos\n",
    "        if (len(observaciones)==288):\n",
    "            # dia_con_obs=1 | dia_completo=1\n",
    "            for observacion in observaciones:\n",
    "                observacion = construirObservacion(observacion,variables)\n",
    "                observacion+=[1,1]\n",
    "                obs.append(observacion)\n",
    "        # Reportes Incompletos\n",
    "        else:\n",
    "            # dia_con_obs=1 | dia_completo=0\n",
    "            for observacion in observaciones:\n",
    "                observacion = construirObservacion(observacion,variables)\n",
    "                observacion+=[1,0]\n",
    "                obs.append(observacion)\n",
    "    return obs"
   ]
  },
  {
   "cell_type": "code",
   "execution_count": 8,
   "metadata": {
    "id": "4XE12syWKZWI"
   },
   "outputs": [],
   "source": [
    "def cambiar_api_key(conjunto_api_key:list[str],api_key_actual:str)->str:\n",
    "    indice_api_key_actual=conjunto_api_key.index(api_key_actual)\n",
    "    if indice_api_key_actual==len(conjunto_api_key)-1:\n",
    "        return ''\n",
    "    else:\n",
    "        siguiente_api_key=conjunto_api_key[indice_api_key_actual+1]\n",
    "        return siguiente_api_key\n"
   ]
  },
  {
   "cell_type": "code",
   "execution_count": 9,
   "metadata": {
    "id": "jaZ5WhMNKZWI"
   },
   "outputs": [],
   "source": [
    "#cambiar_api_key(api_keys,'0f80b73561fe451b80b73561fe651b08')"
   ]
  },
  {
   "cell_type": "code",
   "execution_count": 10,
   "metadata": {
    "id": "TsgsYGcFKZWI"
   },
   "outputs": [],
   "source": [
    "def imprimir_mensaje(situacion:str,vieja_api_key:str=None,url:str=None,llamadas_totales:int=None,\n",
    "    identificador_estacion:str=None,dia:date=None,status_code:int=None,n_error_con:int=None,problema=None)->None:\n",
    "    #Se agotó el cupo de llamadas por api key\n",
    "    if (situacion=='llamada 1400'):\n",
    "        print(f'cambio de api key por llamada 1400. Vieja api key\\n{vieja_api_key}')\n",
    "    #La api key no tiene autorización\n",
    "    elif (situacion=='api key desautorizada'):\n",
    "        print(f'cambio de api key por problmeas de autorización.\\nRespuesta:{status_code}.\\nVieja api key\\n{vieja_api_key}')\n",
    "    #El servidor no responde\n",
    "    elif (situacion=='el servidor no contesta'):\n",
    "        print(f'Problemas con el servidor web.\\nRespuesta:{status_code}.\\nSe pausa durante una hora la ejecución.\\nHora de pausa:{datetime.now()}')\n",
    "    elif (situacion=='respesta del servidor desconocida'):\n",
    "        print(f'Se obtuvo una respuesta desconocida.\\nRespuesta:{status_code}.\\nLlamado:{url}')\n",
    "    elif (situacion=='error de conexión'):\n",
    "        print(f'Hubo un problema con la conexión al servidor.\\nError número:{n_error_con}.\\nError:{problema}\\nSe aguarda 1 minuto')\n",
    "    #Se agotaron todas las api keys\n",
    "    elif(situacion=='sin api keys'):\n",
    "        print(f'se consumieron todas las api keys disponibles.\\nÚltimo llamado:{url}.')\n",
    "    #La estación registró 30 días consecutivos sin reportes\n",
    "    elif(situacion=='cambio estacion'):\n",
    "        print(f'se cargaron todas las observacines de {identificador_estacion}')\n",
    "    elif(situacion=='fin ejecución'):\n",
    "        print(f'Finalizó la ejecucución del programa.\\nTotal de llamadas:{llamadas_totales}')\n"
   ]
  },
  {
   "cell_type": "code",
   "execution_count": null,
   "metadata": {
    "id": "hQTNC8ZgKZWI"
   },
   "outputs": [],
   "source": [
    "\"\"\" imprimir_mensaje(situacion='llamada 1400',vieja_api_key='ad2')\n",
    "imprimir_mensaje(situacion='cambio de estacion',identificador_estacion='ros')\n",
    "imprimir_mensaje(situacion='api key desautorizada',status_code=401,vieja_api_key='as')\n",
    "imprimir_mensaje(situacion='sin api keys',url='https',llamadas_totales=102)\n",
    "imprimir_mensaje(situacion='el servidor no contesta',status_code=500)\n",
    "imprimir_mensaje(situacion='respesta del servidor desconocida',status_code=403,url='https')\n",
    "imprimir_mensaje(situacion='error de conexión',n_error_con=3,problema='error SSL')\n",
    "imprimir_mensaje(situacion='ejecucion exitosa',llamadas_totales=689)     \"\"\""
   ]
  },
  {
   "cell_type": "code",
   "execution_count": 12,
   "metadata": {
    "id": "Tu1wdXItKZWI"
   },
   "outputs": [],
   "source": [
    "def escribirCSV(ruta:str,datos:list)->None:\n",
    "    #Se elige el modo escritura(w) por lo que se sobreescribe el archivo\n",
    "    with open(ruta,'w',newline='') as csv_file:\n",
    "            writer = csv.writer(csv_file)\n",
    "            writer.writerows(datos)"
   ]
  },
  {
   "cell_type": "code",
   "execution_count": 13,
   "metadata": {
    "id": "MDwX5rDzKZWI"
   },
   "outputs": [],
   "source": [
    "#escribirCSV(ruta='ejemplo.csv',datos=[['facundo','2024/9/7'],['mariana','2023/9/7']],campos_encabezado=('nombre','fecha'))"
   ]
  },
  {
   "cell_type": "markdown",
   "metadata": {
    "id": "ck7sUf7eKZWI"
   },
   "source": [
    "## Búsqueda de estaciones"
   ]
  },
  {
   "cell_type": "code",
   "execution_count": null,
   "metadata": {
    "id": "1qSeNM80KZWJ"
   },
   "outputs": [],
   "source": [
    "coordenadas_df = pd.read_csv('./puntos_rectangulo.txt',header=None)\n",
    "coordenadas_df.columns = ['latitud','longitud']\n",
    "coordenadas_df.info()"
   ]
  },
  {
   "cell_type": "code",
   "execution_count": null,
   "metadata": {
    "id": "7rXmHzNkKZWJ"
   },
   "outputs": [],
   "source": [
    "coordenadas_df[(coordenadas_df['latitud']<=-32.90) & (coordenadas_df['latitud']>=-32.96) & (coordenadas_df['longitud']<=-60.60) & (coordenadas_df['longitud']>=-60.65)]"
   ]
  },
  {
   "cell_type": "code",
   "execution_count": null,
   "metadata": {
    "id": "T7Uy55q5KZWJ"
   },
   "outputs": [],
   "source": [
    "distancia_df = pd.read_csv('./distancias_promedios.csv',header=None)\n",
    "distancia_df.columns = ['distancias_promedio']\n",
    "distancia_s = distancia_df['distancias_promedio']"
   ]
  },
  {
   "cell_type": "code",
   "execution_count": null,
   "metadata": {
    "id": "pHIFies_KZWJ"
   },
   "outputs": [],
   "source": [
    "est_enc_df = pd.read_csv('./estaciones_encontradas.csv',header=None)\n",
    "est_enc_df.columns = ['id_est','lat','lon']\n",
    "est_enc_id = est_enc_df['id_est']"
   ]
  },
  {
   "cell_type": "code",
   "execution_count": null,
   "metadata": {
    "id": "11hTsQ9CKZWJ"
   },
   "outputs": [],
   "source": [
    "est_enc_df.describe()"
   ]
  },
  {
   "cell_type": "code",
   "execution_count": null,
   "metadata": {
    "id": "BJyzAz82KZWJ"
   },
   "outputs": [],
   "source": [
    "est_enc_id"
   ]
  },
  {
   "cell_type": "code",
   "execution_count": null,
   "metadata": {
    "id": "abzhQAbDKZWJ"
   },
   "outputs": [],
   "source": [
    "estaciones_elegidas[(~estaciones_elegidas['stationID'].isin(est_enc_id)) & (estaciones_elegidas['comentario']!='sin observaciones')]"
   ]
  },
  {
   "cell_type": "code",
   "execution_count": null,
   "metadata": {
    "id": "gHMGMuvGKZWJ"
   },
   "outputs": [],
   "source": [
    "'ramiro' in ['ramiro']"
   ]
  },
  {
   "cell_type": "code",
   "execution_count": null,
   "metadata": {
    "id": "BFIITg3XKZWJ"
   },
   "outputs": [],
   "source": [
    "distancia_s.loc[distancia_s== distancia_s.min()]"
   ]
  },
  {
   "cell_type": "code",
   "execution_count": null,
   "metadata": {
    "id": "oG5cT4JZKZWJ"
   },
   "outputs": [],
   "source": [
    "def analizar_estaciones_cercanas(estaciones:dict,estaciones_id:list[str],estaciones_datos:list[dict],distancias:list[float])->None:\n",
    "    for i,est_id in enumerate(estaciones['stationId']):\n",
    "        if (est_id not in estaciones_id):\n",
    "            estaciones_id.append(est_id)\n",
    "            est_latitud = estaciones['latitude'][i]\n",
    "            est_longitud = estaciones['longitude'][i]\n",
    "            est_datos = est_id,est_latitud,est_longitud\n",
    "            estaciones_datos.append(est_datos)\n",
    "        else:\n",
    "            continue\n",
    "    q_estaciones = len(estaciones['distanceKm'])\n",
    "    suma_dist = sum(estaciones['distanceKm'])\n",
    "    dist_promedio = suma_dist /q_estaciones\n",
    "    distancias.append([dist_promedio])\n"
   ]
  },
  {
   "cell_type": "code",
   "execution_count": null,
   "metadata": {
    "id": "revG00GOKZWJ"
   },
   "outputs": [],
   "source": [
    "def busqueda_estaciones(coordendas:pd.Series,claves_api:list[str])->None:\n",
    "    numero_llamada_global=0\n",
    "    numero_llamada_api_key=0\n",
    "    #Seteo de variables\n",
    "    api_key=claves_api[0]\n",
    "    numero_error_conexion=0\n",
    "    recurso=''\n",
    "    estaciones_id = []\n",
    "    estaciones_datos = []\n",
    "    if path.isfile('G:/Mi unidad/tecnicatura_ia/adscripcion/wunder/estaciones_encontradas.csv'):\n",
    "        with open('estaciones_encontradas.csv','r',newline='') as datos:\n",
    "                lector_csv = csv.reader(datos)\n",
    "                for fila in lector_csv:\n",
    "                    estaciones_id.append(fila[0])\n",
    "                    estaciones_datos.append(tuple(fila))\n",
    "    distancia_promedio = []\n",
    "    if path.isfile('G:/Mi unidad/tecnicatura_ia/adscripcion/wunder/distancias_promedios.csv'):\n",
    "        with open('distancias_promedios.csv','r',newline='') as datos:\n",
    "                lector_csv = csv.reader(datos)\n",
    "                for fila in lector_csv:\n",
    "                    distancia_promedio.append(fila[0])\n",
    "    for idx,coor in coordenadas_df.iterrows():\n",
    "        if (numero_llamada_api_key==1400):\n",
    "            imprimir_mensaje(situacion='llamada 1400',vieja_api_key=api_key)\n",
    "            api_key=cambiar_api_key(conjunto_api_key=api_keys,api_key_actual=api_key)\n",
    "            #Si se agotaron las api keys se rompe el bucle white\n",
    "            if (api_key==''):\n",
    "                imprimir_mensaje(situacion='sin api keys',url=recurso)\n",
    "                break\n",
    "            numero_llamada_api_key=0\n",
    "        lat = coor.loc['latitud']\n",
    "        lon = coor.loc['longitud']\n",
    "        recurso=f'https://api.weather.com/v3/location/near?geocode={lat},{lon}&product=pws&format=json&apiKey={api_key}'\n",
    "        while True:\n",
    "            try:\n",
    "                # Mandatoriamente se debe indicar un tiempo límite de espera para evitar que la llamada quede inconclusa por falta de respuesta de la API\n",
    "                respuesta = requests.get(recurso,timeout=60)\n",
    "                codigo_respusta=respuesta.status_code\n",
    "                numero_llamada_api_key+=1\n",
    "                numero_llamada_global+=1\n",
    "                # Status Code 200: OK. The request has succeeded.\n",
    "                # Status Code 204: No Data Found for specific query. The 204 status code will have an empty response body.\n",
    "                if (codigo_respusta==200 or codigo_respusta==204):\n",
    "                    estaciones_cercanas = respuesta.json()['location'] if codigo_respusta==200 else []\n",
    "                    analizar_estaciones_cercanas(estaciones_cercanas,estaciones_id,estaciones_datos,distancia_promedio)\n",
    "                    break\n",
    "                elif (codigo_respusta==401):\n",
    "                    # Status Code 401: Unauthorized. The request requires authentication.\n",
    "                    imprimir_mensaje(situacion='api key desautorizada',status_code=codigo_respusta,vieja_api_key=api_key)\n",
    "                    api_key=cambiar_api_key(conjunto_api_key=api_keys,api_key_actual=api_key)\n",
    "                    #Si se agotaron las api keys se rompe el bucle white\n",
    "                    if (api_key==''):\n",
    "                        break\n",
    "                    numero_llamada_api_key=0\n",
    "                elif (codigo_respusta==500):\n",
    "                    imprimir_mensaje(situacion='el servidor no contesta',status_code=codigo_respusta)\n",
    "                    una_hora=60*60\n",
    "                    #Se pausa la ejecución para aguardar que normalicen el funcionamiento del servidor\n",
    "                    time.sleep(una_hora)\n",
    "                else:\n",
    "                    imprimir_mensaje(situacion='respesta del servidor desconocida',status_code=codigo_respusta,url=recurso)\n",
    "            except requests.exceptions.RequestException as error:\n",
    "                numero_error_conexion+=1\n",
    "                imprimir_mensaje(situacion='error de conexión',n_error_con=numero_error_conexion,problema=error)\n",
    "                un_minuto=60\n",
    "                #Se pausa la ejecución para aguardar que normalicen el funcionamiento del servidor\n",
    "                time.sleep(un_minuto)\n",
    "        #Sale del while y corroborra que se pueda pasar a la siguiente estación\n",
    "        if (api_key==''):\n",
    "            print(f'indice coordenada consultada: {idx}')\n",
    "            escribirCSV(ruta='estaciones_encontradas.csv',datos=estaciones_datos)\n",
    "            escribirCSV(ruta='distancias_promedios.csv',datos=distancia_promedio)\n",
    "            imprimir_mensaje(situacion='sin api keys',url=recurso)\n",
    "            break\n",
    "    print(f'indice coordenada consultada: {idx}')\n",
    "    escribirCSV(ruta='estaciones_encontradas.csv',datos=estaciones_datos)\n",
    "    escribirCSV(ruta='distancias_promedios.csv',datos=distancia_promedio)\n",
    "    imprimir_mensaje(situacion='fin ejecución',llamadas_totales=numero_llamada_global)"
   ]
  },
  {
   "cell_type": "code",
   "execution_count": null,
   "metadata": {
    "id": "6f39KD2AKZWK"
   },
   "outputs": [],
   "source": [
    "busqueda_estaciones(coordenadas_df,api_keys)"
   ]
  },
  {
   "cell_type": "markdown",
   "metadata": {
    "id": "GBjPBEohknxD"
   },
   "source": [
    "## Inicio observaciones"
   ]
  },
  {
   "cell_type": "code",
   "execution_count": null,
   "metadata": {
    "id": "hEzW3k90knxJ"
   },
   "outputs": [],
   "source": [
    "def buscar_primer_registro(id_estacion:str,año:int,mes:int,hasta_año:int,hasta_mes:int)->str:\n",
    "    \"\"\"retorna un dato que puede ser la fecha del primer registro o un mensaje\n",
    "    en caso que no se haya encontrado el primer registros\"\"\"\n",
    "    n_quebro=1\n",
    "    numero_llamada=1\n",
    "    while True:\n",
    "        URL = f\"https://www.wunderground.com/dashboard/pws/{id_estacion}/table/{año}-{mes}-1/{año}-{mes}-1/monthly\"\n",
    "        r = requests.get(URL)\n",
    "        soup = BeautifulSoup(r.text,'lxml')\n",
    "        titulo=soup.find('h1').text\n",
    "        # Error 404 puede obedecer a que la estación no exista\n",
    "        if titulo=='Error 404: Page Not Found':\n",
    "            t_cuerpo=None\n",
    "            break\n",
    "        tabla = soup.find('table',{'class':'history-table desktop-table'})\n",
    "        try:\n",
    "            t_cuerpo=tabla.find('tbody')\n",
    "            numero_llamada+=1\n",
    "        # La plataforma a veces no devuelve el recurso solicitado. Se probó la sentencia continue para repetir, pero reitera el error\n",
    "        except AttributeError:\n",
    "            t_cuerpo=None\n",
    "            #continue\n",
    "            break\n",
    "        # Si el cuerpo de la tabla no es un string vacío significa que SÍ hay registros para la fecha consultada\n",
    "        if (t_cuerpo.text!=''):\n",
    "            break\n",
    "        # Si se llegó a la fecha límite significa que la estación nunca tuvo registros\n",
    "        elif(año==hasta_año and mes==hasta_mes):\n",
    "            break\n",
    "        # Se consulta si subo registros el mes siguiente\n",
    "        else:\n",
    "            mes+=1\n",
    "            if mes==13:\n",
    "                año+=1\n",
    "                mes=1\n",
    "    if (t_cuerpo is None):\n",
    "        mensaje=f\"problema con solicitud {URL}\"\n",
    "    elif (t_cuerpo.text==''):\n",
    "        mensaje='no se encontraron observaciones'\n",
    "    else:\n",
    "        fecha=t_cuerpo.find('td').text\n",
    "        mes,dia,año=fecha.split('/')\n",
    "        fecha=f\"{año}/{mes}/{dia}\"\n",
    "        mensaje=fecha\n",
    "    return mensaje"
   ]
  },
  {
   "cell_type": "code",
   "execution_count": null,
   "metadata": {
    "id": "tKuGUUZKKZWK"
   },
   "outputs": [],
   "source": [
    "def reescribir_inicio_estaciones(estaciones_id:pd.DataFrame)->None:\n",
    "    inicio_reportes=[]\n",
    "    for r in estaciones_id.iterrows():\n",
    "        i,s=r\n",
    "        estacion=s.loc['estaciones_id']\n",
    "        dato=s.loc['fecha_inicio']\n",
    "        hubo_problema=True if dato.find('p')!=-1 else False\n",
    "        if (hubo_problema):\n",
    "            fecha=re.search(r\"\\d{4}-\\d\",dato)\n",
    "            año,mes=fecha.group().split(\"-\")\n",
    "            print(\"año\",año)\n",
    "            print('mes',mes)\n",
    "            dato=buscar_primer_registro(estacion,int(año),int(mes),2024,9)\n",
    "        print(f\"{estacion},{dato}\")\n",
    "        inicio_reportes.append([estacion,dato])\n",
    "    escribirCSV(ruta='inicio_observaciones.csv',datos=inicio_reportes,campos_encabezado=('estaciones_id','fecha_inicio'))"
   ]
  },
  {
   "cell_type": "code",
   "execution_count": null,
   "metadata": {
    "id": "XZwvkow1KZWK"
   },
   "outputs": [],
   "source": [
    "def escribir_inicio_estaciones(estaciones_id:list)->None:\n",
    "    inicio_reportes=[]\n",
    "    for estacion in estaciones_id:\n",
    "        dato=buscar_primer_registro(estacion,2010,1,2024,9)\n",
    "        print(f\"{estacion},{dato}\")\n",
    "        inicio_reportes.append([estacion,dato])\n",
    "    escribirCSV(ruta='inicio_observaciones.csv',datos=inicio_reportes,campos_encabezado=('estaciones_id','fecha_inicio'))"
   ]
  },
  {
   "cell_type": "code",
   "execution_count": null,
   "metadata": {
    "id": "RuhJM7gsKZWK"
   },
   "outputs": [],
   "source": [
    "df_estaciones=pd.read_csv(\"inicio_observaciones.csv\")\n",
    "reescribir_inicio_estaciones(df_estaciones)"
   ]
  },
  {
   "cell_type": "code",
   "execution_count": null,
   "metadata": {
    "id": "-20J6rnvKZWK"
   },
   "outputs": [],
   "source": [
    "df_estaciones=pd.read_csv(\"inicio_observaciones.csv\")\n",
    "inicio_reportes=[]\n",
    "for r in df_estaciones.iterrows():\n",
    "    i,s=r\n",
    "    estacion=s.loc['estaciones_id']\n",
    "    dato=s.loc['fecha_inicio']\n",
    "    if (dato!='sin observaciones'):\n",
    "        f_l=dato.split(\"/\")\n",
    "        primer_termino=f_l[0]\n",
    "        if (len(primer_termino)!=4):\n",
    "            dia=primer_termino\n",
    "            mes=f_l[1]\n",
    "            año=f_l[2]\n",
    "            dato=f\"{año}/{mes}/{dia}\"\n",
    "    inicio_reportes.append([estacion,dato])\n",
    "escribirCSV(ruta='inicio_observaciones.csv',datos=inicio_reportes,campos_encabezado=('estaciones_id','fecha_inicio'))"
   ]
  },
  {
   "cell_type": "markdown",
   "metadata": {
    "id": "ZJtnulCeKZWK"
   },
   "source": [
    "## Carga observaciones"
   ]
  },
  {
   "cell_type": "code",
   "execution_count": null,
   "metadata": {
    "id": "Vid_5B17KZWK"
   },
   "outputs": [],
   "source": [
    "def datos_estaciones(estaciones:pd.DataFrame,var_w,claves_api:list[str])->None:\n",
    "    numero_llamada_global=0\n",
    "    numero_llamada_api_key=0\n",
    "    #Seteo de variables\n",
    "    api_key=claves_api[0]\n",
    "    numero_error_conexion=0\n",
    "    recurso=''\n",
    "    for i,estacion in estaciones.iterrows():\n",
    "        if estacion['buscar_obs'] == 1:\n",
    "            estacion_id=estacion['id']\n",
    "            fecha = estacion['inicio']\n",
    "            año = fecha.year\n",
    "            mes = fecha.month\n",
    "            dia = fecha.day\n",
    "            total_observaciones=[]\n",
    "            fecha=date(año,mes,dia)\n",
    "            fecha_limite = date(2024,9,11)\n",
    "            while fecha<=fecha_limite:\n",
    "                if (numero_llamada_api_key==1400):\n",
    "                        imprimir_mensaje(situacion='llamada 1400',vieja_api_key=api_key)\n",
    "                        api_key=cambiar_api_key(conjunto_api_key=api_keys,api_key_actual=api_key)\n",
    "                        #Si se agotaron las api keys se rompe el bucle white\n",
    "                        if (api_key==''):\n",
    "                            break\n",
    "                        numero_llamada_api_key=0\n",
    "                fecha_str = \"{:04d}\".format(fecha.year) + \"{:02d}\".format(fecha.month) + \"{:02d}\".format(fecha.day)\n",
    "                recurso=f'https://api.weather.com/v2/pws/history/all?stationId={estacion_id}&format=json&units=m&apiKey={api_key}&numericPrecision=decimal&date={fecha_str}'\n",
    "                try:\n",
    "                    # Mandatoriamente se debe indicar un tiempo límite de espera para evitar que la llamada quede inconclusa por falta de respuesta de la API\n",
    "                    respuesta = requests.get(recurso,timeout=60)\n",
    "                    codigo_respusta=respuesta.status_code\n",
    "                    numero_llamada_api_key+=1\n",
    "                    numero_llamada_global+=1\n",
    "                    # Status Code 200: OK. The request has succeeded.\n",
    "                    # Status Code 204: No Data Found for specific query. The 204 status code will have an empty response body.\n",
    "                    if (codigo_respusta==200 or codigo_respusta==204):\n",
    "                        observaciones_un_dia = respuesta.json()['observations'] if codigo_respusta==200 else []\n",
    "                        total_observaciones+=extraer_campos(observaciones_un_dia,fecha,estacion_id)\n",
    "                        fecha+= timedelta(days=1)\n",
    "                    elif (codigo_respusta==401):\n",
    "                        # Status Code 401: Unauthorized. The request requires authentication.\n",
    "                        imprimir_mensaje(situacion='api key desautorizada',status_code=codigo_respusta,vieja_api_key=api_key)\n",
    "                        api_key=cambiar_api_key(conjunto_api_key=api_keys,api_key_actual=api_key)\n",
    "                        #Si se agotaron las api keys se rompe el bucle white\n",
    "                        if (api_key==''):\n",
    "                            break\n",
    "                        numero_llamada_api_key=0\n",
    "                    elif (codigo_respusta==500):\n",
    "                        imprimir_mensaje(situacion='el servidor no contesta',status_code=codigo_respusta)\n",
    "                        una_hora=60*60\n",
    "                        #Se pausa la ejecución para aguardar que normalicen el funcionamiento del servidor\n",
    "                        time.sleep(una_hora)\n",
    "                    else:\n",
    "                        imprimir_mensaje(situacion='respesta del servidor desconocida',status_code=codigo_respusta,url=recurso)\n",
    "                except requests.exceptions.RequestException as error:\n",
    "                    numero_error_conexion+=1\n",
    "                    imprimir_mensaje(situacion='error de conexión',n_error_con=numero_error_conexion,problema=error)\n",
    "                    un_minuto=60\n",
    "                    #Se pausa la ejecución para aguardar que normalicen el funcionamiento del servidor\n",
    "                    time.sleep(un_minuto)\n",
    "            #Escribe todas las observaciones recolectadas de la estación antes de saltar a la siguiente\n",
    "            ubicacion=f'C:/Users/Usuario/Documents/observaciones/completas/observaciones_completas_{estacion_id}.csv'\n",
    "            var_con=[\"dia_con_obs\",\"dia_completo\"]\n",
    "            var_todas=tuple(var_w+var_con)\n",
    "            imprimir_mensaje(situacion='cambio estacion',identificador_estacion=estacion_id)\n",
    "            escribirCSV(ruta=ubicacion,datos=total_observaciones,campos_encabezado=var_todas)\n",
    "\n",
    "        #Sale del while y corroborra que se pueda pasar a la siguiente estación\n",
    "        if (api_key==''):\n",
    "            imprimir_mensaje(situacion='sin api keys',url=recurso)\n",
    "            break\n",
    "\n",
    "\n",
    "    imprimir_mensaje(situacion='fin ejecución',llamadas_totales=numero_llamada_global)"
   ]
  },
  {
   "cell_type": "code",
   "execution_count": null,
   "metadata": {
    "id": "kAjuEUobKZWL"
   },
   "outputs": [],
   "source": [
    "var_sin_unidad=['stationID',\"tz\",\"obsTimeUtc\",\"obsTimeLocal\",\"epoch\",\"lat\",\"lon\",\"solarRadiationHigh\",\"uvHigh\",\"winddirAvg\",\"humidityHigh\",\"humidityLow\",\"humidityAvg\",\"qcStatus\"]\n",
    "var_con_unidad=[\"tempHigh\",\"tempLow\",\"tempAvg\",\"windspeedHigh\",\"windspeedLow\",\"windspeedAvg\",\"windgustHigh\",\"windgustLow\",\"windgustAvg\",\"dewptHigh\",\"dewptLow\",\"dewptAvg\",\"windchillHigh\",\"windchillLow\",\"windchillAvg\",\"heatindexHigh\",\"heatindexLow\",\"heatindexAvg\",\"pressureMax\",\"pressureMin\",\"pressureTrend\",\"precipRate\",\"precipTotal\"]\n",
    "var_wunder=var_sin_unidad+var_con_unidad\n",
    "#datos_estaciones(estaciones=estaciones_elegidas,var_w=var_wunder,claves_api=api_keys)"
   ]
  },
  {
   "cell_type": "markdown",
   "metadata": {
    "id": "4HOaxc3MKZWL"
   },
   "source": [
    "## Cantidad de días sin reporte actualmente"
   ]
  },
  {
   "cell_type": "code",
   "execution_count": null,
   "metadata": {
    "id": "gVr-NXjeKZWO"
   },
   "outputs": [],
   "source": [
    "def fecha_ultimo_reporte(obs_estacion:pd.DataFrame)->int:\n",
    "    '''Recibe las observaciones de una estación y devuelve\n",
    "    la fecha del último reporte'''\n",
    "    # Inicio en la última pos (último día)\n",
    "    pos = len(obs_estacion)-1\n",
    "    contador = 0\n",
    "    dia_obs = obs_estacion.loc[pos,'dia_con_obs']\n",
    "    while not dia_obs:\n",
    "        contador+=1\n",
    "        pos-=1\n",
    "        dia_obs = obs_estacion.loc[pos,'dia_con_obs']\n",
    "    fecha_ult_repor = obs_estacion.loc[pos,'obsTimeLocal']\n",
    "    return fecha_ult_repor\n"
   ]
  },
  {
   "cell_type": "code",
   "execution_count": null,
   "metadata": {
    "id": "qSigwGRbKZWP"
   },
   "outputs": [],
   "source": [
    "def diasSinObservaciones(estaciones:pd.DataFrame)->list[str,int]:\n",
    "    '''Recibe un df con los id de las estaciones y devuelve una lista\n",
    "    con información sobre las respectivas fechas de los últimos reportes emitidos'''\n",
    "    data=[]\n",
    "    for i,estacion in estaciones.iterrows():\n",
    "        estacion_id = estacion['id']\n",
    "        df_estacion = pd.read_csv(f'C:/Users/Usuario/Documents/observaciones/completas/observaciones_completas_{estacion_id}.csv')\n",
    "        if len(df_estacion)!=0:\n",
    "            ult_pos = len(df_estacion)-1\n",
    "            dia_obs = df_estacion.loc[ult_pos,'dia_con_obs']\n",
    "            # Como  se llegó hasta el 11-09-24 puede haber varias filas únicamente con la fecha usándose un cero para indicar que no hay observaciones\n",
    "            if not dia_obs:\n",
    "                f_ult_repor = fecha_ultimo_reporte(df_estacion)\n",
    "            else:\n",
    "                # Se setea esta fecha porque es la que se eligió para\n",
    "                # ir a buscar las observaciones de cada estación\n",
    "                f_ult_repor = date(2024,9,11)\n",
    "\n",
    "        else:\n",
    "            f_ult_repor='sin observaciones'\n",
    "        data.append([estacion_id,f_ult_repor])\n",
    "    return data"
   ]
  },
  {
   "cell_type": "code",
   "execution_count": null,
   "metadata": {
    "id": "yMjA0IutKZWP"
   },
   "outputs": [],
   "source": [
    "info = diasSinObservaciones(estaciones_elegidas)\n",
    "header = ('estaciones_id','fecha_ultimo_reporte')\n",
    "escribirCSV(ruta='./fecha_ultimo_reporte.csv',datos=info,campos_encabezado=header)"
   ]
  },
  {
   "cell_type": "code",
   "execution_count": null,
   "metadata": {
    "id": "XttiV2VqKZWP"
   },
   "outputs": [],
   "source": [
    "len(estaciones_elegidas)"
   ]
  },
  {
   "cell_type": "code",
   "execution_count": null,
   "metadata": {
    "id": "1lliA3f6KZWP"
   },
   "outputs": [],
   "source": [
    "estaciones_elegidas"
   ]
  },
  {
   "cell_type": "markdown",
   "metadata": {
    "id": "Tr5bkVzHKZWP"
   },
   "source": [
    "## Análisis Exploratorio de Datos"
   ]
  },
  {
   "cell_type": "code",
   "execution_count": null,
   "metadata": {
    "id": "qV5Chc0kKZWP"
   },
   "outputs": [],
   "source": [
    "def analizar_mov_estacones(estaciones:pd.DataFrame) :\n",
    "    \"\"\"\n",
    "    Recibe un df de estaciones y retorna aquellas estaciones\n",
    "    para las cuales se haya verificado un cambio de lat o lon significativo\n",
    "    \"\"\"\n",
    "    est = estaciones['stationID']\n",
    "    est_lat_lon = []\n",
    "    for idx,estacion_id in est.items():\n",
    "        if 3 < idx: # descarta aquellas estaciones para las cuales no hay observaciones\n",
    "            df_estacion = pd.read_csv(f'C:/Users/Usuario/Documents/wunder/obs_completas/observaciones_completas_{estacion_id}.csv')\n",
    "            est_id = df_estacion['stationID'].loc[0]\n",
    "            q_lat = df_estacion['lat'].unique()\n",
    "            q_lat = q_lat[~np.isnan(q_lat)] # descarta nan del array\n",
    "            q_lat = [round(float(lat),2) for lat in q_lat]\n",
    "            if len(q_lat) == 1: # si solamente hay una lat se pasa a la sig. estación\n",
    "                continue\n",
    "            primera_lat = q_lat[0]\n",
    "            ultima_lat = q_lat[-1]\n",
    "            dif = abs(ultima_lat-primera_lat) # si la dif de lat es insignificante se pasa a la sig estación\n",
    "            if dif < 0.001:\n",
    "                continue\n",
    "            q_lon = df_estacion['lon'].unique()\n",
    "            q_lon = q_lon[~np.isnan(q_lon)]\n",
    "            q_lon = [round(float(lon),2) for lon in q_lon]\n",
    "            info = {'id':est_id,'lat':q_lat,'lon':q_lon}\n",
    "            est_lat_lon.append(info)\n",
    "    return est_lat_lon\n",
    "#analizar_estaciones_cercanas(estaciones_elegidas)\n"
   ]
  },
  {
   "cell_type": "code",
   "execution_count": null,
   "metadata": {
    "id": "sr9tRRPeKZWP"
   },
   "outputs": [],
   "source": [
    "def lluviaAcumuladaDiaria(estacionId:str,año:int,mes:int,dia:int)->None:\n",
    "    df_estacion = pd.read_csv(f'C:/Users/Usuario/Documents/observaciones/todas/observaciones_todas_{estacionId}.csv')\n",
    "    df_estacion['obsTimeLocal'] = pd.to_datetime(df_estacion['obsTimeLocal'],format='mixed')\n",
    "    df_dia_buscado = df_estacion[(df_estacion['obsTimeLocal'].dt.year==año)&(df_estacion['obsTimeLocal'].dt.month==mes)&(df_estacion['obsTimeLocal'].dt.day==dia)].reset_index()\n",
    "    precipitaciones = df_dia_buscado['precipTotal_mm']\n",
    "    ultima_precipitacion = float(precipitaciones.loc[len(precipitaciones)-1])\n",
    "    return f'En la fecha {año}-{mes}-{dia} la estación {estacionId} registró una precipitación acumulada de {ultima_precipitacion} mm'\n"
   ]
  },
  {
   "cell_type": "code",
   "execution_count": null,
   "metadata": {
    "id": "8I1uOes6KZWP"
   },
   "outputs": [],
   "source": [
    "lluviaAcumuladaDiaria('iadeli1',2024,6,22)"
   ]
  },
  {
   "cell_type": "code",
   "execution_count": null,
   "metadata": {
    "id": "Ag9PsI06KZWP"
   },
   "outputs": [],
   "source": [
    "def contarTotalObservaciones(estaciones:pd.DataFrame)->int:\n",
    "    \"Itera sobre cada csv y devuelve la cantidad total de observaciones\"\n",
    "    total_obs=0\n",
    "    for i,estacion in estaciones.iterrows():\n",
    "        if estacion['inicio']!='sin observaciones':\n",
    "            estacion_id = estacion['id']\n",
    "            df_estacion = pd.read_csv(f'C:/Users/Usuario/Documents/observaciones/completas/observaciones_completas_{estacion_id}.csv')\n",
    "            total_obs += len(df_estacion)\n",
    "    return total_obs"
   ]
  },
  {
   "cell_type": "code",
   "execution_count": null,
   "metadata": {
    "id": "lKIOUFapKZWP"
   },
   "outputs": [],
   "source": [
    "obs_totales = contarTotalObservaciones(estaciones_elegidas)\n",
    "'{:,}'.format(obs_totales)"
   ]
  },
  {
   "cell_type": "code",
   "execution_count": null,
   "metadata": {
    "id": "J4H5rZ4TKZWQ"
   },
   "outputs": [],
   "source": [
    "def cargar_estacion_df(estacion:str)->pd.DataFrame:\n",
    "    \"\"\"recibe el id de la estación de interés y devuelve como dataframe las observaciones de la estación\"\"\"\n",
    "    df_estacion = pd.read_csv(f'C:/Users/Usuario/Documents/observaciones/completas/observaciones_completas_{estacion}.csv')\n",
    "    df_estacion['obsTimeLocal']=pd.to_datetime(df_estacion['obsTimeLocal'],format='mixed')\n",
    "    return df_estacion"
   ]
  },
  {
   "cell_type": "code",
   "execution_count": null,
   "metadata": {
    "id": "_haAavGWKZWQ"
   },
   "outputs": [],
   "source": [
    "df_estacion = cargar_estacion_df('IGENER348')\n",
    "df_estacion.info()"
   ]
  },
  {
   "cell_type": "code",
   "execution_count": null,
   "metadata": {
    "id": "ojeHcT9VKZWQ"
   },
   "outputs": [],
   "source": [
    "df_estacion.loc[len(df_estacion)-174]"
   ]
  },
  {
   "cell_type": "code",
   "execution_count": null,
   "metadata": {
    "id": "f32RsV54KZWQ"
   },
   "outputs": [],
   "source": [
    "df_estacion.tail()"
   ]
  },
  {
   "cell_type": "code",
   "execution_count": null,
   "metadata": {
    "id": "I4hRhmPsKZWQ"
   },
   "outputs": [],
   "source": [
    "df_estacion.columns"
   ]
  },
  {
   "cell_type": "code",
   "execution_count": null,
   "metadata": {
    "id": "8TdV6GiyKZWQ"
   },
   "outputs": [],
   "source": [
    "df_estacion.isna().sum()"
   ]
  },
  {
   "cell_type": "code",
   "execution_count": null,
   "metadata": {
    "id": "jqFP-gdWKZWQ"
   },
   "outputs": [],
   "source": [
    "df_estacion[(df_estacion['obsTimeLocal'].dt.year==2024)&(df_estacion['obsTimeLocal'].dt.month==1)&(df_estacion['obsTimeLocal'].dt.day==10)].reset_index().loc[0]"
   ]
  },
  {
   "cell_type": "code",
   "execution_count": null,
   "metadata": {
    "id": "KEMA4HKOKZWQ"
   },
   "outputs": [],
   "source": [
    "plt.figure(figsize=(12,6))\n",
    "plt.title('Cantidad de estaciones incorporadas por año')\n",
    "ax = sns.countplot(estaciones_elegidas,x=estaciones_elegidas['inicio'].dt.year)\n",
    "plt.gca().set_xticklabels([año for año in range(2012,2025)])\n",
    "plt.ylabel('cantidad de estaciones')\n",
    "plt.xlabel('año')\n",
    "plt.show()"
   ]
  },
  {
   "cell_type": "code",
   "execution_count": null,
   "metadata": {
    "id": "BWqmaCYkKZWQ"
   },
   "outputs": [],
   "source": [
    "plazo_dias = 365\n",
    "dias_obs = estaciones_elegidas['dias_obs']\n",
    "dias_obs_max = int(dias_obs.max())\n",
    "lim_sup = ((dias_obs_max//plazo_dias)+1)*365+1\n",
    "rangos_validos = [f\"<{i+1}\" for i,rango in enumerate(estaciones_elegidas['antiguedad_años'].unique())]\n",
    "rangos_validos.pop(-1)\n",
    "estaciones_elegidas['antiguedad_años'] = pd.cut(dias_obs,bins=range(0,lim_sup,plazo_dias),labels=rangos_validos)"
   ]
  },
  {
   "cell_type": "code",
   "execution_count": null,
   "metadata": {
    "id": "dt7Jvwa0KZWQ"
   },
   "outputs": [],
   "source": [
    "plt.figure(figsize=(12,6))\n",
    "plt.title('Cantidad de estaciones incorporadas por año')\n",
    "ax = sns.countplot(estaciones_elegidas,x='antiguedad_años')\n",
    "plt.ylabel('cantidad de estaciones')\n",
    "plt.xlabel('año')\n",
    "plt.show()"
   ]
  },
  {
   "cell_type": "markdown",
   "metadata": {
    "id": "xtY8jv1jKZWR"
   },
   "source": [
    "### Análisis de rangos por columna"
   ]
  },
  {
   "cell_type": "code",
   "execution_count": null,
   "metadata": {
    "id": "jkWWhTtyKZWR"
   },
   "outputs": [],
   "source": [
    "df_estacion[['humidityLow','humidityAvg','humidityHigh']]"
   ]
  },
  {
   "cell_type": "code",
   "execution_count": null,
   "metadata": {
    "id": "UBFX3b4bKZWR"
   },
   "outputs": [],
   "source": [
    "df_estacion[['dewptLow','dewptAvg','dewptHigh']]"
   ]
  },
  {
   "cell_type": "code",
   "execution_count": null,
   "metadata": {
    "id": "uSmjqnvmKZWR"
   },
   "outputs": [],
   "source": [
    "df_estacion[['heatindexLow','heatindexAvg','heatindexHigh']]"
   ]
  },
  {
   "cell_type": "code",
   "execution_count": null,
   "metadata": {
    "id": "4PaBd-K2KZWR"
   },
   "outputs": [],
   "source": [
    "df_estacion[['pressureMin','pressureTrend','pressureMax']]"
   ]
  },
  {
   "cell_type": "code",
   "execution_count": null,
   "metadata": {
    "id": "ozkhQPiAKZWR"
   },
   "outputs": [],
   "source": [
    "def min_max(df,variable):\n",
    "    min=df[variable].min()\n",
    "    max=df[variable].max()\n",
    "    return min,max"
   ]
  },
  {
   "cell_type": "code",
   "execution_count": null,
   "metadata": {
    "id": "yQlnQplqKZWR"
   },
   "outputs": [],
   "source": [
    "variable='epoch'\n",
    "min,max=min_max(df_estacion,'epoch')\n",
    "print(variable,min,max)"
   ]
  },
  {
   "cell_type": "code",
   "execution_count": null,
   "metadata": {
    "id": "srsGWzDgKZWR"
   },
   "outputs": [],
   "source": [
    "variable='solarRadiationHigh'\n",
    "min,max=min_max(df_estacion,'solarRadiationHigh')\n",
    "print(variable,min,max)\n",
    "df_estacion[variable][~df_estacion[variable].isna()].unique()"
   ]
  },
  {
   "cell_type": "code",
   "execution_count": null,
   "metadata": {
    "id": "XltOSfnfKZWR"
   },
   "outputs": [],
   "source": [
    "variable='uvHigh'\n",
    "min,max=min_max(df_estacion,variable)\n",
    "print(variable,min,max)\n",
    "df_estacion[variable][~df_estacion[variable].isna()].unique()"
   ]
  },
  {
   "cell_type": "code",
   "execution_count": null,
   "metadata": {
    "id": "chOtCS7gKZWR"
   },
   "outputs": [],
   "source": [
    "variable='uvHigh'\n",
    "min,max=min_max(df_estacion,variable)\n",
    "print(variable,min,max)\n",
    "df_estacion[variable][~df_estacion[variable].isna()].unique()"
   ]
  },
  {
   "cell_type": "code",
   "execution_count": null,
   "metadata": {
    "id": "u8KF6dLZKZWR"
   },
   "outputs": [],
   "source": [
    "variable='winddirAvg'\n",
    "min,max=min_max(df_estacion,variable)\n",
    "print(variable,min,max)\n",
    "df_estacion[variable][~df_estacion[variable].isna()].unique()"
   ]
  },
  {
   "cell_type": "code",
   "execution_count": null,
   "metadata": {
    "id": "1gYFOMAuKZWS"
   },
   "outputs": [],
   "source": [
    "variable='humidityHigh'\n",
    "min,max=min_max(df_estacion,variable)\n",
    "print(variable,min,max)\n",
    "df_estacion[variable][~df_estacion[variable].isna()].unique()"
   ]
  },
  {
   "cell_type": "code",
   "execution_count": null,
   "metadata": {
    "id": "fAlvlRdSKZWS"
   },
   "outputs": [],
   "source": [
    "variable='qcStatus'\n",
    "min,max=min_max(df_estacion,variable)\n",
    "print(variable,min,max)\n",
    "df_estacion[variable][~df_estacion[variable].isna()].unique()"
   ]
  },
  {
   "cell_type": "code",
   "execution_count": null,
   "metadata": {
    "id": "Wp11Y15wKZWS"
   },
   "outputs": [],
   "source": [
    "variable='tempAvg'\n",
    "min,max=min_max(df_estacion,variable)\n",
    "print(variable,min,max)\n",
    "df_estacion[variable][~df_estacion[variable].isna()].unique()"
   ]
  },
  {
   "cell_type": "code",
   "execution_count": null,
   "metadata": {
    "id": "tLINKAk8KZWS"
   },
   "outputs": [],
   "source": [
    "variable='windspeedHigh'\n",
    "min,max=min_max(df_estacion,variable)\n",
    "print(variable,min,max)\n",
    "df_estacion[variable][~df_estacion[variable].isna()].unique()"
   ]
  },
  {
   "cell_type": "code",
   "execution_count": null,
   "metadata": {
    "id": "I7Kz0-HrKZWS"
   },
   "outputs": [],
   "source": [
    "variable='windgustLow'\n",
    "min,max=min_max(df_estacion,variable)\n",
    "print(variable,min,max)\n",
    "df_estacion[variable][~df_estacion[variable].isna()].unique()"
   ]
  },
  {
   "cell_type": "code",
   "execution_count": null,
   "metadata": {
    "id": "_I3IEo11KZWS"
   },
   "outputs": [],
   "source": [
    "variable='dewptHigh'\n",
    "min,max=min_max(df_estacion,variable)\n",
    "print(variable,min,max)\n",
    "df_estacion[variable][~df_estacion[variable].isna()].unique()"
   ]
  },
  {
   "cell_type": "code",
   "execution_count": null,
   "metadata": {
    "id": "oDAMAyHUKZWS"
   },
   "outputs": [],
   "source": [
    "variable='windchillHigh'\n",
    "min,max=min_max(df_estacion,variable)\n",
    "print(variable,min,max)\n",
    "df_estacion[variable][~df_estacion[variable].isna()].unique()"
   ]
  },
  {
   "cell_type": "code",
   "execution_count": null,
   "metadata": {
    "id": "MO81T98-KZWS"
   },
   "outputs": [],
   "source": [
    "variable='heatindexAvg'\n",
    "min,max=min_max(df_estacion,variable)\n",
    "print(variable,min,max)\n",
    "df_estacion[variable][~df_estacion[variable].isna()].unique()"
   ]
  },
  {
   "cell_type": "code",
   "execution_count": null,
   "metadata": {
    "id": "daakLywdKZWS"
   },
   "outputs": [],
   "source": [
    "variable='pressureMax'\n",
    "min,max=min_max(df_estacion,variable)\n",
    "print(variable,min,max)\n",
    "df_estacion[variable][~df_estacion[variable].isna()].unique()"
   ]
  },
  {
   "cell_type": "code",
   "execution_count": null,
   "metadata": {
    "id": "sNGd0hJwKZWS"
   },
   "outputs": [],
   "source": [
    "variable='pressureTrend'\n",
    "min,max=min_max(df_estacion,variable)\n",
    "print(variable,min,max)\n",
    "df_estacion[variable][~df_estacion[variable].isna()].unique()"
   ]
  },
  {
   "cell_type": "code",
   "execution_count": null,
   "metadata": {
    "id": "jRy50QyZKZWS"
   },
   "outputs": [],
   "source": [
    "variable='precipRate'\n",
    "min,max=min_max(df_estacion,variable)\n",
    "print(variable,min,max)\n",
    "df_estacion[variable][~df_estacion[variable].isna()].unique()"
   ]
  },
  {
   "cell_type": "code",
   "execution_count": null,
   "metadata": {
    "id": "UntCne_gKZWT"
   },
   "outputs": [],
   "source": [
    "variable='precipTotal'\n",
    "min,max=min_max(df_estacion,variable)\n",
    "print(variable,min,max)\n",
    "df_estacion[variable][~df_estacion[variable].isna()].unique()"
   ]
  },
  {
   "cell_type": "markdown",
   "metadata": {
    "id": "2oaJZ3gwKZWT"
   },
   "source": [
    "## ORM"
   ]
  },
  {
   "cell_type": "markdown",
   "metadata": {
    "id": "7FJzmf7bKZWT"
   },
   "source": [
    "### Wunder"
   ]
  },
  {
   "cell_type": "markdown",
   "metadata": {
    "id": "lcq-EnHgKZWT"
   },
   "source": [
    "Motores"
   ]
  },
  {
   "cell_type": "code",
   "execution_count": null,
   "metadata": {
    "id": "QBsUvvnZKZWT"
   },
   "outputs": [],
   "source": [
    "# Conexión con SQL SERVER\n",
    "\"\"\" connection_string = \"DRIVER=ODBC Driver 17 for SQL Server;SERVER=localhost;DATABASE=estaciones_wunder;trusted_connection=yes\"\n",
    "connection_url = URL.create(\"mssql+pyodbc\", query={\"odbc_connect\": connection_string})\n",
    "engine = create_engine(connection_url) \"\"\""
   ]
  },
  {
   "cell_type": "code",
   "execution_count": null,
   "metadata": {
    "id": "X_9sISNzKZWT"
   },
   "outputs": [],
   "source": [
    "# Conexión con MySQL\n",
    "engine = create_engine(\"mysql+mysqlconnector://root:@localhost:3306/estaciones_wunder\")\n",
    "# Test the connection\n",
    "connection = engine.connect()\n"
   ]
  },
  {
   "cell_type": "markdown",
   "metadata": {
    "id": "LKtVxn1YKZWT"
   },
   "source": [
    "Tablas"
   ]
  },
  {
   "cell_type": "code",
   "execution_count": 47,
   "metadata": {
    "id": "wkrIGA40KZWT"
   },
   "outputs": [],
   "source": [
    "class Base(DeclarativeBase):\n",
    "    pass"
   ]
  },
  {
   "cell_type": "code",
   "execution_count": 48,
   "metadata": {
    "id": "U5sFsgOXKZWU"
   },
   "outputs": [],
   "source": [
    "class Estacion(Base):\n",
    "     __tablename__ = \"estaciones\"\n",
    "     __table_args__ = {'extend_existing': True}\n",
    "\n",
    "     id_estacion: Mapped[int] = mapped_column(primary_key=True)\n",
    "     stationID: Mapped[str] = mapped_column(String(20),unique=True)\n",
    "     #En los siguientes 3 atributos se permite nulo porque hay estaciones sin observaciones\n",
    "     tz: Mapped[str] = mapped_column(String(50),nullable=True)\n",
    "     lat: Mapped[float] = mapped_column(Float(),nullable=True)\n",
    "     lon: Mapped[float] = mapped_column(Float(),nullable=True)\n",
    "     inicio: Mapped[str] = mapped_column(DateTime(),nullable=True)\n",
    "     ult_reporte: Mapped[str] = mapped_column(DateTime(),nullable=True)\n",
    "     comentario: Mapped[str] = mapped_column(String(50),nullable=True)\n",
    "     #activa: Mapped[bool] = mapped_column(Boolean(),default=1)\n",
    "     observaciones: Mapped[List[\"Observacion\"]] = relationship(back_populates=\"estacion\")\n",
    "\n",
    "     def __repr__(self) -> str:\n",
    "         return f\"stationID={self.stationID!r}\""
   ]
  },
  {
   "cell_type": "code",
   "execution_count": 49,
   "metadata": {
    "id": "2hfxdmJSKZWU"
   },
   "outputs": [],
   "source": [
    "class Observacion(Base):\n",
    "    __tablename__ = \"observaciones\"\n",
    "    # Defino la restricción para evitar registros que compartan el id de la estación y la fecha (reportes duplicados)\n",
    "    __table_args__ = (UniqueConstraint('id_estacion','obsTimeLocal'),{'extend_existing': True})\n",
    "\n",
    "    id_observacion: Mapped[int] = mapped_column(primary_key=True)\n",
    "    id_estacion: Mapped[int] = mapped_column(ForeignKey(\"estaciones.id_estacion\"))\n",
    "    obsTimeLocal: Mapped[str] = mapped_column(DateTime())\n",
    "    solarRadiationHigh_watts_m2: Mapped[float] = mapped_column(Float(),nullable=True)\n",
    "    uvHigh_indice: Mapped[float] = mapped_column(Float(),nullable=True)\n",
    "    winddirAvg_grado: Mapped[float] = mapped_column(SmallInteger(),nullable=True)\n",
    "    humidityHigh_porcentaje : Mapped[float] = mapped_column(Float(),nullable=True)\n",
    "    humidityLow_porcentaje : Mapped[float] = mapped_column(Float(),nullable=True)\n",
    "    humidityAvg_porcentaje : Mapped[float] = mapped_column(Float(),nullable=True)\n",
    "    tempHigh_grados_C : Mapped[float] = mapped_column(Float(),nullable=True)\n",
    "    tempLow_grados_C : Mapped[float] = mapped_column(Float(),nullable=True)\n",
    "    tempAvg_grados_C : Mapped[float] = mapped_column(Float(),nullable=True)\n",
    "    windspeedHigh_km_h : Mapped[float] = mapped_column(Float(),nullable=True)\n",
    "    windspeedLow_km_h : Mapped[float] = mapped_column(Float(),nullable=True)\n",
    "    windspeedAvg_km_h : Mapped[float] = mapped_column(Float(),nullable=True)\n",
    "    windgustHigh_km_h : Mapped[float] = mapped_column(Float(),nullable=True)\n",
    "    windgustLow_km_h : Mapped[float] = mapped_column(Float(),nullable=True)\n",
    "    windgustAvg_km_h : Mapped[float] = mapped_column(Float(),nullable=True)\n",
    "    dewptHigh_grados_C : Mapped[float] = mapped_column(Float(),nullable=True)\n",
    "    dewptLow_grados_C : Mapped[float] = mapped_column(Float(),nullable=True)\n",
    "    dewptAvg_grados_C : Mapped[float] = mapped_column(Float(),nullable=True)\n",
    "    windchillHigh_indefinda : Mapped[float] = mapped_column(Float(),nullable=True)\n",
    "    windchillLow_indefinda : Mapped[float] = mapped_column(Float(),nullable=True)\n",
    "    windchillAvg_indefinda : Mapped[float] = mapped_column(Float(),nullable=True)\n",
    "    heatindexHigh_indefinda : Mapped[float] = mapped_column(Float(),nullable=True)\n",
    "    heatindexLow_indefinda : Mapped[float] = mapped_column(Float(),nullable=True)\n",
    "    heatindexAvg_indefinda : Mapped[float] = mapped_column(Float(),nullable=True)\n",
    "    pressureMax_hPa : Mapped[float] = mapped_column(Float(),nullable=True)\n",
    "    pressureMin_hPa : Mapped[float] = mapped_column(Float(),nullable=True)\n",
    "    pressureTrend_hPa : Mapped[float] = mapped_column(Float(),nullable=True)\n",
    "    precipRate_mm : Mapped[float] = mapped_column(Float(),nullable=True)\n",
    "    precipTotal_mm : Mapped[float] = mapped_column(Float(),nullable=True)\n",
    "    dia_con_obs: Mapped[bool] = mapped_column(Boolean())\n",
    "    #dia_completo: Mapped[bool] = mapped_column(Boolean())\n",
    "    estacion: Mapped[Estacion] = relationship(back_populates=\"observaciones\")\n",
    "\n",
    "    def __repr__(self) -> str:\n",
    "         return f\"id_estacion={self.id_estacion!r}, obsTimeLocal={self.obsTimeLocal!r}\""
   ]
  },
  {
   "cell_type": "code",
   "execution_count": null,
   "metadata": {
    "id": "9gJDeN1DKZWU"
   },
   "outputs": [],
   "source": [
    "\"\"\" Base.metadata.create_all(engine) \"\"\""
   ]
  },
  {
   "cell_type": "code",
   "execution_count": null,
   "metadata": {
    "id": "RdeJs4POKZWU"
   },
   "outputs": [],
   "source": [
    "\"\"\" Estacion.__table__.drop(engine) \"\"\""
   ]
  },
  {
   "cell_type": "code",
   "execution_count": null,
   "metadata": {
    "id": "Uds1CKmFKZWU"
   },
   "outputs": [],
   "source": [
    "\"\"\" Observacion.__table__.drop(engine) \"\"\""
   ]
  },
  {
   "cell_type": "markdown",
   "metadata": {
    "id": "Of23kV2DKZWU"
   },
   "source": [
    "CARGA HISTORICO"
   ]
  },
  {
   "cell_type": "code",
   "execution_count": 19,
   "metadata": {
    "id": "lBE5i__DKZWU"
   },
   "outputs": [],
   "source": [
    "def agregar_observacion(estacion:Estacion,observacion:pd.Series):\n",
    "    \"\"\"agrega observaciones al objeto estación\"\"\"\n",
    "    obs = Observacion(\n",
    "        obsTimeLocal=observacion['obsTimeLocal'],\n",
    "        solarRadiationHigh_watts_m2= observacion['solarRadiationHigh'],\n",
    "        uvHigh_indice= observacion['uvHigh'],\n",
    "        winddirAvg_grado = observacion['winddirAvg'],\n",
    "        humidityHigh_porcentaje = observacion['humidityHigh'],\n",
    "        humidityLow_porcentaje = observacion['humidityLow'],\n",
    "        humidityAvg_porcentaje = observacion['humidityAvg'],\n",
    "        tempHigh_grados_C = observacion['tempHigh'],\n",
    "        tempLow_grados_C = observacion['tempLow'],\n",
    "        tempAvg_grados_C = observacion['tempAvg'],\n",
    "        windspeedHigh_km_h = observacion['windspeedHigh'],\n",
    "        windspeedLow_km_h = observacion['windspeedLow'],\n",
    "        windspeedAvg_km_h = observacion['windspeedAvg'],\n",
    "        windgustHigh_km_h = observacion['windgustHigh'],\n",
    "        windgustLow_km_h = observacion['windgustLow'],\n",
    "        windgustAvg_km_h = observacion['windgustAvg'],\n",
    "        dewptHigh_grados_C = observacion['dewptHigh'],\n",
    "        dewptLow_grados_C = observacion['dewptLow'],\n",
    "        dewptAvg_grados_C = observacion['dewptAvg'],\n",
    "        windchillHigh_indefinda = observacion['windchillHigh'],\n",
    "        windchillLow_indefinda = observacion['windchillLow'],\n",
    "        windchillAvg_indefinda = observacion['windchillAvg'],\n",
    "        heatindexHigh_indefinda = observacion['heatindexHigh'],\n",
    "        heatindexLow_indefinda = observacion['heatindexLow'],\n",
    "        heatindexAvg_indefinda = observacion['heatindexAvg'],\n",
    "        pressureMax_hPa = observacion['pressureMax'],\n",
    "        pressureMin_hPa = observacion['pressureMin'],\n",
    "        pressureTrend_hPa = observacion['pressureTrend'],\n",
    "        precipRate_mm = observacion['precipRate'],\n",
    "        precipTotal_mm = observacion['precipTotal'],\n",
    "        dia_con_obs= observacion['dia_con_obs'],\n",
    "    )\n",
    "    estacion.observaciones.append(obs)"
   ]
  },
  {
   "cell_type": "code",
   "execution_count": null,
   "metadata": {
    "id": "beaoV8obKZWU"
   },
   "outputs": [],
   "source": [
    "def cargar_historico(estaciones:pd.DataFrame)->None:\n",
    "    id_estaciones = estaciones['stationID']\n",
    "    for idx,estacion_id in id_estaciones.items():\n",
    "        if 99 < idx :\n",
    "            print(estacion_id)\n",
    "            with Session(engine) as session:\n",
    "                est = session.query(Estacion).filter(Estacion.stationID==estacion_id).first()\n",
    "                df_estacion = pd.read_csv(f'C:/Users/Usuario/Documents/wunder/obs_completas/observaciones_completas_{estacion_id}.csv')\n",
    "                for idx,obs in df_estacion.iterrows():\n",
    "                    agregar_observacion(estacion=est,observacion=obs)\n",
    "                session.commit()"
   ]
  },
  {
   "cell_type": "code",
   "execution_count": null,
   "metadata": {
    "id": "Pc79b26TKZWU"
   },
   "outputs": [],
   "source": [
    "cargar_historico(estaciones_elegidas)"
   ]
  },
  {
   "cell_type": "code",
   "execution_count": null,
   "metadata": {
    "id": "C1UnKnOKKZWU"
   },
   "outputs": [],
   "source": [
    "estaciones_elegidas.loc[99:101]"
   ]
  },
  {
   "cell_type": "markdown",
   "metadata": {
    "id": "r2lxsuB7KZWU"
   },
   "source": [
    "CRUD ESTACIONES"
   ]
  },
  {
   "cell_type": "code",
   "execution_count": null,
   "metadata": {
    "id": "Rnt9toPRKZWU"
   },
   "outputs": [],
   "source": [
    "def obtener_datos_utiles_estaciones(info_estaciones:pd.DataFrame)->dict:\n",
    "    \"\"\" Construye un diccionario con los metadatos de las estaciones \"\"\"\n",
    "    info_util_estaciones = []\n",
    "    for i,estacion in info_estaciones.iterrows():\n",
    "        info_util_estacion = {}\n",
    "        info_util_estacion['stationID'] = estacion['stationID']\n",
    "        info_util_estacion['lat'] = estacion['lat']\n",
    "        info_util_estacion['lon'] = estacion['lon']\n",
    "        info_util_estacion['tz'] = estacion['tz']\n",
    "        info_util_estacion['inicio'] = str(estacion['inicio'])\n",
    "        info_util_estacion['comentario'] = estacion['comentario']\n",
    "        info_util_estaciones.append(info_util_estacion)\n",
    "    return info_util_estaciones"
   ]
  },
  {
   "cell_type": "code",
   "execution_count": null,
   "metadata": {
    "id": "vG-aSWYgKZWV"
   },
   "outputs": [],
   "source": [
    "def insertar_estaciones(estaciones:list[dict])->None:\n",
    "    with Session(engine) as session:\n",
    "        for estacion in estaciones:\n",
    "            #Creo el objeto de la clase estación.\n",
    "            # Tengo que imputar None a los faltantes para no tener problemas luego en la inserción de las estaciones.\n",
    "            # Tipos de faltantes. np.nan | np.float(nan) | pandas._libs.tslibs.nattype.NaTType -> dan errores en la inserción\n",
    "            obj_estacion = Estacion(\n",
    "                stationID= estacion['stationID'],\n",
    "                tz= estacion['tz'] if estacion['comentario'] != 'sin observaciones' else None,\n",
    "                lat= float(estacion['lat']) if estacion['comentario'] != 'sin observaciones' else None,\n",
    "                lon= float(estacion['lon']) if estacion['comentario'] != 'sin observaciones' else None,\n",
    "                inicio= estacion['inicio'] if estacion['comentario'] != 'sin observaciones' else None,\n",
    "                comentario= None if estacion['comentario'] != 'sin observaciones' else estacion['comentario'],\n",
    "            )\n",
    "            print(obj_estacion)\n",
    "            session.add(obj_estacion)\n",
    "        session.commit()"
   ]
  },
  {
   "cell_type": "code",
   "execution_count": null,
   "metadata": {
    "id": "GZ9IcvP8KZWV"
   },
   "outputs": [],
   "source": [
    "estaciones_meta_datos =obtener_datos_utiles_estaciones(estaciones_elegidas.sort_values(by='índice'))"
   ]
  },
  {
   "cell_type": "code",
   "execution_count": null,
   "metadata": {
    "id": "h3kOk2ynKZWV"
   },
   "outputs": [],
   "source": [
    "insertar_estaciones(estaciones_meta_datos)"
   ]
  },
  {
   "cell_type": "markdown",
   "metadata": {
    "id": "IDNpRlGEKZWV"
   },
   "source": [
    "CRUD OBSERVACIONES"
   ]
  },
  {
   "cell_type": "code",
   "execution_count": null,
   "metadata": {
    "id": "TXmMFSRrKZWV"
   },
   "outputs": [],
   "source": [
    "\"\"\" var_sin_unidad=['stationID',\"tz\",\"obsTimeUtc\",\"obsTimeLocal\",\"epoch\",\"lat\",\"lon\",\"solarRadiationHigh\",\"uvHigh\",\"winddirAvg\",\"humidityHigh\",\"humidityLow\",\"humidityAvg\",\"qcStatus\"]\n",
    "var_con_unidad=[\"tempHigh\",\"tempLow\",\"tempAvg\",\"windspeedHigh\",\"windspeedLow\",\"windspeedAvg\",\"windgustHigh\",\"windgustLow\",\"windgustAvg\",\"dewptHigh\",\"dewptLow\",\"dewptAvg\",\"windchillHigh\",\"windchillLow\",\"windchillAvg\",\"heatindexHigh\",\"heatindexLow\",\"heatindexAvg\",\"pressureMax\",\"pressureMin\",\"pressureTrend\",\"precipRate\",\"precipTotal\"]\n",
    "var_wunder=var_sin_unidad+var_con_unidad \"\"\""
   ]
  },
  {
   "cell_type": "code",
   "execution_count": 67,
   "metadata": {
    "id": "cO54jRKhKZWV"
   },
   "outputs": [],
   "source": [
    "def ORM_extraer_campos(estacion:Estacion,observaciones:list,dia:date,stationId:str,session:sqlalchemy.orm.session.Session)->list:\n",
    "    \"\"\"Crea la observación y la agrega a la estación. La observación incluye el campo id_estacion\n",
    "    para respetar la constraint foreign key. También actualiza la fecha de la última obs en la tabla estación\"\"\"\n",
    "    if (len(observaciones)==0):\n",
    "        objeto_obs = Observacion(\n",
    "                id_estacion = estacion.id_estacion,\n",
    "                obsTimeLocal=str(dia),\n",
    "                dia_con_obs= 0,\n",
    "        )\n",
    "        session.add(objeto_obs)\n",
    "    else:\n",
    "        for observacion in observaciones:\n",
    "            objeto_obs = Observacion(\n",
    "                id_estacion = estacion.id_estacion,\n",
    "                obsTimeLocal=observacion['obsTimeLocal'],\n",
    "                solarRadiationHigh_watts_m2= observacion['solarRadiationHigh'],\n",
    "                uvHigh_indice= observacion['uvHigh'],\n",
    "                winddirAvg_grado = observacion['winddirAvg'],\n",
    "                humidityHigh_porcentaje = observacion['humidityHigh'],\n",
    "                humidityLow_porcentaje = observacion['humidityLow'],\n",
    "                humidityAvg_porcentaje = observacion['humidityAvg'],\n",
    "                tempHigh_grados_C = observacion['metric']['tempHigh'],\n",
    "                tempLow_grados_C = observacion['metric']['tempLow'],\n",
    "                tempAvg_grados_C = observacion['metric']['tempAvg'],\n",
    "                windspeedHigh_km_h = observacion['metric']['windspeedHigh'],\n",
    "                windspeedLow_km_h = observacion['metric']['windspeedLow'],\n",
    "                windspeedAvg_km_h = observacion['metric']['windspeedAvg'],\n",
    "                windgustHigh_km_h = observacion['metric']['windgustHigh'],\n",
    "                windgustLow_km_h = observacion['metric']['windgustLow'],\n",
    "                windgustAvg_km_h = observacion['metric']['windgustAvg'],\n",
    "                dewptHigh_grados_C = observacion['metric']['dewptHigh'],\n",
    "                dewptLow_grados_C = observacion['metric']['dewptLow'],\n",
    "                dewptAvg_grados_C = observacion['metric']['dewptAvg'],\n",
    "                windchillHigh_indefinda = observacion['metric']['windchillHigh'],\n",
    "                windchillLow_indefinda = observacion['metric']['windchillLow'],\n",
    "                windchillAvg_indefinda = observacion['metric']['windchillAvg'],\n",
    "                heatindexHigh_indefinda = observacion['metric']['heatindexHigh'],\n",
    "                heatindexLow_indefinda = observacion['metric']['heatindexLow'],\n",
    "                heatindexAvg_indefinda = observacion['metric']['heatindexAvg'],\n",
    "                pressureMax_hPa = observacion['metric']['pressureMax'],\n",
    "                pressureMin_hPa = observacion['metric']['pressureMin'],\n",
    "                pressureTrend_hPa = observacion['metric']['pressureTrend'],\n",
    "                precipRate_mm = observacion['metric']['precipRate'],\n",
    "                precipTotal_mm = observacion['metric']['precipTotal'],\n",
    "                dia_con_obs= 1,\n",
    "            )\n",
    "            session.add(objeto_obs)\n",
    "    estacion.ult_reporte = dia\n",
    "                "
   ]
  },
  {
   "cell_type": "code",
   "execution_count": 60,
   "metadata": {},
   "outputs": [],
   "source": [
    "with Session(engine) as session:\n",
    "        estaciones = session.query(Estacion).all()\n",
    "        for estacion_obj in estaciones:\n",
    "            estacion_obj.ult_reporte = datetime.now()\n",
    "        session.commit()\n",
    "    "
   ]
  },
  {
   "cell_type": "code",
   "execution_count": 93,
   "metadata": {
    "id": "6cdfU2wjKZWV"
   },
   "outputs": [],
   "source": [
    "def insertar_reportes_dia(fecha:date,claves_api:list[str])->None:\n",
    "    print(f'cargándose las observaciones del día:',fecha)\n",
    "    numero_llamada_global=0\n",
    "    numero_llamada_api_key=0\n",
    "    #Seteo de variables\n",
    "    api_key=claves_api[0]\n",
    "    numero_error_conexion=0\n",
    "    recurso=''\n",
    "    carga_correcta = True\n",
    "    with Session(engine) as session:\n",
    "        estaciones = session.query(Estacion).all()\n",
    "        for estacion_obj in estaciones:\n",
    "            estacion_id=estacion_obj.stationID\n",
    "            if (numero_llamada_api_key==1400):\n",
    "                    imprimir_mensaje(situacion='llamada 1400',vieja_api_key=api_key)\n",
    "                    api_key=cambiar_api_key(conjunto_api_key=api_keys,api_key_actual=api_key)\n",
    "                    #Si se agotaron las api keys se rompe el bucle white\n",
    "                    if (api_key==''):\n",
    "                        carga_correcta = False\n",
    "                        break\n",
    "                    numero_llamada_api_key=0\n",
    "            fecha_str = \"{:04d}\".format(fecha.year) + \"{:02d}\".format(fecha.month) + \"{:02d}\".format(fecha.day)\n",
    "            recurso=f'https://api.weather.com/v2/pws/history/all?stationId={estacion_id}&format=json&units=m&apiKey={api_key}&numericPrecision=decimal&date={fecha_str}'\n",
    "            # Se sale del bluce si se pudo realizar la llamada a la estacion o si se agotaron las api keys\n",
    "            while True:\n",
    "                try:\n",
    "                    # Mandatoriamente se debe indicar un tiempo límite de espera para evitar que la llamada quede inconclusa por falta de respuesta de la API\n",
    "                    respuesta = requests.get(recurso,timeout=60,headers={'Cache-Control': 'no-cache'})\n",
    "                    codigo_respusta=respuesta.status_code\n",
    "                    numero_llamada_api_key+=1\n",
    "                    numero_llamada_global+=1\n",
    "                    # Status Code 200: OK. The request has succeeded.\n",
    "                    # Status Code 204: No Data Found for specific query. The 204 status code will have an empty response body.\n",
    "                    if (codigo_respusta==200 or codigo_respusta==204):\n",
    "                        observaciones_un_dia = respuesta.json()['observations'] if codigo_respusta==200 else []\n",
    "                        #total_observaciones+=ORM_extraer_campos(IPREZ1,observaciones_un_dia,fecha,estacion_id,var_w)\n",
    "                        ORM_extraer_campos(estacion=estacion_obj,observaciones=observaciones_un_dia,dia=fecha,stationId=estacion_id,session=session)\n",
    "                        break\n",
    "                    elif (codigo_respusta==401):\n",
    "                        # Status Code 401: Unauthorized. The request requires authentication.\n",
    "                        imprimir_mensaje(situacion='api key desautorizada',status_code=codigo_respusta,vieja_api_key=api_key)\n",
    "                        api_key=cambiar_api_key(conjunto_api_key=api_keys,api_key_actual=api_key)\n",
    "                        #Si se agotaron las api keys se rompe el bucle white\n",
    "                        if (api_key==''):\n",
    "                            break\n",
    "                        numero_llamada_api_key=0\n",
    "                    elif (codigo_respusta==500):\n",
    "                        imprimir_mensaje(situacion='el servidor no contesta',status_code=codigo_respusta)\n",
    "                        una_hora=60*60\n",
    "                        #Se pausa la ejecución para aguardar que normalicen el funcionamiento del servidor\n",
    "                        time.sleep(una_hora)\n",
    "                    else:\n",
    "                        imprimir_mensaje(situacion='respesta del servidor desconocida',status_code=codigo_respusta,url=recurso)\n",
    "                        una_hora=60*60\n",
    "                        time.sleep(una_hora)\n",
    "                except requests.exceptions.RequestException as error:\n",
    "                    numero_error_conexion+=1\n",
    "                    imprimir_mensaje(situacion='error de conexión',n_error_con=numero_error_conexion,problema=error)\n",
    "                    un_minuto=60\n",
    "                    #Se pausa la ejecución para aguardar que normalicen el funcionamiento del servidor\n",
    "                    time.sleep(un_minuto)\n",
    "            #Sale del while y corroborra que se pueda pasar a la siguiente estación\n",
    "            if (api_key==''):\n",
    "                imprimir_mensaje(situacion='sin api keys',url=recurso)\n",
    "                carga_correcta = False\n",
    "                break\n",
    "\n",
    "            imprimir_mensaje(situacion='cambio estacion',identificador_estacion=estacion_id)\n",
    "        \n",
    "        if carga_correcta: session.commit()\n",
    "        return carga_correcta\n",
    "\n",
    "    imprimir_mensaje(situacion='fin ejecución',llamadas_totales=numero_llamada_global)"
   ]
  },
  {
   "cell_type": "code",
   "execution_count": null,
   "metadata": {},
   "outputs": [],
   "source": [
    "recurso = 'https://api.weather.com/v2/pws/history/all?stationId=IADELI1&format=json&units=m&apiKey=caaba17c3da84b4aaba17c3da81b4ac5&numericPrecision=decimal&date=20241130'\n",
    "respuesta = requests.get(recurso,timeout=60,headers={'Cache-Control': 'no-cache'})\n",
    "respuesta.status_code\n"
   ]
  },
  {
   "cell_type": "code",
   "execution_count": null,
   "metadata": {},
   "outputs": [],
   "source": [
    "fecha = date(2024,11,30)\n",
    "insertar_reportes_dia(fecha,claves_api=api_keys[20:])"
   ]
  },
  {
   "cell_type": "code",
   "execution_count": null,
   "metadata": {
    "id": "fiY75JKoKZWV"
   },
   "outputs": [],
   "source": [
    "meses = [9,10,11]\n",
    "dias_mes = [[28,30],[1,31],[1,30]]\n",
    "for idx_mes,mes in enumerate(meses):\n",
    "    empieza,termina = dias_mes[idx_mes]\n",
    "    for dia in range(empieza,termina+1):\n",
    "        fecha_elegida = date(2024,mes,dia)    \n",
    "        se_insertaron = insertar_reportes_dia(fecha=fecha_elegida,claves_api=api_keys[2:])\n",
    "        if not se_insertaron:\n",
    "            break\n",
    "    if not se_insertaron:\n",
    "            break    \n",
    "            "
   ]
  },
  {
   "cell_type": "code",
   "execution_count": null,
   "metadata": {},
   "outputs": [],
   "source": [
    "def eliminar_ultimos_reportes(estacion,session):\n",
    "    \"\"\"Para cada estación elimina las observaciones del último día con reportes\"\"\"\n",
    "    observaciones = estacion.observaciones\n",
    "    ultima_observacion = observaciones[-1]\n",
    "    ultima_fecha = ultima_observacion.obsTimeLocal\n",
    "    ultimo_año = ultima_fecha.year\n",
    "    ultimo_mes = ultima_fecha.month\n",
    "    ultimo_dia = ultima_fecha.day\n",
    "    for obs in observaciones:\n",
    "        obs_fecha = obs.obsTimeLocal\n",
    "        obs_año = obs_fecha.year\n",
    "        obs_mes = obs_fecha.month\n",
    "        obs_dia = obs_fecha.day\n",
    "        if (ultimo_año == obs_año and ultimo_mes == obs_mes and ultimo_dia == obs_dia):\n",
    "            session.delete(obs)\n"
   ]
  },
  {
   "cell_type": "code",
   "execution_count": null,
   "metadata": {
    "id": "GjcwLb4VKZWW"
   },
   "outputs": [],
   "source": [
    "def completar_reportes(claves_api:list[str])->None:\n",
    "    numero_llamada_global=0\n",
    "    numero_llamada_api_key=0\n",
    "    #Seteo de variables\n",
    "    api_key=claves_api[0]\n",
    "    numero_error_conexion=0\n",
    "    recurso=''\n",
    "    fecha_actual = datetime.now().date()\n",
    "    with Session(engine) as session:\n",
    "        estaciones = session.query(Estacion).all()\n",
    "        for estacion_obj in estaciones:\n",
    "            estacion_id=estacion_obj.stationID\n",
    "            ultima_fecha_DB = eliminar_ultimos_reportes(estacion_obj,session)\n",
    "            #ultima_fecha_DB = estacion_obj.observaciones[-1].obsTimeLocal\n",
    "            fecha = ultima_fecha_DB.date() + timedelta(days=1)\n",
    "            while fecha<=fecha_actual:\n",
    "                if (numero_llamada_api_key==1400):\n",
    "                        imprimir_mensaje(situacion='llamada 1400',vieja_api_key=api_key)\n",
    "                        api_key=cambiar_api_key(conjunto_api_key=api_keys,api_key_actual=api_key)\n",
    "                        #Si se agotaron las api keys se rompe el bucle white\n",
    "                        if (api_key==''):\n",
    "                            break\n",
    "                        numero_llamada_api_key=0\n",
    "                fecha_str = \"{:04d}\".format(fecha.year) + \"{:02d}\".format(fecha.month) + \"{:02d}\".format(fecha.day)\n",
    "                if (fecha==fecha_actual):\n",
    "                    recurso=f'https://api.weather.com/v2/pws/observations/all/1day?stationId={estacion_id}&format=json&units=m&apiKey={api_key}&numericPrecision=decimal'\n",
    "                else:\n",
    "                    recurso=f'https://api.weather.com/v2/pws/history/all?stationId={estacion_id}&format=json&units=m&apiKey={api_key}&numericPrecision=decimal&date={fecha_str}'\n",
    "                try:\n",
    "                    # Mandatoriamente se debe indicar un tiempo límite de espera para evitar que la llamada quede inconclusa por falta de respuesta de la API\n",
    "                    respuesta = requests.get(recurso,timeout=60,headers={'Cache-Control': 'cache-control: max-age=599'})\n",
    "                    codigo_respusta=respuesta.status_code\n",
    "                    numero_llamada_api_key+=1\n",
    "                    numero_llamada_global+=1\n",
    "                    # Status Code 200: OK. The request has succeeded.\n",
    "                    # Status Code 204: No Data Found for specific query. The 204 status code will have an empty response body.\n",
    "                    if (codigo_respusta==200 or codigo_respusta==204):\n",
    "                        observaciones_un_dia = respuesta.json()['observations'] if codigo_respusta==200 else []\n",
    "                        #total_observaciones+=ORM_extraer_campos(IPREZ1,observaciones_un_dia,fecha,estacion_id,var_w)\n",
    "                        ORM_extraer_campos(estacion=estacion_obj,observaciones=observaciones_un_dia,dia=fecha,stationId=estacion_id)\n",
    "                        fecha+= timedelta(days=1)\n",
    "                    elif (codigo_respusta==401):\n",
    "                        # Status Code 401: Unauthorized. The request requires authentication.\n",
    "                        imprimir_mensaje(situacion='api key desautorizada',status_code=codigo_respusta,vieja_api_key=api_key)\n",
    "                        api_key=cambiar_api_key(conjunto_api_key=api_keys,api_key_actual=api_key)\n",
    "                        #Si se agotaron las api keys se rompe el bucle white\n",
    "                        if (api_key==''):\n",
    "                            break\n",
    "                        numero_llamada_api_key=0\n",
    "                    elif (codigo_respusta==500):\n",
    "                        imprimir_mensaje(situacion='el servidor no contesta',status_code=codigo_respusta)\n",
    "                        una_hora=60*60\n",
    "                        #Se pausa la ejecución para aguardar que normalicen el funcionamiento del servidor\n",
    "                        time.sleep(una_hora)\n",
    "                    else:\n",
    "                        imprimir_mensaje(situacion='respesta del servidor desconocida',status_code=codigo_respusta,url=recurso)\n",
    "                except requests.exceptions.RequestException as error:\n",
    "                    numero_error_conexion+=1\n",
    "                    imprimir_mensaje(situacion='error de conexión',n_error_con=numero_error_conexion,problema=error)\n",
    "                    un_minuto=60\n",
    "                    #Se pausa la ejecución para aguardar que normalicen el funcionamiento del servidor\n",
    "                    time.sleep(un_minuto)\n",
    "            #Sale del while y corroborra que se pueda pasar a la siguiente estación\n",
    "            if (api_key==''):\n",
    "                imprimir_mensaje(situacion='sin api keys',url=recurso)\n",
    "                break\n",
    "            else:\n",
    "                imprimir_mensaje(situacion='cambio estacion',identificador_estacion=estacion_id)\n",
    "        # Guarda todas las observaciones extraídas, aún cuando el script no haya realizado todas las consultas que correspondían\n",
    "        imprimir_mensaje(situacion='fin ejecución',llamadas_totales=numero_llamada_global)\n",
    "        session.commit()"
   ]
  },
  {
   "cell_type": "code",
   "execution_count": null,
   "metadata": {},
   "outputs": [],
   "source": [
    "def ultima_obs_cargada(estacion)->date:\n",
    "    return None\n"
   ]
  },
  {
   "cell_type": "code",
   "execution_count": null,
   "metadata": {
    "id": "dh050pQYKZWW"
   },
   "outputs": [],
   "source": [
    "eliminar_ultimos_reportes()\n",
    "completar_reportes(claves_api=api_keys)"
   ]
  },
  {
   "cell_type": "markdown",
   "metadata": {
    "id": "y2TSvREcKZWW"
   },
   "source": [
    "SUPLEMENTO"
   ]
  },
  {
   "cell_type": "code",
   "execution_count": null,
   "metadata": {
    "id": "ujFZpQx6KZWW"
   },
   "outputs": [],
   "source": [
    "def insertarObservacionesBD(estacion):\n",
    "    session = Session(engine)\n",
    "    session.add(estacion)\n",
    "    session.flush()\n",
    "    session.commit()\n",
    "    session.close()"
   ]
  },
  {
   "cell_type": "code",
   "execution_count": null,
   "metadata": {
    "id": "kuufY84tKZWW"
   },
   "outputs": [],
   "source": [
    "def ORM_datos_estaciones(estaciones:pd.DataFrame,claves_api:list[str])->None:\n",
    "    numero_llamada_global=0\n",
    "    numero_llamada_api_key=0\n",
    "    #Seteo de variables\n",
    "    api_key=claves_api[0]\n",
    "    numero_error_conexion=0\n",
    "    recurso=''\n",
    "    for i,estacion in estaciones.iterrows():\n",
    "        if estacion['buscar_obs'] == 1:\n",
    "            IPREZ1 = Estacion(stationID='IPREZ1',lat=-32.997496,lon=-60.768009)\n",
    "            print('observaciones IPREZ1',IPREZ1.observaciones)\n",
    "            estacion_id=estacion['id']\n",
    "            fecha = estacion['inicio']\n",
    "            año = fecha.year\n",
    "            mes = fecha.month\n",
    "            dia = fecha.day\n",
    "            #total_observaciones=[]\n",
    "            fecha=date(año,mes,dia)\n",
    "            fecha_limite = date(2024,1,31)\n",
    "            while fecha<=fecha_limite:\n",
    "                if (numero_llamada_api_key==1400):\n",
    "                        imprimir_mensaje(situacion='llamada 1400',vieja_api_key=api_key)\n",
    "                        api_key=cambiar_api_key(conjunto_api_key=api_keys,api_key_actual=api_key)\n",
    "                        #Si se agotaron las api keys se rompe el bucle white\n",
    "                        if (api_key==''):\n",
    "                            break\n",
    "                        numero_llamada_api_key=0\n",
    "                fecha_str = \"{:04d}\".format(fecha.year) + \"{:02d}\".format(fecha.month) + \"{:02d}\".format(fecha.day)\n",
    "                recurso=f'https://api.weather.com/v2/pws/history/all?stationId={estacion_id}&format=json&units=m&apiKey={api_key}&numericPrecision=decimal&date={fecha_str}'\n",
    "                try:\n",
    "                    # Mandatoriamente se debe indicar un tiempo límite de espera para evitar que la llamada quede inconclusa por falta de respuesta de la API\n",
    "                    respuesta = requests.get(recurso,timeout=60)\n",
    "                    codigo_respusta=respuesta.status_code\n",
    "                    numero_llamada_api_key+=1\n",
    "                    numero_llamada_global+=1\n",
    "                    # Status Code 200: OK. The request has succeeded.\n",
    "                    # Status Code 204: No Data Found for specific query. The 204 status code will have an empty response body.\n",
    "                    if (codigo_respusta==200 or codigo_respusta==204):\n",
    "                        observaciones_un_dia = respuesta.json()['observations'] if codigo_respusta==200 else []\n",
    "                        #total_observaciones+=ORM_extraer_campos(IPREZ1,observaciones_un_dia,fecha,estacion_id)\n",
    "                        ORM_extraer_campos(IPREZ1,observaciones_un_dia,fecha,estacion_id)\n",
    "                        fecha+= timedelta(days=1)\n",
    "                    elif (codigo_respusta==401):\n",
    "                        # Status Code 401: Unauthorized. The request requires authentication.\n",
    "                        imprimir_mensaje(situacion='api key desautorizada',status_code=codigo_respusta,vieja_api_key=api_key)\n",
    "                        api_key=cambiar_api_key(conjunto_api_key=api_keys,api_key_actual=api_key)\n",
    "                        #Si se agotaron las api keys se rompe el bucle white\n",
    "                        if (api_key==''):\n",
    "                            break\n",
    "                        numero_llamada_api_key=0\n",
    "                    elif (codigo_respusta==500):\n",
    "                        imprimir_mensaje(situacion='el servidor no contesta',status_code=codigo_respusta)\n",
    "                        una_hora=60*60\n",
    "                        #Se pausa la ejecución para aguardar que normalicen el funcionamiento del servidor\n",
    "                        time.sleep(una_hora)\n",
    "                    else:\n",
    "                        imprimir_mensaje(situacion='respesta del servidor desconocida',status_code=codigo_respusta,url=recurso)\n",
    "                except requests.exceptions.RequestException as error:\n",
    "                    numero_error_conexion+=1\n",
    "                    imprimir_mensaje(situacion='error de conexión',n_error_con=numero_error_conexion,problema=error)\n",
    "                    un_minuto=60\n",
    "                    #Se pausa la ejecución para aguardar que normalicen el funcionamiento del servidor\n",
    "                    time.sleep(un_minuto)\n",
    "            #Escribe todas las observaciones recolectadas de la estación antes de saltar a la siguiente\n",
    "            ubicacion=f'C:/Users/Usuario/Documents/observaciones/completas/observaciones_completas_{estacion_id}.csv'\n",
    "            var_con=[\"dia_con_obs\",\"dia_completo\"]\n",
    "            var_todas=tuple(var_w+var_con)\n",
    "            imprimir_mensaje(situacion='cambio estacion',identificador_estacion=estacion_id)\n",
    "            print('observaciones IPREZ1',IPREZ1.observaciones)\n",
    "            #escribirCSV(ruta=ubicacion,datos=total_observaciones,campos_encabezado=var_todas)\n",
    "            insertarObservacionesBD(IPREZ1)\n",
    "\n",
    "        #Sale del while y corroborra que se pueda pasar a la siguiente estación\n",
    "        if (api_key==''):\n",
    "            imprimir_mensaje(situacion='sin api keys',url=recurso)\n",
    "            break\n",
    "\n",
    "\n",
    "    imprimir_mensaje(situacion='fin ejecución',llamadas_totales=numero_llamada_global)"
   ]
  },
  {
   "cell_type": "code",
   "execution_count": null,
   "metadata": {
    "id": "bO0IDiYgKZWW"
   },
   "outputs": [],
   "source": [
    "var_sin_unidad=['stationID',\"tz\",\"obsTimeUtc\",\"obsTimeLocal\",\"epoch\",\"lat\",\"lon\",\"solarRadiationHigh\",\"uvHigh\",\"winddirAvg\",\"humidityHigh\",\"humidityLow\",\"humidityAvg\",\"qcStatus\"]\n",
    "var_con_unidad=[\"tempHigh\",\"tempLow\",\"tempAvg\",\"windspeedHigh\",\"windspeedLow\",\"windspeedAvg\",\"windgustHigh\",\"windgustLow\",\"windgustAvg\",\"dewptHigh\",\"dewptLow\",\"dewptAvg\",\"windchillHigh\",\"windchillLow\",\"windchillAvg\",\"heatindexHigh\",\"heatindexLow\",\"heatindexAvg\",\"pressureMax\",\"pressureMin\",\"pressureTrend\",\"precipRate\",\"precipTotal\"]\n",
    "var_wunder=var_sin_unidad+var_con_unidad\n",
    "ORM_datos_estaciones(estaciones=estaciones_elegidas,var_w=var_wunder,claves_api=api_keys)"
   ]
  },
  {
   "cell_type": "code",
   "execution_count": null,
   "metadata": {
    "id": "pMsEfNzSKZWW"
   },
   "outputs": [],
   "source": [
    "fecha=datetime(2024,12,20)\n",
    "print(fecha)"
   ]
  },
  {
   "cell_type": "code",
   "execution_count": null,
   "metadata": {
    "id": "iBOu6y0mKZWW"
   },
   "outputs": [],
   "source": [
    "# Instances of Classes represent Rows: estación\n",
    "iprez1 = Estacion(stationID='IPREZ1',lat=-32.997496,lon=-60.768009)"
   ]
  },
  {
   "cell_type": "code",
   "execution_count": null,
   "metadata": {
    "id": "pqQRB7UnKZWW"
   },
   "outputs": [],
   "source": [
    "dia = date(2024,1,20)\n",
    "IPREZ1.observaciones = [\n",
    "    Observacion(obsTimeLocal=str(dia),precipTotal=0,dia_con_obs=1,dia_completo=1),\n",
    "    Observacion(obsTimeLocal='2024-07-01 00:09:00',precipTotal=15,dia_con_obs=1,dia_completo=1)\n",
    "]"
   ]
  },
  {
   "cell_type": "code",
   "execution_count": null,
   "metadata": {
    "id": "z24sKKSTKZWX"
   },
   "outputs": [],
   "source": [
    "IPREZ1.observaciones.append(Observacion(obsTimeLocal='2024-07-01 00:04:00',precipTotal=0,dia_con_obs=1,dia_completo=1))"
   ]
  },
  {
   "cell_type": "code",
   "execution_count": null,
   "metadata": {
    "id": "3WcBXmZIKZWX"
   },
   "outputs": [],
   "source": [
    "IPREZ1.observaciones"
   ]
  },
  {
   "cell_type": "code",
   "execution_count": null,
   "metadata": {
    "id": "6xKr07teKZWX"
   },
   "outputs": [],
   "source": [
    "Observacion(obsTimeLocal='2024-07-01 00:04:00',precipTotal=0,dia_con_obs=1,dia_completo=1),\n",
    "Observacion(obsTimeLocal='2024-07-01 00:09:00',precipTotal=15,dia_con_obs=1,dia_completo=1)"
   ]
  },
  {
   "cell_type": "markdown",
   "metadata": {
    "id": "u3SMCFl4KZWX"
   },
   "source": [
    "### Quick Start"
   ]
  },
  {
   "cell_type": "markdown",
   "metadata": {
    "id": "lAYP8X15KZWX"
   },
   "source": [
    "Declare models"
   ]
  },
  {
   "cell_type": "code",
   "execution_count": null,
   "metadata": {
    "id": "LgoTKMa6KZWX"
   },
   "outputs": [],
   "source": [
    "class Base(DeclarativeBase):\n",
    "    pass"
   ]
  },
  {
   "cell_type": "code",
   "execution_count": null,
   "metadata": {
    "id": "XqzbUOc4KZWX"
   },
   "outputs": [],
   "source": [
    "class User(Base):\n",
    "    __tablename__ = \"user_account\"\n",
    "\n",
    "    id: Mapped[int] = mapped_column(primary_key=True)\n",
    "    name: Mapped[str] = mapped_column(String(30))\n",
    "    fullname: Mapped[Optional[str]]\n",
    "\n",
    "    addresses: Mapped[List[\"Address\"]] = relationship(\n",
    "        back_populates=\"user\", cascade=\"all, delete-orphan\"\n",
    "    )\n",
    "\n",
    "    def __repr__(self) -> str:\n",
    "        return f\"User(id={self.id!r}, name={self.name!r}, fullname={self.fullname!r})\""
   ]
  },
  {
   "cell_type": "code",
   "execution_count": null,
   "metadata": {
    "id": "12i2aRRJKZWX"
   },
   "outputs": [],
   "source": [
    "class Address(Base):\n",
    "     __tablename__ = \"address\"\n",
    "\n",
    "     id: Mapped[int] = mapped_column(primary_key=True)\n",
    "     email_address: Mapped[str]\n",
    "     user_id: Mapped[int] = mapped_column(ForeignKey(\"user_account.id\"))\n",
    "\n",
    "     user: Mapped[\"User\"] = relationship(back_populates=\"addresses\")\n",
    "\n",
    "     def __repr__(self) -> str:\n",
    "         return f\"Address(id={self.id!r}, email_address={self.email_address!r})\"\n"
   ]
  },
  {
   "cell_type": "markdown",
   "metadata": {
    "id": "2lzYLD8YKZWX"
   },
   "source": [
    "Create an engine"
   ]
  },
  {
   "cell_type": "code",
   "execution_count": null,
   "metadata": {
    "id": "XX4UJHWGKZWX"
   },
   "outputs": [],
   "source": [
    "connection_string = \"DRIVER=ODBC Driver 17 for SQL Server;SERVER=localhost;DATABASE=sql_alchemy;trusted_connection=yes\"\n",
    "connection_url = URL.create(\"mssql+pyodbc\", query={\"odbc_connect\": connection_string})\n",
    "engine = create_engine(connection_url)"
   ]
  },
  {
   "cell_type": "markdown",
   "metadata": {
    "id": "AYfpBKsQKZWX"
   },
   "source": [
    "Create table DDL"
   ]
  },
  {
   "cell_type": "code",
   "execution_count": null,
   "metadata": {
    "id": "N_EkxQRxKZWX"
   },
   "outputs": [],
   "source": [
    "Base.metadata.create_all(engine)"
   ]
  },
  {
   "cell_type": "markdown",
   "metadata": {
    "id": "dp46XY9sKZWY"
   },
   "source": [
    "Create objects and persist"
   ]
  },
  {
   "cell_type": "code",
   "execution_count": null,
   "metadata": {
    "id": "faWXX5X0KZWY"
   },
   "outputs": [],
   "source": [
    "with Session(engine) as session:\n",
    "     spongebob = User(\n",
    "         name=\"spongebob\",\n",
    "         fullname=\"Spongebob Squarepants\",\n",
    "         addresses=[Address(email_address=\"spongebob@sqlalchemy.org\")],\n",
    "     )\n",
    "     sandy = User(\n",
    "         name=\"sandy\",\n",
    "         fullname=\"Sandy Cheeks\",\n",
    "         addresses=[\n",
    "             Address(email_address=\"sandy@sqlalchemy.org\"),\n",
    "             Address(email_address=\"sandy@squirrelpower.org\"),\n",
    "         ],\n",
    "     )\n",
    "     patrick = User(name=\"patrick\", fullname=\"Patrick Star\")\n",
    "\n",
    "     session.add_all([spongebob, sandy, patrick])\n",
    "\n",
    "     session.commit()"
   ]
  },
  {
   "cell_type": "markdown",
   "metadata": {
    "id": "SdgGPvHkKZWY"
   },
   "source": [
    "Simple Select"
   ]
  },
  {
   "cell_type": "code",
   "execution_count": null,
   "metadata": {
    "id": "yrho7U2dKZWY"
   },
   "outputs": [],
   "source": [
    "session = Session(engine)\n",
    "stmt = select(User).where(User.name.in_([\"spongebob\", \"sandy\"]))\n",
    "for user in session.scalars(stmt):\n",
    "     print(user)"
   ]
  },
  {
   "cell_type": "markdown",
   "metadata": {
    "id": "hB8oFn3zKZWY"
   },
   "source": [
    "Select with join"
   ]
  },
  {
   "cell_type": "code",
   "execution_count": null,
   "metadata": {
    "id": "jN_FBUZFKZWY"
   },
   "outputs": [],
   "source": [
    "stmt = (\n",
    "     select(Address)\n",
    "     .join(Address.user)\n",
    "     .where(User.name == \"sandy\")\n",
    "     .where(Address.email_address == \"sandy@sqlalchemy.org\")\n",
    " )"
   ]
  },
  {
   "cell_type": "code",
   "execution_count": null,
   "metadata": {
    "id": "ZBd5M6mHKZWY"
   },
   "outputs": [],
   "source": [
    "sandy_address = session.scalars(stmt).one()"
   ]
  },
  {
   "cell_type": "code",
   "execution_count": null,
   "metadata": {
    "id": "BPuckcekKZWY"
   },
   "outputs": [],
   "source": [
    "sandy_address"
   ]
  },
  {
   "cell_type": "markdown",
   "metadata": {
    "id": "GZGONMCOKZWY"
   },
   "source": [
    "Make Changes"
   ]
  },
  {
   "cell_type": "code",
   "execution_count": null,
   "metadata": {
    "id": "dpAD3QRhKZWY"
   },
   "outputs": [],
   "source": [
    "stmt = select(User).where(User.name == \"patrick\")\n",
    "patrick = session.scalars(stmt).one()"
   ]
  },
  {
   "cell_type": "code",
   "execution_count": null,
   "metadata": {
    "id": "YMe1TAEiKZWY"
   },
   "outputs": [],
   "source": [
    "patrick.addresses.append(Address(email_address='patrickstar@sqlalchemy.org'))"
   ]
  },
  {
   "cell_type": "code",
   "execution_count": null,
   "metadata": {
    "id": "gs0Kq2BmKZWY"
   },
   "outputs": [],
   "source": [
    "sandy_address.email_address = \"sandy_cheeks@sqlalchemy.org\""
   ]
  },
  {
   "cell_type": "code",
   "execution_count": null,
   "metadata": {
    "id": "qeFRdps7KZWY"
   },
   "outputs": [],
   "source": [
    "session.commit()"
   ]
  },
  {
   "cell_type": "markdown",
   "metadata": {
    "id": "v4_m2QwrKZWZ"
   },
   "source": [
    "Some Deletes"
   ]
  },
  {
   "cell_type": "code",
   "execution_count": null,
   "metadata": {
    "id": "h4-7K_fSKZWZ"
   },
   "outputs": [],
   "source": [
    "sandy = session.get(User, 2)"
   ]
  },
  {
   "cell_type": "code",
   "execution_count": null,
   "metadata": {
    "id": "4vow75G4KZWZ"
   },
   "outputs": [],
   "source": [
    "sandy.addresses.remove(sandy_address)"
   ]
  },
  {
   "cell_type": "code",
   "execution_count": null,
   "metadata": {
    "id": "FbBJjeZeKZWZ"
   },
   "outputs": [],
   "source": [
    "session.flush()"
   ]
  },
  {
   "cell_type": "code",
   "execution_count": null,
   "metadata": {
    "id": "l3mrh_e2KZWZ"
   },
   "outputs": [],
   "source": [
    "session.delete(patrick)"
   ]
  },
  {
   "cell_type": "code",
   "execution_count": null,
   "metadata": {
    "id": "I_2Ujb86KZWZ"
   },
   "outputs": [],
   "source": [
    "session.commit()"
   ]
  },
  {
   "cell_type": "code",
   "execution_count": null,
   "metadata": {
    "id": "oVAYypHjKZWZ"
   },
   "outputs": [],
   "source": [
    "sqlalchemy.__version__"
   ]
  },
  {
   "cell_type": "markdown",
   "metadata": {
    "id": "YV_0bHpfKZWZ"
   },
   "source": [
    "### Unified Tutorial"
   ]
  },
  {
   "cell_type": "markdown",
   "metadata": {
    "id": "M1WRFIaOKZWZ"
   },
   "source": [
    "Establishing connectivity - the engine"
   ]
  },
  {
   "cell_type": "code",
   "execution_count": null,
   "metadata": {
    "id": "WqIn_FirKZWZ"
   },
   "outputs": [],
   "source": [
    "engine = create_engine(\"sqlite+pysqlite:///:memory:\", echo=True)"
   ]
  },
  {
   "cell_type": "markdown",
   "metadata": {
    "id": "4X85a2yiKZWZ"
   },
   "source": [
    "Working with Transactions and the DBAPI"
   ]
  },
  {
   "cell_type": "code",
   "execution_count": null,
   "metadata": {
    "id": "dG4P2VGfKZWZ"
   },
   "outputs": [],
   "source": [
    "with engine.connect() as conn:\n",
    "     result = conn.execute(text(\"select 'hello world'\"))\n",
    "     print(result.all())"
   ]
  },
  {
   "cell_type": "code",
   "execution_count": null,
   "metadata": {
    "id": "ZHbyNZdwKZWZ"
   },
   "outputs": [],
   "source": [
    "with engine.connect() as conn:\n",
    "    conn.execute(text(\"CREATE TABLE some_table (x int, y int)\"))\n",
    "    conn.execute(\n",
    "        text(\"INSERT INTO some_table (x, y) VALUES (:x, :y)\"),\n",
    "        [{\"x\": 1, \"y\": 1}, {\"x\": 2, \"y\": 4}],\n",
    "    )\n",
    "    conn.commit()"
   ]
  },
  {
   "cell_type": "code",
   "execution_count": null,
   "metadata": {
    "id": "zftJFCYvKZWZ"
   },
   "outputs": [],
   "source": [
    "with engine.connect() as conn:\n",
    "    result = conn.execute(text('select * from some_table'))\n",
    "    print(result.all())"
   ]
  },
  {
   "cell_type": "markdown",
   "metadata": {
    "id": "nidErlHvKZWa"
   },
   "source": [
    "Working with Database Metadata"
   ]
  },
  {
   "cell_type": "code",
   "execution_count": null,
   "metadata": {
    "id": "H_7HaQJ_KZWa"
   },
   "outputs": [],
   "source": [
    "metadata_obj = MetaData()"
   ]
  },
  {
   "cell_type": "code",
   "execution_count": null,
   "metadata": {
    "id": "zhtzj6weKZWa"
   },
   "outputs": [],
   "source": [
    "user_table = Table(\n",
    "     \"user_account\",\n",
    "     metadata_obj,\n",
    "     Column(\"id\", Integer, primary_key=True),\n",
    "     Column(\"name\", String(30)),\n",
    "     Column(\"fullname\", String),\n",
    " )"
   ]
  },
  {
   "cell_type": "code",
   "execution_count": null,
   "metadata": {
    "id": "Nh61YQT-KZWa"
   },
   "outputs": [],
   "source": [
    "address_table = Table(\n",
    "    \"address\",\n",
    "    metadata_obj,\n",
    "    Column(\"id\",Integer,primary_key=True),\n",
    "    Column(\"user_id\",ForeignKey(\"user_account.id\"),nullable=False),\n",
    "    Column(\"email_address\",String,nullable=False),\n",
    ")"
   ]
  },
  {
   "cell_type": "code",
   "execution_count": null,
   "metadata": {
    "id": "q6unHf26KZWa"
   },
   "outputs": [],
   "source": [
    "metadata_obj.create_all(engine)"
   ]
  },
  {
   "cell_type": "markdown",
   "metadata": {
    "id": "V0Iq0s4iKZWa"
   },
   "source": [
    "Working with Data"
   ]
  },
  {
   "cell_type": "code",
   "execution_count": null,
   "metadata": {
    "id": "Jrnk7P4WKZWa"
   },
   "outputs": [],
   "source": [
    "#Insert statements\n",
    "stmt = Insert(user_table).values(name='facundo',fullname='facundo lópez crespo')\n",
    "print(stmt)\n",
    "compiled = stmt.compile()\n",
    "compiled.params\n",
    "with engine.connect() as conn:\n",
    "    result = conn.execute(stmt)\n",
    "    conn.commit()\n",
    "\n",
    "with engine.connect() as conn:\n",
    "     result = conn.execute(\n",
    "            Insert(user_table),\n",
    "         [\n",
    "             {\"name\": \"sandy\", \"fullname\": \"Sandy Cheeks\"},\n",
    "             {\"name\": \"patrick\", \"fullname\": \"Patrick Star\"},\n",
    "         ],\n",
    "     )\n",
    "     conn.commit()"
   ]
  },
  {
   "cell_type": "code",
   "execution_count": null,
   "metadata": {
    "id": "n1e7JSmLKZWa"
   },
   "outputs": [],
   "source": [
    "#Insert statements\n",
    "\n",
    "\"\"\" with engine.connect() as conn:\n",
    "     result = conn.execute(\n",
    "            Insert(user_table),\n",
    "         [\n",
    "             {\"name\": \"sandy\", \"fullname\": \"Sandy Cheeks\"},\n",
    "             {\"name\": \"patrick\", \"fullname\": \"Patrick Star\"},\n",
    "         ],\n",
    "     )\n",
    "     conn.commit()  \"\"\"\n",
    "\n",
    "\n",
    "with engine.connect() as conn:\n",
    "     result = conn.execute(\n",
    "         Insert(address_table),\n",
    "         [\n",
    "             {\n",
    "                 \"user_id\": 3,\n",
    "                 \"email_address\": \"spongebob@sqlalchemy.org\",\n",
    "             },\n",
    "             {\"user_id\": 4, \"email_address\": \"sandy@sqlalchemy.org\"},\n",
    "             {\"user_id\": 4, \"email_address\": \"sandy@squirrelpower.org\"},\n",
    "         ],\n",
    "     )\n",
    "     conn.commit()"
   ]
  },
  {
   "cell_type": "code",
   "execution_count": null,
   "metadata": {
    "id": "np1wURtAKZWa"
   },
   "outputs": [],
   "source": [
    "#Select\n",
    "stmt = select(user_table).where(user_table.c.name == 'facundo').where(user_table.c.fullname == 'facundo lópez crespo')\n",
    "with engine.connect() as conn:\n",
    "    for row in conn.execute(stmt):\n",
    "        print(row)\n"
   ]
  },
  {
   "cell_type": "code",
   "execution_count": null,
   "metadata": {
    "id": "D3fQape2KZWa"
   },
   "outputs": [],
   "source": [
    "stmt = select(user_table.c.name)\n",
    "with engine.connect() as conn:\n",
    "    for row in conn.execute(stmt):\n",
    "        print(row)"
   ]
  },
  {
   "cell_type": "code",
   "execution_count": null,
   "metadata": {
    "id": "aOO2WwqKKZWa"
   },
   "outputs": [],
   "source": [
    "print(\n",
    "     select(address_table.c.email_address).where(\n",
    "         user_table.c.name == \"squidward\",\n",
    "         address_table.c.user_id == user_table.c.id,\n",
    "     )\n",
    " )"
   ]
  },
  {
   "cell_type": "code",
   "execution_count": null,
   "metadata": {
    "id": "u6SE3YWaKZWb"
   },
   "outputs": [],
   "source": [
    "stmt=select(user_table.c.name, address_table.c.email_address).join_from(\n",
    "         user_table, address_table\n",
    "     )\n",
    "with engine.connect() as conn:\n",
    "    response = conn.execute(stmt)\n",
    "    for row in response:\n",
    "        print(row)\n"
   ]
  },
  {
   "cell_type": "code",
   "execution_count": null,
   "metadata": {
    "id": "j2trp7jAKZWb"
   },
   "outputs": [],
   "source": [
    "print(\n",
    "    select(user_table).order_by(user_table.c.name)\n",
    ")"
   ]
  },
  {
   "cell_type": "code",
   "execution_count": null,
   "metadata": {
    "id": "1Y1_SPZLKZWb"
   },
   "outputs": [],
   "source": [
    "#Update statements\n",
    "stmt = (\n",
    "     update(user_table)\n",
    "     .where(user_table.c.name == \"patrick\")\n",
    "     .values(fullname=\"Patrick the Star\")\n",
    " )\n",
    "with engine.connect() as conn:\n",
    "    conn.execute(stmt)\n",
    "    conn.commit()\n"
   ]
  },
  {
   "cell_type": "code",
   "execution_count": null,
   "metadata": {
    "id": "UIwlpvntKZWb"
   },
   "outputs": [],
   "source": [
    "#Delete statements\n",
    "stmt = (\n",
    "     delete(user_table)\n",
    "     .where(user_table.c.name == \"ramiro\")\n",
    " )\n",
    "with engine.connect() as conn:\n",
    "    conn.execute(stmt)\n",
    "    conn.commit()"
   ]
  },
  {
   "cell_type": "code",
   "execution_count": null,
   "metadata": {
    "id": "O75z-8gMKZWb"
   },
   "outputs": [],
   "source": [
    "stmt = (\n",
    "     delete(user_table)\n",
    "     .where(user_table.c.name == \"facundo\")\n",
    "     .returning(user_table.c.name)\n",
    " )\n",
    "with engine.connect() as conn:\n",
    "    result = conn.execute(stmt)\n",
    "    for row in result:\n",
    "        print(row)\n",
    "    conn.commit()"
   ]
  }
 ],
 "metadata": {
  "colab": {
   "provenance": []
  },
  "kernelspec": {
   "display_name": "Python 3",
   "language": "python",
   "name": "python3"
  },
  "language_info": {
   "codemirror_mode": {
    "name": "ipython",
    "version": 3
   },
   "file_extension": ".py",
   "mimetype": "text/x-python",
   "name": "python",
   "nbconvert_exporter": "python",
   "pygments_lexer": "ipython3",
   "version": "3.11.9"
  }
 },
 "nbformat": 4,
 "nbformat_minor": 0
}
