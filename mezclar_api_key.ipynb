{
 "cells": [
  {
   "cell_type": "code",
   "execution_count": 3,
   "metadata": {},
   "outputs": [],
   "source": [
    "import pandas as pd\n",
    "import random "
   ]
  },
  {
   "cell_type": "code",
   "execution_count": 30,
   "metadata": {},
   "outputs": [
    {
     "data": {
      "text/plain": [
       "['d604f8e26567494684f8e26567b9462c',\n",
       " '29ff68ece46b4497bf68ece46b44978a',\n",
       " '7fe0747290424f91a074729042ef9161',\n",
       " '18f1073babc44449b1073babc4a449be',\n",
       " '304f6ba05c8440f78f6ba05c84f0f7be',\n",
       " 'f374c6cb74844c9bb4c6cb7484ec9bd8',\n",
       " '9ba0aaf623fc43dfa0aaf623fc53dffe',\n",
       " '3bab39ac20874d5bab39ac20874d5bb5',\n",
       " '7fd6cb6d86974c8d96cb6d86977c8d48',\n",
       " 'ee5c837b00674ce19c837b00672ce188',\n",
       " '2d1e63d061bb49889e63d061bb298842',\n",
       " 'f312a2377f054e8192a2377f053e8120',\n",
       " '3227faee672c4d7ca7faee672cbd7cbc',\n",
       " 'ffe851ca830a4119a851ca830a81191d',\n",
       " '3772c7718e724fa1b2c7718e72ffa192',\n",
       " 'd96fd86cc2cc4db5afd86cc2cccdb515',\n",
       " 'c2cce2c1b24c4e2b8ce2c1b24c4e2b1d',\n",
       " '521924c8a26d4bc49924c8a26ddbc4d2',\n",
       " 'caaba17c3da84b4aaba17c3da81b4ac5',\n",
       " '2e704b4d722c4b18b04b4d722c2b18f2',\n",
       " '73ee63a1960d4710ae63a1960d371081',\n",
       " 'b191e43dd7be4e1291e43dd7be9e1270',\n",
       " '390f15c9326a47ef8f15c9326a37efbf',\n",
       " '5d901a0781a04a58901a0781a0aa589c',\n",
       " 'de17385b3fe54df397385b3fe57df36e',\n",
       " 'c995af144642475a95af144642a75a0e',\n",
       " 'f8ec49377cc74c9fac49377cc7ec9f95',\n",
       " '09767d57be644cacb67d57be64acac27',\n",
       " '400602926eb845738602926eb8457398',\n",
       " '5d54729a53d24c0594729a53d22c05e0']"
      ]
     },
     "execution_count": 30,
     "metadata": {},
     "output_type": "execute_result"
    }
   ],
   "source": [
    "df_cuentas_wunder=pd.read_excel('./info_wunder.xlsx','apiKeys',skiprows=2)\n",
    "api_keys=df_cuentas_wunder['apiKey']\n",
    "api_keys=list(api_keys)\n",
    "api_keys"
   ]
  },
  {
   "cell_type": "code",
   "execution_count": 53,
   "metadata": {},
   "outputs": [],
   "source": [
    "def api_key_pos(posicion:int)->int:\n",
    "    api_keys_des = api_keys.copy()\n",
    "    random.shuffle(api_keys_des)\n",
    "    print(api_keys_des)\n",
    "    return api_keys_des[posicion]\n"
   ]
  },
  {
   "cell_type": "code",
   "execution_count": 61,
   "metadata": {},
   "outputs": [
    {
     "name": "stdout",
     "output_type": "stream",
     "text": [
      "['521924c8a26d4bc49924c8a26ddbc4d2', 'ee5c837b00674ce19c837b00672ce188', '2d1e63d061bb49889e63d061bb298842', '3bab39ac20874d5bab39ac20874d5bb5', '304f6ba05c8440f78f6ba05c84f0f7be', '73ee63a1960d4710ae63a1960d371081', '7fe0747290424f91a074729042ef9161', '5d901a0781a04a58901a0781a0aa589c', 'f312a2377f054e8192a2377f053e8120', 'c2cce2c1b24c4e2b8ce2c1b24c4e2b1d', '9ba0aaf623fc43dfa0aaf623fc53dffe', '3227faee672c4d7ca7faee672cbd7cbc', '5d54729a53d24c0594729a53d22c05e0', '18f1073babc44449b1073babc4a449be', 'ffe851ca830a4119a851ca830a81191d', 'caaba17c3da84b4aaba17c3da81b4ac5', 'c995af144642475a95af144642a75a0e', 'f8ec49377cc74c9fac49377cc7ec9f95', '2e704b4d722c4b18b04b4d722c2b18f2', 'd604f8e26567494684f8e26567b9462c', '09767d57be644cacb67d57be64acac27', '390f15c9326a47ef8f15c9326a37efbf', '7fd6cb6d86974c8d96cb6d86977c8d48', 'd96fd86cc2cc4db5afd86cc2cccdb515', 'b191e43dd7be4e1291e43dd7be9e1270', '29ff68ece46b4497bf68ece46b44978a', '400602926eb845738602926eb8457398', '3772c7718e724fa1b2c7718e72ffa192', 'f374c6cb74844c9bb4c6cb7484ec9bd8', 'de17385b3fe54df397385b3fe57df36e']\n"
     ]
    },
    {
     "data": {
      "text/plain": [
       "'304f6ba05c8440f78f6ba05c84f0f7be'"
      ]
     },
     "execution_count": 61,
     "metadata": {},
     "output_type": "execute_result"
    }
   ],
   "source": [
    "api_key_pos(4)"
   ]
  },
  {
   "cell_type": "code",
   "execution_count": 62,
   "metadata": {},
   "outputs": [
    {
     "data": {
      "text/plain": [
       "['d604f8e26567494684f8e26567b9462c',\n",
       " '29ff68ece46b4497bf68ece46b44978a',\n",
       " '7fe0747290424f91a074729042ef9161',\n",
       " '18f1073babc44449b1073babc4a449be',\n",
       " '304f6ba05c8440f78f6ba05c84f0f7be',\n",
       " 'f374c6cb74844c9bb4c6cb7484ec9bd8',\n",
       " '9ba0aaf623fc43dfa0aaf623fc53dffe',\n",
       " '3bab39ac20874d5bab39ac20874d5bb5',\n",
       " '7fd6cb6d86974c8d96cb6d86977c8d48',\n",
       " 'ee5c837b00674ce19c837b00672ce188',\n",
       " '2d1e63d061bb49889e63d061bb298842',\n",
       " 'f312a2377f054e8192a2377f053e8120',\n",
       " '3227faee672c4d7ca7faee672cbd7cbc',\n",
       " 'ffe851ca830a4119a851ca830a81191d',\n",
       " '3772c7718e724fa1b2c7718e72ffa192',\n",
       " 'd96fd86cc2cc4db5afd86cc2cccdb515',\n",
       " 'c2cce2c1b24c4e2b8ce2c1b24c4e2b1d',\n",
       " '521924c8a26d4bc49924c8a26ddbc4d2',\n",
       " 'caaba17c3da84b4aaba17c3da81b4ac5',\n",
       " '2e704b4d722c4b18b04b4d722c2b18f2',\n",
       " '73ee63a1960d4710ae63a1960d371081',\n",
       " 'b191e43dd7be4e1291e43dd7be9e1270',\n",
       " '390f15c9326a47ef8f15c9326a37efbf',\n",
       " '5d901a0781a04a58901a0781a0aa589c',\n",
       " 'de17385b3fe54df397385b3fe57df36e',\n",
       " 'c995af144642475a95af144642a75a0e',\n",
       " 'f8ec49377cc74c9fac49377cc7ec9f95',\n",
       " '09767d57be644cacb67d57be64acac27',\n",
       " '400602926eb845738602926eb8457398',\n",
       " '5d54729a53d24c0594729a53d22c05e0']"
      ]
     },
     "execution_count": 62,
     "metadata": {},
     "output_type": "execute_result"
    }
   ],
   "source": [
    "api_keys"
   ]
  }
 ],
 "metadata": {
  "kernelspec": {
   "display_name": "Python 3",
   "language": "python",
   "name": "python3"
  },
  "language_info": {
   "codemirror_mode": {
    "name": "ipython",
    "version": 3
   },
   "file_extension": ".py",
   "mimetype": "text/x-python",
   "name": "python",
   "nbconvert_exporter": "python",
   "pygments_lexer": "ipython3",
   "version": "3.11.9"
  }
 },
 "nbformat": 4,
 "nbformat_minor": 2
}
